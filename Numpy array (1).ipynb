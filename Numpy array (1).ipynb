{
 "cells": [
  {
   "cell_type": "code",
   "execution_count": 1,
   "id": "3441b1bc-b7e3-4c4f-8c49-e0b472e33aa2",
   "metadata": {},
   "outputs": [],
   "source": [
    "import numpy as np"
   ]
  },
  {
   "cell_type": "code",
   "execution_count": 3,
   "id": "8eef0a4b-7afb-48ae-bf43-6798200f73b1",
   "metadata": {},
   "outputs": [
    {
     "data": {
      "text/plain": [
       "array([ 2,  5,  8, 66])"
      ]
     },
     "execution_count": 3,
     "metadata": {},
     "output_type": "execute_result"
    }
   ],
   "source": [
    "np.array([2,5,8,66])"
   ]
  },
  {
   "cell_type": "code",
   "execution_count": 4,
   "id": "e2048f6f-3f14-4afd-9b3f-844d863de11a",
   "metadata": {},
   "outputs": [
    {
     "name": "stdout",
     "output_type": "stream",
     "text": [
      "[  2 455  38   5]\n"
     ]
    }
   ],
   "source": [
    "a=np.array([2,455,38,5])  #vector\n",
    "print(a)"
   ]
  },
  {
   "cell_type": "code",
   "execution_count": 5,
   "id": "96c791cf-bd59-44f2-84dd-305b86508ae3",
   "metadata": {},
   "outputs": [
    {
     "data": {
      "text/plain": [
       "numpy.ndarray"
      ]
     },
     "execution_count": 5,
     "metadata": {},
     "output_type": "execute_result"
    }
   ],
   "source": [
    "type(a)"
   ]
  },
  {
   "cell_type": "code",
   "execution_count": 6,
   "id": "94c2b7af-0889-4151-baaa-157af54aa0d8",
   "metadata": {},
   "outputs": [
    {
     "name": "stdout",
     "output_type": "stream",
     "text": [
      "[[45 55  2 28]\n",
      " [36 54 66  4]]\n"
     ]
    }
   ],
   "source": [
    "#2d array(matrix)\n",
    "\n",
    "new =np.array([[45,55,2,28],[36,54,66,4]])\n",
    "print(new)"
   ]
  },
  {
   "cell_type": "code",
   "execution_count": 11,
   "id": "dd1ac35a-5a43-4f05-8f6c-8d6128e63102",
   "metadata": {},
   "outputs": [
    {
     "data": {
      "text/plain": [
       "array([[22, 54, 26, 84],\n",
       "       [48, 57,  5,  6],\n",
       "       [28, 65, 54,  7],\n",
       "       [57, 68, 94, 55]])"
      ]
     },
     "execution_count": 11,
     "metadata": {},
     "output_type": "execute_result"
    }
   ],
   "source": [
    "#3d array\n",
    "np.array ([[22,54,26,84],[48,57,5,6],[28,65,54,7],[57,68,94,55]])"
   ]
  },
  {
   "cell_type": "code",
   "execution_count": 13,
   "id": "f5e04614-a513-4d66-bfc4-135fa1530b3d",
   "metadata": {},
   "outputs": [
    {
     "data": {
      "text/plain": [
       "array([11.,  5., 88.])"
      ]
     },
     "execution_count": 13,
     "metadata": {},
     "output_type": "execute_result"
    }
   ],
   "source": [
    "np.array([11,5,88] , dtype =float)"
   ]
  },
  {
   "cell_type": "code",
   "execution_count": 15,
   "id": "a206c226-0568-48ef-b1f6-c8e6883289b6",
   "metadata": {},
   "outputs": [
    {
     "data": {
      "text/plain": [
       "array([False,  True,  True])"
      ]
     },
     "execution_count": 15,
     "metadata": {},
     "output_type": "execute_result"
    }
   ],
   "source": [
    "np.array([0,23,53] ,dtype =bool)"
   ]
  },
  {
   "cell_type": "code",
   "execution_count": 17,
   "id": "091e4ebf-f831-425e-894a-a5e68720f783",
   "metadata": {},
   "outputs": [
    {
     "data": {
      "text/plain": [
       "array([58.+0.j, 64.+0.j,  5.+0.j])"
      ]
     },
     "execution_count": 17,
     "metadata": {},
     "output_type": "execute_result"
    }
   ],
   "source": [
    "np.array([58,64,5] ,dtype =complex)"
   ]
  },
  {
   "cell_type": "code",
   "execution_count": 19,
   "id": "2acf094c-0479-4681-8ad7-d31e66341786",
   "metadata": {},
   "outputs": [
    {
     "data": {
      "text/plain": [
       "array([ 1,  2,  3,  4,  5,  6,  7,  8,  9, 10, 11, 12, 13, 14, 15, 16, 17,\n",
       "       18, 19, 20, 21, 22, 23, 24])"
      ]
     },
     "execution_count": 19,
     "metadata": {},
     "output_type": "execute_result"
    }
   ],
   "source": [
    "np.arange(1,25)"
   ]
  },
  {
   "cell_type": "code",
   "execution_count": 21,
   "id": "e51f65d3-75b8-4993-bf1a-07d07da0bfba",
   "metadata": {},
   "outputs": [
    {
     "data": {
      "text/plain": [
       "array([ 1,  4,  7, 10, 13, 16, 19, 22])"
      ]
     },
     "execution_count": 21,
     "metadata": {},
     "output_type": "execute_result"
    }
   ],
   "source": [
    "np.arange(1,25,3) #strides --> alternative nos"
   ]
  },
  {
   "cell_type": "code",
   "execution_count": 23,
   "id": "dc133b92-aa2b-4bce-a686-bb77b517296a",
   "metadata": {},
   "outputs": [
    {
     "data": {
      "text/plain": [
       "array([[1, 2, 3],\n",
       "       [4, 5, 6],\n",
       "       [7, 8, 9]])"
      ]
     },
     "execution_count": 23,
     "metadata": {},
     "output_type": "execute_result"
    }
   ],
   "source": [
    "np.arange(1,10) .reshape(3,3)"
   ]
  },
  {
   "cell_type": "code",
   "execution_count": 25,
   "id": "5a8fd0a9-6e52-4724-8abf-88ded8a672df",
   "metadata": {},
   "outputs": [
    {
     "ename": "NameError",
     "evalue": "name 'rand' is not defined",
     "output_type": "error",
     "traceback": [
      "\u001b[1;31m---------------------------------------------------------------------------\u001b[0m",
      "\u001b[1;31mNameError\u001b[0m                                 Traceback (most recent call last)",
      "Cell \u001b[1;32mIn[25], line 1\u001b[0m\n\u001b[1;32m----> 1\u001b[0m rand(\u001b[38;5;241m2\u001b[39m,\u001b[38;5;241m3\u001b[39m)\n\u001b[0;32m      2\u001b[0m random\u001b[38;5;241m.\u001b[39mrand(\u001b[38;5;241m2\u001b[39m,\u001b[38;5;241m3\u001b[39m)\n",
      "\u001b[1;31mNameError\u001b[0m: name 'rand' is not defined"
     ]
    }
   ],
   "source": [
    "rand(2,3)\n",
    "random.rand(2,3)"
   ]
  },
  {
   "cell_type": "code",
   "execution_count": null,
   "id": "3ec3d786-f03c-49e7-979e-b0d11e68917a",
   "metadata": {},
   "outputs": [],
   "source": [
    "np.random.rand(5)"
   ]
  },
  {
   "cell_type": "code",
   "execution_count": null,
   "id": "18174991-5768-46ec-a7ed-f8727c2fafe4",
   "metadata": {},
   "outputs": [],
   "source": [
    "np.random.randint(2,4)"
   ]
  },
  {
   "cell_type": "code",
   "execution_count": 29,
   "id": "91d3ad98-6cd8-454e-8730-1cd8a5fabd93",
   "metadata": {},
   "outputs": [
    {
     "data": {
      "text/plain": [
       "3"
      ]
     },
     "execution_count": 29,
     "metadata": {},
     "output_type": "execute_result"
    }
   ],
   "source": [
    "np.random.randint(2,20)"
   ]
  },
  {
   "cell_type": "code",
   "execution_count": 31,
   "id": "7ab7e2c5-6c6c-46a1-966c-86074abb25ed",
   "metadata": {},
   "outputs": [
    {
     "data": {
      "text/plain": [
       "array([18, 14, 11, 16, 14])"
      ]
     },
     "execution_count": 31,
     "metadata": {},
     "output_type": "execute_result"
    }
   ],
   "source": [
    "np.random.randint(10,20,5)"
   ]
  },
  {
   "cell_type": "code",
   "execution_count": 33,
   "id": "35f82116-51bc-4929-8e69-82ace924e4ca",
   "metadata": {},
   "outputs": [
    {
     "data": {
      "text/plain": [
       "0"
      ]
     },
     "execution_count": 33,
     "metadata": {},
     "output_type": "execute_result"
    }
   ],
   "source": [
    "np.random.randint(0,1)"
   ]
  },
  {
   "cell_type": "code",
   "execution_count": 35,
   "id": "06912e73-3baf-41d2-a794-5319c124095a",
   "metadata": {},
   "outputs": [
    {
     "data": {
      "text/plain": [
       "array([ 18, -18, -23,  16, -30,  -3, -25,  -3,  18, -28])"
      ]
     },
     "execution_count": 35,
     "metadata": {},
     "output_type": "execute_result"
    }
   ],
   "source": [
    "np.random.randint(-30,20,10)"
   ]
  },
  {
   "cell_type": "code",
   "execution_count": 37,
   "id": "7d5c030f-cfe0-483f-be01-a7d78b7d62e5",
   "metadata": {},
   "outputs": [
    {
     "data": {
      "text/plain": [
       "array([[37, 13, 12, 32,  6, 25, 13, 36, 15, 35],\n",
       "       [28, 13, 18, 31, 33,  8, 14, 30, 15, 38],\n",
       "       [ 1,  4, 34, 20, 29, 26, 28, 26, 18,  9],\n",
       "       [37, 18,  8, 16, 32,  7, 27,  9,  6, 15],\n",
       "       [ 9, 31, 39, 37, 25,  5, 14, 37,  9, 21],\n",
       "       [ 0, 10, 39, 36, 13, 17, 19, 23, 10, 27],\n",
       "       [33, 34, 35, 38,  4, 25, 13,  0, 14, 12],\n",
       "       [37,  1,  5, 32,  3, 10,  6, 13, 27, 29],\n",
       "       [36,  4, 36, 34, 31,  3, 10, 14, 26, 14],\n",
       "       [28, 24, 17,  1, 38, 18,  4, 24, 21, 31]])"
      ]
     },
     "execution_count": 37,
     "metadata": {},
     "output_type": "execute_result"
    }
   ],
   "source": [
    "np.random.randint(0,40,(10,10))"
   ]
  },
  {
   "cell_type": "raw",
   "id": "ab23dcec-7b66-42d0-9342-71d9fbdfc2ff",
   "metadata": {},
   "source": []
  },
  {
   "cell_type": "code",
   "execution_count": 39,
   "id": "65f8e54a-5553-4fe5-9b11-66a75f4c6cf6",
   "metadata": {},
   "outputs": [
    {
     "data": {
      "text/plain": [
       "array([[ 1],\n",
       "       [ 2],\n",
       "       [ 3],\n",
       "       [ 4],\n",
       "       [ 5],\n",
       "       [ 6],\n",
       "       [ 7],\n",
       "       [ 8],\n",
       "       [ 9],\n",
       "       [10],\n",
       "       [11]])"
      ]
     },
     "execution_count": 39,
     "metadata": {},
     "output_type": "execute_result"
    }
   ],
   "source": [
    "np.arange(1,12).reshape(11,1)"
   ]
  },
  {
   "cell_type": "code",
   "execution_count": 41,
   "id": "13037f9d-2a77-4222-a41d-6325143a5935",
   "metadata": {},
   "outputs": [
    {
     "data": {
      "text/plain": [
       "array([[14, 12, 14, 19],\n",
       "       [15, 11, 10, 19],\n",
       "       [14, 16, 17, 12],\n",
       "       [19, 11, 17, 13],\n",
       "       [14, 16, 18, 19]])"
      ]
     },
     "execution_count": 41,
     "metadata": {},
     "output_type": "execute_result"
    }
   ],
   "source": [
    "b = np.random.randint(10,20,(5,4))\n",
    "b"
   ]
  },
  {
   "cell_type": "code",
   "execution_count": 47,
   "id": "3cfa07b2-e10c-4dea-a352-d8859e28623e",
   "metadata": {},
   "outputs": [
    {
     "data": {
      "text/plain": [
       "numpy.ndarray"
      ]
     },
     "execution_count": 47,
     "metadata": {},
     "output_type": "execute_result"
    }
   ],
   "source": [
    "type(b)"
   ]
  },
  {
   "cell_type": "code",
   "execution_count": 49,
   "id": "55d5af6f-62ef-407b-9300-bbb0f95fd251",
   "metadata": {},
   "outputs": [],
   "source": [
    "#SLICING"
   ]
  },
  {
   "cell_type": "code",
   "execution_count": 51,
   "id": "da122e59-3ba1-442a-9fc7-f12c9079db8f",
   "metadata": {},
   "outputs": [
    {
     "data": {
      "text/plain": [
       "array([[15, 11, 10, 19],\n",
       "       [14, 16, 17, 12]])"
      ]
     },
     "execution_count": 51,
     "metadata": {},
     "output_type": "execute_result"
    }
   ],
   "source": [
    "b[1:3]"
   ]
  },
  {
   "cell_type": "code",
   "execution_count": 53,
   "id": "d04a40db-e615-472d-a43f-864846f2d47a",
   "metadata": {},
   "outputs": [
    {
     "data": {
      "text/plain": [
       "array([[14, 12, 14, 19],\n",
       "       [15, 11, 10, 19],\n",
       "       [14, 16, 17, 12],\n",
       "       [19, 11, 17, 13],\n",
       "       [14, 16, 18, 19]])"
      ]
     },
     "execution_count": 53,
     "metadata": {},
     "output_type": "execute_result"
    }
   ],
   "source": [
    "b"
   ]
  },
  {
   "cell_type": "code",
   "execution_count": 55,
   "id": "59e851a7-bfa6-4c17-8d4e-5bbcc7210e1f",
   "metadata": {},
   "outputs": [
    {
     "data": {
      "text/plain": [
       "array([[15, 11, 10, 19]])"
      ]
     },
     "execution_count": 55,
     "metadata": {},
     "output_type": "execute_result"
    }
   ],
   "source": [
    "b[1:2]"
   ]
  },
  {
   "cell_type": "code",
   "execution_count": 57,
   "id": "3a8feb47-9cf2-4a01-bacf-96be8a2ea550",
   "metadata": {},
   "outputs": [
    {
     "data": {
      "text/plain": [
       "19"
      ]
     },
     "execution_count": 57,
     "metadata": {},
     "output_type": "execute_result"
    }
   ],
   "source": [
    "b[1,3]"
   ]
  },
  {
   "cell_type": "code",
   "execution_count": 59,
   "id": "ff96fca5-eb60-4fc0-997d-ffb86deca27a",
   "metadata": {},
   "outputs": [
    {
     "data": {
      "text/plain": [
       "19"
      ]
     },
     "execution_count": 59,
     "metadata": {},
     "output_type": "execute_result"
    }
   ],
   "source": [
    "b[1,-1]"
   ]
  },
  {
   "cell_type": "code",
   "execution_count": 61,
   "id": "84d96a8f-8d83-4f7b-a3ed-cf8228b4051f",
   "metadata": {},
   "outputs": [
    {
     "data": {
      "text/plain": [
       "array([[14, 12, 14, 19],\n",
       "       [15, 11, 10, 19],\n",
       "       [14, 16, 17, 12],\n",
       "       [19, 11, 17, 13],\n",
       "       [14, 16, 18, 19]])"
      ]
     },
     "execution_count": 61,
     "metadata": {},
     "output_type": "execute_result"
    }
   ],
   "source": [
    "b"
   ]
  },
  {
   "cell_type": "code",
   "execution_count": 63,
   "id": "c07c1cc6-1832-40cd-8664-776105209e69",
   "metadata": {},
   "outputs": [
    {
     "data": {
      "text/plain": [
       "array([[14, 16, 17, 12]])"
      ]
     },
     "execution_count": 63,
     "metadata": {},
     "output_type": "execute_result"
    }
   ],
   "source": [
    "b[2:3]"
   ]
  },
  {
   "cell_type": "code",
   "execution_count": 65,
   "id": "1bce1585-c3bc-414d-b7db-e6805701821f",
   "metadata": {},
   "outputs": [
    {
     "data": {
      "text/plain": [
       "array([[19, 11, 17, 13]])"
      ]
     },
     "execution_count": 65,
     "metadata": {},
     "output_type": "execute_result"
    }
   ],
   "source": [
    "b[3:4]"
   ]
  },
  {
   "cell_type": "code",
   "execution_count": 67,
   "id": "608ee403-30d7-462b-bca8-b45a8160659a",
   "metadata": {},
   "outputs": [
    {
     "data": {
      "text/plain": [
       "array([[14, 12, 14, 19]])"
      ]
     },
     "execution_count": 67,
     "metadata": {},
     "output_type": "execute_result"
    }
   ],
   "source": [
    "b[0:1]"
   ]
  },
  {
   "cell_type": "code",
   "execution_count": 69,
   "id": "a8d2eea7-fa76-4323-8e0b-ce008e0b53d0",
   "metadata": {},
   "outputs": [
    {
     "data": {
      "text/plain": [
       "array([[14, 12, 14, 19],\n",
       "       [15, 11, 10, 19],\n",
       "       [14, 16, 17, 12]])"
      ]
     },
     "execution_count": 69,
     "metadata": {},
     "output_type": "execute_result"
    }
   ],
   "source": [
    "b[0:-2]"
   ]
  },
  {
   "cell_type": "code",
   "execution_count": 71,
   "id": "75022869-f88b-4aee-ac58-c9e5357d13c7",
   "metadata": {},
   "outputs": [
    {
     "data": {
      "text/plain": [
       "array([[14, 12, 14, 19],\n",
       "       [15, 11, 10, 19]])"
      ]
     },
     "execution_count": 71,
     "metadata": {},
     "output_type": "execute_result"
    }
   ],
   "source": [
    "b[0:-3]"
   ]
  },
  {
   "cell_type": "code",
   "execution_count": 73,
   "id": "453a952e-036e-4b45-9404-26f6b4cad145",
   "metadata": {},
   "outputs": [
    {
     "data": {
      "text/plain": [
       "12"
      ]
     },
     "execution_count": 73,
     "metadata": {},
     "output_type": "execute_result"
    }
   ],
   "source": [
    "b[-5,-3]"
   ]
  },
  {
   "cell_type": "code",
   "execution_count": 75,
   "id": "eee9a189-66a8-45df-a00f-443df279c485",
   "metadata": {},
   "outputs": [
    {
     "data": {
      "text/plain": [
       "10"
      ]
     },
     "execution_count": 75,
     "metadata": {},
     "output_type": "execute_result"
    }
   ],
   "source": [
    "b[-4,2]"
   ]
  },
  {
   "cell_type": "code",
   "execution_count": 77,
   "id": "54427b4c-f444-41c1-ad93-fe62d254ba1a",
   "metadata": {},
   "outputs": [
    {
     "data": {
      "text/plain": [
       "array([[15, 11, 10, 19]])"
      ]
     },
     "execution_count": 77,
     "metadata": {},
     "output_type": "execute_result"
    }
   ],
   "source": [
    "b[-4:2]"
   ]
  },
  {
   "cell_type": "code",
   "execution_count": 79,
   "id": "02cc55d0-5cb8-4959-b086-b2ca53329cb0",
   "metadata": {},
   "outputs": [
    {
     "data": {
      "text/plain": [
       "array([[16, 18, 19, 11, 13, 10, 16, 11, 15, 12],\n",
       "       [12, 14, 16, 16, 19, 16, 14, 12, 13, 10],\n",
       "       [14, 15, 16, 13, 11, 11, 11, 19, 15, 13],\n",
       "       [14, 18, 10, 12, 11, 11, 16, 18, 13, 14],\n",
       "       [17, 12, 16, 11, 10, 17, 17, 16, 15, 15],\n",
       "       [15, 15, 11, 12, 16, 18, 16, 17, 12, 17],\n",
       "       [10, 12, 11, 15, 12, 15, 17, 18, 12, 11],\n",
       "       [14, 18, 16, 14, 19, 14, 12, 19, 14, 14],\n",
       "       [17, 19, 14, 15, 18, 18, 17, 11, 11, 10],\n",
       "       [13, 12, 14, 12, 18, 19, 17, 16, 11, 11]])"
      ]
     },
     "execution_count": 79,
     "metadata": {},
     "output_type": "execute_result"
    }
   ],
   "source": [
    "a = np.random.randint(10,20,(10,10))\n",
    "a"
   ]
  },
  {
   "cell_type": "raw",
   "id": "07a4bac4-187b-40e3-bf17-f4d4582da0f8",
   "metadata": {},
   "source": [
    "ones& zeros"
   ]
  },
  {
   "cell_type": "code",
   "execution_count": 81,
   "id": "03eddba4-28f4-4c87-bfdc-75cf90d216a9",
   "metadata": {},
   "outputs": [
    {
     "data": {
      "text/plain": [
       "array([[1., 1., 1., 1.],\n",
       "       [1., 1., 1., 1.],\n",
       "       [1., 1., 1., 1.]])"
      ]
     },
     "execution_count": 81,
     "metadata": {},
     "output_type": "execute_result"
    }
   ],
   "source": [
    "np.ones((3,4))"
   ]
  },
  {
   "cell_type": "code",
   "execution_count": 83,
   "id": "53c06ada-f9b2-4c6a-b7fa-c99a2ca860c3",
   "metadata": {},
   "outputs": [
    {
     "data": {
      "text/plain": [
       "array([[0., 0., 0., 0.],\n",
       "       [0., 0., 0., 0.],\n",
       "       [0., 0., 0., 0.]])"
      ]
     },
     "execution_count": 83,
     "metadata": {},
     "output_type": "execute_result"
    }
   ],
   "source": [
    "np.zeros((3,4))"
   ]
  },
  {
   "cell_type": "code",
   "execution_count": 85,
   "id": "2e1d01f2-2f26-4315-b275-179fd8c4be4f",
   "metadata": {},
   "outputs": [],
   "source": [
    "#linespace"
   ]
  },
  {
   "cell_type": "code",
   "execution_count": 87,
   "id": "b4d491cb-5982-4a17-866a-2d6a171c8434",
   "metadata": {},
   "outputs": [
    {
     "data": {
      "text/plain": [
       "array([-10.        ,  -7.77777778,  -5.55555556,  -3.33333333,\n",
       "        -1.11111111,   1.11111111,   3.33333333,   5.55555556,\n",
       "         7.77777778,  10.        ])"
      ]
     },
     "execution_count": 87,
     "metadata": {},
     "output_type": "execute_result"
    }
   ],
   "source": [
    "np.linspace(-10,10,10)"
   ]
  },
  {
   "cell_type": "code",
   "execution_count": 89,
   "id": "82e6d6b1-70b4-4c8d-899b-165c4ece88b7",
   "metadata": {},
   "outputs": [
    {
     "data": {
      "text/plain": [
       "array([-2. ,  0.8,  3.6,  6.4,  9.2, 12. ])"
      ]
     },
     "execution_count": 89,
     "metadata": {},
     "output_type": "execute_result"
    }
   ],
   "source": [
    "np.linspace(-2,12,6)"
   ]
  },
  {
   "cell_type": "code",
   "execution_count": 91,
   "id": "e6481ddd-0822-423b-b92c-77edb034111f",
   "metadata": {},
   "outputs": [
    {
     "data": {
      "text/plain": [
       "array([-3.,  0.,  3.,  6.,  9.])"
      ]
     },
     "execution_count": 91,
     "metadata": {},
     "output_type": "execute_result"
    }
   ],
   "source": [
    "np.linspace(-3,9,5)"
   ]
  },
  {
   "cell_type": "code",
   "execution_count": 93,
   "id": "7efc50d0-e7b0-42b2-b29b-0679390e7d6e",
   "metadata": {},
   "outputs": [],
   "source": [
    "#Identity #creating the identity matrix"
   ]
  },
  {
   "cell_type": "code",
   "execution_count": 95,
   "id": "dbe60f39-baea-4bae-9136-93ccc196f234",
   "metadata": {},
   "outputs": [
    {
     "data": {
      "text/plain": [
       "array([[1., 0., 0., 0.],\n",
       "       [0., 1., 0., 0.],\n",
       "       [0., 0., 1., 0.],\n",
       "       [0., 0., 0., 1.]])"
      ]
     },
     "execution_count": 95,
     "metadata": {},
     "output_type": "execute_result"
    }
   ],
   "source": [
    "np.identity(4)"
   ]
  },
  {
   "cell_type": "code",
   "execution_count": 97,
   "id": "329d7030-64fd-488f-b32e-01ef0f8baf29",
   "metadata": {},
   "outputs": [
    {
     "data": {
      "text/plain": [
       "array([[1., 0., 0., 0., 0., 0.],\n",
       "       [0., 1., 0., 0., 0., 0.],\n",
       "       [0., 0., 1., 0., 0., 0.],\n",
       "       [0., 0., 0., 1., 0., 0.],\n",
       "       [0., 0., 0., 0., 1., 0.],\n",
       "       [0., 0., 0., 0., 0., 1.]])"
      ]
     },
     "execution_count": 97,
     "metadata": {},
     "output_type": "execute_result"
    }
   ],
   "source": [
    "np.identity(6)"
   ]
  },
  {
   "cell_type": "code",
   "execution_count": 99,
   "id": "38aa76ef-5eea-4af9-b618-d7ad93566842",
   "metadata": {},
   "outputs": [],
   "source": [
    "#array attributes"
   ]
  },
  {
   "cell_type": "code",
   "execution_count": 101,
   "id": "e4ec19be-ca7a-4473-a877-d41cf5f02d79",
   "metadata": {},
   "outputs": [
    {
     "data": {
      "text/plain": [
       "array([0, 1, 2, 3, 4, 5, 6, 7, 8, 9])"
      ]
     },
     "execution_count": 101,
     "metadata": {},
     "output_type": "execute_result"
    }
   ],
   "source": [
    "a1 = np.arange(10)\n",
    "a1"
   ]
  },
  {
   "cell_type": "code",
   "execution_count": 103,
   "id": "a4cef114-0d51-4b6a-b399-b1b5590f95b4",
   "metadata": {},
   "outputs": [
    {
     "data": {
      "text/plain": [
       "array([[ 0.,  1.,  2.,  3.],\n",
       "       [ 4.,  5.,  6.,  7.],\n",
       "       [ 8.,  9., 10., 11.]])"
      ]
     },
     "execution_count": 103,
     "metadata": {},
     "output_type": "execute_result"
    }
   ],
   "source": [
    "a2 = np.arange(12, dtype =float).reshape(3,4)\n",
    "a2"
   ]
  },
  {
   "cell_type": "code",
   "execution_count": 105,
   "id": "4cb94c79-3055-4cf8-84dc-35a33888c4bf",
   "metadata": {},
   "outputs": [
    {
     "data": {
      "text/plain": [
       "array([[[0, 1],\n",
       "        [2, 3]],\n",
       "\n",
       "       [[4, 5],\n",
       "        [6, 7]]])"
      ]
     },
     "execution_count": 105,
     "metadata": {},
     "output_type": "execute_result"
    }
   ],
   "source": [
    "a3 = np.arange(8).reshape(2,2,2)\n",
    "a3"
   ]
  },
  {
   "cell_type": "code",
   "execution_count": 107,
   "id": "e3a82c43-07c1-4a6b-96be-0c81f9b6cf15",
   "metadata": {},
   "outputs": [],
   "source": [
    "#ndim"
   ]
  },
  {
   "cell_type": "code",
   "execution_count": 109,
   "id": "4cf0ad5b-0523-4b0e-a281-437245ff2b39",
   "metadata": {},
   "outputs": [
    {
     "data": {
      "text/plain": [
       "1"
      ]
     },
     "execution_count": 109,
     "metadata": {},
     "output_type": "execute_result"
    }
   ],
   "source": [
    "a1.ndim"
   ]
  },
  {
   "cell_type": "code",
   "execution_count": 111,
   "id": "8b2ae936-a460-4161-b5a4-377ea2e9fe39",
   "metadata": {},
   "outputs": [
    {
     "data": {
      "text/plain": [
       "2"
      ]
     },
     "execution_count": 111,
     "metadata": {},
     "output_type": "execute_result"
    }
   ],
   "source": [
    "a2.ndim"
   ]
  },
  {
   "cell_type": "code",
   "execution_count": 113,
   "id": "fbfc7328-83cf-4ce0-8972-e9b778d23be2",
   "metadata": {},
   "outputs": [],
   "source": [
    "#shape"
   ]
  },
  {
   "cell_type": "code",
   "execution_count": 115,
   "id": "c4fffbfb-1867-4730-8143-d25c7504dacf",
   "metadata": {},
   "outputs": [
    {
     "data": {
      "text/plain": [
       "(10,)"
      ]
     },
     "execution_count": 115,
     "metadata": {},
     "output_type": "execute_result"
    }
   ],
   "source": [
    "a1.shape"
   ]
  },
  {
   "cell_type": "code",
   "execution_count": 117,
   "id": "c84a52ef-39fb-47cc-b341-fbd74a2fcea4",
   "metadata": {},
   "outputs": [
    {
     "data": {
      "text/plain": [
       "(3, 4)"
      ]
     },
     "execution_count": 117,
     "metadata": {},
     "output_type": "execute_result"
    }
   ],
   "source": [
    "a2.shape #3 rows and 2 columns"
   ]
  },
  {
   "cell_type": "code",
   "execution_count": 119,
   "id": "c950356c-d5a6-41e8-a49d-e1549fe7512b",
   "metadata": {},
   "outputs": [
    {
     "data": {
      "text/plain": [
       "(2, 2, 2)"
      ]
     },
     "execution_count": 119,
     "metadata": {},
     "output_type": "execute_result"
    }
   ],
   "source": [
    "a3.shape # first ,2 saysit consists of 2d arrays 2,2 gives no of rows"
   ]
  },
  {
   "cell_type": "markdown",
   "id": "d168a3d6-7659-4cb2-8780-8b8428307bcb",
   "metadata": {},
   "source": [
    "### size #gives no of items"
   ]
  },
  {
   "cell_type": "code",
   "execution_count": 122,
   "id": "660d7a3f-7f6a-4884-99dd-efeea7c37976",
   "metadata": {},
   "outputs": [
    {
     "data": {
      "text/plain": [
       "array([[[0, 1],\n",
       "        [2, 3]],\n",
       "\n",
       "       [[4, 5],\n",
       "        [6, 7]]])"
      ]
     },
     "execution_count": 122,
     "metadata": {},
     "output_type": "execute_result"
    }
   ],
   "source": [
    "a3"
   ]
  },
  {
   "cell_type": "code",
   "execution_count": 124,
   "id": "a124892b-d30e-4e80-86a2-ea7b2561c4e2",
   "metadata": {},
   "outputs": [
    {
     "data": {
      "text/plain": [
       "array([[[0, 1],\n",
       "        [2, 3]],\n",
       "\n",
       "       [[4, 5],\n",
       "        [6, 7]]])"
      ]
     },
     "execution_count": 124,
     "metadata": {},
     "output_type": "execute_result"
    }
   ],
   "source": [
    "a3.size\n",
    "a3"
   ]
  },
  {
   "cell_type": "code",
   "execution_count": 126,
   "id": "f6c7c4eb-c3b9-4c6b-9eb5-08d9f16efe69",
   "metadata": {},
   "outputs": [
    {
     "data": {
      "text/plain": [
       "array([[ 0.,  1.,  2.,  3.],\n",
       "       [ 4.,  5.,  6.,  7.],\n",
       "       [ 8.,  9., 10., 11.]])"
      ]
     },
     "execution_count": 126,
     "metadata": {},
     "output_type": "execute_result"
    }
   ],
   "source": [
    "a2"
   ]
  },
  {
   "cell_type": "code",
   "execution_count": 128,
   "id": "07746735-ad69-43da-91cf-bb233b7236f1",
   "metadata": {},
   "outputs": [
    {
     "data": {
      "text/plain": [
       "12"
      ]
     },
     "execution_count": 128,
     "metadata": {},
     "output_type": "execute_result"
    }
   ],
   "source": [
    "a2.size"
   ]
  },
  {
   "cell_type": "code",
   "execution_count": 130,
   "id": "a346a354-f122-4c6e-96cb-89d10c714335",
   "metadata": {},
   "outputs": [],
   "source": [
    "# item size ....memory occupied by item"
   ]
  },
  {
   "cell_type": "code",
   "execution_count": 132,
   "id": "c4e1e19d-c7b3-43f9-ad28-0e837bcbf360",
   "metadata": {},
   "outputs": [
    {
     "data": {
      "text/plain": [
       "array([0, 1, 2, 3, 4, 5, 6, 7, 8, 9])"
      ]
     },
     "execution_count": 132,
     "metadata": {},
     "output_type": "execute_result"
    }
   ],
   "source": [
    "a1"
   ]
  },
  {
   "cell_type": "code",
   "execution_count": 134,
   "id": "e5d84474-53c7-44b6-8ba5-c99ec199075e",
   "metadata": {},
   "outputs": [
    {
     "data": {
      "text/plain": [
       "array([[ 0.,  1.,  2.,  3.],\n",
       "       [ 4.,  5.,  6.,  7.],\n",
       "       [ 8.,  9., 10., 11.]])"
      ]
     },
     "execution_count": 134,
     "metadata": {},
     "output_type": "execute_result"
    }
   ],
   "source": [
    "a2"
   ]
  },
  {
   "cell_type": "code",
   "execution_count": 136,
   "id": "db4c0b58-e4ac-43cd-ba4b-eead2a4f4286",
   "metadata": {},
   "outputs": [
    {
     "data": {
      "text/plain": [
       "4"
      ]
     },
     "execution_count": 136,
     "metadata": {},
     "output_type": "execute_result"
    }
   ],
   "source": [
    "a1.itemsize #bytes"
   ]
  },
  {
   "cell_type": "code",
   "execution_count": 138,
   "id": "500f1c01-681d-45c7-b6a3-d9184569073d",
   "metadata": {},
   "outputs": [
    {
     "data": {
      "text/plain": [
       "8"
      ]
     },
     "execution_count": 138,
     "metadata": {},
     "output_type": "execute_result"
    }
   ],
   "source": [
    "a2.itemsize"
   ]
  },
  {
   "cell_type": "code",
   "execution_count": 140,
   "id": "cb8ae3d3-4aa0-4c3b-a9cf-8edd2bb23673",
   "metadata": {},
   "outputs": [
    {
     "data": {
      "text/plain": [
       "4"
      ]
     },
     "execution_count": 140,
     "metadata": {},
     "output_type": "execute_result"
    }
   ],
   "source": [
    "a3.itemsize"
   ]
  },
  {
   "cell_type": "code",
   "execution_count": 142,
   "id": "dacf5f26-fdb5-4bf7-8d91-9be24a8dc751",
   "metadata": {},
   "outputs": [],
   "source": [
    "#dtype"
   ]
  },
  {
   "cell_type": "code",
   "execution_count": 144,
   "id": "930c85ac-705a-4731-ae41-7d5026933a95",
   "metadata": {},
   "outputs": [
    {
     "name": "stdout",
     "output_type": "stream",
     "text": [
      "int32\n",
      "float64\n",
      "int32\n"
     ]
    }
   ],
   "source": [
    "print(a1.dtype)\n",
    "print(a2.dtype)\n",
    "print(a3.dtype)"
   ]
  },
  {
   "cell_type": "code",
   "execution_count": 146,
   "id": "feddbed6-1dbf-49d9-a371-7a0976543628",
   "metadata": {},
   "outputs": [],
   "source": [
    "#changing dtype"
   ]
  },
  {
   "cell_type": "code",
   "execution_count": 148,
   "id": "d888ea36-9664-4e17-8f30-f81874ac57cb",
   "metadata": {},
   "outputs": [
    {
     "data": {
      "text/plain": [
       "array([33, 65, 88])"
      ]
     },
     "execution_count": 148,
     "metadata": {},
     "output_type": "execute_result"
    }
   ],
   "source": [
    "x =np.array([33,65,88])\n",
    "x"
   ]
  },
  {
   "cell_type": "code",
   "execution_count": 150,
   "id": "2dbccaeb-8b4d-448a-8d01-e26cb33a7e2e",
   "metadata": {},
   "outputs": [
    {
     "data": {
      "text/plain": [
       "array([33, 65, 88])"
      ]
     },
     "execution_count": 150,
     "metadata": {},
     "output_type": "execute_result"
    }
   ],
   "source": [
    "x.astype(int)"
   ]
  },
  {
   "cell_type": "code",
   "execution_count": 152,
   "id": "e8bb5a2a-730d-44b5-854b-ff5bacf48a19",
   "metadata": {},
   "outputs": [],
   "source": [
    "#array operations"
   ]
  },
  {
   "cell_type": "code",
   "execution_count": 154,
   "id": "af4d8055-66c8-4564-9377-78ed28b113f9",
   "metadata": {},
   "outputs": [
    {
     "data": {
      "text/plain": [
       "array([[12, 13, 14, 15],\n",
       "       [16, 17, 18, 19],\n",
       "       [20, 21, 22, 23]])"
      ]
     },
     "execution_count": 154,
     "metadata": {},
     "output_type": "execute_result"
    }
   ],
   "source": [
    "n1 =np.arange(12).reshape(3,4) \n",
    "n2 =np.arange(12,24).reshape(3,4)\n",
    "n2"
   ]
  },
  {
   "cell_type": "code",
   "execution_count": 156,
   "id": "c6b883e2-8e6b-413b-aa91-c684ad9393bf",
   "metadata": {},
   "outputs": [
    {
     "data": {
      "text/plain": [
       "array([[ 0,  1,  2,  3],\n",
       "       [ 4,  5,  6,  7],\n",
       "       [ 8,  9, 10, 11]])"
      ]
     },
     "execution_count": 156,
     "metadata": {},
     "output_type": "execute_result"
    }
   ],
   "source": [
    "n1"
   ]
  },
  {
   "cell_type": "code",
   "execution_count": 158,
   "id": "3eceffd0-2b82-49b4-b159-2fa0d47589e0",
   "metadata": {},
   "outputs": [],
   "source": [
    "#indexing & slicing"
   ]
  },
  {
   "cell_type": "code",
   "execution_count": 160,
   "id": "de03f834-e7f3-46e1-9f3a-4a80c0ab9e54",
   "metadata": {},
   "outputs": [],
   "source": [
    "p1 =np.arange(10)\n",
    "p2 =np.arange(12).reshape(3,4)\n",
    "p3 =np.arange(8).reshape(2,2,2)"
   ]
  },
  {
   "cell_type": "code",
   "execution_count": 162,
   "id": "184be0b7-f094-4764-ba32-7dbea44b7f9d",
   "metadata": {},
   "outputs": [
    {
     "data": {
      "text/plain": [
       "array([[[0, 1],\n",
       "        [2, 3]],\n",
       "\n",
       "       [[4, 5],\n",
       "        [6, 7]]])"
      ]
     },
     "execution_count": 162,
     "metadata": {},
     "output_type": "execute_result"
    }
   ],
   "source": [
    "p3"
   ]
  },
  {
   "cell_type": "code",
   "execution_count": 164,
   "id": "5b7314fe-4b54-4740-9910-3084b6158338",
   "metadata": {},
   "outputs": [
    {
     "data": {
      "text/plain": [
       "array([[ 0,  1,  2,  3],\n",
       "       [ 4,  5,  6,  7],\n",
       "       [ 8,  9, 10, 11]])"
      ]
     },
     "execution_count": 164,
     "metadata": {},
     "output_type": "execute_result"
    }
   ],
   "source": [
    "p2"
   ]
  },
  {
   "cell_type": "code",
   "execution_count": 166,
   "id": "12637162-a28e-4a2d-acfb-00196a6130f4",
   "metadata": {},
   "outputs": [],
   "source": [
    "#1d array"
   ]
  },
  {
   "cell_type": "code",
   "execution_count": 168,
   "id": "07a7e144-984a-46f5-a71e-c91b7c23e167",
   "metadata": {},
   "outputs": [
    {
     "data": {
      "text/plain": [
       "array([0, 1, 2, 3, 4, 5, 6, 7, 8, 9])"
      ]
     },
     "execution_count": 168,
     "metadata": {},
     "output_type": "execute_result"
    }
   ],
   "source": [
    "p1"
   ]
  },
  {
   "cell_type": "code",
   "execution_count": 170,
   "id": "c9f33ecb-6c7c-46e2-b184-41c98e2feab4",
   "metadata": {},
   "outputs": [
    {
     "data": {
      "text/plain": [
       "9"
      ]
     },
     "execution_count": 170,
     "metadata": {},
     "output_type": "execute_result"
    }
   ],
   "source": [
    "p1[-1]"
   ]
  },
  {
   "cell_type": "code",
   "execution_count": 172,
   "id": "0e9500f5-58dd-4d3e-8fc7-018e68ff9363",
   "metadata": {},
   "outputs": [
    {
     "data": {
      "text/plain": [
       "5"
      ]
     },
     "execution_count": 172,
     "metadata": {},
     "output_type": "execute_result"
    }
   ],
   "source": [
    "p1[5]"
   ]
  },
  {
   "cell_type": "code",
   "execution_count": 174,
   "id": "2e77b70c-fabd-4a89-8683-97fd78115ab9",
   "metadata": {},
   "outputs": [],
   "source": [
    "#2d array"
   ]
  },
  {
   "cell_type": "code",
   "execution_count": 176,
   "id": "f558c750-0ced-4f01-8259-b437d547da95",
   "metadata": {},
   "outputs": [
    {
     "data": {
      "text/plain": [
       "array([[ 0,  1,  2,  3],\n",
       "       [ 4,  5,  6,  7],\n",
       "       [ 8,  9, 10, 11]])"
      ]
     },
     "execution_count": 176,
     "metadata": {},
     "output_type": "execute_result"
    }
   ],
   "source": [
    "p2"
   ]
  },
  {
   "cell_type": "code",
   "execution_count": 178,
   "id": "8a9d6c7c-2d3d-4443-bc41-581687cfe222",
   "metadata": {},
   "outputs": [
    {
     "data": {
      "text/plain": [
       "6"
      ]
     },
     "execution_count": 178,
     "metadata": {},
     "output_type": "execute_result"
    }
   ],
   "source": [
    "p2[1,2]"
   ]
  },
  {
   "cell_type": "code",
   "execution_count": 180,
   "id": "a3f228cb-55c6-4156-9988-db6898c2b851",
   "metadata": {},
   "outputs": [
    {
     "data": {
      "text/plain": [
       "11"
      ]
     },
     "execution_count": 180,
     "metadata": {},
     "output_type": "execute_result"
    }
   ],
   "source": [
    "p2[2,3]"
   ]
  },
  {
   "cell_type": "code",
   "execution_count": 182,
   "id": "0fbaf626-e8b8-47c6-9e64-36b7434ef66d",
   "metadata": {},
   "outputs": [
    {
     "data": {
      "text/plain": [
       "4"
      ]
     },
     "execution_count": 182,
     "metadata": {},
     "output_type": "execute_result"
    }
   ],
   "source": [
    "p2[1,0]"
   ]
  },
  {
   "cell_type": "code",
   "execution_count": 184,
   "id": "705605be-b6b8-45e0-b6f3-51fc48d37b87",
   "metadata": {},
   "outputs": [],
   "source": [
    "#indexing 3d array"
   ]
  },
  {
   "cell_type": "code",
   "execution_count": 186,
   "id": "47518df9-5252-4bbb-b683-64ab02ea6787",
   "metadata": {},
   "outputs": [
    {
     "data": {
      "text/plain": [
       "array([[[0, 1],\n",
       "        [2, 3]],\n",
       "\n",
       "       [[4, 5],\n",
       "        [6, 7]]])"
      ]
     },
     "execution_count": 186,
     "metadata": {},
     "output_type": "execute_result"
    }
   ],
   "source": [
    "p3"
   ]
  },
  {
   "cell_type": "code",
   "execution_count": 188,
   "id": "954e7bf1-7af2-4b2a-b7f0-6173b58bdac8",
   "metadata": {},
   "outputs": [
    {
     "data": {
      "text/plain": [
       "5"
      ]
     },
     "execution_count": 188,
     "metadata": {},
     "output_type": "execute_result"
    }
   ],
   "source": [
    "p3[1,0,1]"
   ]
  },
  {
   "cell_type": "code",
   "execution_count": 190,
   "id": "177dc3c9-4c63-4f7c-82b2-1d2b07f7527a",
   "metadata": {},
   "outputs": [
    {
     "data": {
      "text/plain": [
       "4"
      ]
     },
     "execution_count": 190,
     "metadata": {},
     "output_type": "execute_result"
    }
   ],
   "source": [
    "p3[1,0,0]"
   ]
  },
  {
   "cell_type": "code",
   "execution_count": 192,
   "id": "2ca89c12-f598-4d33-9a57-39e5506604cd",
   "metadata": {},
   "outputs": [
    {
     "data": {
      "text/plain": [
       "3"
      ]
     },
     "execution_count": 192,
     "metadata": {},
     "output_type": "execute_result"
    }
   ],
   "source": [
    "p3[0,1,1]"
   ]
  },
  {
   "cell_type": "code",
   "execution_count": 194,
   "id": "a8d68259-36e0-48b5-8de7-ae852adf88d5",
   "metadata": {},
   "outputs": [
    {
     "data": {
      "text/plain": [
       "6"
      ]
     },
     "execution_count": 194,
     "metadata": {},
     "output_type": "execute_result"
    }
   ],
   "source": [
    "p3[1,1,0]"
   ]
  },
  {
   "cell_type": "code",
   "execution_count": 196,
   "id": "00542a3d-595b-4573-b0fe-b66a9b97a931",
   "metadata": {},
   "outputs": [
    {
     "data": {
      "text/plain": [
       "1"
      ]
     },
     "execution_count": 196,
     "metadata": {},
     "output_type": "execute_result"
    }
   ],
   "source": [
    "p3[0,0,1]"
   ]
  },
  {
   "cell_type": "code",
   "execution_count": 198,
   "id": "613672e1-2715-4515-92a2-b15816ee2d12",
   "metadata": {},
   "outputs": [
    {
     "data": {
      "text/plain": [
       "0"
      ]
     },
     "execution_count": 198,
     "metadata": {},
     "output_type": "execute_result"
    }
   ],
   "source": [
    "p3[0,0,0]"
   ]
  },
  {
   "cell_type": "code",
   "execution_count": 200,
   "id": "e39f1f2d-b5f6-4aff-981f-478317d15368",
   "metadata": {},
   "outputs": [],
   "source": [
    "# slicing on 1d"
   ]
  },
  {
   "cell_type": "code",
   "execution_count": 202,
   "id": "8a0a3362-412c-43f9-b4e1-90dd9a8e3df1",
   "metadata": {},
   "outputs": [
    {
     "data": {
      "text/plain": [
       "array([0, 1, 2, 3, 4, 5, 6, 7, 8, 9])"
      ]
     },
     "execution_count": 202,
     "metadata": {},
     "output_type": "execute_result"
    }
   ],
   "source": [
    "p1"
   ]
  },
  {
   "cell_type": "code",
   "execution_count": 213,
   "id": "5294b92e-7f62-44f1-95ab-05d3600d716a",
   "metadata": {},
   "outputs": [
    {
     "data": {
      "text/plain": [
       "array([2, 3, 4])"
      ]
     },
     "execution_count": 213,
     "metadata": {},
     "output_type": "execute_result"
    }
   ],
   "source": [
    "p1[2:5]"
   ]
  },
  {
   "cell_type": "code",
   "execution_count": 215,
   "id": "a58ea611-2a35-42c1-bf79-1cbb340ae69e",
   "metadata": {},
   "outputs": [
    {
     "data": {
      "text/plain": [
       "array([1, 2, 3])"
      ]
     },
     "execution_count": 215,
     "metadata": {},
     "output_type": "execute_result"
    }
   ],
   "source": [
    "p1[1:4]"
   ]
  },
  {
   "cell_type": "code",
   "execution_count": null,
   "id": "f81fc8af-12e7-4422-ace3-29c6b30296e8",
   "metadata": {},
   "outputs": [],
   "source": [
    "#slicing on 2D"
   ]
  },
  {
   "cell_type": "code",
   "execution_count": 217,
   "id": "cf6db2a4-11e6-40f3-b1d1-14b8c4659ca4",
   "metadata": {},
   "outputs": [
    {
     "data": {
      "text/plain": [
       "array([2, 4])"
      ]
     },
     "execution_count": 217,
     "metadata": {},
     "output_type": "execute_result"
    }
   ],
   "source": [
    "p1[2:5:2]"
   ]
  },
  {
   "cell_type": "code",
   "execution_count": 219,
   "id": "a96f7207-9485-4b4a-b661-addc3b43e36b",
   "metadata": {},
   "outputs": [
    {
     "data": {
      "text/plain": [
       "array([[ 0,  1,  2,  3],\n",
       "       [ 4,  5,  6,  7],\n",
       "       [ 8,  9, 10, 11]])"
      ]
     },
     "execution_count": 219,
     "metadata": {},
     "output_type": "execute_result"
    }
   ],
   "source": [
    "p2"
   ]
  },
  {
   "cell_type": "code",
   "execution_count": 221,
   "id": "5ef2ed49-7225-48aa-a6b3-902d135f9b4d",
   "metadata": {},
   "outputs": [
    {
     "data": {
      "text/plain": [
       "2"
      ]
     },
     "execution_count": 221,
     "metadata": {},
     "output_type": "execute_result"
    }
   ],
   "source": [
    "p2[0,2]"
   ]
  },
  {
   "cell_type": "code",
   "execution_count": 235,
   "id": "c6e241e2-9678-4c5f-b6ae-5eb7152eecba",
   "metadata": {},
   "outputs": [
    {
     "data": {
      "text/plain": [
       "array([ 2,  6, 10])"
      ]
     },
     "execution_count": 235,
     "metadata": {},
     "output_type": "execute_result"
    }
   ],
   "source": [
    "p2[:,2] # all rows so(:),and we want 3rdcolumn so 2"
   ]
  },
  {
   "cell_type": "code",
   "execution_count": 237,
   "id": "918193b4-346c-4409-aac7-415746ec9a13",
   "metadata": {},
   "outputs": [
    {
     "data": {
      "text/plain": [
       "array([[ 0,  1,  2,  3],\n",
       "       [ 4,  5,  6,  7],\n",
       "       [ 8,  9, 10, 11]])"
      ]
     },
     "execution_count": 237,
     "metadata": {},
     "output_type": "execute_result"
    }
   ],
   "source": [
    "p2"
   ]
  },
  {
   "cell_type": "code",
   "execution_count": 239,
   "id": "9d40901b-e160-498d-8643-cfebfec98d1f",
   "metadata": {},
   "outputs": [
    {
     "data": {
      "text/plain": [
       "array([[ 4,  5,  6,  7],\n",
       "       [ 8,  9, 10, 11]])"
      ]
     },
     "execution_count": 239,
     "metadata": {},
     "output_type": "execute_result"
    }
   ],
   "source": [
    "p2[1:3]"
   ]
  },
  {
   "cell_type": "code",
   "execution_count": 241,
   "id": "f011f389-6dca-4be4-9123-874ec8e53f7c",
   "metadata": {},
   "outputs": [
    {
     "data": {
      "text/plain": [
       "array([[ 5,  6],\n",
       "       [ 9, 10]])"
      ]
     },
     "execution_count": 241,
     "metadata": {},
     "output_type": "execute_result"
    }
   ],
   "source": [
    "p2[1:3 , 1:3]"
   ]
  },
  {
   "cell_type": "code",
   "execution_count": 243,
   "id": "af37f593-2e45-428b-9d75-df26f33a5b95",
   "metadata": {},
   "outputs": [
    {
     "data": {
      "text/plain": [
       "array([[ 0,  1,  2,  3],\n",
       "       [ 8,  9, 10, 11]])"
      ]
     },
     "execution_count": 243,
     "metadata": {},
     "output_type": "execute_result"
    }
   ],
   "source": [
    "p2[::2]"
   ]
  },
  {
   "cell_type": "code",
   "execution_count": 245,
   "id": "fea91458-5958-4732-80c5-f4953ebb82db",
   "metadata": {},
   "outputs": [
    {
     "data": {
      "text/plain": [
       "array([[ 0,  3],\n",
       "       [ 8, 11]])"
      ]
     },
     "execution_count": 245,
     "metadata": {},
     "output_type": "execute_result"
    }
   ],
   "source": [
    "p2[::2, ::3]"
   ]
  },
  {
   "cell_type": "code",
   "execution_count": 247,
   "id": "507e4729-7c15-4b2b-82a0-98cb0fafa6e8",
   "metadata": {},
   "outputs": [
    {
     "data": {
      "text/plain": [
       "array([[ 1,  3],\n",
       "       [ 9, 11]])"
      ]
     },
     "execution_count": 247,
     "metadata": {},
     "output_type": "execute_result"
    }
   ],
   "source": [
    "p2[::2, 1::2]"
   ]
  },
  {
   "cell_type": "code",
   "execution_count": 249,
   "id": "9fb5d39f-943b-435f-a2e0-07e6b90bc8b1",
   "metadata": {},
   "outputs": [
    {
     "data": {
      "text/plain": [
       "array([[0, 1, 2, 3],\n",
       "       [4, 5, 6, 7]])"
      ]
     },
     "execution_count": 249,
     "metadata": {},
     "output_type": "execute_result"
    }
   ],
   "source": [
    "p2[0:2]"
   ]
  },
  {
   "cell_type": "code",
   "execution_count": 251,
   "id": "3625bf49-d1bd-4f36-992a-68c0c4ba818b",
   "metadata": {},
   "outputs": [
    {
     "data": {
      "text/plain": [
       "array([[1, 2, 3],\n",
       "       [5, 6, 7]])"
      ]
     },
     "execution_count": 251,
     "metadata": {},
     "output_type": "execute_result"
    }
   ],
   "source": [
    "p2[0:2 ,1:]"
   ]
  },
  {
   "cell_type": "code",
   "execution_count": 253,
   "id": "f19423fb-8170-4b97-9e0c-88ef012d4d8d",
   "metadata": {},
   "outputs": [
    {
     "data": {
      "text/plain": [
       "array([[1, 3],\n",
       "       [5, 7]])"
      ]
     },
     "execution_count": 253,
     "metadata": {},
     "output_type": "execute_result"
    }
   ],
   "source": [
    "p2[0:2 ,1::2]"
   ]
  },
  {
   "cell_type": "code",
   "execution_count": null,
   "id": "b2dfb3e1-1a38-413b-be39-c9a0fbd39f99",
   "metadata": {},
   "outputs": [],
   "source": [
    "#slicing in 3d"
   ]
  },
  {
   "cell_type": "code",
   "execution_count": 257,
   "id": "414d8078-a3ba-4772-b194-5ca8cd50cbe8",
   "metadata": {},
   "outputs": [
    {
     "data": {
      "text/plain": [
       "array([[[ 0,  1,  2],\n",
       "        [ 3,  4,  5],\n",
       "        [ 6,  7,  8]],\n",
       "\n",
       "       [[ 9, 10, 11],\n",
       "        [12, 13, 14],\n",
       "        [15, 16, 17]],\n",
       "\n",
       "       [[18, 19, 20],\n",
       "        [21, 22, 23],\n",
       "        [24, 25, 26]]])"
      ]
     },
     "execution_count": 257,
     "metadata": {},
     "output_type": "execute_result"
    }
   ],
   "source": [
    "p3 =np.arange(27).reshape(3,3,3) \n",
    "p3"
   ]
  },
  {
   "cell_type": "markdown",
   "id": "8fa67f38-a456-4ad9-98fa-1a7eadf57163",
   "metadata": {},
   "source": []
  },
  {
   "cell_type": "code",
   "execution_count": 261,
   "id": "ef3478a5-68e2-424c-9f81-e59739844b2c",
   "metadata": {},
   "outputs": [
    {
     "data": {
      "text/plain": [
       "array([[18, 19, 20],\n",
       "       [21, 22, 23],\n",
       "       [24, 25, 26]])"
      ]
     },
     "execution_count": 261,
     "metadata": {},
     "output_type": "execute_result"
    }
   ],
   "source": [
    "p3[2]"
   ]
  },
  {
   "cell_type": "code",
   "execution_count": 263,
   "id": "e5799cef-b696-45d6-b1b1-cbe8a09c1278",
   "metadata": {},
   "outputs": [
    {
     "data": {
      "text/plain": [
       "array([[[ 0,  1,  2],\n",
       "        [ 3,  4,  5],\n",
       "        [ 6,  7,  8]],\n",
       "\n",
       "       [[18, 19, 20],\n",
       "        [21, 22, 23],\n",
       "        [24, 25, 26]]])"
      ]
     },
     "execution_count": 263,
     "metadata": {},
     "output_type": "execute_result"
    }
   ],
   "source": [
    "p3[::2]"
   ]
  },
  {
   "cell_type": "code",
   "execution_count": 265,
   "id": "5a4871c9-24b0-4ffe-ac61-d680cf75044e",
   "metadata": {},
   "outputs": [
    {
     "data": {
      "text/plain": [
       "array([[0, 1, 2],\n",
       "       [3, 4, 5],\n",
       "       [6, 7, 8]])"
      ]
     },
     "execution_count": 265,
     "metadata": {},
     "output_type": "execute_result"
    }
   ],
   "source": [
    "p3[0]"
   ]
  },
  {
   "cell_type": "code",
   "execution_count": 269,
   "id": "b35b425d-bd46-43c5-a269-8509a85a0126",
   "metadata": {},
   "outputs": [
    {
     "data": {
      "text/plain": [
       "array([6, 7, 8])"
      ]
     },
     "execution_count": 269,
     "metadata": {},
     "output_type": "execute_result"
    }
   ],
   "source": [
    "p3[0,2,:]"
   ]
  },
  {
   "cell_type": "code",
   "execution_count": 273,
   "id": "53ddda14-5eda-48c5-bdc8-589cac3bd228",
   "metadata": {},
   "outputs": [
    {
     "data": {
      "text/plain": [
       "array([10, 13, 16])"
      ]
     },
     "execution_count": 273,
     "metadata": {},
     "output_type": "execute_result"
    }
   ],
   "source": [
    "p3[1,:,1]"
   ]
  },
  {
   "cell_type": "code",
   "execution_count": 275,
   "id": "83b579cb-6e66-4f8c-93cc-99d9fc1b3c1a",
   "metadata": {},
   "outputs": [
    {
     "data": {
      "text/plain": [
       "array([[18, 19, 20],\n",
       "       [21, 22, 23],\n",
       "       [24, 25, 26]])"
      ]
     },
     "execution_count": 275,
     "metadata": {},
     "output_type": "execute_result"
    }
   ],
   "source": [
    "p3[2]"
   ]
  },
  {
   "cell_type": "code",
   "execution_count": 279,
   "id": "b74ba287-1aa5-4206-84ce-0746d91cda83",
   "metadata": {},
   "outputs": [
    {
     "data": {
      "text/plain": [
       "array([[21, 22, 23],\n",
       "       [24, 25, 26]])"
      ]
     },
     "execution_count": 279,
     "metadata": {},
     "output_type": "execute_result"
    }
   ],
   "source": [
    " p3[2, 1:]"
   ]
  },
  {
   "cell_type": "code",
   "execution_count": 281,
   "id": "795848a6-b132-4edd-a4de-523144fe9655",
   "metadata": {},
   "outputs": [
    {
     "data": {
      "text/plain": [
       "array([[22, 23],\n",
       "       [25, 26]])"
      ]
     },
     "execution_count": 281,
     "metadata": {},
     "output_type": "execute_result"
    }
   ],
   "source": [
    "p3[2, 1: ,1:]"
   ]
  },
  {
   "cell_type": "code",
   "execution_count": 283,
   "id": "17e1cea9-6e39-4ba4-914d-527703e67176",
   "metadata": {},
   "outputs": [
    {
     "data": {
      "text/plain": [
       "array([[[ 0,  1,  2],\n",
       "        [ 3,  4,  5],\n",
       "        [ 6,  7,  8]],\n",
       "\n",
       "       [[18, 19, 20],\n",
       "        [21, 22, 23],\n",
       "        [24, 25, 26]]])"
      ]
     },
     "execution_count": 283,
     "metadata": {},
     "output_type": "execute_result"
    }
   ],
   "source": [
    "p3[0::2]"
   ]
  },
  {
   "cell_type": "code",
   "execution_count": 285,
   "id": "f3748d6e-64c4-4e42-8eea-ef74f9781328",
   "metadata": {},
   "outputs": [
    {
     "data": {
      "text/plain": [
       "array([[ 0,  1,  2],\n",
       "       [18, 19, 20]])"
      ]
     },
     "execution_count": 285,
     "metadata": {},
     "output_type": "execute_result"
    }
   ],
   "source": [
    "p3[0::2 ,0]"
   ]
  },
  {
   "cell_type": "code",
   "execution_count": 291,
   "id": "e9e3db81-28be-47ab-96ef-065190565b28",
   "metadata": {},
   "outputs": [
    {
     "data": {
      "text/plain": [
       "array([[ 0,  2],\n",
       "       [18, 20]])"
      ]
     },
     "execution_count": 291,
     "metadata": {},
     "output_type": "execute_result"
    }
   ],
   "source": [
    "p3[0::2 ,0 ,::2]"
   ]
  },
  {
   "cell_type": "code",
   "execution_count": null,
   "id": "36cfb1c4-aa10-4922-ad27-f5b248d17947",
   "metadata": {},
   "outputs": [],
   "source": []
  }
 ],
 "metadata": {
  "kernelspec": {
   "display_name": "Python 3 (ipykernel)",
   "language": "python",
   "name": "python3"
  },
  "language_info": {
   "codemirror_mode": {
    "name": "ipython",
    "version": 3
   },
   "file_extension": ".py",
   "mimetype": "text/x-python",
   "name": "python",
   "nbconvert_exporter": "python",
   "pygments_lexer": "ipython3",
   "version": "3.12.7"
  }
 },
 "nbformat": 4,
 "nbformat_minor": 5
}
