{
 "cells": [
  {
   "cell_type": "code",
   "execution_count": 5,
   "id": "3441b1bc-b7e3-4c4f-8c49-e0b472e33aa2",
   "metadata": {},
   "outputs": [],
   "source": [
    "import numpy as np"
   ]
  },
  {
   "cell_type": "code",
   "execution_count": 7,
   "id": "8eef0a4b-7afb-48ae-bf43-6798200f73b1",
   "metadata": {},
   "outputs": [
    {
     "data": {
      "text/plain": [
       "array([ 2,  5,  8, 66])"
      ]
     },
     "execution_count": 7,
     "metadata": {},
     "output_type": "execute_result"
    }
   ],
   "source": [
    "np.array([2,5,8,66])"
   ]
  },
  {
   "cell_type": "code",
   "execution_count": 9,
   "id": "e2048f6f-3f14-4afd-9b3f-844d863de11a",
   "metadata": {},
   "outputs": [
    {
     "name": "stdout",
     "output_type": "stream",
     "text": [
      "[  2 455  38   5]\n"
     ]
    }
   ],
   "source": [
    "a=np.array([2,455,38,5])  #vector\n",
    "print(a)"
   ]
  },
  {
   "cell_type": "code",
   "execution_count": 11,
   "id": "96c791cf-bd59-44f2-84dd-305b86508ae3",
   "metadata": {},
   "outputs": [
    {
     "data": {
      "text/plain": [
       "numpy.ndarray"
      ]
     },
     "execution_count": 11,
     "metadata": {},
     "output_type": "execute_result"
    }
   ],
   "source": [
    "type(a)"
   ]
  },
  {
   "cell_type": "code",
   "execution_count": 15,
   "id": "94c2b7af-0889-4151-baaa-157af54aa0d8",
   "metadata": {},
   "outputs": [
    {
     "name": "stdout",
     "output_type": "stream",
     "text": [
      "[[45 55  2 28]\n",
      " [36 54 66  4]]\n"
     ]
    }
   ],
   "source": [
    "#2d array(matrix)\n",
    "\n",
    "new =np.array([[45,55,2,28],[36,54,66,4]])\n",
    "print(new)"
   ]
  },
  {
   "cell_type": "code",
   "execution_count": 19,
   "id": "dd1ac35a-5a43-4f05-8f6c-8d6128e63102",
   "metadata": {},
   "outputs": [
    {
     "data": {
      "text/plain": [
       "array([[22, 54, 26, 84],\n",
       "       [48, 57,  5,  6],\n",
       "       [28, 65, 54,  7],\n",
       "       [57, 68, 94, 55]])"
      ]
     },
     "execution_count": 19,
     "metadata": {},
     "output_type": "execute_result"
    }
   ],
   "source": [
    "#3d array\n",
    "np.array ([[22,54,26,84],[48,57,5,6],[28,65,54,7],[57,68,94,55]])"
   ]
  },
  {
   "cell_type": "code",
   "execution_count": 21,
   "id": "f5e04614-a513-4d66-bfc4-135fa1530b3d",
   "metadata": {},
   "outputs": [
    {
     "data": {
      "text/plain": [
       "array([11.,  5., 88.])"
      ]
     },
     "execution_count": 21,
     "metadata": {},
     "output_type": "execute_result"
    }
   ],
   "source": [
    "np.array([11,5,88] , dtype =float)"
   ]
  },
  {
   "cell_type": "code",
   "execution_count": 23,
   "id": "a206c226-0568-48ef-b1f6-c8e6883289b6",
   "metadata": {},
   "outputs": [
    {
     "data": {
      "text/plain": [
       "array([False,  True,  True])"
      ]
     },
     "execution_count": 23,
     "metadata": {},
     "output_type": "execute_result"
    }
   ],
   "source": [
    "np.array([0,23,53] ,dtype =bool)"
   ]
  },
  {
   "cell_type": "code",
   "execution_count": 25,
   "id": "091e4ebf-f831-425e-894a-a5e68720f783",
   "metadata": {},
   "outputs": [
    {
     "data": {
      "text/plain": [
       "array([58.+0.j, 64.+0.j,  5.+0.j])"
      ]
     },
     "execution_count": 25,
     "metadata": {},
     "output_type": "execute_result"
    }
   ],
   "source": [
    "np.array([58,64,5] ,dtype =complex)"
   ]
  },
  {
   "cell_type": "code",
   "execution_count": 27,
   "id": "2acf094c-0479-4681-8ad7-d31e66341786",
   "metadata": {},
   "outputs": [
    {
     "data": {
      "text/plain": [
       "array([ 1,  2,  3,  4,  5,  6,  7,  8,  9, 10, 11, 12, 13, 14, 15, 16, 17,\n",
       "       18, 19, 20, 21, 22, 23, 24])"
      ]
     },
     "execution_count": 27,
     "metadata": {},
     "output_type": "execute_result"
    }
   ],
   "source": [
    "np.arange(1,25)"
   ]
  },
  {
   "cell_type": "code",
   "execution_count": 33,
   "id": "e51f65d3-75b8-4993-bf1a-07d07da0bfba",
   "metadata": {},
   "outputs": [
    {
     "data": {
      "text/plain": [
       "array([ 1,  4,  7, 10, 13, 16, 19, 22])"
      ]
     },
     "execution_count": 33,
     "metadata": {},
     "output_type": "execute_result"
    }
   ],
   "source": [
    "np.arange(1,25,3) #strides --> alternative nos"
   ]
  },
  {
   "cell_type": "code",
   "execution_count": 47,
   "id": "dc133b92-aa2b-4bce-a686-bb77b517296a",
   "metadata": {},
   "outputs": [
    {
     "ename": "ValueError",
     "evalue": "cannot reshape array of size 10 into shape (4,2)",
     "output_type": "error",
     "traceback": [
      "\u001b[1;31m---------------------------------------------------------------------------\u001b[0m",
      "\u001b[1;31mValueError\u001b[0m                                Traceback (most recent call last)",
      "Cell \u001b[1;32mIn[47], line 1\u001b[0m\n\u001b[1;32m----> 1\u001b[0m np\u001b[38;5;241m.\u001b[39marange(\u001b[38;5;241m1\u001b[39m,\u001b[38;5;241m11\u001b[39m) \u001b[38;5;241m.\u001b[39mreshape(\u001b[38;5;241m4\u001b[39m,\u001b[38;5;241m2\u001b[39m)\n",
      "\u001b[1;31mValueError\u001b[0m: cannot reshape array of size 10 into shape (4,2)"
     ]
    }
   ],
   "source": [
    "np.arange(1,11) .reshape(4,2)"
   ]
  },
  {
   "cell_type": "code",
   "execution_count": null,
   "id": "5a8fd0a9-6e52-4724-8abf-88ded8a672df",
   "metadata": {},
   "outputs": [],
   "source": []
  }
 ],
 "metadata": {
  "kernelspec": {
   "display_name": "Python 3 (ipykernel)",
   "language": "python",
   "name": "python3"
  },
  "language_info": {
   "codemirror_mode": {
    "name": "ipython",
    "version": 3
   },
   "file_extension": ".py",
   "mimetype": "text/x-python",
   "name": "python",
   "nbconvert_exporter": "python",
   "pygments_lexer": "ipython3",
   "version": "3.12.7"
  }
 },
 "nbformat": 4,
 "nbformat_minor": 5
}
