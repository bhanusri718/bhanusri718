{
 "cells": [
  {
   "cell_type": "code",
   "execution_count": 1,
   "id": "793403c9-9649-4288-842d-5f4d5475a0a6",
   "metadata": {},
   "outputs": [],
   "source": [
    "import pandas as pd\n",
    "import numpy as np\n",
    "import matplotlib.pyplot as plt\n",
    "import glob\n",
    "import re\n",
    "import math"
   ]
  },
  {
   "cell_type": "code",
   "execution_count": 2,
   "id": "ad6a9c86-2f83-414d-a29b-06332732f753",
   "metadata": {},
   "outputs": [
    {
     "data": {
      "text/plain": [
       "0    1\n",
       "1    2\n",
       "2    3\n",
       "3    4\n",
       "4    5\n",
       "dtype: int32"
      ]
     },
     "execution_count": 2,
     "metadata": {},
     "output_type": "execute_result"
    }
   ],
   "source": [
    "v =np.array([1,2,3,4,5])\n",
    "s1 =pd.Series(v)\n",
    "s1"
   ]
  },
  {
   "cell_type": "code",
   "execution_count": 3,
   "id": "6da8f670-d9fb-4c18-84f1-c90a7923aefb",
   "metadata": {},
   "outputs": [
    {
     "data": {
      "text/plain": [
       "dtype('int32')"
      ]
     },
     "execution_count": 3,
     "metadata": {},
     "output_type": "execute_result"
    }
   ],
   "source": [
    "s1.dtype"
   ]
  },
  {
   "cell_type": "code",
   "execution_count": 4,
   "id": "bb653155-e597-4646-94de-9ae73a2ca96a",
   "metadata": {},
   "outputs": [
    {
     "ename": "AttributeError",
     "evalue": "'Series' object has no attribute 'itemsize'",
     "output_type": "error",
     "traceback": [
      "\u001b[1;31m---------------------------------------------------------------------------\u001b[0m",
      "\u001b[1;31mAttributeError\u001b[0m                            Traceback (most recent call last)",
      "\u001b[1;32m~\\AppData\\Local\\Temp\\ipykernel_10732\\3541679674.py\u001b[0m in \u001b[0;36m?\u001b[1;34m()\u001b[0m\n\u001b[1;32m----> 1\u001b[1;33m \u001b[0ms1\u001b[0m\u001b[1;33m.\u001b[0m\u001b[0mitemsize\u001b[0m\u001b[1;33m\u001b[0m\u001b[1;33m\u001b[0m\u001b[0m\n\u001b[0m",
      "\u001b[1;32m~\\anaconda3\\Lib\\site-packages\\pandas\\core\\generic.py\u001b[0m in \u001b[0;36m?\u001b[1;34m(self, name)\u001b[0m\n\u001b[0;32m   6295\u001b[0m             \u001b[1;32mand\u001b[0m \u001b[0mname\u001b[0m \u001b[1;32mnot\u001b[0m \u001b[1;32min\u001b[0m \u001b[0mself\u001b[0m\u001b[1;33m.\u001b[0m\u001b[0m_accessors\u001b[0m\u001b[1;33m\u001b[0m\u001b[1;33m\u001b[0m\u001b[0m\n\u001b[0;32m   6296\u001b[0m             \u001b[1;32mand\u001b[0m \u001b[0mself\u001b[0m\u001b[1;33m.\u001b[0m\u001b[0m_info_axis\u001b[0m\u001b[1;33m.\u001b[0m\u001b[0m_can_hold_identifiers_and_holds_name\u001b[0m\u001b[1;33m(\u001b[0m\u001b[0mname\u001b[0m\u001b[1;33m)\u001b[0m\u001b[1;33m\u001b[0m\u001b[1;33m\u001b[0m\u001b[0m\n\u001b[0;32m   6297\u001b[0m         \u001b[1;33m)\u001b[0m\u001b[1;33m:\u001b[0m\u001b[1;33m\u001b[0m\u001b[1;33m\u001b[0m\u001b[0m\n\u001b[0;32m   6298\u001b[0m             \u001b[1;32mreturn\u001b[0m \u001b[0mself\u001b[0m\u001b[1;33m[\u001b[0m\u001b[0mname\u001b[0m\u001b[1;33m]\u001b[0m\u001b[1;33m\u001b[0m\u001b[1;33m\u001b[0m\u001b[0m\n\u001b[1;32m-> 6299\u001b[1;33m         \u001b[1;32mreturn\u001b[0m \u001b[0mobject\u001b[0m\u001b[1;33m.\u001b[0m\u001b[0m__getattribute__\u001b[0m\u001b[1;33m(\u001b[0m\u001b[0mself\u001b[0m\u001b[1;33m,\u001b[0m \u001b[0mname\u001b[0m\u001b[1;33m)\u001b[0m\u001b[1;33m\u001b[0m\u001b[1;33m\u001b[0m\u001b[0m\n\u001b[0m",
      "\u001b[1;31mAttributeError\u001b[0m: 'Series' object has no attribute 'itemsize'"
     ]
    }
   ],
   "source": [
    "s1.itemsize"
   ]
  },
  {
   "cell_type": "code",
   "execution_count": null,
   "id": "db534ff8-0fce-4eb2-9e04-7837be11c711",
   "metadata": {},
   "outputs": [],
   "source": [
    "s1.shape"
   ]
  },
  {
   "cell_type": "code",
   "execution_count": null,
   "id": "099944cb-be23-48a6-bac3-70df92d13262",
   "metadata": {},
   "outputs": [],
   "source": [
    "s1.nbytes"
   ]
  },
  {
   "cell_type": "code",
   "execution_count": null,
   "id": "9305a7d7-24e8-464c-821c-83c1b081e092",
   "metadata": {},
   "outputs": [],
   "source": [
    "s1.ndim"
   ]
  },
  {
   "cell_type": "code",
   "execution_count": null,
   "id": "8ee2bca6-bdde-4e25-8b5e-726dc55edcde",
   "metadata": {},
   "outputs": [],
   "source": [
    "len(s1)"
   ]
  },
  {
   "cell_type": "code",
   "execution_count": 10,
   "id": "fd45c84e-f5a7-4fea-b756-306725c94609",
   "metadata": {},
   "outputs": [
    {
     "data": {
      "text/plain": [
       "5"
      ]
     },
     "execution_count": 10,
     "metadata": {},
     "output_type": "execute_result"
    }
   ],
   "source": [
    "s1.count()"
   ]
  },
  {
   "cell_type": "code",
   "execution_count": 12,
   "id": "eb99233a-0a7b-497e-afcc-4c5cd118f042",
   "metadata": {},
   "outputs": [
    {
     "data": {
      "text/plain": [
       "5"
      ]
     },
     "execution_count": 12,
     "metadata": {},
     "output_type": "execute_result"
    }
   ],
   "source": [
    "s1.size"
   ]
  },
  {
   "cell_type": "code",
   "execution_count": 14,
   "id": "5c030455-afdb-441f-af41-c9a5120ff931",
   "metadata": {},
   "outputs": [
    {
     "data": {
      "text/plain": [
       "a    1\n",
       "b    2\n",
       "c    3\n",
       "dtype: int64"
      ]
     },
     "execution_count": 14,
     "metadata": {},
     "output_type": "execute_result"
    }
   ],
   "source": [
    " s0 = pd.Series([1,2,3], index = ['a','b','c'])\n",
    " s0"
   ]
  },
  {
   "cell_type": "code",
   "execution_count": 16,
   "id": "74fb1844-1653-4684-b74d-ebbec421a1c8",
   "metadata": {},
   "outputs": [
    {
     "data": {
      "text/plain": [
       "a    1\n",
       "b    2\n",
       "c    3\n",
       "d    4\n",
       "e    5\n",
       "dtype: int32"
      ]
     },
     "execution_count": 16,
     "metadata": {},
     "output_type": "execute_result"
    }
   ],
   "source": [
    "n =np.array(['a','b','c','d','e'])\n",
    "s1.index = n\n",
    "s1"
   ]
  },
  {
   "cell_type": "code",
   "execution_count": 18,
   "id": "e77a2a57-ce54-44d5-bf70-b29ac84d6c10",
   "metadata": {},
   "outputs": [
    {
     "data": {
      "text/plain": [
       "array([0.41345488, 0.36929281, 0.15942628, 0.13045786, 0.05158578,\n",
       "       0.11771942, 0.85979784, 0.97209954, 0.65209375, 0.40015992])"
      ]
     },
     "execution_count": 18,
     "metadata": {},
     "output_type": "execute_result"
    }
   ],
   "source": [
    "v =np.random.random(10)\n",
    "ind =np.arange(0,10)\n",
    "s =pd.Series(v,ind)\n",
    "v"
   ]
  },
  {
   "cell_type": "code",
   "execution_count": 20,
   "id": "ebc817e7-3212-49bb-9b2c-79e8625a8ebc",
   "metadata": {},
   "outputs": [
    {
     "data": {
      "text/plain": [
       "(array([0, 1, 2, 3, 4, 5, 6, 7, 8, 9]),\n",
       " array([0.41345488, 0.36929281, 0.15942628, 0.13045786, 0.05158578,\n",
       "        0.11771942, 0.85979784, 0.97209954, 0.65209375, 0.40015992]))"
      ]
     },
     "execution_count": 20,
     "metadata": {},
     "output_type": "execute_result"
    }
   ],
   "source": [
    "ind, v"
   ]
  },
  {
   "cell_type": "code",
   "execution_count": 22,
   "id": "f8e7451a-d918-4295-bb92-1302a8b1cc48",
   "metadata": {},
   "outputs": [
    {
     "data": {
      "text/plain": [
       "a1    10\n",
       "b1    20\n",
       "c1    40\n",
       "dtype: int64"
      ]
     },
     "execution_count": 22,
     "metadata": {},
     "output_type": "execute_result"
    }
   ],
   "source": [
    "dict ={'a1':10,'b1':20,'c1':30,'c1':40}\n",
    "s3 = pd.Series(dict)\n",
    "s3"
   ]
  },
  {
   "cell_type": "code",
   "execution_count": 24,
   "id": "906a303a-86bd-49b1-a3d0-655fc375fa7d",
   "metadata": {},
   "outputs": [
    {
     "data": {
      "text/plain": [
       "0    99\n",
       "1    99\n",
       "2    99\n",
       "3    99\n",
       "dtype: int64"
      ]
     },
     "execution_count": 24,
     "metadata": {},
     "output_type": "execute_result"
    }
   ],
   "source": [
    "pd.Series(99,index =[0,1,2,3])"
   ]
  },
  {
   "cell_type": "code",
   "execution_count": 26,
   "id": "1bd954f3-75c9-4604-a3ed-1df4c9800201",
   "metadata": {},
   "outputs": [],
   "source": [
    "# slicing series"
   ]
  },
  {
   "cell_type": "code",
   "execution_count": 28,
   "id": "471da559-42e5-496e-8dca-b5726bced756",
   "metadata": {},
   "outputs": [
    {
     "data": {
      "text/plain": [
       "0    0.413455\n",
       "1    0.369293\n",
       "2    0.159426\n",
       "3    0.130458\n",
       "4    0.051586\n",
       "5    0.117719\n",
       "6    0.859798\n",
       "7    0.972100\n",
       "8    0.652094\n",
       "9    0.400160\n",
       "dtype: float64"
      ]
     },
     "execution_count": 28,
     "metadata": {},
     "output_type": "execute_result"
    }
   ],
   "source": [
    "s"
   ]
  },
  {
   "cell_type": "code",
   "execution_count": 30,
   "id": "66303adf-b80b-4fe9-b990-1456d9c08d2b",
   "metadata": {},
   "outputs": [
    {
     "data": {
      "text/plain": [
       "0    0.413455\n",
       "1    0.369293\n",
       "2    0.159426\n",
       "3    0.130458\n",
       "4    0.051586\n",
       "5    0.117719\n",
       "6    0.859798\n",
       "7    0.972100\n",
       "8    0.652094\n",
       "9    0.400160\n",
       "dtype: float64"
      ]
     },
     "execution_count": 30,
     "metadata": {},
     "output_type": "execute_result"
    }
   ],
   "source": [
    "s[:]"
   ]
  },
  {
   "cell_type": "code",
   "execution_count": 32,
   "id": "ba71e657-a6fd-4f7d-a7b6-40991cb22636",
   "metadata": {},
   "outputs": [
    {
     "data": {
      "text/plain": [
       "0    0.413455\n",
       "1    0.369293\n",
       "2    0.159426\n",
       "dtype: float64"
      ]
     },
     "execution_count": 32,
     "metadata": {},
     "output_type": "execute_result"
    }
   ],
   "source": [
    "s[0:3]"
   ]
  },
  {
   "cell_type": "code",
   "execution_count": 34,
   "id": "069ec1da-e96f-4061-883b-d202fefd1d3c",
   "metadata": {},
   "outputs": [
    {
     "data": {
      "text/plain": [
       "9    0.40016\n",
       "dtype: float64"
      ]
     },
     "execution_count": 34,
     "metadata": {},
     "output_type": "execute_result"
    }
   ],
   "source": [
    "s[-1:]"
   ]
  },
  {
   "cell_type": "code",
   "execution_count": 36,
   "id": "544a3af0-dcfa-4475-92e1-0167a01450fd",
   "metadata": {},
   "outputs": [
    {
     "data": {
      "text/plain": [
       "0    0.413455\n",
       "1    0.369293\n",
       "2    0.159426\n",
       "3    0.130458\n",
       "4    0.051586\n",
       "5    0.117719\n",
       "6    0.859798\n",
       "7    0.972100\n",
       "dtype: float64"
      ]
     },
     "execution_count": 36,
     "metadata": {},
     "output_type": "execute_result"
    }
   ],
   "source": [
    "s[:-2]"
   ]
  },
  {
   "cell_type": "code",
   "execution_count": 38,
   "id": "8524e943-ea3d-41c1-8e5c-2ea65ce2efc6",
   "metadata": {},
   "outputs": [
    {
     "data": {
      "text/plain": [
       "0    0.413455\n",
       "1    0.369293\n",
       "2    0.159426\n",
       "3    0.130458\n",
       "4    0.051586\n",
       "5    0.117719\n",
       "6    0.859798\n",
       "7    0.972100\n",
       "8    0.652094\n",
       "dtype: float64"
      ]
     },
     "execution_count": 38,
     "metadata": {},
     "output_type": "execute_result"
    }
   ],
   "source": [
    "s[:-1]"
   ]
  },
  {
   "cell_type": "code",
   "execution_count": 40,
   "id": "52a9d078-184d-4c5d-a222-cd1fe9a51c6a",
   "metadata": {},
   "outputs": [
    {
     "data": {
      "text/plain": [
       "8    0.652094\n",
       "9    0.400160\n",
       "dtype: float64"
      ]
     },
     "execution_count": 40,
     "metadata": {},
     "output_type": "execute_result"
    }
   ],
   "source": [
    "s[-2:]"
   ]
  },
  {
   "cell_type": "code",
   "execution_count": 42,
   "id": "cf363edd-7c4d-4e8a-9b78-3a85f859e3ff",
   "metadata": {},
   "outputs": [
    {
     "data": {
      "text/plain": [
       "9    0.40016\n",
       "dtype: float64"
      ]
     },
     "execution_count": 42,
     "metadata": {},
     "output_type": "execute_result"
    }
   ],
   "source": [
    "s[-1:]"
   ]
  },
  {
   "cell_type": "code",
   "execution_count": 44,
   "id": "df0698da-ac23-47f8-a822-cadf351a036d",
   "metadata": {},
   "outputs": [
    {
     "data": {
      "text/plain": [
       "7    0.972100\n",
       "8    0.652094\n",
       "dtype: float64"
      ]
     },
     "execution_count": 44,
     "metadata": {},
     "output_type": "execute_result"
    }
   ],
   "source": [
    "s[-3:-1:]"
   ]
  },
  {
   "cell_type": "code",
   "execution_count": 46,
   "id": "753947f2-dc36-4c9b-b621-fe2790c405ab",
   "metadata": {},
   "outputs": [],
   "source": [
    "#append"
   ]
  },
  {
   "cell_type": "code",
   "execution_count": 48,
   "id": "0c65b0e9-3985-4053-9015-0d95b1e8b022",
   "metadata": {},
   "outputs": [
    {
     "data": {
      "text/plain": [
       "a    1\n",
       "b    2\n",
       "c    3\n",
       "d    4\n",
       "e    5\n",
       "dtype: int32"
      ]
     },
     "execution_count": 48,
     "metadata": {},
     "output_type": "execute_result"
    }
   ],
   "source": [
    "s2 = s1.copy()\n",
    "s2"
   ]
  },
  {
   "cell_type": "code",
   "execution_count": 50,
   "id": "8a3d8734-37ea-4b1f-83ef-432d66d526e7",
   "metadata": {},
   "outputs": [
    {
     "data": {
      "text/plain": [
       "a1    10\n",
       "b1    20\n",
       "c1    40\n",
       "dtype: int64"
      ]
     },
     "execution_count": 50,
     "metadata": {},
     "output_type": "execute_result"
    }
   ],
   "source": [
    "s3"
   ]
  },
  {
   "cell_type": "code",
   "execution_count": 52,
   "id": "4f995a46-1d7f-4c8e-84a3-f338fb2fd572",
   "metadata": {},
   "outputs": [
    {
     "ename": "AttributeError",
     "evalue": "'Series' object has no attribute 'append'",
     "output_type": "error",
     "traceback": [
      "\u001b[1;31m---------------------------------------------------------------------------\u001b[0m",
      "\u001b[1;31mAttributeError\u001b[0m                            Traceback (most recent call last)",
      "\u001b[1;32m~\\AppData\\Local\\Temp\\ipykernel_10732\\2452145136.py\u001b[0m in \u001b[0;36m?\u001b[1;34m()\u001b[0m\n\u001b[1;32m----> 1\u001b[1;33m \u001b[0ms4\u001b[0m \u001b[1;33m=\u001b[0m \u001b[0ms2\u001b[0m\u001b[1;33m.\u001b[0m\u001b[0mappend\u001b[0m\u001b[1;33m(\u001b[0m\u001b[0ms3\u001b[0m\u001b[1;33m)\u001b[0m\u001b[1;33m\u001b[0m\u001b[1;33m\u001b[0m\u001b[0m\n\u001b[0m\u001b[0;32m      2\u001b[0m \u001b[0ms4\u001b[0m\u001b[1;33m\u001b[0m\u001b[1;33m\u001b[0m\u001b[0m\n",
      "\u001b[1;32m~\\anaconda3\\Lib\\site-packages\\pandas\\core\\generic.py\u001b[0m in \u001b[0;36m?\u001b[1;34m(self, name)\u001b[0m\n\u001b[0;32m   6295\u001b[0m             \u001b[1;32mand\u001b[0m \u001b[0mname\u001b[0m \u001b[1;32mnot\u001b[0m \u001b[1;32min\u001b[0m \u001b[0mself\u001b[0m\u001b[1;33m.\u001b[0m\u001b[0m_accessors\u001b[0m\u001b[1;33m\u001b[0m\u001b[1;33m\u001b[0m\u001b[0m\n\u001b[0;32m   6296\u001b[0m             \u001b[1;32mand\u001b[0m \u001b[0mself\u001b[0m\u001b[1;33m.\u001b[0m\u001b[0m_info_axis\u001b[0m\u001b[1;33m.\u001b[0m\u001b[0m_can_hold_identifiers_and_holds_name\u001b[0m\u001b[1;33m(\u001b[0m\u001b[0mname\u001b[0m\u001b[1;33m)\u001b[0m\u001b[1;33m\u001b[0m\u001b[1;33m\u001b[0m\u001b[0m\n\u001b[0;32m   6297\u001b[0m         \u001b[1;33m)\u001b[0m\u001b[1;33m:\u001b[0m\u001b[1;33m\u001b[0m\u001b[1;33m\u001b[0m\u001b[0m\n\u001b[0;32m   6298\u001b[0m             \u001b[1;32mreturn\u001b[0m \u001b[0mself\u001b[0m\u001b[1;33m[\u001b[0m\u001b[0mname\u001b[0m\u001b[1;33m]\u001b[0m\u001b[1;33m\u001b[0m\u001b[1;33m\u001b[0m\u001b[0m\n\u001b[1;32m-> 6299\u001b[1;33m         \u001b[1;32mreturn\u001b[0m \u001b[0mobject\u001b[0m\u001b[1;33m.\u001b[0m\u001b[0m__getattribute__\u001b[0m\u001b[1;33m(\u001b[0m\u001b[0mself\u001b[0m\u001b[1;33m,\u001b[0m \u001b[0mname\u001b[0m\u001b[1;33m)\u001b[0m\u001b[1;33m\u001b[0m\u001b[1;33m\u001b[0m\u001b[0m\n\u001b[0m",
      "\u001b[1;31mAttributeError\u001b[0m: 'Series' object has no attribute 'append'"
     ]
    }
   ],
   "source": [
    "s4 = s2.append(s3)\n",
    "s4"
   ]
  },
  {
   "cell_type": "code",
   "execution_count": null,
   "id": "8945d518-d6f1-4c5f-8936-1a308667b7bd",
   "metadata": {},
   "outputs": [],
   "source": []
  },
  {
   "cell_type": "code",
   "execution_count": 55,
   "id": "19a63740-193c-490d-8465-336d65e539d9",
   "metadata": {},
   "outputs": [],
   "source": [
    "###operations on Series"
   ]
  },
  {
   "cell_type": "code",
   "execution_count": 57,
   "id": "82de9227-fb6a-4b80-a474-9178b7e12c3b",
   "metadata": {},
   "outputs": [
    {
     "data": {
      "text/plain": [
       "(0    10\n",
       " 1    20\n",
       " 2    30\n",
       " dtype: int32,\n",
       " 0    1\n",
       " 1    2\n",
       " 2    3\n",
       " dtype: int32)"
      ]
     },
     "execution_count": 57,
     "metadata": {},
     "output_type": "execute_result"
    }
   ],
   "source": [
    " v1 = np.array([10,20,30])\n",
    " v2 = np.array([1,2,3])\n",
    " s1 = pd.Series(v1)\n",
    " s2 = pd.Series(v2)\n",
    " s1, s2"
   ]
  },
  {
   "cell_type": "code",
   "execution_count": 59,
   "id": "2e90aca7-0ee6-4019-85e1-5f25e6b3db77",
   "metadata": {},
   "outputs": [
    {
     "data": {
      "text/plain": [
       "0    11\n",
       "1    22\n",
       "2    33\n",
       "dtype: int32"
      ]
     },
     "execution_count": 59,
     "metadata": {},
     "output_type": "execute_result"
    }
   ],
   "source": [
    "s1.add(s2)"
   ]
  },
  {
   "cell_type": "code",
   "execution_count": 61,
   "id": "1ae7ca35-2f4f-4a4e-a0fa-ca99caea20eb",
   "metadata": {},
   "outputs": [
    {
     "data": {
      "text/plain": [
       "0     9\n",
       "1    18\n",
       "2    27\n",
       "dtype: int32"
      ]
     },
     "execution_count": 61,
     "metadata": {},
     "output_type": "execute_result"
    }
   ],
   "source": [
    "s1.sub(s2)"
   ]
  },
  {
   "cell_type": "code",
   "execution_count": 63,
   "id": "a559f200-2653-4700-a55e-533c9a7d186a",
   "metadata": {},
   "outputs": [
    {
     "data": {
      "text/plain": [
       "0     9\n",
       "1    18\n",
       "2    27\n",
       "dtype: int32"
      ]
     },
     "execution_count": 63,
     "metadata": {},
     "output_type": "execute_result"
    }
   ],
   "source": [
    "s1.subtract(s2)"
   ]
  },
  {
   "cell_type": "code",
   "execution_count": 65,
   "id": "2e4ee90b-422d-484a-969c-01c78f80634f",
   "metadata": {},
   "outputs": [
    {
     "data": {
      "text/plain": [
       "0    19\n",
       "1    29\n",
       "2    39\n",
       "dtype: int32"
      ]
     },
     "execution_count": 65,
     "metadata": {},
     "output_type": "execute_result"
    }
   ],
   "source": [
    "s1.add(9)"
   ]
  },
  {
   "cell_type": "code",
   "execution_count": 67,
   "id": "92c76020-3c63-4e66-b6aa-a335274edc88",
   "metadata": {},
   "outputs": [
    {
     "data": {
      "text/plain": [
       "0    10\n",
       "1    40\n",
       "2    90\n",
       "dtype: int32"
      ]
     },
     "execution_count": 67,
     "metadata": {},
     "output_type": "execute_result"
    }
   ],
   "source": [
    "s1.mul(s2)"
   ]
  },
  {
   "cell_type": "code",
   "execution_count": 69,
   "id": "11006174-0156-4120-9a66-b75a5934c343",
   "metadata": {},
   "outputs": [
    {
     "data": {
      "text/plain": [
       "0    10\n",
       "1    40\n",
       "2    90\n",
       "dtype: int32"
      ]
     },
     "execution_count": 69,
     "metadata": {},
     "output_type": "execute_result"
    }
   ],
   "source": [
    "s1.multiply(s2)"
   ]
  },
  {
   "cell_type": "code",
   "execution_count": 71,
   "id": "a4b468b1-ff24-49d9-bee7-a1ec401200a7",
   "metadata": {},
   "outputs": [
    {
     "data": {
      "text/plain": [
       "0    10000\n",
       "1    20000\n",
       "2    30000\n",
       "dtype: int32"
      ]
     },
     "execution_count": 71,
     "metadata": {},
     "output_type": "execute_result"
    }
   ],
   "source": [
    "s1.mul(1000)"
   ]
  },
  {
   "cell_type": "code",
   "execution_count": 73,
   "id": "d70822f2-2dd5-44b8-9c12-9dd047c6a6a6",
   "metadata": {},
   "outputs": [
    {
     "data": {
      "text/plain": [
       "0    10.0\n",
       "1    10.0\n",
       "2    10.0\n",
       "dtype: float64"
      ]
     },
     "execution_count": 73,
     "metadata": {},
     "output_type": "execute_result"
    }
   ],
   "source": [
    "s1.divide(s2)"
   ]
  },
  {
   "cell_type": "code",
   "execution_count": 75,
   "id": "a6e2f873-04c0-41bd-973d-f422ba4f9a45",
   "metadata": {},
   "outputs": [
    {
     "data": {
      "text/plain": [
       "0    10.0\n",
       "1    10.0\n",
       "2    10.0\n",
       "dtype: float64"
      ]
     },
     "execution_count": 75,
     "metadata": {},
     "output_type": "execute_result"
    }
   ],
   "source": [
    "s1.div(s2)"
   ]
  },
  {
   "cell_type": "code",
   "execution_count": 77,
   "id": "911e9b88-9db6-4810-803d-3bd99529c640",
   "metadata": {},
   "outputs": [
    {
     "data": {
      "text/plain": [
       "30"
      ]
     },
     "execution_count": 77,
     "metadata": {},
     "output_type": "execute_result"
    }
   ],
   "source": [
    "s1.max()"
   ]
  },
  {
   "cell_type": "code",
   "execution_count": 79,
   "id": "54f50b49-94f2-440d-adff-a95c49d429bb",
   "metadata": {},
   "outputs": [
    {
     "data": {
      "text/plain": [
       "10"
      ]
     },
     "execution_count": 79,
     "metadata": {},
     "output_type": "execute_result"
    }
   ],
   "source": [
    "s1.min()"
   ]
  },
  {
   "cell_type": "code",
   "execution_count": 81,
   "id": "e5aea3a1-43d0-44d3-8583-3f2b189da845",
   "metadata": {},
   "outputs": [
    {
     "data": {
      "text/plain": [
       "20.0"
      ]
     },
     "execution_count": 81,
     "metadata": {},
     "output_type": "execute_result"
    }
   ],
   "source": [
    "s1.mean()"
   ]
  },
  {
   "cell_type": "code",
   "execution_count": 83,
   "id": "c4677981-2748-4b1a-8ba7-25f8489869b1",
   "metadata": {},
   "outputs": [
    {
     "data": {
      "text/plain": [
       "20.0"
      ]
     },
     "execution_count": 83,
     "metadata": {},
     "output_type": "execute_result"
    }
   ],
   "source": [
    "s1.median()"
   ]
  },
  {
   "cell_type": "code",
   "execution_count": 85,
   "id": "c0b1e8a6-d998-4cb3-8e7d-6208f0c1f3ae",
   "metadata": {},
   "outputs": [
    {
     "data": {
      "text/plain": [
       "10.0"
      ]
     },
     "execution_count": 85,
     "metadata": {},
     "output_type": "execute_result"
    }
   ],
   "source": [
    "s1.std()"
   ]
  },
  {
   "cell_type": "code",
   "execution_count": 87,
   "id": "609cef9f-58c0-4269-9dd8-893cf02d8413",
   "metadata": {},
   "outputs": [
    {
     "data": {
      "text/plain": [
       "False"
      ]
     },
     "execution_count": 87,
     "metadata": {},
     "output_type": "execute_result"
    }
   ],
   "source": [
    "s1.equals(s2)"
   ]
  },
  {
   "cell_type": "code",
   "execution_count": 89,
   "id": "324d40d0-8fab-4fbc-95e7-12e53e8a4ea5",
   "metadata": {},
   "outputs": [
    {
     "ename": "NameError",
     "evalue": "name 's4' is not defined",
     "output_type": "error",
     "traceback": [
      "\u001b[1;31m---------------------------------------------------------------------------\u001b[0m",
      "\u001b[1;31mNameError\u001b[0m                                 Traceback (most recent call last)",
      "Cell \u001b[1;32mIn[89], line 1\u001b[0m\n\u001b[1;32m----> 1\u001b[0m s1\u001b[38;5;241m.\u001b[39mequals(s4)\n",
      "\u001b[1;31mNameError\u001b[0m: name 's4' is not defined"
     ]
    }
   ],
   "source": [
    "s1.equals(s4)"
   ]
  },
  {
   "cell_type": "code",
   "execution_count": null,
   "id": "a341c11e-f740-44b0-a16a-22fbc447f995",
   "metadata": {},
   "outputs": [],
   "source": [
    "s5 = pd.Series([1,1,2,2,3,3], index = [0,1,2,3,4,5])\n",
    "s5"
   ]
  },
  {
   "cell_type": "code",
   "execution_count": 92,
   "id": "87156e6a-a60d-4831-85cc-8ac0084649b7",
   "metadata": {},
   "outputs": [],
   "source": [
    "##dataframe"
   ]
  },
  {
   "cell_type": "code",
   "execution_count": 94,
   "id": "c254f57d-d7da-40fb-98b6-dc8db59d9d0d",
   "metadata": {},
   "outputs": [
    {
     "data": {
      "text/html": [
       "<div>\n",
       "<style scoped>\n",
       "    .dataframe tbody tr th:only-of-type {\n",
       "        vertical-align: middle;\n",
       "    }\n",
       "\n",
       "    .dataframe tbody tr th {\n",
       "        vertical-align: top;\n",
       "    }\n",
       "\n",
       "    .dataframe thead th {\n",
       "        text-align: right;\n",
       "    }\n",
       "</style>\n",
       "<table border=\"1\" class=\"dataframe\">\n",
       "  <thead>\n",
       "    <tr style=\"text-align: right;\">\n",
       "      <th></th>\n",
       "    </tr>\n",
       "  </thead>\n",
       "  <tbody>\n",
       "  </tbody>\n",
       "</table>\n",
       "</div>"
      ],
      "text/plain": [
       "Empty DataFrame\n",
       "Columns: []\n",
       "Index: []"
      ]
     },
     "execution_count": 94,
     "metadata": {},
     "output_type": "execute_result"
    }
   ],
   "source": [
    "df =pd.DataFrame()\n",
    "df"
   ]
  },
  {
   "cell_type": "code",
   "execution_count": 96,
   "id": "bac9383b-9d7a-4882-a128-f2e14465e863",
   "metadata": {},
   "outputs": [
    {
     "data": {
      "text/html": [
       "<div>\n",
       "<style scoped>\n",
       "    .dataframe tbody tr th:only-of-type {\n",
       "        vertical-align: middle;\n",
       "    }\n",
       "\n",
       "    .dataframe tbody tr th {\n",
       "        vertical-align: top;\n",
       "    }\n",
       "\n",
       "    .dataframe thead th {\n",
       "        text-align: right;\n",
       "    }\n",
       "</style>\n",
       "<table border=\"1\" class=\"dataframe\">\n",
       "  <thead>\n",
       "    <tr style=\"text-align: right;\">\n",
       "      <th></th>\n",
       "      <th>0</th>\n",
       "    </tr>\n",
       "  </thead>\n",
       "  <tbody>\n",
       "    <tr>\n",
       "      <th>0</th>\n",
       "      <td>java</td>\n",
       "    </tr>\n",
       "    <tr>\n",
       "      <th>1</th>\n",
       "      <td>python</td>\n",
       "    </tr>\n",
       "    <tr>\n",
       "      <th>2</th>\n",
       "      <td>c</td>\n",
       "    </tr>\n",
       "    <tr>\n",
       "      <th>3</th>\n",
       "      <td>c++</td>\n",
       "    </tr>\n",
       "  </tbody>\n",
       "</table>\n",
       "</div>"
      ],
      "text/plain": [
       "        0\n",
       "0    java\n",
       "1  python\n",
       "2       c\n",
       "3     c++"
      ]
     },
     "execution_count": 96,
     "metadata": {},
     "output_type": "execute_result"
    }
   ],
   "source": [
    "lang =['java','python','c','c++']\n",
    "df = pd.DataFrame(lang)\n",
    "df"
   ]
  },
  {
   "cell_type": "code",
   "execution_count": 98,
   "id": "eb037e1d-e8c5-4583-bf63-ca5901c4ea3a",
   "metadata": {},
   "outputs": [
    {
     "data": {
      "text/html": [
       "<div>\n",
       "<style scoped>\n",
       "    .dataframe tbody tr th:only-of-type {\n",
       "        vertical-align: middle;\n",
       "    }\n",
       "\n",
       "    .dataframe tbody tr th {\n",
       "        vertical-align: top;\n",
       "    }\n",
       "\n",
       "    .dataframe thead th {\n",
       "        text-align: right;\n",
       "    }\n",
       "</style>\n",
       "<table border=\"1\" class=\"dataframe\">\n",
       "  <thead>\n",
       "    <tr style=\"text-align: right;\">\n",
       "      <th></th>\n",
       "      <th>0</th>\n",
       "      <th>1</th>\n",
       "    </tr>\n",
       "  </thead>\n",
       "  <tbody>\n",
       "    <tr>\n",
       "      <th>0</th>\n",
       "      <td>java</td>\n",
       "      <td>1</td>\n",
       "    </tr>\n",
       "    <tr>\n",
       "      <th>1</th>\n",
       "      <td>python</td>\n",
       "      <td>2</td>\n",
       "    </tr>\n",
       "    <tr>\n",
       "      <th>2</th>\n",
       "      <td>c</td>\n",
       "      <td>3</td>\n",
       "    </tr>\n",
       "    <tr>\n",
       "      <th>3</th>\n",
       "      <td>c++</td>\n",
       "      <td>4</td>\n",
       "    </tr>\n",
       "  </tbody>\n",
       "</table>\n",
       "</div>"
      ],
      "text/plain": [
       "        0  1\n",
       "0    java  1\n",
       "1  python  2\n",
       "2       c  3\n",
       "3     c++  4"
      ]
     },
     "execution_count": 98,
     "metadata": {},
     "output_type": "execute_result"
    }
   ],
   "source": [
    "rating =[1,2,3,4]\n",
    "df[1] = rating\n",
    "df"
   ]
  },
  {
   "cell_type": "code",
   "execution_count": 100,
   "id": "fd611982-2186-484e-ae48-a072cd86ab10",
   "metadata": {},
   "outputs": [],
   "source": [
    "df.columns =['lang','Rating']"
   ]
  },
  {
   "cell_type": "code",
   "execution_count": 102,
   "id": "c7262bf7-6d2e-4d6b-9a7e-223dd4a4ec08",
   "metadata": {},
   "outputs": [
    {
     "data": {
      "text/html": [
       "<div>\n",
       "<style scoped>\n",
       "    .dataframe tbody tr th:only-of-type {\n",
       "        vertical-align: middle;\n",
       "    }\n",
       "\n",
       "    .dataframe tbody tr th {\n",
       "        vertical-align: top;\n",
       "    }\n",
       "\n",
       "    .dataframe thead th {\n",
       "        text-align: right;\n",
       "    }\n",
       "</style>\n",
       "<table border=\"1\" class=\"dataframe\">\n",
       "  <thead>\n",
       "    <tr style=\"text-align: right;\">\n",
       "      <th></th>\n",
       "      <th>lang</th>\n",
       "      <th>Rating</th>\n",
       "    </tr>\n",
       "  </thead>\n",
       "  <tbody>\n",
       "    <tr>\n",
       "      <th>0</th>\n",
       "      <td>java</td>\n",
       "      <td>1</td>\n",
       "    </tr>\n",
       "    <tr>\n",
       "      <th>1</th>\n",
       "      <td>python</td>\n",
       "      <td>2</td>\n",
       "    </tr>\n",
       "    <tr>\n",
       "      <th>2</th>\n",
       "      <td>c</td>\n",
       "      <td>3</td>\n",
       "    </tr>\n",
       "    <tr>\n",
       "      <th>3</th>\n",
       "      <td>c++</td>\n",
       "      <td>4</td>\n",
       "    </tr>\n",
       "  </tbody>\n",
       "</table>\n",
       "</div>"
      ],
      "text/plain": [
       "     lang  Rating\n",
       "0    java       1\n",
       "1  python       2\n",
       "2       c       3\n",
       "3     c++       4"
      ]
     },
     "execution_count": 102,
     "metadata": {},
     "output_type": "execute_result"
    }
   ],
   "source": [
    "df"
   ]
  },
  {
   "cell_type": "code",
   "execution_count": 104,
   "id": "5e9d2c45-c3a8-4050-b7c0-9a13fd0459e0",
   "metadata": {},
   "outputs": [],
   "source": [
    " data = [{'a':1, 'b':2}, {'a':5, 'b':10, 'c':20}]\n",
    " df2 = pd.DataFrame(data)\n",
    " df3 = pd.DataFrame(data, index=['row1', 'row2'], columns = ['a','b'])\n",
    " df4 = pd.DataFrame(data, index=['row1', 'row2'], columns = ['a','b','c'])\n",
    " df5 = pd.DataFrame(data, index=['row1', 'row2'], columns = ['a','b','c','d'])"
   ]
  },
  {
   "cell_type": "code",
   "execution_count": 106,
   "id": "d7c1c83a-64e0-4169-9e3d-0ac507981477",
   "metadata": {},
   "outputs": [
    {
     "data": {
      "text/html": [
       "<div>\n",
       "<style scoped>\n",
       "    .dataframe tbody tr th:only-of-type {\n",
       "        vertical-align: middle;\n",
       "    }\n",
       "\n",
       "    .dataframe tbody tr th {\n",
       "        vertical-align: top;\n",
       "    }\n",
       "\n",
       "    .dataframe thead th {\n",
       "        text-align: right;\n",
       "    }\n",
       "</style>\n",
       "<table border=\"1\" class=\"dataframe\">\n",
       "  <thead>\n",
       "    <tr style=\"text-align: right;\">\n",
       "      <th></th>\n",
       "      <th>a</th>\n",
       "      <th>b</th>\n",
       "      <th>c</th>\n",
       "    </tr>\n",
       "  </thead>\n",
       "  <tbody>\n",
       "    <tr>\n",
       "      <th>0</th>\n",
       "      <td>1</td>\n",
       "      <td>2</td>\n",
       "      <td>NaN</td>\n",
       "    </tr>\n",
       "    <tr>\n",
       "      <th>1</th>\n",
       "      <td>5</td>\n",
       "      <td>10</td>\n",
       "      <td>20.0</td>\n",
       "    </tr>\n",
       "  </tbody>\n",
       "</table>\n",
       "</div>"
      ],
      "text/plain": [
       "   a   b     c\n",
       "0  1   2   NaN\n",
       "1  5  10  20.0"
      ]
     },
     "execution_count": 106,
     "metadata": {},
     "output_type": "execute_result"
    }
   ],
   "source": [
    "df2"
   ]
  },
  {
   "cell_type": "code",
   "execution_count": 108,
   "id": "141eeda3-07b0-431c-83f1-e8c5aa5f3a05",
   "metadata": {},
   "outputs": [
    {
     "data": {
      "text/html": [
       "<div>\n",
       "<style scoped>\n",
       "    .dataframe tbody tr th:only-of-type {\n",
       "        vertical-align: middle;\n",
       "    }\n",
       "\n",
       "    .dataframe tbody tr th {\n",
       "        vertical-align: top;\n",
       "    }\n",
       "\n",
       "    .dataframe thead th {\n",
       "        text-align: right;\n",
       "    }\n",
       "</style>\n",
       "<table border=\"1\" class=\"dataframe\">\n",
       "  <thead>\n",
       "    <tr style=\"text-align: right;\">\n",
       "      <th></th>\n",
       "      <th>a</th>\n",
       "      <th>b</th>\n",
       "    </tr>\n",
       "  </thead>\n",
       "  <tbody>\n",
       "    <tr>\n",
       "      <th>row1</th>\n",
       "      <td>1</td>\n",
       "      <td>2</td>\n",
       "    </tr>\n",
       "    <tr>\n",
       "      <th>row2</th>\n",
       "      <td>5</td>\n",
       "      <td>10</td>\n",
       "    </tr>\n",
       "  </tbody>\n",
       "</table>\n",
       "</div>"
      ],
      "text/plain": [
       "      a   b\n",
       "row1  1   2\n",
       "row2  5  10"
      ]
     },
     "execution_count": 108,
     "metadata": {},
     "output_type": "execute_result"
    }
   ],
   "source": [
    "df3"
   ]
  },
  {
   "cell_type": "code",
   "execution_count": 110,
   "id": "4f3465e2-d28c-47a4-831a-28a74528c9b4",
   "metadata": {},
   "outputs": [
    {
     "data": {
      "text/html": [
       "<div>\n",
       "<style scoped>\n",
       "    .dataframe tbody tr th:only-of-type {\n",
       "        vertical-align: middle;\n",
       "    }\n",
       "\n",
       "    .dataframe tbody tr th {\n",
       "        vertical-align: top;\n",
       "    }\n",
       "\n",
       "    .dataframe thead th {\n",
       "        text-align: right;\n",
       "    }\n",
       "</style>\n",
       "<table border=\"1\" class=\"dataframe\">\n",
       "  <thead>\n",
       "    <tr style=\"text-align: right;\">\n",
       "      <th></th>\n",
       "      <th>a</th>\n",
       "      <th>b</th>\n",
       "      <th>c</th>\n",
       "    </tr>\n",
       "  </thead>\n",
       "  <tbody>\n",
       "    <tr>\n",
       "      <th>row1</th>\n",
       "      <td>1</td>\n",
       "      <td>2</td>\n",
       "      <td>NaN</td>\n",
       "    </tr>\n",
       "    <tr>\n",
       "      <th>row2</th>\n",
       "      <td>5</td>\n",
       "      <td>10</td>\n",
       "      <td>20.0</td>\n",
       "    </tr>\n",
       "  </tbody>\n",
       "</table>\n",
       "</div>"
      ],
      "text/plain": [
       "      a   b     c\n",
       "row1  1   2   NaN\n",
       "row2  5  10  20.0"
      ]
     },
     "execution_count": 110,
     "metadata": {},
     "output_type": "execute_result"
    }
   ],
   "source": [
    "df4"
   ]
  },
  {
   "cell_type": "code",
   "execution_count": 112,
   "id": "725c9334-e28a-4d26-8081-60f9a66270cb",
   "metadata": {},
   "outputs": [
    {
     "data": {
      "text/html": [
       "<div>\n",
       "<style scoped>\n",
       "    .dataframe tbody tr th:only-of-type {\n",
       "        vertical-align: middle;\n",
       "    }\n",
       "\n",
       "    .dataframe tbody tr th {\n",
       "        vertical-align: top;\n",
       "    }\n",
       "\n",
       "    .dataframe thead th {\n",
       "        text-align: right;\n",
       "    }\n",
       "</style>\n",
       "<table border=\"1\" class=\"dataframe\">\n",
       "  <thead>\n",
       "    <tr style=\"text-align: right;\">\n",
       "      <th></th>\n",
       "      <th>a</th>\n",
       "      <th>b</th>\n",
       "      <th>c</th>\n",
       "      <th>d</th>\n",
       "    </tr>\n",
       "  </thead>\n",
       "  <tbody>\n",
       "    <tr>\n",
       "      <th>row1</th>\n",
       "      <td>1</td>\n",
       "      <td>2</td>\n",
       "      <td>NaN</td>\n",
       "      <td>NaN</td>\n",
       "    </tr>\n",
       "    <tr>\n",
       "      <th>row2</th>\n",
       "      <td>5</td>\n",
       "      <td>10</td>\n",
       "      <td>20.0</td>\n",
       "      <td>NaN</td>\n",
       "    </tr>\n",
       "  </tbody>\n",
       "</table>\n",
       "</div>"
      ],
      "text/plain": [
       "      a   b     c   d\n",
       "row1  1   2   NaN NaN\n",
       "row2  5  10  20.0 NaN"
      ]
     },
     "execution_count": 112,
     "metadata": {},
     "output_type": "execute_result"
    }
   ],
   "source": [
    "df5"
   ]
  },
  {
   "cell_type": "code",
   "execution_count": 114,
   "id": "a19c5d08-5bda-4c80-aae4-f4b776d9c33f",
   "metadata": {},
   "outputs": [
    {
     "data": {
      "text/html": [
       "<div>\n",
       "<style scoped>\n",
       "    .dataframe tbody tr th:only-of-type {\n",
       "        vertical-align: middle;\n",
       "    }\n",
       "\n",
       "    .dataframe tbody tr th {\n",
       "        vertical-align: top;\n",
       "    }\n",
       "\n",
       "    .dataframe thead th {\n",
       "        text-align: right;\n",
       "    }\n",
       "</style>\n",
       "<table border=\"1\" class=\"dataframe\">\n",
       "  <thead>\n",
       "    <tr style=\"text-align: right;\">\n",
       "      <th></th>\n",
       "      <th>ID</th>\n",
       "      <th>Name</th>\n",
       "    </tr>\n",
       "  </thead>\n",
       "  <tbody>\n",
       "    <tr>\n",
       "      <th>0</th>\n",
       "      <td>1</td>\n",
       "      <td>Aryan</td>\n",
       "    </tr>\n",
       "    <tr>\n",
       "      <th>1</th>\n",
       "      <td>2</td>\n",
       "      <td>Nayan</td>\n",
       "    </tr>\n",
       "    <tr>\n",
       "      <th>2</th>\n",
       "      <td>3</td>\n",
       "      <td>John</td>\n",
       "    </tr>\n",
       "    <tr>\n",
       "      <th>3</th>\n",
       "      <td>4</td>\n",
       "      <td>Rose</td>\n",
       "    </tr>\n",
       "  </tbody>\n",
       "</table>\n",
       "</div>"
      ],
      "text/plain": [
       "   ID   Name\n",
       "0   1  Aryan\n",
       "1   2  Nayan\n",
       "2   3   John\n",
       "3   4   Rose"
      ]
     },
     "execution_count": 114,
     "metadata": {},
     "output_type": "execute_result"
    }
   ],
   "source": [
    "l1 = pd.DataFrame({'ID' :[1,2,3,4], 'Name' :['Aryan','Nayan','John','Rose']})\n",
    "l1"
   ]
  },
  {
   "cell_type": "code",
   "execution_count": 116,
   "id": "f4c801ea-9852-4f35-99b3-83074c72d9b5",
   "metadata": {},
   "outputs": [
    {
     "data": {
      "text/html": [
       "<div>\n",
       "<style scoped>\n",
       "    .dataframe tbody tr th:only-of-type {\n",
       "        vertical-align: middle;\n",
       "    }\n",
       "\n",
       "    .dataframe tbody tr th {\n",
       "        vertical-align: top;\n",
       "    }\n",
       "\n",
       "    .dataframe thead th {\n",
       "        text-align: right;\n",
       "    }\n",
       "</style>\n",
       "<table border=\"1\" class=\"dataframe\">\n",
       "  <thead>\n",
       "    <tr style=\"text-align: right;\">\n",
       "      <th></th>\n",
       "      <th>A</th>\n",
       "      <th>B</th>\n",
       "    </tr>\n",
       "  </thead>\n",
       "  <tbody>\n",
       "    <tr>\n",
       "      <th>a</th>\n",
       "      <td>1.0</td>\n",
       "      <td>1</td>\n",
       "    </tr>\n",
       "    <tr>\n",
       "      <th>b</th>\n",
       "      <td>2.0</td>\n",
       "      <td>2</td>\n",
       "    </tr>\n",
       "    <tr>\n",
       "      <th>c</th>\n",
       "      <td>3.0</td>\n",
       "      <td>3</td>\n",
       "    </tr>\n",
       "    <tr>\n",
       "      <th>d</th>\n",
       "      <td>NaN</td>\n",
       "      <td>4</td>\n",
       "    </tr>\n",
       "  </tbody>\n",
       "</table>\n",
       "</div>"
      ],
      "text/plain": [
       "     A  B\n",
       "a  1.0  1\n",
       "b  2.0  2\n",
       "c  3.0  3\n",
       "d  NaN  4"
      ]
     },
     "execution_count": 116,
     "metadata": {},
     "output_type": "execute_result"
    }
   ],
   "source": [
    "dict ={'A': pd.Series([1,2,3], index =['a','b','c']),\n",
    "       'B': pd.Series([1,2,3,4], index =['a','b','c','d'])}\n",
    "df1 = pd.DataFrame(dict)\n",
    "df1"
   ]
  },
  {
   "cell_type": "code",
   "execution_count": 118,
   "id": "2c0bc3b0-1d39-4c70-ac6a-a690062a6642",
   "metadata": {},
   "outputs": [
    {
     "data": {
      "text/plain": [
       "DatetimeIndex(['2020-01-20', '2020-01-21', '2020-01-22', '2020-01-23',\n",
       "               '2020-01-24', '2020-01-25', '2020-01-26'],\n",
       "              dtype='datetime64[ns]', freq='D')"
      ]
     },
     "execution_count": 118,
     "metadata": {},
     "output_type": "execute_result"
    }
   ],
   "source": [
    " dates = pd.date_range(start='2020-01-20', end='2020-01-26')\n",
    " dates"
   ]
  },
  {
   "cell_type": "code",
   "execution_count": 120,
   "id": "6ccd107a-3645-4368-bae5-aa9e40bcfb71",
   "metadata": {},
   "outputs": [
    {
     "data": {
      "text/plain": [
       "DatetimeIndex(['2024-11-27 10:01:56.426491', '2024-11-28 10:01:56.426491',\n",
       "               '2024-11-29 10:01:56.426491', '2024-11-30 10:01:56.426491',\n",
       "               '2024-12-01 10:01:56.426491'],\n",
       "              dtype='datetime64[ns]', freq='D')"
      ]
     },
     "execution_count": 120,
     "metadata": {},
     "output_type": "execute_result"
    }
   ],
   "source": [
    "dates = pd.date_range('today',periods= 5)\n",
    "dates"
   ]
  },
  {
   "cell_type": "code",
   "execution_count": 122,
   "id": "b3260195-e136-428a-8e93-69a6301f5f4d",
   "metadata": {},
   "outputs": [
    {
     "data": {
      "text/plain": [
       "array([[0.90278747, 0.5039485 , 0.37880351, 0.31396613, 0.49939102,\n",
       "        0.71735797, 0.21657868],\n",
       "       [0.06001909, 0.28669605, 0.2899123 , 0.01648945, 0.47593275,\n",
       "        0.9320801 , 0.53578259],\n",
       "       [0.33116134, 0.88046025, 0.3556165 , 0.16676426, 0.96404404,\n",
       "        0.31577449, 0.92743415],\n",
       "       [0.23211626, 0.03264082, 0.64865572, 0.03881343, 0.804549  ,\n",
       "        0.4373846 , 0.20946235],\n",
       "       [0.04090012, 0.23739791, 0.01603334, 0.48065898, 0.87475787,\n",
       "        0.51403638, 0.10777715]])"
      ]
     },
     "execution_count": 122,
     "metadata": {},
     "output_type": "execute_result"
    }
   ],
   "source": [
    "M = np.random.random((5,7))\n",
    "M"
   ]
  },
  {
   "cell_type": "code",
   "execution_count": 124,
   "id": "a68ff954-906d-407e-9e7a-15aa51f466fe",
   "metadata": {},
   "outputs": [
    {
     "data": {
      "text/html": [
       "<div>\n",
       "<style scoped>\n",
       "    .dataframe tbody tr th:only-of-type {\n",
       "        vertical-align: middle;\n",
       "    }\n",
       "\n",
       "    .dataframe tbody tr th {\n",
       "        vertical-align: top;\n",
       "    }\n",
       "\n",
       "    .dataframe thead th {\n",
       "        text-align: right;\n",
       "    }\n",
       "</style>\n",
       "<table border=\"1\" class=\"dataframe\">\n",
       "  <thead>\n",
       "    <tr style=\"text-align: right;\">\n",
       "      <th></th>\n",
       "      <th>0</th>\n",
       "      <th>1</th>\n",
       "      <th>2</th>\n",
       "      <th>3</th>\n",
       "      <th>4</th>\n",
       "      <th>5</th>\n",
       "      <th>6</th>\n",
       "    </tr>\n",
       "  </thead>\n",
       "  <tbody>\n",
       "    <tr>\n",
       "      <th>2024-11-27 10:01:56.426491</th>\n",
       "      <td>0.902787</td>\n",
       "      <td>0.503948</td>\n",
       "      <td>0.378804</td>\n",
       "      <td>0.313966</td>\n",
       "      <td>0.499391</td>\n",
       "      <td>0.717358</td>\n",
       "      <td>0.216579</td>\n",
       "    </tr>\n",
       "    <tr>\n",
       "      <th>2024-11-28 10:01:56.426491</th>\n",
       "      <td>0.060019</td>\n",
       "      <td>0.286696</td>\n",
       "      <td>0.289912</td>\n",
       "      <td>0.016489</td>\n",
       "      <td>0.475933</td>\n",
       "      <td>0.932080</td>\n",
       "      <td>0.535783</td>\n",
       "    </tr>\n",
       "    <tr>\n",
       "      <th>2024-11-29 10:01:56.426491</th>\n",
       "      <td>0.331161</td>\n",
       "      <td>0.880460</td>\n",
       "      <td>0.355617</td>\n",
       "      <td>0.166764</td>\n",
       "      <td>0.964044</td>\n",
       "      <td>0.315774</td>\n",
       "      <td>0.927434</td>\n",
       "    </tr>\n",
       "    <tr>\n",
       "      <th>2024-11-30 10:01:56.426491</th>\n",
       "      <td>0.232116</td>\n",
       "      <td>0.032641</td>\n",
       "      <td>0.648656</td>\n",
       "      <td>0.038813</td>\n",
       "      <td>0.804549</td>\n",
       "      <td>0.437385</td>\n",
       "      <td>0.209462</td>\n",
       "    </tr>\n",
       "    <tr>\n",
       "      <th>2024-12-01 10:01:56.426491</th>\n",
       "      <td>0.040900</td>\n",
       "      <td>0.237398</td>\n",
       "      <td>0.016033</td>\n",
       "      <td>0.480659</td>\n",
       "      <td>0.874758</td>\n",
       "      <td>0.514036</td>\n",
       "      <td>0.107777</td>\n",
       "    </tr>\n",
       "  </tbody>\n",
       "</table>\n",
       "</div>"
      ],
      "text/plain": [
       "                                   0         1         2         3         4  \\\n",
       "2024-11-27 10:01:56.426491  0.902787  0.503948  0.378804  0.313966  0.499391   \n",
       "2024-11-28 10:01:56.426491  0.060019  0.286696  0.289912  0.016489  0.475933   \n",
       "2024-11-29 10:01:56.426491  0.331161  0.880460  0.355617  0.166764  0.964044   \n",
       "2024-11-30 10:01:56.426491  0.232116  0.032641  0.648656  0.038813  0.804549   \n",
       "2024-12-01 10:01:56.426491  0.040900  0.237398  0.016033  0.480659  0.874758   \n",
       "\n",
       "                                   5         6  \n",
       "2024-11-27 10:01:56.426491  0.717358  0.216579  \n",
       "2024-11-28 10:01:56.426491  0.932080  0.535783  \n",
       "2024-11-29 10:01:56.426491  0.315774  0.927434  \n",
       "2024-11-30 10:01:56.426491  0.437385  0.209462  \n",
       "2024-12-01 10:01:56.426491  0.514036  0.107777  "
      ]
     },
     "execution_count": 124,
     "metadata": {},
     "output_type": "execute_result"
    }
   ],
   "source": [
    "dframe= pd.DataFrame(M, index= dates)\n",
    "dframe"
   ]
  },
  {
   "cell_type": "code",
   "execution_count": 126,
   "id": "6189afd3-d567-418e-b2b9-4024665af944",
   "metadata": {},
   "outputs": [
    {
     "data": {
      "text/html": [
       "<div>\n",
       "<style scoped>\n",
       "    .dataframe tbody tr th:only-of-type {\n",
       "        vertical-align: middle;\n",
       "    }\n",
       "\n",
       "    .dataframe tbody tr th {\n",
       "        vertical-align: top;\n",
       "    }\n",
       "\n",
       "    .dataframe thead th {\n",
       "        text-align: right;\n",
       "    }\n",
       "</style>\n",
       "<table border=\"1\" class=\"dataframe\">\n",
       "  <thead>\n",
       "    <tr style=\"text-align: right;\">\n",
       "      <th></th>\n",
       "      <th>p</th>\n",
       "      <th>d</th>\n",
       "      <th>f</th>\n",
       "      <th>r</th>\n",
       "      <th>i</th>\n",
       "      <th>g</th>\n",
       "      <th>h</th>\n",
       "    </tr>\n",
       "  </thead>\n",
       "  <tbody>\n",
       "    <tr>\n",
       "      <th>2024-11-27 10:01:56.426491</th>\n",
       "      <td>0.902787</td>\n",
       "      <td>0.503948</td>\n",
       "      <td>0.378804</td>\n",
       "      <td>0.313966</td>\n",
       "      <td>0.499391</td>\n",
       "      <td>0.717358</td>\n",
       "      <td>0.216579</td>\n",
       "    </tr>\n",
       "    <tr>\n",
       "      <th>2024-11-28 10:01:56.426491</th>\n",
       "      <td>0.060019</td>\n",
       "      <td>0.286696</td>\n",
       "      <td>0.289912</td>\n",
       "      <td>0.016489</td>\n",
       "      <td>0.475933</td>\n",
       "      <td>0.932080</td>\n",
       "      <td>0.535783</td>\n",
       "    </tr>\n",
       "    <tr>\n",
       "      <th>2024-11-29 10:01:56.426491</th>\n",
       "      <td>0.331161</td>\n",
       "      <td>0.880460</td>\n",
       "      <td>0.355617</td>\n",
       "      <td>0.166764</td>\n",
       "      <td>0.964044</td>\n",
       "      <td>0.315774</td>\n",
       "      <td>0.927434</td>\n",
       "    </tr>\n",
       "    <tr>\n",
       "      <th>2024-11-30 10:01:56.426491</th>\n",
       "      <td>0.232116</td>\n",
       "      <td>0.032641</td>\n",
       "      <td>0.648656</td>\n",
       "      <td>0.038813</td>\n",
       "      <td>0.804549</td>\n",
       "      <td>0.437385</td>\n",
       "      <td>0.209462</td>\n",
       "    </tr>\n",
       "    <tr>\n",
       "      <th>2024-12-01 10:01:56.426491</th>\n",
       "      <td>0.040900</td>\n",
       "      <td>0.237398</td>\n",
       "      <td>0.016033</td>\n",
       "      <td>0.480659</td>\n",
       "      <td>0.874758</td>\n",
       "      <td>0.514036</td>\n",
       "      <td>0.107777</td>\n",
       "    </tr>\n",
       "  </tbody>\n",
       "</table>\n",
       "</div>"
      ],
      "text/plain": [
       "                                   p         d         f         r         i  \\\n",
       "2024-11-27 10:01:56.426491  0.902787  0.503948  0.378804  0.313966  0.499391   \n",
       "2024-11-28 10:01:56.426491  0.060019  0.286696  0.289912  0.016489  0.475933   \n",
       "2024-11-29 10:01:56.426491  0.331161  0.880460  0.355617  0.166764  0.964044   \n",
       "2024-11-30 10:01:56.426491  0.232116  0.032641  0.648656  0.038813  0.804549   \n",
       "2024-12-01 10:01:56.426491  0.040900  0.237398  0.016033  0.480659  0.874758   \n",
       "\n",
       "                                   g         h  \n",
       "2024-11-27 10:01:56.426491  0.717358  0.216579  \n",
       "2024-11-28 10:01:56.426491  0.932080  0.535783  \n",
       "2024-11-29 10:01:56.426491  0.315774  0.927434  \n",
       "2024-11-30 10:01:56.426491  0.437385  0.209462  \n",
       "2024-12-01 10:01:56.426491  0.514036  0.107777  "
      ]
     },
     "execution_count": 126,
     "metadata": {},
     "output_type": "execute_result"
    }
   ],
   "source": [
    "dframe.columns =['p','d','f','r','i','g','h']\n",
    "dframe"
   ]
  },
  {
   "cell_type": "code",
   "execution_count": 128,
   "id": "f3f195df-cc8c-4a25-bf26-5d58aa8c2eae",
   "metadata": {},
   "outputs": [
    {
     "data": {
      "text/plain": [
       "DatetimeIndex(['2024-11-27 10:01:56.426491', '2024-11-28 10:01:56.426491',\n",
       "               '2024-11-29 10:01:56.426491', '2024-11-30 10:01:56.426491',\n",
       "               '2024-12-01 10:01:56.426491'],\n",
       "              dtype='datetime64[ns]', freq='D')"
      ]
     },
     "execution_count": 128,
     "metadata": {},
     "output_type": "execute_result"
    }
   ],
   "source": [
    "dframe.index"
   ]
  },
  {
   "cell_type": "code",
   "execution_count": 130,
   "id": "d25b6f85-877e-4839-94bb-6d4b142d6f5b",
   "metadata": {},
   "outputs": [
    {
     "data": {
      "text/plain": [
       "p    float64\n",
       "d    float64\n",
       "f    float64\n",
       "r    float64\n",
       "i    float64\n",
       "g    float64\n",
       "h    float64\n",
       "dtype: object"
      ]
     },
     "execution_count": 130,
     "metadata": {},
     "output_type": "execute_result"
    }
   ],
   "source": [
    "dframe.dtypes"
   ]
  },
  {
   "cell_type": "code",
   "execution_count": 132,
   "id": "81b451ef-a176-4480-b36b-f037a660860b",
   "metadata": {},
   "outputs": [
    {
     "data": {
      "text/html": [
       "<div>\n",
       "<style scoped>\n",
       "    .dataframe tbody tr th:only-of-type {\n",
       "        vertical-align: middle;\n",
       "    }\n",
       "\n",
       "    .dataframe tbody tr th {\n",
       "        vertical-align: top;\n",
       "    }\n",
       "\n",
       "    .dataframe thead th {\n",
       "        text-align: right;\n",
       "    }\n",
       "</style>\n",
       "<table border=\"1\" class=\"dataframe\">\n",
       "  <thead>\n",
       "    <tr style=\"text-align: right;\">\n",
       "      <th></th>\n",
       "      <th>p</th>\n",
       "      <th>d</th>\n",
       "      <th>f</th>\n",
       "      <th>r</th>\n",
       "      <th>i</th>\n",
       "      <th>g</th>\n",
       "      <th>h</th>\n",
       "    </tr>\n",
       "  </thead>\n",
       "  <tbody>\n",
       "    <tr>\n",
       "      <th>2024-11-27 10:01:56.426491</th>\n",
       "      <td>0.902787</td>\n",
       "      <td>0.503948</td>\n",
       "      <td>0.378804</td>\n",
       "      <td>0.313966</td>\n",
       "      <td>0.499391</td>\n",
       "      <td>0.717358</td>\n",
       "      <td>0.216579</td>\n",
       "    </tr>\n",
       "    <tr>\n",
       "      <th>2024-11-29 10:01:56.426491</th>\n",
       "      <td>0.331161</td>\n",
       "      <td>0.880460</td>\n",
       "      <td>0.355617</td>\n",
       "      <td>0.166764</td>\n",
       "      <td>0.964044</td>\n",
       "      <td>0.315774</td>\n",
       "      <td>0.927434</td>\n",
       "    </tr>\n",
       "    <tr>\n",
       "      <th>2024-11-30 10:01:56.426491</th>\n",
       "      <td>0.232116</td>\n",
       "      <td>0.032641</td>\n",
       "      <td>0.648656</td>\n",
       "      <td>0.038813</td>\n",
       "      <td>0.804549</td>\n",
       "      <td>0.437385</td>\n",
       "      <td>0.209462</td>\n",
       "    </tr>\n",
       "    <tr>\n",
       "      <th>2024-11-28 10:01:56.426491</th>\n",
       "      <td>0.060019</td>\n",
       "      <td>0.286696</td>\n",
       "      <td>0.289912</td>\n",
       "      <td>0.016489</td>\n",
       "      <td>0.475933</td>\n",
       "      <td>0.932080</td>\n",
       "      <td>0.535783</td>\n",
       "    </tr>\n",
       "    <tr>\n",
       "      <th>2024-12-01 10:01:56.426491</th>\n",
       "      <td>0.040900</td>\n",
       "      <td>0.237398</td>\n",
       "      <td>0.016033</td>\n",
       "      <td>0.480659</td>\n",
       "      <td>0.874758</td>\n",
       "      <td>0.514036</td>\n",
       "      <td>0.107777</td>\n",
       "    </tr>\n",
       "  </tbody>\n",
       "</table>\n",
       "</div>"
      ],
      "text/plain": [
       "                                   p         d         f         r         i  \\\n",
       "2024-11-27 10:01:56.426491  0.902787  0.503948  0.378804  0.313966  0.499391   \n",
       "2024-11-29 10:01:56.426491  0.331161  0.880460  0.355617  0.166764  0.964044   \n",
       "2024-11-30 10:01:56.426491  0.232116  0.032641  0.648656  0.038813  0.804549   \n",
       "2024-11-28 10:01:56.426491  0.060019  0.286696  0.289912  0.016489  0.475933   \n",
       "2024-12-01 10:01:56.426491  0.040900  0.237398  0.016033  0.480659  0.874758   \n",
       "\n",
       "                                   g         h  \n",
       "2024-11-27 10:01:56.426491  0.717358  0.216579  \n",
       "2024-11-29 10:01:56.426491  0.315774  0.927434  \n",
       "2024-11-30 10:01:56.426491  0.437385  0.209462  \n",
       "2024-11-28 10:01:56.426491  0.932080  0.535783  \n",
       "2024-12-01 10:01:56.426491  0.514036  0.107777  "
      ]
     },
     "execution_count": 132,
     "metadata": {},
     "output_type": "execute_result"
    }
   ],
   "source": [
    "dframe.sort_values(by='p', ascending=False)"
   ]
  },
  {
   "cell_type": "code",
   "execution_count": 134,
   "id": "1403fb5f-3fed-4a6f-b88e-e0d1a0dc0730",
   "metadata": {},
   "outputs": [
    {
     "data": {
      "text/html": [
       "<div>\n",
       "<style scoped>\n",
       "    .dataframe tbody tr th:only-of-type {\n",
       "        vertical-align: middle;\n",
       "    }\n",
       "\n",
       "    .dataframe tbody tr th {\n",
       "        vertical-align: top;\n",
       "    }\n",
       "\n",
       "    .dataframe thead th {\n",
       "        text-align: right;\n",
       "    }\n",
       "</style>\n",
       "<table border=\"1\" class=\"dataframe\">\n",
       "  <thead>\n",
       "    <tr style=\"text-align: right;\">\n",
       "      <th></th>\n",
       "      <th>A</th>\n",
       "      <th>B</th>\n",
       "    </tr>\n",
       "  </thead>\n",
       "  <tbody>\n",
       "    <tr>\n",
       "      <th>a</th>\n",
       "      <td>1.0</td>\n",
       "      <td>1</td>\n",
       "    </tr>\n",
       "    <tr>\n",
       "      <th>b</th>\n",
       "      <td>2.0</td>\n",
       "      <td>2</td>\n",
       "    </tr>\n",
       "    <tr>\n",
       "      <th>c</th>\n",
       "      <td>3.0</td>\n",
       "      <td>3</td>\n",
       "    </tr>\n",
       "    <tr>\n",
       "      <th>d</th>\n",
       "      <td>NaN</td>\n",
       "      <td>4</td>\n",
       "    </tr>\n",
       "  </tbody>\n",
       "</table>\n",
       "</div>"
      ],
      "text/plain": [
       "     A  B\n",
       "a  1.0  1\n",
       "b  2.0  2\n",
       "c  3.0  3\n",
       "d  NaN  4"
      ]
     },
     "execution_count": 134,
     "metadata": {},
     "output_type": "execute_result"
    }
   ],
   "source": [
    "df1"
   ]
  },
  {
   "cell_type": "code",
   "execution_count": 136,
   "id": "d03dc815-9cb2-4b2d-852f-9682cf584aca",
   "metadata": {},
   "outputs": [],
   "source": [
    "del df1['B']"
   ]
  },
  {
   "cell_type": "code",
   "execution_count": 138,
   "id": "ad58a818-1836-4a4d-af5e-e50d8fff47ba",
   "metadata": {},
   "outputs": [
    {
     "data": {
      "text/html": [
       "<div>\n",
       "<style scoped>\n",
       "    .dataframe tbody tr th:only-of-type {\n",
       "        vertical-align: middle;\n",
       "    }\n",
       "\n",
       "    .dataframe tbody tr th {\n",
       "        vertical-align: top;\n",
       "    }\n",
       "\n",
       "    .dataframe thead th {\n",
       "        text-align: right;\n",
       "    }\n",
       "</style>\n",
       "<table border=\"1\" class=\"dataframe\">\n",
       "  <thead>\n",
       "    <tr style=\"text-align: right;\">\n",
       "      <th></th>\n",
       "      <th>A</th>\n",
       "    </tr>\n",
       "  </thead>\n",
       "  <tbody>\n",
       "    <tr>\n",
       "      <th>a</th>\n",
       "      <td>1.0</td>\n",
       "    </tr>\n",
       "    <tr>\n",
       "      <th>b</th>\n",
       "      <td>2.0</td>\n",
       "    </tr>\n",
       "    <tr>\n",
       "      <th>c</th>\n",
       "      <td>3.0</td>\n",
       "    </tr>\n",
       "    <tr>\n",
       "      <th>d</th>\n",
       "      <td>NaN</td>\n",
       "    </tr>\n",
       "  </tbody>\n",
       "</table>\n",
       "</div>"
      ],
      "text/plain": [
       "     A\n",
       "a  1.0\n",
       "b  2.0\n",
       "c  3.0\n",
       "d  NaN"
      ]
     },
     "execution_count": 138,
     "metadata": {},
     "output_type": "execute_result"
    }
   ],
   "source": [
    "df1"
   ]
  },
  {
   "cell_type": "code",
   "execution_count": 140,
   "id": "819dcbdf-daf7-4a91-aee0-f56ac9a41d8c",
   "metadata": {},
   "outputs": [
    {
     "data": {
      "text/html": [
       "<div>\n",
       "<style scoped>\n",
       "    .dataframe tbody tr th:only-of-type {\n",
       "        vertical-align: middle;\n",
       "    }\n",
       "\n",
       "    .dataframe tbody tr th {\n",
       "        vertical-align: top;\n",
       "    }\n",
       "\n",
       "    .dataframe thead th {\n",
       "        text-align: right;\n",
       "    }\n",
       "</style>\n",
       "<table border=\"1\" class=\"dataframe\">\n",
       "  <thead>\n",
       "    <tr style=\"text-align: right;\">\n",
       "      <th></th>\n",
       "      <th>a</th>\n",
       "      <th>b</th>\n",
       "      <th>c</th>\n",
       "      <th>d</th>\n",
       "    </tr>\n",
       "  </thead>\n",
       "  <tbody>\n",
       "    <tr>\n",
       "      <th>row1</th>\n",
       "      <td>1</td>\n",
       "      <td>2</td>\n",
       "      <td>NaN</td>\n",
       "      <td>NaN</td>\n",
       "    </tr>\n",
       "    <tr>\n",
       "      <th>row2</th>\n",
       "      <td>5</td>\n",
       "      <td>10</td>\n",
       "      <td>20.0</td>\n",
       "      <td>NaN</td>\n",
       "    </tr>\n",
       "  </tbody>\n",
       "</table>\n",
       "</div>"
      ],
      "text/plain": [
       "      a   b     c   d\n",
       "row1  1   2   NaN NaN\n",
       "row2  5  10  20.0 NaN"
      ]
     },
     "execution_count": 140,
     "metadata": {},
     "output_type": "execute_result"
    }
   ],
   "source": [
    "df5"
   ]
  },
  {
   "cell_type": "code",
   "execution_count": 142,
   "id": "7f72cfe4-e8db-4e8d-8b33-e5cb89939a48",
   "metadata": {},
   "outputs": [
    {
     "data": {
      "text/plain": [
       "row1     NaN\n",
       "row2    20.0\n",
       "Name: c, dtype: float64"
      ]
     },
     "execution_count": 142,
     "metadata": {},
     "output_type": "execute_result"
    }
   ],
   "source": [
    "df5.pop('c')"
   ]
  },
  {
   "cell_type": "code",
   "execution_count": 144,
   "id": "c12b840e-f178-43a0-a112-45318141aaca",
   "metadata": {},
   "outputs": [
    {
     "data": {
      "text/html": [
       "<div>\n",
       "<style scoped>\n",
       "    .dataframe tbody tr th:only-of-type {\n",
       "        vertical-align: middle;\n",
       "    }\n",
       "\n",
       "    .dataframe tbody tr th {\n",
       "        vertical-align: top;\n",
       "    }\n",
       "\n",
       "    .dataframe thead th {\n",
       "        text-align: right;\n",
       "    }\n",
       "</style>\n",
       "<table border=\"1\" class=\"dataframe\">\n",
       "  <thead>\n",
       "    <tr style=\"text-align: right;\">\n",
       "      <th></th>\n",
       "      <th>a</th>\n",
       "      <th>b</th>\n",
       "      <th>d</th>\n",
       "    </tr>\n",
       "  </thead>\n",
       "  <tbody>\n",
       "    <tr>\n",
       "      <th>row1</th>\n",
       "      <td>1</td>\n",
       "      <td>2</td>\n",
       "      <td>NaN</td>\n",
       "    </tr>\n",
       "    <tr>\n",
       "      <th>row2</th>\n",
       "      <td>5</td>\n",
       "      <td>10</td>\n",
       "      <td>NaN</td>\n",
       "    </tr>\n",
       "  </tbody>\n",
       "</table>\n",
       "</div>"
      ],
      "text/plain": [
       "      a   b   d\n",
       "row1  1   2 NaN\n",
       "row2  5  10 NaN"
      ]
     },
     "execution_count": 144,
     "metadata": {},
     "output_type": "execute_result"
    }
   ],
   "source": [
    "df5"
   ]
  },
  {
   "cell_type": "code",
   "execution_count": 146,
   "id": "1a09343e-a5a9-4da9-ac84-e822447c605f",
   "metadata": {},
   "outputs": [],
   "source": [
    "### Data selection in Dataframe"
   ]
  },
  {
   "cell_type": "code",
   "execution_count": 148,
   "id": "d158b785-8637-4505-b415-908b02564071",
   "metadata": {},
   "outputs": [
    {
     "data": {
      "text/html": [
       "<div>\n",
       "<style scoped>\n",
       "    .dataframe tbody tr th:only-of-type {\n",
       "        vertical-align: middle;\n",
       "    }\n",
       "\n",
       "    .dataframe tbody tr th {\n",
       "        vertical-align: top;\n",
       "    }\n",
       "\n",
       "    .dataframe thead th {\n",
       "        text-align: right;\n",
       "    }\n",
       "</style>\n",
       "<table border=\"1\" class=\"dataframe\">\n",
       "  <thead>\n",
       "    <tr style=\"text-align: right;\">\n",
       "      <th></th>\n",
       "      <th>lang</th>\n",
       "      <th>Rating</th>\n",
       "    </tr>\n",
       "  </thead>\n",
       "  <tbody>\n",
       "    <tr>\n",
       "      <th>0</th>\n",
       "      <td>java</td>\n",
       "      <td>1</td>\n",
       "    </tr>\n",
       "    <tr>\n",
       "      <th>1</th>\n",
       "      <td>python</td>\n",
       "      <td>2</td>\n",
       "    </tr>\n",
       "    <tr>\n",
       "      <th>2</th>\n",
       "      <td>c</td>\n",
       "      <td>3</td>\n",
       "    </tr>\n",
       "    <tr>\n",
       "      <th>3</th>\n",
       "      <td>c++</td>\n",
       "      <td>4</td>\n",
       "    </tr>\n",
       "  </tbody>\n",
       "</table>\n",
       "</div>"
      ],
      "text/plain": [
       "     lang  Rating\n",
       "0    java       1\n",
       "1  python       2\n",
       "2       c       3\n",
       "3     c++       4"
      ]
     },
     "execution_count": 148,
     "metadata": {},
     "output_type": "execute_result"
    }
   ],
   "source": [
    "df"
   ]
  },
  {
   "cell_type": "code",
   "execution_count": 150,
   "id": "e5a5d955-a46f-443e-9341-642389fa2ee1",
   "metadata": {},
   "outputs": [
    {
     "data": {
      "text/html": [
       "<div>\n",
       "<style scoped>\n",
       "    .dataframe tbody tr th:only-of-type {\n",
       "        vertical-align: middle;\n",
       "    }\n",
       "\n",
       "    .dataframe tbody tr th {\n",
       "        vertical-align: top;\n",
       "    }\n",
       "\n",
       "    .dataframe thead th {\n",
       "        text-align: right;\n",
       "    }\n",
       "</style>\n",
       "<table border=\"1\" class=\"dataframe\">\n",
       "  <thead>\n",
       "    <tr style=\"text-align: right;\">\n",
       "      <th></th>\n",
       "      <th>lang</th>\n",
       "      <th>Rating</th>\n",
       "    </tr>\n",
       "  </thead>\n",
       "  <tbody>\n",
       "    <tr>\n",
       "      <th>1</th>\n",
       "      <td>java</td>\n",
       "      <td>1</td>\n",
       "    </tr>\n",
       "    <tr>\n",
       "      <th>2</th>\n",
       "      <td>python</td>\n",
       "      <td>2</td>\n",
       "    </tr>\n",
       "    <tr>\n",
       "      <th>3</th>\n",
       "      <td>c</td>\n",
       "      <td>3</td>\n",
       "    </tr>\n",
       "    <tr>\n",
       "      <th>4</th>\n",
       "      <td>c++</td>\n",
       "      <td>4</td>\n",
       "    </tr>\n",
       "  </tbody>\n",
       "</table>\n",
       "</div>"
      ],
      "text/plain": [
       "     lang  Rating\n",
       "1    java       1\n",
       "2  python       2\n",
       "3       c       3\n",
       "4     c++       4"
      ]
     },
     "execution_count": 150,
     "metadata": {},
     "output_type": "execute_result"
    }
   ],
   "source": [
    "df.index =[1,2,3,4]\n",
    "df"
   ]
  },
  {
   "cell_type": "code",
   "execution_count": 152,
   "id": "123c0283-a9e9-4d27-9092-acbe76fff22b",
   "metadata": {},
   "outputs": [
    {
     "data": {
      "text/plain": [
       "lang      java\n",
       "Rating       1\n",
       "Name: 1, dtype: object"
      ]
     },
     "execution_count": 152,
     "metadata": {},
     "output_type": "execute_result"
    }
   ],
   "source": [
    "df.loc[1]"
   ]
  },
  {
   "cell_type": "code",
   "execution_count": 154,
   "id": "c8b63dc3-7d91-4de0-ae61-ec699a7a4253",
   "metadata": {},
   "outputs": [
    {
     "data": {
      "text/plain": [
       "lang      python\n",
       "Rating         2\n",
       "Name: 2, dtype: object"
      ]
     },
     "execution_count": 154,
     "metadata": {},
     "output_type": "execute_result"
    }
   ],
   "source": [
    "df.iloc[1]"
   ]
  },
  {
   "cell_type": "code",
   "execution_count": 156,
   "id": "cd9a39e5-08ec-4b06-958e-48a77caa6536",
   "metadata": {},
   "outputs": [
    {
     "data": {
      "text/html": [
       "<div>\n",
       "<style scoped>\n",
       "    .dataframe tbody tr th:only-of-type {\n",
       "        vertical-align: middle;\n",
       "    }\n",
       "\n",
       "    .dataframe tbody tr th {\n",
       "        vertical-align: top;\n",
       "    }\n",
       "\n",
       "    .dataframe thead th {\n",
       "        text-align: right;\n",
       "    }\n",
       "</style>\n",
       "<table border=\"1\" class=\"dataframe\">\n",
       "  <thead>\n",
       "    <tr style=\"text-align: right;\">\n",
       "      <th></th>\n",
       "      <th>lang</th>\n",
       "      <th>Rating</th>\n",
       "    </tr>\n",
       "  </thead>\n",
       "  <tbody>\n",
       "    <tr>\n",
       "      <th>2</th>\n",
       "      <td>python</td>\n",
       "      <td>2</td>\n",
       "    </tr>\n",
       "  </tbody>\n",
       "</table>\n",
       "</div>"
      ],
      "text/plain": [
       "     lang  Rating\n",
       "2  python       2"
      ]
     },
     "execution_count": 156,
     "metadata": {},
     "output_type": "execute_result"
    }
   ],
   "source": [
    "df.iloc[1:2]"
   ]
  },
  {
   "cell_type": "code",
   "execution_count": 158,
   "id": "b8f21179-4faa-4572-96cc-c28aa2c2c388",
   "metadata": {},
   "outputs": [
    {
     "data": {
      "text/html": [
       "<div>\n",
       "<style scoped>\n",
       "    .dataframe tbody tr th:only-of-type {\n",
       "        vertical-align: middle;\n",
       "    }\n",
       "\n",
       "    .dataframe tbody tr th {\n",
       "        vertical-align: top;\n",
       "    }\n",
       "\n",
       "    .dataframe thead th {\n",
       "        text-align: right;\n",
       "    }\n",
       "</style>\n",
       "<table border=\"1\" class=\"dataframe\">\n",
       "  <thead>\n",
       "    <tr style=\"text-align: right;\">\n",
       "      <th></th>\n",
       "      <th>lang</th>\n",
       "      <th>Rating</th>\n",
       "    </tr>\n",
       "  </thead>\n",
       "  <tbody>\n",
       "    <tr>\n",
       "      <th>1</th>\n",
       "      <td>java</td>\n",
       "      <td>1</td>\n",
       "    </tr>\n",
       "    <tr>\n",
       "      <th>2</th>\n",
       "      <td>python</td>\n",
       "      <td>2</td>\n",
       "    </tr>\n",
       "  </tbody>\n",
       "</table>\n",
       "</div>"
      ],
      "text/plain": [
       "     lang  Rating\n",
       "1    java       1\n",
       "2  python       2"
      ]
     },
     "execution_count": 158,
     "metadata": {},
     "output_type": "execute_result"
    }
   ],
   "source": [
    "df.loc[1:2]"
   ]
  },
  {
   "cell_type": "code",
   "execution_count": 160,
   "id": "545ffee8-d757-4daf-87f8-e34eca9ecd6b",
   "metadata": {},
   "outputs": [
    {
     "data": {
      "text/html": [
       "<div>\n",
       "<style scoped>\n",
       "    .dataframe tbody tr th:only-of-type {\n",
       "        vertical-align: middle;\n",
       "    }\n",
       "\n",
       "    .dataframe tbody tr th {\n",
       "        vertical-align: top;\n",
       "    }\n",
       "\n",
       "    .dataframe thead th {\n",
       "        text-align: right;\n",
       "    }\n",
       "</style>\n",
       "<table border=\"1\" class=\"dataframe\">\n",
       "  <thead>\n",
       "    <tr style=\"text-align: right;\">\n",
       "      <th></th>\n",
       "      <th>lang</th>\n",
       "      <th>Rating</th>\n",
       "    </tr>\n",
       "  </thead>\n",
       "  <tbody>\n",
       "    <tr>\n",
       "      <th>3</th>\n",
       "      <td>c</td>\n",
       "      <td>3</td>\n",
       "    </tr>\n",
       "    <tr>\n",
       "      <th>4</th>\n",
       "      <td>c++</td>\n",
       "      <td>4</td>\n",
       "    </tr>\n",
       "  </tbody>\n",
       "</table>\n",
       "</div>"
      ],
      "text/plain": [
       "  lang  Rating\n",
       "3    c       3\n",
       "4  c++       4"
      ]
     },
     "execution_count": 160,
     "metadata": {},
     "output_type": "execute_result"
    }
   ],
   "source": [
    "df.loc[df.Rating>2]"
   ]
  },
  {
   "cell_type": "code",
   "execution_count": 162,
   "id": "91c46161-c125-4271-b465-386e4ce64dd2",
   "metadata": {},
   "outputs": [
    {
     "data": {
      "text/html": [
       "<div>\n",
       "<style scoped>\n",
       "    .dataframe tbody tr th:only-of-type {\n",
       "        vertical-align: middle;\n",
       "    }\n",
       "\n",
       "    .dataframe tbody tr th {\n",
       "        vertical-align: top;\n",
       "    }\n",
       "\n",
       "    .dataframe thead th {\n",
       "        text-align: right;\n",
       "    }\n",
       "</style>\n",
       "<table border=\"1\" class=\"dataframe\">\n",
       "  <thead>\n",
       "    <tr style=\"text-align: right;\">\n",
       "      <th></th>\n",
       "      <th>A</th>\n",
       "    </tr>\n",
       "  </thead>\n",
       "  <tbody>\n",
       "    <tr>\n",
       "      <th>a</th>\n",
       "      <td>1.0</td>\n",
       "    </tr>\n",
       "    <tr>\n",
       "      <th>b</th>\n",
       "      <td>2.0</td>\n",
       "    </tr>\n",
       "    <tr>\n",
       "      <th>c</th>\n",
       "      <td>3.0</td>\n",
       "    </tr>\n",
       "    <tr>\n",
       "      <th>d</th>\n",
       "      <td>NaN</td>\n",
       "    </tr>\n",
       "  </tbody>\n",
       "</table>\n",
       "</div>"
      ],
      "text/plain": [
       "     A\n",
       "a  1.0\n",
       "b  2.0\n",
       "c  3.0\n",
       "d  NaN"
      ]
     },
     "execution_count": 162,
     "metadata": {},
     "output_type": "execute_result"
    }
   ],
   "source": [
    "df1"
   ]
  },
  {
   "cell_type": "code",
   "execution_count": 164,
   "id": "84ead4fc-0b06-4cab-909c-e595a35eb941",
   "metadata": {},
   "outputs": [
    {
     "data": {
      "text/plain": [
       "A    1.0\n",
       "Name: a, dtype: float64"
      ]
     },
     "execution_count": 164,
     "metadata": {},
     "output_type": "execute_result"
    }
   ],
   "source": [
    "df1.loc['a']"
   ]
  },
  {
   "cell_type": "code",
   "execution_count": 166,
   "id": "68b009fd-86a3-4193-bb1f-ca3422c7cdca",
   "metadata": {},
   "outputs": [
    {
     "data": {
      "text/html": [
       "<div>\n",
       "<style scoped>\n",
       "    .dataframe tbody tr th:only-of-type {\n",
       "        vertical-align: middle;\n",
       "    }\n",
       "\n",
       "    .dataframe tbody tr th {\n",
       "        vertical-align: top;\n",
       "    }\n",
       "\n",
       "    .dataframe thead th {\n",
       "        text-align: right;\n",
       "    }\n",
       "</style>\n",
       "<table border=\"1\" class=\"dataframe\">\n",
       "  <thead>\n",
       "    <tr style=\"text-align: right;\">\n",
       "      <th></th>\n",
       "      <th>p</th>\n",
       "      <th>d</th>\n",
       "      <th>f</th>\n",
       "      <th>r</th>\n",
       "      <th>i</th>\n",
       "      <th>g</th>\n",
       "      <th>h</th>\n",
       "    </tr>\n",
       "  </thead>\n",
       "  <tbody>\n",
       "    <tr>\n",
       "      <th>2024-11-27 10:01:56.426491</th>\n",
       "      <td>0.902787</td>\n",
       "      <td>0.503948</td>\n",
       "      <td>0.378804</td>\n",
       "      <td>0.313966</td>\n",
       "      <td>0.499391</td>\n",
       "      <td>0.717358</td>\n",
       "      <td>0.216579</td>\n",
       "    </tr>\n",
       "    <tr>\n",
       "      <th>2024-11-28 10:01:56.426491</th>\n",
       "      <td>0.060019</td>\n",
       "      <td>0.286696</td>\n",
       "      <td>0.289912</td>\n",
       "      <td>0.016489</td>\n",
       "      <td>0.475933</td>\n",
       "      <td>0.932080</td>\n",
       "      <td>0.535783</td>\n",
       "    </tr>\n",
       "    <tr>\n",
       "      <th>2024-11-29 10:01:56.426491</th>\n",
       "      <td>0.331161</td>\n",
       "      <td>0.880460</td>\n",
       "      <td>0.355617</td>\n",
       "      <td>0.166764</td>\n",
       "      <td>0.964044</td>\n",
       "      <td>0.315774</td>\n",
       "      <td>0.927434</td>\n",
       "    </tr>\n",
       "    <tr>\n",
       "      <th>2024-11-30 10:01:56.426491</th>\n",
       "      <td>0.232116</td>\n",
       "      <td>0.032641</td>\n",
       "      <td>0.648656</td>\n",
       "      <td>0.038813</td>\n",
       "      <td>0.804549</td>\n",
       "      <td>0.437385</td>\n",
       "      <td>0.209462</td>\n",
       "    </tr>\n",
       "    <tr>\n",
       "      <th>2024-12-01 10:01:56.426491</th>\n",
       "      <td>0.040900</td>\n",
       "      <td>0.237398</td>\n",
       "      <td>0.016033</td>\n",
       "      <td>0.480659</td>\n",
       "      <td>0.874758</td>\n",
       "      <td>0.514036</td>\n",
       "      <td>0.107777</td>\n",
       "    </tr>\n",
       "  </tbody>\n",
       "</table>\n",
       "</div>"
      ],
      "text/plain": [
       "                                   p         d         f         r         i  \\\n",
       "2024-11-27 10:01:56.426491  0.902787  0.503948  0.378804  0.313966  0.499391   \n",
       "2024-11-28 10:01:56.426491  0.060019  0.286696  0.289912  0.016489  0.475933   \n",
       "2024-11-29 10:01:56.426491  0.331161  0.880460  0.355617  0.166764  0.964044   \n",
       "2024-11-30 10:01:56.426491  0.232116  0.032641  0.648656  0.038813  0.804549   \n",
       "2024-12-01 10:01:56.426491  0.040900  0.237398  0.016033  0.480659  0.874758   \n",
       "\n",
       "                                   g         h  \n",
       "2024-11-27 10:01:56.426491  0.717358  0.216579  \n",
       "2024-11-28 10:01:56.426491  0.932080  0.535783  \n",
       "2024-11-29 10:01:56.426491  0.315774  0.927434  \n",
       "2024-11-30 10:01:56.426491  0.437385  0.209462  \n",
       "2024-12-01 10:01:56.426491  0.514036  0.107777  "
      ]
     },
     "execution_count": 166,
     "metadata": {},
     "output_type": "execute_result"
    }
   ],
   "source": [
    "dframe"
   ]
  },
  {
   "cell_type": "code",
   "execution_count": 168,
   "id": "857044a5-d43d-4c61-b659-d1696b03370e",
   "metadata": {},
   "outputs": [
    {
     "data": {
      "text/html": [
       "<div>\n",
       "<style scoped>\n",
       "    .dataframe tbody tr th:only-of-type {\n",
       "        vertical-align: middle;\n",
       "    }\n",
       "\n",
       "    .dataframe tbody tr th {\n",
       "        vertical-align: top;\n",
       "    }\n",
       "\n",
       "    .dataframe thead th {\n",
       "        text-align: right;\n",
       "    }\n",
       "</style>\n",
       "<table border=\"1\" class=\"dataframe\">\n",
       "  <thead>\n",
       "    <tr style=\"text-align: right;\">\n",
       "      <th></th>\n",
       "      <th>p</th>\n",
       "      <th>d</th>\n",
       "      <th>f</th>\n",
       "      <th>r</th>\n",
       "      <th>i</th>\n",
       "      <th>g</th>\n",
       "      <th>h</th>\n",
       "    </tr>\n",
       "  </thead>\n",
       "  <tbody>\n",
       "    <tr>\n",
       "      <th>2024-11-27 10:01:56.426491</th>\n",
       "      <td>0.902787</td>\n",
       "      <td>0.503948</td>\n",
       "      <td>0.378804</td>\n",
       "      <td>0.313966</td>\n",
       "      <td>0.499391</td>\n",
       "      <td>0.717358</td>\n",
       "      <td>0.216579</td>\n",
       "    </tr>\n",
       "    <tr>\n",
       "      <th>2024-11-28 10:01:56.426491</th>\n",
       "      <td>0.060019</td>\n",
       "      <td>0.286696</td>\n",
       "      <td>0.289912</td>\n",
       "      <td>0.016489</td>\n",
       "      <td>0.475933</td>\n",
       "      <td>0.932080</td>\n",
       "      <td>0.535783</td>\n",
       "    </tr>\n",
       "  </tbody>\n",
       "</table>\n",
       "</div>"
      ],
      "text/plain": [
       "                                   p         d         f         r         i  \\\n",
       "2024-11-27 10:01:56.426491  0.902787  0.503948  0.378804  0.313966  0.499391   \n",
       "2024-11-28 10:01:56.426491  0.060019  0.286696  0.289912  0.016489  0.475933   \n",
       "\n",
       "                                   g         h  \n",
       "2024-11-27 10:01:56.426491  0.717358  0.216579  \n",
       "2024-11-28 10:01:56.426491  0.932080  0.535783  "
      ]
     },
     "execution_count": 168,
     "metadata": {},
     "output_type": "execute_result"
    }
   ],
   "source": [
    "dframe.loc['2024-11-26':'2024-11-28']"
   ]
  },
  {
   "cell_type": "code",
   "execution_count": 170,
   "id": "07239247-78c8-4b29-bb43-0e6c2cbccb95",
   "metadata": {},
   "outputs": [
    {
     "data": {
      "text/html": [
       "<div>\n",
       "<style scoped>\n",
       "    .dataframe tbody tr th:only-of-type {\n",
       "        vertical-align: middle;\n",
       "    }\n",
       "\n",
       "    .dataframe tbody tr th {\n",
       "        vertical-align: top;\n",
       "    }\n",
       "\n",
       "    .dataframe thead th {\n",
       "        text-align: right;\n",
       "    }\n",
       "</style>\n",
       "<table border=\"1\" class=\"dataframe\">\n",
       "  <thead>\n",
       "    <tr style=\"text-align: right;\">\n",
       "      <th></th>\n",
       "      <th>r</th>\n",
       "      <th>g</th>\n",
       "    </tr>\n",
       "  </thead>\n",
       "  <tbody>\n",
       "    <tr>\n",
       "      <th>2024-11-27 10:01:56.426491</th>\n",
       "      <td>0.313966</td>\n",
       "      <td>0.717358</td>\n",
       "    </tr>\n",
       "    <tr>\n",
       "      <th>2024-11-28 10:01:56.426491</th>\n",
       "      <td>0.016489</td>\n",
       "      <td>0.932080</td>\n",
       "    </tr>\n",
       "  </tbody>\n",
       "</table>\n",
       "</div>"
      ],
      "text/plain": [
       "                                   r         g\n",
       "2024-11-27 10:01:56.426491  0.313966  0.717358\n",
       "2024-11-28 10:01:56.426491  0.016489  0.932080"
      ]
     },
     "execution_count": 170,
     "metadata": {},
     "output_type": "execute_result"
    }
   ],
   "source": [
    "dframe.loc['2024-11-26':'2024-11-28',['r','g']]"
   ]
  },
  {
   "cell_type": "code",
   "execution_count": 172,
   "id": "1b673fc3-71cb-48d9-a2b1-6520c622bb6a",
   "metadata": {},
   "outputs": [
    {
     "data": {
      "text/html": [
       "<div>\n",
       "<style scoped>\n",
       "    .dataframe tbody tr th:only-of-type {\n",
       "        vertical-align: middle;\n",
       "    }\n",
       "\n",
       "    .dataframe tbody tr th {\n",
       "        vertical-align: top;\n",
       "    }\n",
       "\n",
       "    .dataframe thead th {\n",
       "        text-align: right;\n",
       "    }\n",
       "</style>\n",
       "<table border=\"1\" class=\"dataframe\">\n",
       "  <thead>\n",
       "    <tr style=\"text-align: right;\">\n",
       "      <th></th>\n",
       "      <th>p</th>\n",
       "      <th>d</th>\n",
       "      <th>f</th>\n",
       "      <th>r</th>\n",
       "      <th>i</th>\n",
       "      <th>g</th>\n",
       "      <th>h</th>\n",
       "    </tr>\n",
       "  </thead>\n",
       "  <tbody>\n",
       "    <tr>\n",
       "      <th>2024-11-28 10:01:56.426491</th>\n",
       "      <td>0.060019</td>\n",
       "      <td>0.286696</td>\n",
       "      <td>0.289912</td>\n",
       "      <td>0.016489</td>\n",
       "      <td>0.475933</td>\n",
       "      <td>0.932080</td>\n",
       "      <td>0.535783</td>\n",
       "    </tr>\n",
       "    <tr>\n",
       "      <th>2024-11-29 10:01:56.426491</th>\n",
       "      <td>0.331161</td>\n",
       "      <td>0.880460</td>\n",
       "      <td>0.355617</td>\n",
       "      <td>0.166764</td>\n",
       "      <td>0.964044</td>\n",
       "      <td>0.315774</td>\n",
       "      <td>0.927434</td>\n",
       "    </tr>\n",
       "  </tbody>\n",
       "</table>\n",
       "</div>"
      ],
      "text/plain": [
       "                                   p         d         f         r         i  \\\n",
       "2024-11-28 10:01:56.426491  0.060019  0.286696  0.289912  0.016489  0.475933   \n",
       "2024-11-29 10:01:56.426491  0.331161  0.880460  0.355617  0.166764  0.964044   \n",
       "\n",
       "                                   g         h  \n",
       "2024-11-28 10:01:56.426491  0.932080  0.535783  \n",
       "2024-11-29 10:01:56.426491  0.315774  0.927434  "
      ]
     },
     "execution_count": 172,
     "metadata": {},
     "output_type": "execute_result"
    }
   ],
   "source": [
    "dframe[dframe['h']>0.5]"
   ]
  },
  {
   "cell_type": "code",
   "execution_count": 174,
   "id": "70271190-4b24-41a0-8c7d-6997161d0469",
   "metadata": {},
   "outputs": [
    {
     "data": {
      "text/html": [
       "<div>\n",
       "<style scoped>\n",
       "    .dataframe tbody tr th:only-of-type {\n",
       "        vertical-align: middle;\n",
       "    }\n",
       "\n",
       "    .dataframe tbody tr th {\n",
       "        vertical-align: top;\n",
       "    }\n",
       "\n",
       "    .dataframe thead th {\n",
       "        text-align: right;\n",
       "    }\n",
       "</style>\n",
       "<table border=\"1\" class=\"dataframe\">\n",
       "  <thead>\n",
       "    <tr style=\"text-align: right;\">\n",
       "      <th></th>\n",
       "      <th>p</th>\n",
       "      <th>d</th>\n",
       "      <th>f</th>\n",
       "      <th>r</th>\n",
       "      <th>i</th>\n",
       "      <th>g</th>\n",
       "      <th>h</th>\n",
       "    </tr>\n",
       "  </thead>\n",
       "  <tbody>\n",
       "  </tbody>\n",
       "</table>\n",
       "</div>"
      ],
      "text/plain": [
       "Empty DataFrame\n",
       "Columns: [p, d, f, r, i, g, h]\n",
       "Index: []"
      ]
     },
     "execution_count": 174,
     "metadata": {},
     "output_type": "execute_result"
    }
   ],
   "source": [
    "dframe[(dframe['h']>0.5) & (dframe['f']>0.5)]"
   ]
  },
  {
   "cell_type": "code",
   "execution_count": 176,
   "id": "bf3fc328-b036-4a76-a9a3-72db76e6677e",
   "metadata": {},
   "outputs": [
    {
     "data": {
      "text/plain": [
       "p    0.902787\n",
       "d    0.503948\n",
       "f    0.378804\n",
       "r    0.313966\n",
       "i    0.499391\n",
       "g    0.717358\n",
       "h    0.216579\n",
       "Name: 2024-11-27 10:01:56.426491, dtype: float64"
      ]
     },
     "execution_count": 176,
     "metadata": {},
     "output_type": "execute_result"
    }
   ],
   "source": [
    "dframe.iloc[0]"
   ]
  },
  {
   "cell_type": "code",
   "execution_count": 178,
   "id": "03826d6b-63df-4956-a336-dda5b7791cae",
   "metadata": {},
   "outputs": [
    {
     "name": "stderr",
     "output_type": "stream",
     "text": [
      "C:\\Users\\YESHWANTH\\AppData\\Local\\Temp\\ipykernel_10732\\1918434869.py:1: FutureWarning: Series.__getitem__ treating keys as positions is deprecated. In a future version, integer keys will always be treated as labels (consistent with DataFrame behavior). To access a value by position, use `ser.iloc[pos]`\n",
      "  dframe.iloc[0][0]\n"
     ]
    },
    {
     "data": {
      "text/plain": [
       "0.9027874674760037"
      ]
     },
     "execution_count": 178,
     "metadata": {},
     "output_type": "execute_result"
    }
   ],
   "source": [
    "dframe.iloc[0][0]"
   ]
  },
  {
   "cell_type": "code",
   "execution_count": 180,
   "id": "29af884d-991d-4097-9d7a-dc19ffec48b3",
   "metadata": {},
   "outputs": [
    {
     "name": "stderr",
     "output_type": "stream",
     "text": [
      "C:\\Users\\YESHWANTH\\AppData\\Local\\Temp\\ipykernel_10732\\1773029031.py:1: FutureWarning: Series.__getitem__ treating keys as positions is deprecated. In a future version, integer keys will always be treated as labels (consistent with DataFrame behavior). To access a value by position, use `ser.iloc[pos]`\n",
      "  dframe.iloc[0][0]==10\n"
     ]
    },
    {
     "data": {
      "text/plain": [
       "False"
      ]
     },
     "execution_count": 180,
     "metadata": {},
     "output_type": "execute_result"
    }
   ],
   "source": [
    "dframe.iloc[0][0]==10"
   ]
  },
  {
   "cell_type": "code",
   "execution_count": 182,
   "id": "298fe9ed-5c76-45fe-80f2-f19ff7db5082",
   "metadata": {},
   "outputs": [
    {
     "data": {
      "text/html": [
       "<div>\n",
       "<style scoped>\n",
       "    .dataframe tbody tr th:only-of-type {\n",
       "        vertical-align: middle;\n",
       "    }\n",
       "\n",
       "    .dataframe tbody tr th {\n",
       "        vertical-align: top;\n",
       "    }\n",
       "\n",
       "    .dataframe thead th {\n",
       "        text-align: right;\n",
       "    }\n",
       "</style>\n",
       "<table border=\"1\" class=\"dataframe\">\n",
       "  <thead>\n",
       "    <tr style=\"text-align: right;\">\n",
       "      <th></th>\n",
       "      <th>p</th>\n",
       "      <th>d</th>\n",
       "      <th>f</th>\n",
       "      <th>r</th>\n",
       "      <th>i</th>\n",
       "      <th>g</th>\n",
       "      <th>h</th>\n",
       "    </tr>\n",
       "  </thead>\n",
       "  <tbody>\n",
       "  </tbody>\n",
       "</table>\n",
       "</div>"
      ],
      "text/plain": [
       "Empty DataFrame\n",
       "Columns: [p, d, f, r, i, g, h]\n",
       "Index: []"
      ]
     },
     "execution_count": 182,
     "metadata": {},
     "output_type": "execute_result"
    }
   ],
   "source": [
    " # Display all rows where p has value of 10 or 20\n",
    " dframe[dframe['p'].isin([10,20])]"
   ]
  },
  {
   "cell_type": "raw",
   "id": "73720b42-277f-4246-b838-4b0cd0fabdba",
   "metadata": {},
   "source": [
    "-->set value"
   ]
  },
  {
   "cell_type": "code",
   "execution_count": 184,
   "id": "7683dfcb-9253-48e7-b052-898550379704",
   "metadata": {},
   "outputs": [
    {
     "data": {
      "text/html": [
       "<div>\n",
       "<style scoped>\n",
       "    .dataframe tbody tr th:only-of-type {\n",
       "        vertical-align: middle;\n",
       "    }\n",
       "\n",
       "    .dataframe tbody tr th {\n",
       "        vertical-align: top;\n",
       "    }\n",
       "\n",
       "    .dataframe thead th {\n",
       "        text-align: right;\n",
       "    }\n",
       "</style>\n",
       "<table border=\"1\" class=\"dataframe\">\n",
       "  <thead>\n",
       "    <tr style=\"text-align: right;\">\n",
       "      <th></th>\n",
       "      <th>p</th>\n",
       "      <th>d</th>\n",
       "      <th>f</th>\n",
       "      <th>r</th>\n",
       "      <th>i</th>\n",
       "      <th>g</th>\n",
       "      <th>h</th>\n",
       "    </tr>\n",
       "  </thead>\n",
       "  <tbody>\n",
       "    <tr>\n",
       "      <th>2024-11-27 10:01:56.426491</th>\n",
       "      <td>888</td>\n",
       "      <td>0.503948</td>\n",
       "      <td>0.378804</td>\n",
       "      <td>0.313966</td>\n",
       "      <td>0.499391</td>\n",
       "      <td>0.717358</td>\n",
       "      <td>0.216579</td>\n",
       "    </tr>\n",
       "    <tr>\n",
       "      <th>2024-11-28 10:01:56.426491</th>\n",
       "      <td>888</td>\n",
       "      <td>0.286696</td>\n",
       "      <td>0.289912</td>\n",
       "      <td>0.016489</td>\n",
       "      <td>0.475933</td>\n",
       "      <td>0.932080</td>\n",
       "      <td>0.535783</td>\n",
       "    </tr>\n",
       "    <tr>\n",
       "      <th>2024-11-29 10:01:56.426491</th>\n",
       "      <td>888</td>\n",
       "      <td>0.880460</td>\n",
       "      <td>0.355617</td>\n",
       "      <td>0.166764</td>\n",
       "      <td>0.964044</td>\n",
       "      <td>0.315774</td>\n",
       "      <td>0.927434</td>\n",
       "    </tr>\n",
       "    <tr>\n",
       "      <th>2024-11-30 10:01:56.426491</th>\n",
       "      <td>888</td>\n",
       "      <td>0.032641</td>\n",
       "      <td>0.648656</td>\n",
       "      <td>0.038813</td>\n",
       "      <td>0.804549</td>\n",
       "      <td>0.437385</td>\n",
       "      <td>0.209462</td>\n",
       "    </tr>\n",
       "    <tr>\n",
       "      <th>2024-12-01 10:01:56.426491</th>\n",
       "      <td>888</td>\n",
       "      <td>0.237398</td>\n",
       "      <td>0.016033</td>\n",
       "      <td>0.480659</td>\n",
       "      <td>0.874758</td>\n",
       "      <td>0.514036</td>\n",
       "      <td>0.107777</td>\n",
       "    </tr>\n",
       "  </tbody>\n",
       "</table>\n",
       "</div>"
      ],
      "text/plain": [
       "                              p         d         f         r         i  \\\n",
       "2024-11-27 10:01:56.426491  888  0.503948  0.378804  0.313966  0.499391   \n",
       "2024-11-28 10:01:56.426491  888  0.286696  0.289912  0.016489  0.475933   \n",
       "2024-11-29 10:01:56.426491  888  0.880460  0.355617  0.166764  0.964044   \n",
       "2024-11-30 10:01:56.426491  888  0.032641  0.648656  0.038813  0.804549   \n",
       "2024-12-01 10:01:56.426491  888  0.237398  0.016033  0.480659  0.874758   \n",
       "\n",
       "                                   g         h  \n",
       "2024-11-27 10:01:56.426491  0.717358  0.216579  \n",
       "2024-11-28 10:01:56.426491  0.932080  0.535783  \n",
       "2024-11-29 10:01:56.426491  0.315774  0.927434  \n",
       "2024-11-30 10:01:56.426491  0.437385  0.209462  \n",
       "2024-12-01 10:01:56.426491  0.514036  0.107777  "
      ]
     },
     "execution_count": 184,
     "metadata": {},
     "output_type": "execute_result"
    }
   ],
   "source": [
    " # Set value of 888 for all elements in column 'p'\n",
    "dframe['p'] = 888\n",
    "dframe"
   ]
  },
  {
   "cell_type": "code",
   "execution_count": 186,
   "id": "d30356e4-4564-4c51-b457-fc5987be7e69",
   "metadata": {
    "scrolled": true
   },
   "outputs": [
    {
     "ename": "TypeError",
     "evalue": "Cannot index by location index with a non-integer key",
     "output_type": "error",
     "traceback": [
      "\u001b[1;31m---------------------------------------------------------------------------\u001b[0m",
      "\u001b[1;31mTypeError\u001b[0m                                 Traceback (most recent call last)",
      "Cell \u001b[1;32mIn[186], line 1\u001b[0m\n\u001b[1;32m----> 1\u001b[0m dframe\u001b[38;5;241m.\u001b[39miloc[\u001b[38;5;241m0\u001b[39m:\u001b[38;5;241m4\u001b[39m,\u001b[38;5;124m'\u001b[39m\u001b[38;5;124mf\u001b[39m\u001b[38;5;124m'\u001b[39m] \u001b[38;5;241m=\u001b[39m \u001b[38;5;241m333\u001b[39m\n\u001b[0;32m      2\u001b[0m dframe\n",
      "File \u001b[1;32m~\\anaconda3\\Lib\\site-packages\\pandas\\core\\indexing.py:911\u001b[0m, in \u001b[0;36m_LocationIndexer.__setitem__\u001b[1;34m(self, key, value)\u001b[0m\n\u001b[0;32m    908\u001b[0m \u001b[38;5;28mself\u001b[39m\u001b[38;5;241m.\u001b[39m_has_valid_setitem_indexer(key)\n\u001b[0;32m    910\u001b[0m iloc \u001b[38;5;241m=\u001b[39m \u001b[38;5;28mself\u001b[39m \u001b[38;5;28;01mif\u001b[39;00m \u001b[38;5;28mself\u001b[39m\u001b[38;5;241m.\u001b[39mname \u001b[38;5;241m==\u001b[39m \u001b[38;5;124m\"\u001b[39m\u001b[38;5;124miloc\u001b[39m\u001b[38;5;124m\"\u001b[39m \u001b[38;5;28;01melse\u001b[39;00m \u001b[38;5;28mself\u001b[39m\u001b[38;5;241m.\u001b[39mobj\u001b[38;5;241m.\u001b[39miloc\n\u001b[1;32m--> 911\u001b[0m iloc\u001b[38;5;241m.\u001b[39m_setitem_with_indexer(indexer, value, \u001b[38;5;28mself\u001b[39m\u001b[38;5;241m.\u001b[39mname)\n",
      "File \u001b[1;32m~\\anaconda3\\Lib\\site-packages\\pandas\\core\\indexing.py:1942\u001b[0m, in \u001b[0;36m_iLocIndexer._setitem_with_indexer\u001b[1;34m(self, indexer, value, name)\u001b[0m\n\u001b[0;32m   1939\u001b[0m \u001b[38;5;66;03m# align and set the values\u001b[39;00m\n\u001b[0;32m   1940\u001b[0m \u001b[38;5;28;01mif\u001b[39;00m take_split_path:\n\u001b[0;32m   1941\u001b[0m     \u001b[38;5;66;03m# We have to operate column-wise\u001b[39;00m\n\u001b[1;32m-> 1942\u001b[0m     \u001b[38;5;28mself\u001b[39m\u001b[38;5;241m.\u001b[39m_setitem_with_indexer_split_path(indexer, value, name)\n\u001b[0;32m   1943\u001b[0m \u001b[38;5;28;01melse\u001b[39;00m:\n\u001b[0;32m   1944\u001b[0m     \u001b[38;5;28mself\u001b[39m\u001b[38;5;241m.\u001b[39m_setitem_single_block(indexer, value, name)\n",
      "File \u001b[1;32m~\\anaconda3\\Lib\\site-packages\\pandas\\core\\indexing.py:2035\u001b[0m, in \u001b[0;36m_iLocIndexer._setitem_with_indexer_split_path\u001b[1;34m(self, indexer, value, name)\u001b[0m\n\u001b[0;32m   2032\u001b[0m \u001b[38;5;28;01melse\u001b[39;00m:\n\u001b[0;32m   2033\u001b[0m     \u001b[38;5;66;03m# scalar value\u001b[39;00m\n\u001b[0;32m   2034\u001b[0m     \u001b[38;5;28;01mfor\u001b[39;00m loc \u001b[38;5;129;01min\u001b[39;00m ilocs:\n\u001b[1;32m-> 2035\u001b[0m         \u001b[38;5;28mself\u001b[39m\u001b[38;5;241m.\u001b[39m_setitem_single_column(loc, value, pi)\n",
      "File \u001b[1;32m~\\anaconda3\\Lib\\site-packages\\pandas\\core\\indexing.py:2164\u001b[0m, in \u001b[0;36m_iLocIndexer._setitem_single_column\u001b[1;34m(self, loc, value, plane_indexer)\u001b[0m\n\u001b[0;32m   2160\u001b[0m         \u001b[38;5;28mself\u001b[39m\u001b[38;5;241m.\u001b[39mobj\u001b[38;5;241m.\u001b[39misetitem(loc, value)\n\u001b[0;32m   2161\u001b[0m \u001b[38;5;28;01melse\u001b[39;00m:\n\u001b[0;32m   2162\u001b[0m     \u001b[38;5;66;03m# set value into the column (first attempting to operate inplace, then\u001b[39;00m\n\u001b[0;32m   2163\u001b[0m     \u001b[38;5;66;03m#  falling back to casting if necessary)\u001b[39;00m\n\u001b[1;32m-> 2164\u001b[0m     dtype \u001b[38;5;241m=\u001b[39m \u001b[38;5;28mself\u001b[39m\u001b[38;5;241m.\u001b[39mobj\u001b[38;5;241m.\u001b[39mdtypes\u001b[38;5;241m.\u001b[39miloc[loc]\n\u001b[0;32m   2165\u001b[0m     \u001b[38;5;28;01mif\u001b[39;00m dtype \u001b[38;5;241m==\u001b[39m np\u001b[38;5;241m.\u001b[39mvoid:\n\u001b[0;32m   2166\u001b[0m         \u001b[38;5;66;03m# This means we're expanding, with multiple columns, e.g.\u001b[39;00m\n\u001b[0;32m   2167\u001b[0m         \u001b[38;5;66;03m#     df = pd.DataFrame({'A': [1,2,3], 'B': [4,5,6]})\u001b[39;00m\n\u001b[1;32m   (...)\u001b[0m\n\u001b[0;32m   2170\u001b[0m         \u001b[38;5;66;03m# Here, we replace those temporary `np.void` columns with\u001b[39;00m\n\u001b[0;32m   2171\u001b[0m         \u001b[38;5;66;03m# columns of the appropriate dtype, based on `value`.\u001b[39;00m\n\u001b[0;32m   2172\u001b[0m         \u001b[38;5;28mself\u001b[39m\u001b[38;5;241m.\u001b[39mobj\u001b[38;5;241m.\u001b[39miloc[:, loc] \u001b[38;5;241m=\u001b[39m construct_1d_array_from_inferred_fill_value(\n\u001b[0;32m   2173\u001b[0m             value, \u001b[38;5;28mlen\u001b[39m(\u001b[38;5;28mself\u001b[39m\u001b[38;5;241m.\u001b[39mobj)\n\u001b[0;32m   2174\u001b[0m         )\n",
      "File \u001b[1;32m~\\anaconda3\\Lib\\site-packages\\pandas\\core\\indexing.py:1191\u001b[0m, in \u001b[0;36m_LocationIndexer.__getitem__\u001b[1;34m(self, key)\u001b[0m\n\u001b[0;32m   1189\u001b[0m maybe_callable \u001b[38;5;241m=\u001b[39m com\u001b[38;5;241m.\u001b[39mapply_if_callable(key, \u001b[38;5;28mself\u001b[39m\u001b[38;5;241m.\u001b[39mobj)\n\u001b[0;32m   1190\u001b[0m maybe_callable \u001b[38;5;241m=\u001b[39m \u001b[38;5;28mself\u001b[39m\u001b[38;5;241m.\u001b[39m_check_deprecated_callable_usage(key, maybe_callable)\n\u001b[1;32m-> 1191\u001b[0m \u001b[38;5;28;01mreturn\u001b[39;00m \u001b[38;5;28mself\u001b[39m\u001b[38;5;241m.\u001b[39m_getitem_axis(maybe_callable, axis\u001b[38;5;241m=\u001b[39maxis)\n",
      "File \u001b[1;32m~\\anaconda3\\Lib\\site-packages\\pandas\\core\\indexing.py:1749\u001b[0m, in \u001b[0;36m_iLocIndexer._getitem_axis\u001b[1;34m(self, key, axis)\u001b[0m\n\u001b[0;32m   1747\u001b[0m key \u001b[38;5;241m=\u001b[39m item_from_zerodim(key)\n\u001b[0;32m   1748\u001b[0m \u001b[38;5;28;01mif\u001b[39;00m \u001b[38;5;129;01mnot\u001b[39;00m is_integer(key):\n\u001b[1;32m-> 1749\u001b[0m     \u001b[38;5;28;01mraise\u001b[39;00m \u001b[38;5;167;01mTypeError\u001b[39;00m(\u001b[38;5;124m\"\u001b[39m\u001b[38;5;124mCannot index by location index with a non-integer key\u001b[39m\u001b[38;5;124m\"\u001b[39m)\n\u001b[0;32m   1751\u001b[0m \u001b[38;5;66;03m# validate the location\u001b[39;00m\n\u001b[0;32m   1752\u001b[0m \u001b[38;5;28mself\u001b[39m\u001b[38;5;241m.\u001b[39m_validate_integer(key, axis)\n",
      "\u001b[1;31mTypeError\u001b[0m: Cannot index by location index with a non-integer key"
     ]
    }
   ],
   "source": [
    "dframe.iloc[0:4,'f'] = 333\n",
    "dframe"
   ]
  },
  {
   "cell_type": "code",
   "execution_count": null,
   "id": "9f0030cf-c188-426c-a52e-edbe9596a099",
   "metadata": {},
   "outputs": [],
   "source": [
    "dframe.iloc[0]= 555\n",
    "dframe"
   ]
  },
  {
   "cell_type": "code",
   "execution_count": 189,
   "id": "00a84499-8aaa-49a8-a05d-46eba8d87563",
   "metadata": {},
   "outputs": [],
   "source": [
    " # Create Copy of the calling objects data along with indices.\n",
    " # Modifications to the data or indices of the copy will not be reflected in the\n",
    " dframe1 = dframe.copy(deep=True)"
   ]
  },
  {
   "cell_type": "code",
   "execution_count": 191,
   "id": "62db7262-6f3d-44d9-a0c9-ff16520581cc",
   "metadata": {},
   "outputs": [],
   "source": [
    "dframe1 [(dframe1['p']>0.5) &(dframe1['g']>0.5)] =0"
   ]
  },
  {
   "cell_type": "code",
   "execution_count": 193,
   "id": "43884fc6-9067-4031-9ce8-ec7c34d1bd5b",
   "metadata": {},
   "outputs": [
    {
     "data": {
      "text/html": [
       "<div>\n",
       "<style scoped>\n",
       "    .dataframe tbody tr th:only-of-type {\n",
       "        vertical-align: middle;\n",
       "    }\n",
       "\n",
       "    .dataframe tbody tr th {\n",
       "        vertical-align: top;\n",
       "    }\n",
       "\n",
       "    .dataframe thead th {\n",
       "        text-align: right;\n",
       "    }\n",
       "</style>\n",
       "<table border=\"1\" class=\"dataframe\">\n",
       "  <thead>\n",
       "    <tr style=\"text-align: right;\">\n",
       "      <th></th>\n",
       "      <th>p</th>\n",
       "      <th>d</th>\n",
       "      <th>f</th>\n",
       "      <th>r</th>\n",
       "      <th>i</th>\n",
       "      <th>g</th>\n",
       "      <th>h</th>\n",
       "    </tr>\n",
       "  </thead>\n",
       "  <tbody>\n",
       "    <tr>\n",
       "      <th>2024-11-27 10:01:56.426491</th>\n",
       "      <td>0</td>\n",
       "      <td>0.0</td>\n",
       "      <td>0.0</td>\n",
       "      <td>0.0</td>\n",
       "      <td>0.0</td>\n",
       "      <td>0.0</td>\n",
       "      <td>0.0</td>\n",
       "    </tr>\n",
       "    <tr>\n",
       "      <th>2024-11-28 10:01:56.426491</th>\n",
       "      <td>0</td>\n",
       "      <td>0.0</td>\n",
       "      <td>0.0</td>\n",
       "      <td>0.0</td>\n",
       "      <td>0.0</td>\n",
       "      <td>0.0</td>\n",
       "      <td>0.0</td>\n",
       "    </tr>\n",
       "    <tr>\n",
       "      <th>2024-12-01 10:01:56.426491</th>\n",
       "      <td>0</td>\n",
       "      <td>0.0</td>\n",
       "      <td>0.0</td>\n",
       "      <td>0.0</td>\n",
       "      <td>0.0</td>\n",
       "      <td>0.0</td>\n",
       "      <td>0.0</td>\n",
       "    </tr>\n",
       "  </tbody>\n",
       "</table>\n",
       "</div>"
      ],
      "text/plain": [
       "                            p    d    f    r    i    g    h\n",
       "2024-11-27 10:01:56.426491  0  0.0  0.0  0.0  0.0  0.0  0.0\n",
       "2024-11-28 10:01:56.426491  0  0.0  0.0  0.0  0.0  0.0  0.0\n",
       "2024-12-01 10:01:56.426491  0  0.0  0.0  0.0  0.0  0.0  0.0"
      ]
     },
     "execution_count": 193,
     "metadata": {},
     "output_type": "execute_result"
    }
   ],
   "source": [
    "dframe1[dframe1 ['p'] ==0]"
   ]
  },
  {
   "cell_type": "code",
   "execution_count": 195,
   "id": "009ffaaf-47b8-4c38-880c-ed791e499850",
   "metadata": {},
   "outputs": [
    {
     "data": {
      "text/html": [
       "<div>\n",
       "<style scoped>\n",
       "    .dataframe tbody tr th:only-of-type {\n",
       "        vertical-align: middle;\n",
       "    }\n",
       "\n",
       "    .dataframe tbody tr th {\n",
       "        vertical-align: top;\n",
       "    }\n",
       "\n",
       "    .dataframe thead th {\n",
       "        text-align: right;\n",
       "    }\n",
       "</style>\n",
       "<table border=\"1\" class=\"dataframe\">\n",
       "  <thead>\n",
       "    <tr style=\"text-align: right;\">\n",
       "      <th></th>\n",
       "      <th>p</th>\n",
       "      <th>d</th>\n",
       "      <th>f</th>\n",
       "      <th>r</th>\n",
       "      <th>i</th>\n",
       "      <th>g</th>\n",
       "      <th>h</th>\n",
       "    </tr>\n",
       "  </thead>\n",
       "  <tbody>\n",
       "    <tr>\n",
       "      <th>2024-11-27 10:01:56.426491</th>\n",
       "      <td>99</td>\n",
       "      <td>99.000000</td>\n",
       "      <td>99.000000</td>\n",
       "      <td>99.000000</td>\n",
       "      <td>99.000000</td>\n",
       "      <td>99.000000</td>\n",
       "      <td>99.000000</td>\n",
       "    </tr>\n",
       "    <tr>\n",
       "      <th>2024-11-28 10:01:56.426491</th>\n",
       "      <td>99</td>\n",
       "      <td>99.000000</td>\n",
       "      <td>99.000000</td>\n",
       "      <td>99.000000</td>\n",
       "      <td>99.000000</td>\n",
       "      <td>99.000000</td>\n",
       "      <td>99.000000</td>\n",
       "    </tr>\n",
       "    <tr>\n",
       "      <th>2024-11-29 10:01:56.426491</th>\n",
       "      <td>888</td>\n",
       "      <td>0.880460</td>\n",
       "      <td>0.355617</td>\n",
       "      <td>0.166764</td>\n",
       "      <td>0.964044</td>\n",
       "      <td>0.315774</td>\n",
       "      <td>0.927434</td>\n",
       "    </tr>\n",
       "    <tr>\n",
       "      <th>2024-11-30 10:01:56.426491</th>\n",
       "      <td>888</td>\n",
       "      <td>0.032641</td>\n",
       "      <td>0.648656</td>\n",
       "      <td>0.038813</td>\n",
       "      <td>0.804549</td>\n",
       "      <td>0.437385</td>\n",
       "      <td>0.209462</td>\n",
       "    </tr>\n",
       "    <tr>\n",
       "      <th>2024-12-01 10:01:56.426491</th>\n",
       "      <td>99</td>\n",
       "      <td>99.000000</td>\n",
       "      <td>99.000000</td>\n",
       "      <td>99.000000</td>\n",
       "      <td>99.000000</td>\n",
       "      <td>99.000000</td>\n",
       "      <td>99.000000</td>\n",
       "    </tr>\n",
       "  </tbody>\n",
       "</table>\n",
       "</div>"
      ],
      "text/plain": [
       "                              p          d          f          r          i  \\\n",
       "2024-11-27 10:01:56.426491   99  99.000000  99.000000  99.000000  99.000000   \n",
       "2024-11-28 10:01:56.426491   99  99.000000  99.000000  99.000000  99.000000   \n",
       "2024-11-29 10:01:56.426491  888   0.880460   0.355617   0.166764   0.964044   \n",
       "2024-11-30 10:01:56.426491  888   0.032641   0.648656   0.038813   0.804549   \n",
       "2024-12-01 10:01:56.426491   99  99.000000  99.000000  99.000000  99.000000   \n",
       "\n",
       "                                    g          h  \n",
       "2024-11-27 10:01:56.426491  99.000000  99.000000  \n",
       "2024-11-28 10:01:56.426491  99.000000  99.000000  \n",
       "2024-11-29 10:01:56.426491   0.315774   0.927434  \n",
       "2024-11-30 10:01:56.426491   0.437385   0.209462  \n",
       "2024-12-01 10:01:56.426491  99.000000  99.000000  "
      ]
     },
     "execution_count": 195,
     "metadata": {},
     "output_type": "execute_result"
    }
   ],
   "source": [
    " # Replace zeros in Column C1 with 99\n",
    " dframe1[dframe1['p'].isin([0])]=99\n",
    " dframe1"
   ]
  },
  {
   "cell_type": "code",
   "execution_count": 197,
   "id": "3d8a8afa-9326-48f1-9beb-196802e6327a",
   "metadata": {},
   "outputs": [
    {
     "data": {
      "text/html": [
       "<div>\n",
       "<style scoped>\n",
       "    .dataframe tbody tr th:only-of-type {\n",
       "        vertical-align: middle;\n",
       "    }\n",
       "\n",
       "    .dataframe tbody tr th {\n",
       "        vertical-align: top;\n",
       "    }\n",
       "\n",
       "    .dataframe thead th {\n",
       "        text-align: right;\n",
       "    }\n",
       "</style>\n",
       "<table border=\"1\" class=\"dataframe\">\n",
       "  <thead>\n",
       "    <tr style=\"text-align: right;\">\n",
       "      <th></th>\n",
       "      <th>p</th>\n",
       "      <th>d</th>\n",
       "      <th>f</th>\n",
       "      <th>r</th>\n",
       "      <th>i</th>\n",
       "      <th>g</th>\n",
       "      <th>h</th>\n",
       "    </tr>\n",
       "  </thead>\n",
       "  <tbody>\n",
       "    <tr>\n",
       "      <th>2024-11-27 10:01:56.426491</th>\n",
       "      <td>888</td>\n",
       "      <td>0.503948</td>\n",
       "      <td>0.378804</td>\n",
       "      <td>0.313966</td>\n",
       "      <td>0.499391</td>\n",
       "      <td>0.717358</td>\n",
       "      <td>0.216579</td>\n",
       "    </tr>\n",
       "    <tr>\n",
       "      <th>2024-11-28 10:01:56.426491</th>\n",
       "      <td>888</td>\n",
       "      <td>0.286696</td>\n",
       "      <td>0.289912</td>\n",
       "      <td>0.016489</td>\n",
       "      <td>0.475933</td>\n",
       "      <td>0.932080</td>\n",
       "      <td>0.535783</td>\n",
       "    </tr>\n",
       "    <tr>\n",
       "      <th>2024-11-29 10:01:56.426491</th>\n",
       "      <td>888</td>\n",
       "      <td>0.880460</td>\n",
       "      <td>0.355617</td>\n",
       "      <td>0.166764</td>\n",
       "      <td>0.964044</td>\n",
       "      <td>0.315774</td>\n",
       "      <td>0.927434</td>\n",
       "    </tr>\n",
       "    <tr>\n",
       "      <th>2024-11-30 10:01:56.426491</th>\n",
       "      <td>888</td>\n",
       "      <td>0.032641</td>\n",
       "      <td>0.648656</td>\n",
       "      <td>0.038813</td>\n",
       "      <td>0.804549</td>\n",
       "      <td>0.437385</td>\n",
       "      <td>0.209462</td>\n",
       "    </tr>\n",
       "    <tr>\n",
       "      <th>2024-12-01 10:01:56.426491</th>\n",
       "      <td>888</td>\n",
       "      <td>0.237398</td>\n",
       "      <td>0.016033</td>\n",
       "      <td>0.480659</td>\n",
       "      <td>0.874758</td>\n",
       "      <td>0.514036</td>\n",
       "      <td>0.107777</td>\n",
       "    </tr>\n",
       "  </tbody>\n",
       "</table>\n",
       "</div>"
      ],
      "text/plain": [
       "                              p         d         f         r         i  \\\n",
       "2024-11-27 10:01:56.426491  888  0.503948  0.378804  0.313966  0.499391   \n",
       "2024-11-28 10:01:56.426491  888  0.286696  0.289912  0.016489  0.475933   \n",
       "2024-11-29 10:01:56.426491  888  0.880460  0.355617  0.166764  0.964044   \n",
       "2024-11-30 10:01:56.426491  888  0.032641  0.648656  0.038813  0.804549   \n",
       "2024-12-01 10:01:56.426491  888  0.237398  0.016033  0.480659  0.874758   \n",
       "\n",
       "                                   g         h  \n",
       "2024-11-27 10:01:56.426491  0.717358  0.216579  \n",
       "2024-11-28 10:01:56.426491  0.932080  0.535783  \n",
       "2024-11-29 10:01:56.426491  0.315774  0.927434  \n",
       "2024-11-30 10:01:56.426491  0.437385  0.209462  \n",
       "2024-12-01 10:01:56.426491  0.514036  0.107777  "
      ]
     },
     "execution_count": 197,
     "metadata": {},
     "output_type": "execute_result"
    }
   ],
   "source": [
    "dframe"
   ]
  },
  {
   "cell_type": "code",
   "execution_count": 199,
   "id": "2163ef03-6fda-4708-aea9-8db13eae4101",
   "metadata": {},
   "outputs": [
    {
     "data": {
      "text/html": [
       "<div>\n",
       "<style scoped>\n",
       "    .dataframe tbody tr th:only-of-type {\n",
       "        vertical-align: middle;\n",
       "    }\n",
       "\n",
       "    .dataframe tbody tr th {\n",
       "        vertical-align: top;\n",
       "    }\n",
       "\n",
       "    .dataframe thead th {\n",
       "        text-align: right;\n",
       "    }\n",
       "</style>\n",
       "<table border=\"1\" class=\"dataframe\">\n",
       "  <thead>\n",
       "    <tr style=\"text-align: right;\">\n",
       "      <th></th>\n",
       "      <th>p</th>\n",
       "      <th>d</th>\n",
       "      <th>f</th>\n",
       "      <th>r</th>\n",
       "      <th>i</th>\n",
       "      <th>g</th>\n",
       "      <th>h</th>\n",
       "    </tr>\n",
       "  </thead>\n",
       "  <tbody>\n",
       "    <tr>\n",
       "      <th>2024-11-27 10:01:56.426491</th>\n",
       "      <td>99</td>\n",
       "      <td>99.0</td>\n",
       "      <td>99.0</td>\n",
       "      <td>99.0</td>\n",
       "      <td>99.0</td>\n",
       "      <td>99.0</td>\n",
       "      <td>99.0</td>\n",
       "    </tr>\n",
       "    <tr>\n",
       "      <th>2024-11-28 10:01:56.426491</th>\n",
       "      <td>99</td>\n",
       "      <td>99.0</td>\n",
       "      <td>99.0</td>\n",
       "      <td>99.0</td>\n",
       "      <td>99.0</td>\n",
       "      <td>99.0</td>\n",
       "      <td>99.0</td>\n",
       "    </tr>\n",
       "    <tr>\n",
       "      <th>2024-12-01 10:01:56.426491</th>\n",
       "      <td>99</td>\n",
       "      <td>99.0</td>\n",
       "      <td>99.0</td>\n",
       "      <td>99.0</td>\n",
       "      <td>99.0</td>\n",
       "      <td>99.0</td>\n",
       "      <td>99.0</td>\n",
       "    </tr>\n",
       "  </tbody>\n",
       "</table>\n",
       "</div>"
      ],
      "text/plain": [
       "                             p     d     f     r     i     g     h\n",
       "2024-11-27 10:01:56.426491  99  99.0  99.0  99.0  99.0  99.0  99.0\n",
       "2024-11-28 10:01:56.426491  99  99.0  99.0  99.0  99.0  99.0  99.0\n",
       "2024-12-01 10:01:56.426491  99  99.0  99.0  99.0  99.0  99.0  99.0"
      ]
     },
     "execution_count": 199,
     "metadata": {},
     "output_type": "execute_result"
    }
   ],
   "source": [
    " # Display all rows where value of C1 is 99\n",
    " dframe1[dframe1['p']==99]"
   ]
  },
  {
   "cell_type": "code",
   "execution_count": 201,
   "id": "62c3f8d9-3716-4ad6-ae50-0cc0d88969d5",
   "metadata": {},
   "outputs": [
    {
     "data": {
      "text/html": [
       "<div>\n",
       "<style scoped>\n",
       "    .dataframe tbody tr th:only-of-type {\n",
       "        vertical-align: middle;\n",
       "    }\n",
       "\n",
       "    .dataframe tbody tr th {\n",
       "        vertical-align: top;\n",
       "    }\n",
       "\n",
       "    .dataframe thead th {\n",
       "        text-align: right;\n",
       "    }\n",
       "</style>\n",
       "<table border=\"1\" class=\"dataframe\">\n",
       "  <thead>\n",
       "    <tr style=\"text-align: right;\">\n",
       "      <th></th>\n",
       "      <th>p</th>\n",
       "      <th>d</th>\n",
       "      <th>f</th>\n",
       "      <th>r</th>\n",
       "      <th>i</th>\n",
       "      <th>g</th>\n",
       "      <th>h</th>\n",
       "    </tr>\n",
       "  </thead>\n",
       "  <tbody>\n",
       "    <tr>\n",
       "      <th>2024-11-29 10:01:56.426491</th>\n",
       "      <td>888</td>\n",
       "      <td>0.880460</td>\n",
       "      <td>0.355617</td>\n",
       "      <td>0.166764</td>\n",
       "      <td>0.964044</td>\n",
       "      <td>0.315774</td>\n",
       "      <td>0.927434</td>\n",
       "    </tr>\n",
       "    <tr>\n",
       "      <th>2024-11-30 10:01:56.426491</th>\n",
       "      <td>888</td>\n",
       "      <td>0.032641</td>\n",
       "      <td>0.648656</td>\n",
       "      <td>0.038813</td>\n",
       "      <td>0.804549</td>\n",
       "      <td>0.437385</td>\n",
       "      <td>0.209462</td>\n",
       "    </tr>\n",
       "  </tbody>\n",
       "</table>\n",
       "</div>"
      ],
      "text/plain": [
       "                              p         d         f         r         i  \\\n",
       "2024-11-29 10:01:56.426491  888  0.880460  0.355617  0.166764  0.964044   \n",
       "2024-11-30 10:01:56.426491  888  0.032641  0.648656  0.038813  0.804549   \n",
       "\n",
       "                                   g         h  \n",
       "2024-11-29 10:01:56.426491  0.315774  0.927434  \n",
       "2024-11-30 10:01:56.426491  0.437385  0.209462  "
      ]
     },
     "execution_count": 201,
     "metadata": {},
     "output_type": "execute_result"
    }
   ],
   "source": [
    " # Display all rows where value of C1 is 99\n",
    " dframe1[dframe1['p']==888]"
   ]
  },
  {
   "cell_type": "markdown",
   "id": "f0562423-6f9a-4e4a-8309-fe5f33f650e2",
   "metadata": {},
   "source": [
    "#dealing with null values"
   ]
  },
  {
   "cell_type": "code",
   "execution_count": 204,
   "id": "45547b99-16d9-4f63-a597-ed193d121446",
   "metadata": {
    "scrolled": true
   },
   "outputs": [
    {
     "ename": "TypeError",
     "evalue": "Slicing a positional slice with .loc is not allowed, Use .loc with labels or .iloc with positions instead.",
     "output_type": "error",
     "traceback": [
      "\u001b[1;31m---------------------------------------------------------------------------\u001b[0m",
      "\u001b[1;31mTypeError\u001b[0m                                 Traceback (most recent call last)",
      "Cell \u001b[1;32mIn[204], line 1\u001b[0m\n\u001b[1;32m----> 1\u001b[0m dframe\u001b[38;5;241m.\u001b[39mloc[\u001b[38;5;241m0\u001b[39m:\u001b[38;5;241m8\u001b[39m, \u001b[38;5;124m'\u001b[39m\u001b[38;5;124mp\u001b[39m\u001b[38;5;124m'\u001b[39m]\u001b[38;5;241m=\u001b[39m np\u001b[38;5;241m.\u001b[39mNaN\n\u001b[0;32m      2\u001b[0m dframe\u001b[38;5;241m.\u001b[39mloc[\u001b[38;5;241m0\u001b[39m:\u001b[38;5;241m2\u001b[39m, \u001b[38;5;124m'\u001b[39m\u001b[38;5;124mf\u001b[39m\u001b[38;5;124m'\u001b[39m]\u001b[38;5;241m=\u001b[39m np\u001b[38;5;241m.\u001b[39mNaN\n\u001b[0;32m      3\u001b[0m dframe\u001b[38;5;241m.\u001b[39mloc[\u001b[38;5;241m5\u001b[39m:\u001b[38;5;241m6\u001b[39m, \u001b[38;5;124m'\u001b[39m\u001b[38;5;124md\u001b[39m\u001b[38;5;124m'\u001b[39m]\u001b[38;5;241m=\u001b[39m np\u001b[38;5;241m.\u001b[39mNaN\n",
      "File \u001b[1;32m~\\anaconda3\\Lib\\site-packages\\pandas\\core\\indexing.py:907\u001b[0m, in \u001b[0;36m_LocationIndexer.__setitem__\u001b[1;34m(self, key, value)\u001b[0m\n\u001b[0;32m    905\u001b[0m     maybe_callable \u001b[38;5;241m=\u001b[39m com\u001b[38;5;241m.\u001b[39mapply_if_callable(key, \u001b[38;5;28mself\u001b[39m\u001b[38;5;241m.\u001b[39mobj)\n\u001b[0;32m    906\u001b[0m     key \u001b[38;5;241m=\u001b[39m \u001b[38;5;28mself\u001b[39m\u001b[38;5;241m.\u001b[39m_check_deprecated_callable_usage(key, maybe_callable)\n\u001b[1;32m--> 907\u001b[0m indexer \u001b[38;5;241m=\u001b[39m \u001b[38;5;28mself\u001b[39m\u001b[38;5;241m.\u001b[39m_get_setitem_indexer(key)\n\u001b[0;32m    908\u001b[0m \u001b[38;5;28mself\u001b[39m\u001b[38;5;241m.\u001b[39m_has_valid_setitem_indexer(key)\n\u001b[0;32m    910\u001b[0m iloc \u001b[38;5;241m=\u001b[39m \u001b[38;5;28mself\u001b[39m \u001b[38;5;28;01mif\u001b[39;00m \u001b[38;5;28mself\u001b[39m\u001b[38;5;241m.\u001b[39mname \u001b[38;5;241m==\u001b[39m \u001b[38;5;124m\"\u001b[39m\u001b[38;5;124miloc\u001b[39m\u001b[38;5;124m\"\u001b[39m \u001b[38;5;28;01melse\u001b[39;00m \u001b[38;5;28mself\u001b[39m\u001b[38;5;241m.\u001b[39mobj\u001b[38;5;241m.\u001b[39miloc\n",
      "File \u001b[1;32m~\\anaconda3\\Lib\\site-packages\\pandas\\core\\indexing.py:774\u001b[0m, in \u001b[0;36m_LocationIndexer._get_setitem_indexer\u001b[1;34m(self, key)\u001b[0m\n\u001b[0;32m    771\u001b[0m \u001b[38;5;28;01mif\u001b[39;00m \u001b[38;5;28misinstance\u001b[39m(key, \u001b[38;5;28mtuple\u001b[39m):\n\u001b[0;32m    772\u001b[0m     \u001b[38;5;28;01mwith\u001b[39;00m suppress(IndexingError):\n\u001b[0;32m    773\u001b[0m         \u001b[38;5;66;03m# suppress \"Too many indexers\"\u001b[39;00m\n\u001b[1;32m--> 774\u001b[0m         \u001b[38;5;28;01mreturn\u001b[39;00m \u001b[38;5;28mself\u001b[39m\u001b[38;5;241m.\u001b[39m_convert_tuple(key)\n\u001b[0;32m    776\u001b[0m \u001b[38;5;28;01mif\u001b[39;00m \u001b[38;5;28misinstance\u001b[39m(key, \u001b[38;5;28mrange\u001b[39m):\n\u001b[0;32m    777\u001b[0m     \u001b[38;5;66;03m# GH#45479 test_loc_setitem_range_key\u001b[39;00m\n\u001b[0;32m    778\u001b[0m     key \u001b[38;5;241m=\u001b[39m \u001b[38;5;28mlist\u001b[39m(key)\n",
      "File \u001b[1;32m~\\anaconda3\\Lib\\site-packages\\pandas\\core\\indexing.py:989\u001b[0m, in \u001b[0;36m_LocationIndexer._convert_tuple\u001b[1;34m(self, key)\u001b[0m\n\u001b[0;32m    985\u001b[0m \u001b[38;5;129m@final\u001b[39m\n\u001b[0;32m    986\u001b[0m \u001b[38;5;28;01mdef\u001b[39;00m \u001b[38;5;21m_convert_tuple\u001b[39m(\u001b[38;5;28mself\u001b[39m, key: \u001b[38;5;28mtuple\u001b[39m) \u001b[38;5;241m-\u001b[39m\u001b[38;5;241m>\u001b[39m \u001b[38;5;28mtuple\u001b[39m:\n\u001b[0;32m    987\u001b[0m     \u001b[38;5;66;03m# Note: we assume _tupleize_axis_indexer has been called, if necessary.\u001b[39;00m\n\u001b[0;32m    988\u001b[0m     \u001b[38;5;28mself\u001b[39m\u001b[38;5;241m.\u001b[39m_validate_key_length(key)\n\u001b[1;32m--> 989\u001b[0m     keyidx \u001b[38;5;241m=\u001b[39m [\u001b[38;5;28mself\u001b[39m\u001b[38;5;241m.\u001b[39m_convert_to_indexer(k, axis\u001b[38;5;241m=\u001b[39mi) \u001b[38;5;28;01mfor\u001b[39;00m i, k \u001b[38;5;129;01min\u001b[39;00m \u001b[38;5;28menumerate\u001b[39m(key)]\n\u001b[0;32m    990\u001b[0m     \u001b[38;5;28;01mreturn\u001b[39;00m \u001b[38;5;28mtuple\u001b[39m(keyidx)\n",
      "File \u001b[1;32m~\\anaconda3\\Lib\\site-packages\\pandas\\core\\indexing.py:1470\u001b[0m, in \u001b[0;36m_LocIndexer._convert_to_indexer\u001b[1;34m(self, key, axis)\u001b[0m\n\u001b[0;32m   1467\u001b[0m labels \u001b[38;5;241m=\u001b[39m \u001b[38;5;28mself\u001b[39m\u001b[38;5;241m.\u001b[39mobj\u001b[38;5;241m.\u001b[39m_get_axis(axis)\n\u001b[0;32m   1469\u001b[0m \u001b[38;5;28;01mif\u001b[39;00m \u001b[38;5;28misinstance\u001b[39m(key, \u001b[38;5;28mslice\u001b[39m):\n\u001b[1;32m-> 1470\u001b[0m     \u001b[38;5;28;01mreturn\u001b[39;00m labels\u001b[38;5;241m.\u001b[39m_convert_slice_indexer(key, kind\u001b[38;5;241m=\u001b[39m\u001b[38;5;124m\"\u001b[39m\u001b[38;5;124mloc\u001b[39m\u001b[38;5;124m\"\u001b[39m)\n\u001b[0;32m   1472\u001b[0m \u001b[38;5;28;01mif\u001b[39;00m (\n\u001b[0;32m   1473\u001b[0m     \u001b[38;5;28misinstance\u001b[39m(key, \u001b[38;5;28mtuple\u001b[39m)\n\u001b[0;32m   1474\u001b[0m     \u001b[38;5;129;01mand\u001b[39;00m \u001b[38;5;129;01mnot\u001b[39;00m \u001b[38;5;28misinstance\u001b[39m(labels, MultiIndex)\n\u001b[0;32m   1475\u001b[0m     \u001b[38;5;129;01mand\u001b[39;00m \u001b[38;5;28mself\u001b[39m\u001b[38;5;241m.\u001b[39mndim \u001b[38;5;241m<\u001b[39m \u001b[38;5;241m2\u001b[39m\n\u001b[0;32m   1476\u001b[0m     \u001b[38;5;129;01mand\u001b[39;00m \u001b[38;5;28mlen\u001b[39m(key) \u001b[38;5;241m>\u001b[39m \u001b[38;5;241m1\u001b[39m\n\u001b[0;32m   1477\u001b[0m ):\n\u001b[0;32m   1478\u001b[0m     \u001b[38;5;28;01mraise\u001b[39;00m IndexingError(\u001b[38;5;124m\"\u001b[39m\u001b[38;5;124mToo many indexers\u001b[39m\u001b[38;5;124m\"\u001b[39m)\n",
      "File \u001b[1;32m~\\anaconda3\\Lib\\site-packages\\pandas\\core\\indexes\\base.py:4275\u001b[0m, in \u001b[0;36mIndex._convert_slice_indexer\u001b[1;34m(self, key, kind)\u001b[0m\n\u001b[0;32m   4272\u001b[0m \u001b[38;5;28;01melif\u001b[39;00m is_positional:\n\u001b[0;32m   4273\u001b[0m     \u001b[38;5;28;01mif\u001b[39;00m kind \u001b[38;5;241m==\u001b[39m \u001b[38;5;124m\"\u001b[39m\u001b[38;5;124mloc\u001b[39m\u001b[38;5;124m\"\u001b[39m:\n\u001b[0;32m   4274\u001b[0m         \u001b[38;5;66;03m# GH#16121, GH#24612, GH#31810\u001b[39;00m\n\u001b[1;32m-> 4275\u001b[0m         \u001b[38;5;28;01mraise\u001b[39;00m \u001b[38;5;167;01mTypeError\u001b[39;00m(\n\u001b[0;32m   4276\u001b[0m             \u001b[38;5;124m\"\u001b[39m\u001b[38;5;124mSlicing a positional slice with .loc is not allowed, \u001b[39m\u001b[38;5;124m\"\u001b[39m\n\u001b[0;32m   4277\u001b[0m             \u001b[38;5;124m\"\u001b[39m\u001b[38;5;124mUse .loc with labels or .iloc with positions instead.\u001b[39m\u001b[38;5;124m\"\u001b[39m,\n\u001b[0;32m   4278\u001b[0m         )\n\u001b[0;32m   4279\u001b[0m     indexer \u001b[38;5;241m=\u001b[39m key\n\u001b[0;32m   4280\u001b[0m \u001b[38;5;28;01melse\u001b[39;00m:\n",
      "\u001b[1;31mTypeError\u001b[0m: Slicing a positional slice with .loc is not allowed, Use .loc with labels or .iloc with positions instead."
     ]
    }
   ],
   "source": [
    "dframe.loc[0:8, 'p']= np.NaN\n",
    "dframe.loc[0:2, 'f']= np.NaN\n",
    "dframe.loc[5:6, 'd']= np.NaN\n",
    "dframe"
   ]
  },
  {
   "cell_type": "code",
   "execution_count": null,
   "id": "93495b71-32be-4b49-9d38-f0fac69a72c9",
   "metadata": {},
   "outputs": [],
   "source": [
    "dframe"
   ]
  },
  {
   "cell_type": "code",
   "execution_count": null,
   "id": "caa8d105-19d4-48a5-9c48-aac8937a542d",
   "metadata": {
    "scrolled": true
   },
   "outputs": [],
   "source": [
    "dframe.notna()"
   ]
  },
  {
   "cell_type": "code",
   "execution_count": null,
   "id": "f0bb9e4d-be8b-488b-95be-caf868ee9f75",
   "metadata": {},
   "outputs": [],
   "source": [
    "dframe.isna()"
   ]
  },
  {
   "cell_type": "code",
   "execution_count": 209,
   "id": "531b7335-2b06-46b4-bc3f-8032e6a9f72c",
   "metadata": {},
   "outputs": [
    {
     "data": {
      "text/html": [
       "<div>\n",
       "<style scoped>\n",
       "    .dataframe tbody tr th:only-of-type {\n",
       "        vertical-align: middle;\n",
       "    }\n",
       "\n",
       "    .dataframe tbody tr th {\n",
       "        vertical-align: top;\n",
       "    }\n",
       "\n",
       "    .dataframe thead th {\n",
       "        text-align: right;\n",
       "    }\n",
       "</style>\n",
       "<table border=\"1\" class=\"dataframe\">\n",
       "  <thead>\n",
       "    <tr style=\"text-align: right;\">\n",
       "      <th></th>\n",
       "      <th>p</th>\n",
       "      <th>d</th>\n",
       "      <th>f</th>\n",
       "      <th>r</th>\n",
       "      <th>i</th>\n",
       "      <th>g</th>\n",
       "      <th>h</th>\n",
       "    </tr>\n",
       "  </thead>\n",
       "  <tbody>\n",
       "    <tr>\n",
       "      <th>2024-11-27 10:01:56.426491</th>\n",
       "      <td>888</td>\n",
       "      <td>0.503948</td>\n",
       "      <td>0.378804</td>\n",
       "      <td>0.313966</td>\n",
       "      <td>0.499391</td>\n",
       "      <td>0.717358</td>\n",
       "      <td>0.216579</td>\n",
       "    </tr>\n",
       "    <tr>\n",
       "      <th>2024-11-28 10:01:56.426491</th>\n",
       "      <td>888</td>\n",
       "      <td>0.286696</td>\n",
       "      <td>0.289912</td>\n",
       "      <td>0.016489</td>\n",
       "      <td>0.475933</td>\n",
       "      <td>0.932080</td>\n",
       "      <td>0.535783</td>\n",
       "    </tr>\n",
       "    <tr>\n",
       "      <th>2024-11-29 10:01:56.426491</th>\n",
       "      <td>888</td>\n",
       "      <td>0.880460</td>\n",
       "      <td>0.355617</td>\n",
       "      <td>0.166764</td>\n",
       "      <td>0.964044</td>\n",
       "      <td>0.315774</td>\n",
       "      <td>0.927434</td>\n",
       "    </tr>\n",
       "    <tr>\n",
       "      <th>2024-11-30 10:01:56.426491</th>\n",
       "      <td>888</td>\n",
       "      <td>0.032641</td>\n",
       "      <td>0.648656</td>\n",
       "      <td>0.038813</td>\n",
       "      <td>0.804549</td>\n",
       "      <td>0.437385</td>\n",
       "      <td>0.209462</td>\n",
       "    </tr>\n",
       "    <tr>\n",
       "      <th>2024-12-01 10:01:56.426491</th>\n",
       "      <td>888</td>\n",
       "      <td>0.237398</td>\n",
       "      <td>0.016033</td>\n",
       "      <td>0.480659</td>\n",
       "      <td>0.874758</td>\n",
       "      <td>0.514036</td>\n",
       "      <td>0.107777</td>\n",
       "    </tr>\n",
       "  </tbody>\n",
       "</table>\n",
       "</div>"
      ],
      "text/plain": [
       "                              p         d         f         r         i  \\\n",
       "2024-11-27 10:01:56.426491  888  0.503948  0.378804  0.313966  0.499391   \n",
       "2024-11-28 10:01:56.426491  888  0.286696  0.289912  0.016489  0.475933   \n",
       "2024-11-29 10:01:56.426491  888  0.880460  0.355617  0.166764  0.964044   \n",
       "2024-11-30 10:01:56.426491  888  0.032641  0.648656  0.038813  0.804549   \n",
       "2024-12-01 10:01:56.426491  888  0.237398  0.016033  0.480659  0.874758   \n",
       "\n",
       "                                   g         h  \n",
       "2024-11-27 10:01:56.426491  0.717358  0.216579  \n",
       "2024-11-28 10:01:56.426491  0.932080  0.535783  \n",
       "2024-11-29 10:01:56.426491  0.315774  0.927434  \n",
       "2024-11-30 10:01:56.426491  0.437385  0.209462  \n",
       "2024-12-01 10:01:56.426491  0.514036  0.107777  "
      ]
     },
     "execution_count": 209,
     "metadata": {},
     "output_type": "execute_result"
    }
   ],
   "source": [
    "dframe= dframe.fillna(1020)\n",
    "dframe"
   ]
  },
  {
   "cell_type": "code",
   "execution_count": 211,
   "id": "f5b726e8-1b50-49a1-bdf9-018ebdffc37f",
   "metadata": {
    "scrolled": true
   },
   "outputs": [
    {
     "ename": "InvalidIndexError",
     "evalue": "You can only assign a scalar value not a <class 'float'>",
     "output_type": "error",
     "traceback": [
      "\u001b[1;31m---------------------------------------------------------------------------\u001b[0m",
      "\u001b[1;31mInvalidIndexError\u001b[0m                         Traceback (most recent call last)",
      "File \u001b[1;32m~\\anaconda3\\Lib\\site-packages\\pandas\\core\\frame.py:4562\u001b[0m, in \u001b[0;36mDataFrame._set_value\u001b[1;34m(self, index, col, value, takeable)\u001b[0m\n\u001b[0;32m   4561\u001b[0m     icol \u001b[38;5;241m=\u001b[39m \u001b[38;5;28mself\u001b[39m\u001b[38;5;241m.\u001b[39mcolumns\u001b[38;5;241m.\u001b[39mget_loc(col)\n\u001b[1;32m-> 4562\u001b[0m     iindex \u001b[38;5;241m=\u001b[39m \u001b[38;5;28mself\u001b[39m\u001b[38;5;241m.\u001b[39mindex\u001b[38;5;241m.\u001b[39mget_loc(index)\n\u001b[0;32m   4563\u001b[0m \u001b[38;5;28mself\u001b[39m\u001b[38;5;241m.\u001b[39m_mgr\u001b[38;5;241m.\u001b[39mcolumn_setitem(icol, iindex, value, inplace_only\u001b[38;5;241m=\u001b[39m\u001b[38;5;28;01mTrue\u001b[39;00m)\n",
      "File \u001b[1;32m~\\anaconda3\\Lib\\site-packages\\pandas\\core\\indexes\\datetimes.py:590\u001b[0m, in \u001b[0;36mDatetimeIndex.get_loc\u001b[1;34m(self, key)\u001b[0m\n\u001b[0;32m    583\u001b[0m \u001b[38;5;250m\u001b[39m\u001b[38;5;124;03m\"\"\"\u001b[39;00m\n\u001b[0;32m    584\u001b[0m \u001b[38;5;124;03mGet integer location for requested label\u001b[39;00m\n\u001b[0;32m    585\u001b[0m \n\u001b[1;32m   (...)\u001b[0m\n\u001b[0;32m    588\u001b[0m \u001b[38;5;124;03mloc : int\u001b[39;00m\n\u001b[0;32m    589\u001b[0m \u001b[38;5;124;03m\"\"\"\u001b[39;00m\n\u001b[1;32m--> 590\u001b[0m \u001b[38;5;28mself\u001b[39m\u001b[38;5;241m.\u001b[39m_check_indexing_error(key)\n\u001b[0;32m    592\u001b[0m orig_key \u001b[38;5;241m=\u001b[39m key\n",
      "File \u001b[1;32m~\\anaconda3\\Lib\\site-packages\\pandas\\core\\indexes\\base.py:6059\u001b[0m, in \u001b[0;36mIndex._check_indexing_error\u001b[1;34m(self, key)\u001b[0m\n\u001b[0;32m   6056\u001b[0m \u001b[38;5;28;01mif\u001b[39;00m \u001b[38;5;129;01mnot\u001b[39;00m is_scalar(key):\n\u001b[0;32m   6057\u001b[0m     \u001b[38;5;66;03m# if key is not a scalar, directly raise an error (the code below\u001b[39;00m\n\u001b[0;32m   6058\u001b[0m     \u001b[38;5;66;03m# would convert to numpy arrays and raise later any way) - GH29926\u001b[39;00m\n\u001b[1;32m-> 6059\u001b[0m     \u001b[38;5;28;01mraise\u001b[39;00m InvalidIndexError(key)\n",
      "\u001b[1;31mInvalidIndexError\u001b[0m: slice(0, 5, None)",
      "\nThe above exception was the direct cause of the following exception:\n",
      "\u001b[1;31mInvalidIndexError\u001b[0m                         Traceback (most recent call last)",
      "\u001b[1;32m~\\AppData\\Local\\Temp\\ipykernel_10732\\442920364.py\u001b[0m in \u001b[0;36m?\u001b[1;34m()\u001b[0m\n\u001b[1;32m----> 1\u001b[1;33m \u001b[0mdframe\u001b[0m\u001b[1;33m.\u001b[0m\u001b[0mat\u001b[0m\u001b[1;33m[\u001b[0m\u001b[1;36m0\u001b[0m\u001b[1;33m:\u001b[0m\u001b[1;36m5\u001b[0m \u001b[1;33m,\u001b[0m \u001b[1;34m'f'\u001b[0m\u001b[1;33m]\u001b[0m \u001b[1;33m=\u001b[0m \u001b[0mnp\u001b[0m\u001b[1;33m.\u001b[0m\u001b[0mNaN\u001b[0m\u001b[1;33m\u001b[0m\u001b[1;33m\u001b[0m\u001b[0m\n\u001b[0m\u001b[0;32m      2\u001b[0m \u001b[0mdframe\u001b[0m\u001b[1;33m.\u001b[0m\u001b[0mat\u001b[0m\u001b[1;33m[\u001b[0m\u001b[1;36m0\u001b[0m\u001b[1;33m:\u001b[0m\u001b[1;36m2\u001b[0m \u001b[1;33m,\u001b[0m \u001b[1;34m'r'\u001b[0m\u001b[1;33m]\u001b[0m \u001b[1;33m=\u001b[0m \u001b[0mnp\u001b[0m\u001b[1;33m.\u001b[0m\u001b[0mNaN\u001b[0m\u001b[1;33m\u001b[0m\u001b[1;33m\u001b[0m\u001b[0m\n\u001b[0;32m      3\u001b[0m \u001b[0mdframe\u001b[0m\u001b[1;33m.\u001b[0m\u001b[0mat\u001b[0m\u001b[1;33m[\u001b[0m\u001b[1;36m5\u001b[0m\u001b[1;33m:\u001b[0m\u001b[1;36m6\u001b[0m \u001b[1;33m,\u001b[0m \u001b[1;34m'g'\u001b[0m\u001b[1;33m]\u001b[0m \u001b[1;33m=\u001b[0m \u001b[0mnp\u001b[0m\u001b[1;33m.\u001b[0m\u001b[0mNaN\u001b[0m\u001b[1;33m\u001b[0m\u001b[1;33m\u001b[0m\u001b[0m\n\u001b[0;32m      4\u001b[0m \u001b[0mdframe\u001b[0m\u001b[1;33m\u001b[0m\u001b[1;33m\u001b[0m\u001b[0m\n",
      "\u001b[1;32m~\\anaconda3\\Lib\\site-packages\\pandas\\core\\indexing.py\u001b[0m in \u001b[0;36m?\u001b[1;34m(self, key, value)\u001b[0m\n\u001b[0;32m   2582\u001b[0m \u001b[1;33m\u001b[0m\u001b[0m\n\u001b[0;32m   2583\u001b[0m             \u001b[0mself\u001b[0m\u001b[1;33m.\u001b[0m\u001b[0mobj\u001b[0m\u001b[1;33m.\u001b[0m\u001b[0mloc\u001b[0m\u001b[1;33m[\u001b[0m\u001b[0mkey\u001b[0m\u001b[1;33m]\u001b[0m \u001b[1;33m=\u001b[0m \u001b[0mvalue\u001b[0m\u001b[1;33m\u001b[0m\u001b[1;33m\u001b[0m\u001b[0m\n\u001b[0;32m   2584\u001b[0m             \u001b[1;32mreturn\u001b[0m\u001b[1;33m\u001b[0m\u001b[1;33m\u001b[0m\u001b[0m\n\u001b[0;32m   2585\u001b[0m \u001b[1;33m\u001b[0m\u001b[0m\n\u001b[1;32m-> 2586\u001b[1;33m         \u001b[1;32mreturn\u001b[0m \u001b[0msuper\u001b[0m\u001b[1;33m(\u001b[0m\u001b[1;33m)\u001b[0m\u001b[1;33m.\u001b[0m\u001b[0m__setitem__\u001b[0m\u001b[1;33m(\u001b[0m\u001b[0mkey\u001b[0m\u001b[1;33m,\u001b[0m \u001b[0mvalue\u001b[0m\u001b[1;33m)\u001b[0m\u001b[1;33m\u001b[0m\u001b[1;33m\u001b[0m\u001b[0m\n\u001b[0m",
      "\u001b[1;32m~\\anaconda3\\Lib\\site-packages\\pandas\\core\\indexing.py\u001b[0m in \u001b[0;36m?\u001b[1;34m(self, key, value)\u001b[0m\n\u001b[0;32m   2538\u001b[0m         \u001b[0mkey\u001b[0m \u001b[1;33m=\u001b[0m \u001b[0mlist\u001b[0m\u001b[1;33m(\u001b[0m\u001b[0mself\u001b[0m\u001b[1;33m.\u001b[0m\u001b[0m_convert_key\u001b[0m\u001b[1;33m(\u001b[0m\u001b[0mkey\u001b[0m\u001b[1;33m)\u001b[0m\u001b[1;33m)\u001b[0m\u001b[1;33m\u001b[0m\u001b[1;33m\u001b[0m\u001b[0m\n\u001b[0;32m   2539\u001b[0m         \u001b[1;32mif\u001b[0m \u001b[0mlen\u001b[0m\u001b[1;33m(\u001b[0m\u001b[0mkey\u001b[0m\u001b[1;33m)\u001b[0m \u001b[1;33m!=\u001b[0m \u001b[0mself\u001b[0m\u001b[1;33m.\u001b[0m\u001b[0mndim\u001b[0m\u001b[1;33m:\u001b[0m\u001b[1;33m\u001b[0m\u001b[1;33m\u001b[0m\u001b[0m\n\u001b[0;32m   2540\u001b[0m             \u001b[1;32mraise\u001b[0m \u001b[0mValueError\u001b[0m\u001b[1;33m(\u001b[0m\u001b[1;34m\"Not enough indexers for scalar access (setting)!\"\u001b[0m\u001b[1;33m)\u001b[0m\u001b[1;33m\u001b[0m\u001b[1;33m\u001b[0m\u001b[0m\n\u001b[0;32m   2541\u001b[0m \u001b[1;33m\u001b[0m\u001b[0m\n\u001b[1;32m-> 2542\u001b[1;33m         \u001b[0mself\u001b[0m\u001b[1;33m.\u001b[0m\u001b[0mobj\u001b[0m\u001b[1;33m.\u001b[0m\u001b[0m_set_value\u001b[0m\u001b[1;33m(\u001b[0m\u001b[1;33m*\u001b[0m\u001b[0mkey\u001b[0m\u001b[1;33m,\u001b[0m \u001b[0mvalue\u001b[0m\u001b[1;33m=\u001b[0m\u001b[0mvalue\u001b[0m\u001b[1;33m,\u001b[0m \u001b[0mtakeable\u001b[0m\u001b[1;33m=\u001b[0m\u001b[0mself\u001b[0m\u001b[1;33m.\u001b[0m\u001b[0m_takeable\u001b[0m\u001b[1;33m)\u001b[0m\u001b[1;33m\u001b[0m\u001b[1;33m\u001b[0m\u001b[0m\n\u001b[0m",
      "\u001b[1;32m~\\anaconda3\\Lib\\site-packages\\pandas\\core\\frame.py\u001b[0m in \u001b[0;36m?\u001b[1;34m(self, index, col, value, takeable)\u001b[0m\n\u001b[0;32m   4577\u001b[0m \u001b[1;33m\u001b[0m\u001b[0m\n\u001b[0;32m   4578\u001b[0m         \u001b[1;32mexcept\u001b[0m \u001b[0mInvalidIndexError\u001b[0m \u001b[1;32mas\u001b[0m \u001b[0mii_err\u001b[0m\u001b[1;33m:\u001b[0m\u001b[1;33m\u001b[0m\u001b[1;33m\u001b[0m\u001b[0m\n\u001b[0;32m   4579\u001b[0m             \u001b[1;31m# GH48729: Seems like you are trying to assign a value to a\u001b[0m\u001b[1;33m\u001b[0m\u001b[1;33m\u001b[0m\u001b[0m\n\u001b[0;32m   4580\u001b[0m             \u001b[1;31m# row when only scalar options are permitted\u001b[0m\u001b[1;33m\u001b[0m\u001b[1;33m\u001b[0m\u001b[0m\n\u001b[1;32m-> 4581\u001b[1;33m             raise InvalidIndexError(\n\u001b[0m\u001b[0;32m   4582\u001b[0m                 \u001b[1;33mf\"\u001b[0m\u001b[1;33mYou can only assign a scalar value not a \u001b[0m\u001b[1;33m{\u001b[0m\u001b[0mtype\u001b[0m\u001b[1;33m(\u001b[0m\u001b[0mvalue\u001b[0m\u001b[1;33m)\u001b[0m\u001b[1;33m}\u001b[0m\u001b[1;33m\"\u001b[0m\u001b[1;33m\u001b[0m\u001b[1;33m\u001b[0m\u001b[0m\n\u001b[0;32m   4583\u001b[0m             \u001b[1;33m)\u001b[0m \u001b[1;32mfrom\u001b[0m \u001b[0mii_err\u001b[0m\u001b[1;33m\u001b[0m\u001b[1;33m\u001b[0m\u001b[0m\n",
      "\u001b[1;31mInvalidIndexError\u001b[0m: You can only assign a scalar value not a <class 'float'>"
     ]
    }
   ],
   "source": [
    "dframe.at[0:5 , 'f'] = np.NaN\n",
    "dframe.at[0:2 , 'r'] = np.NaN\n",
    "dframe.at[5:6 , 'g'] = np.NaN\n",
    "dframe\n"
   ]
  },
  {
   "cell_type": "code",
   "execution_count": null,
   "id": "2ca1ec4b-181c-4e29-9f1c-9f478b42d224",
   "metadata": {},
   "outputs": [],
   "source": [
    " #Replace Null values in Column 'i' with number 123\n",
    " # Replace Null values in Column 'g' with number 789\n",
    " dframe.fillna(value={'i':123, 'g':789})"
   ]
  },
  {
   "cell_type": "code",
   "execution_count": null,
   "id": "111b9316-bd62-4a55-a20b-e7865466eebb",
   "metadata": {},
   "outputs": [],
   "source": [
    "#Replace first NULL value in Column h with 789\n",
    "dframe.fillna(value={'h':789}, limit=1)"
   ]
  },
  {
   "cell_type": "code",
   "execution_count": 215,
   "id": "f816aa6c-5e34-4933-b3d8-806b3729a4fc",
   "metadata": {},
   "outputs": [
    {
     "data": {
      "text/html": [
       "<div>\n",
       "<style scoped>\n",
       "    .dataframe tbody tr th:only-of-type {\n",
       "        vertical-align: middle;\n",
       "    }\n",
       "\n",
       "    .dataframe tbody tr th {\n",
       "        vertical-align: top;\n",
       "    }\n",
       "\n",
       "    .dataframe thead th {\n",
       "        text-align: right;\n",
       "    }\n",
       "</style>\n",
       "<table border=\"1\" class=\"dataframe\">\n",
       "  <thead>\n",
       "    <tr style=\"text-align: right;\">\n",
       "      <th></th>\n",
       "      <th>p</th>\n",
       "      <th>d</th>\n",
       "      <th>f</th>\n",
       "      <th>r</th>\n",
       "      <th>i</th>\n",
       "      <th>g</th>\n",
       "      <th>h</th>\n",
       "    </tr>\n",
       "  </thead>\n",
       "  <tbody>\n",
       "    <tr>\n",
       "      <th>2024-11-27 10:01:56.426491</th>\n",
       "      <td>888</td>\n",
       "      <td>0.503948</td>\n",
       "      <td>0.378804</td>\n",
       "      <td>0.313966</td>\n",
       "      <td>0.499391</td>\n",
       "      <td>0.717358</td>\n",
       "      <td>0.216579</td>\n",
       "    </tr>\n",
       "    <tr>\n",
       "      <th>2024-11-28 10:01:56.426491</th>\n",
       "      <td>888</td>\n",
       "      <td>0.286696</td>\n",
       "      <td>0.289912</td>\n",
       "      <td>0.016489</td>\n",
       "      <td>0.475933</td>\n",
       "      <td>0.932080</td>\n",
       "      <td>0.535783</td>\n",
       "    </tr>\n",
       "    <tr>\n",
       "      <th>2024-11-29 10:01:56.426491</th>\n",
       "      <td>888</td>\n",
       "      <td>0.880460</td>\n",
       "      <td>0.355617</td>\n",
       "      <td>0.166764</td>\n",
       "      <td>0.964044</td>\n",
       "      <td>0.315774</td>\n",
       "      <td>0.927434</td>\n",
       "    </tr>\n",
       "    <tr>\n",
       "      <th>2024-11-30 10:01:56.426491</th>\n",
       "      <td>888</td>\n",
       "      <td>0.032641</td>\n",
       "      <td>0.648656</td>\n",
       "      <td>0.038813</td>\n",
       "      <td>0.804549</td>\n",
       "      <td>0.437385</td>\n",
       "      <td>0.209462</td>\n",
       "    </tr>\n",
       "    <tr>\n",
       "      <th>2024-12-01 10:01:56.426491</th>\n",
       "      <td>888</td>\n",
       "      <td>0.237398</td>\n",
       "      <td>0.016033</td>\n",
       "      <td>0.480659</td>\n",
       "      <td>0.874758</td>\n",
       "      <td>0.514036</td>\n",
       "      <td>0.107777</td>\n",
       "    </tr>\n",
       "  </tbody>\n",
       "</table>\n",
       "</div>"
      ],
      "text/plain": [
       "                              p         d         f         r         i  \\\n",
       "2024-11-27 10:01:56.426491  888  0.503948  0.378804  0.313966  0.499391   \n",
       "2024-11-28 10:01:56.426491  888  0.286696  0.289912  0.016489  0.475933   \n",
       "2024-11-29 10:01:56.426491  888  0.880460  0.355617  0.166764  0.964044   \n",
       "2024-11-30 10:01:56.426491  888  0.032641  0.648656  0.038813  0.804549   \n",
       "2024-12-01 10:01:56.426491  888  0.237398  0.016033  0.480659  0.874758   \n",
       "\n",
       "                                   g         h  \n",
       "2024-11-27 10:01:56.426491  0.717358  0.216579  \n",
       "2024-11-28 10:01:56.426491  0.932080  0.535783  \n",
       "2024-11-29 10:01:56.426491  0.315774  0.927434  \n",
       "2024-11-30 10:01:56.426491  0.437385  0.209462  \n",
       "2024-12-01 10:01:56.426491  0.514036  0.107777  "
      ]
     },
     "execution_count": 215,
     "metadata": {},
     "output_type": "execute_result"
    }
   ],
   "source": [
    "# Drop Rows with NULL values\n",
    "dframe.dropna(axis='columns')"
   ]
  },
  {
   "cell_type": "code",
   "execution_count": 217,
   "id": "fd754f72-2501-4c66-8385-03895df20ee6",
   "metadata": {},
   "outputs": [
    {
     "data": {
      "text/html": [
       "<div>\n",
       "<style scoped>\n",
       "    .dataframe tbody tr th:only-of-type {\n",
       "        vertical-align: middle;\n",
       "    }\n",
       "\n",
       "    .dataframe tbody tr th {\n",
       "        vertical-align: top;\n",
       "    }\n",
       "\n",
       "    .dataframe thead th {\n",
       "        text-align: right;\n",
       "    }\n",
       "</style>\n",
       "<table border=\"1\" class=\"dataframe\">\n",
       "  <thead>\n",
       "    <tr style=\"text-align: right;\">\n",
       "      <th></th>\n",
       "      <th>p</th>\n",
       "      <th>d</th>\n",
       "      <th>f</th>\n",
       "      <th>r</th>\n",
       "      <th>i</th>\n",
       "      <th>g</th>\n",
       "      <th>h</th>\n",
       "    </tr>\n",
       "  </thead>\n",
       "  <tbody>\n",
       "    <tr>\n",
       "      <th>2024-11-27 10:01:56.426491</th>\n",
       "      <td>888</td>\n",
       "      <td>0.503948</td>\n",
       "      <td>0.378804</td>\n",
       "      <td>0.313966</td>\n",
       "      <td>0.499391</td>\n",
       "      <td>0.717358</td>\n",
       "      <td>0.216579</td>\n",
       "    </tr>\n",
       "    <tr>\n",
       "      <th>2024-11-28 10:01:56.426491</th>\n",
       "      <td>888</td>\n",
       "      <td>0.286696</td>\n",
       "      <td>0.289912</td>\n",
       "      <td>0.016489</td>\n",
       "      <td>0.475933</td>\n",
       "      <td>0.932080</td>\n",
       "      <td>0.535783</td>\n",
       "    </tr>\n",
       "    <tr>\n",
       "      <th>2024-11-29 10:01:56.426491</th>\n",
       "      <td>888</td>\n",
       "      <td>0.880460</td>\n",
       "      <td>0.355617</td>\n",
       "      <td>0.166764</td>\n",
       "      <td>0.964044</td>\n",
       "      <td>0.315774</td>\n",
       "      <td>0.927434</td>\n",
       "    </tr>\n",
       "    <tr>\n",
       "      <th>2024-11-30 10:01:56.426491</th>\n",
       "      <td>888</td>\n",
       "      <td>0.032641</td>\n",
       "      <td>0.648656</td>\n",
       "      <td>0.038813</td>\n",
       "      <td>0.804549</td>\n",
       "      <td>0.437385</td>\n",
       "      <td>0.209462</td>\n",
       "    </tr>\n",
       "    <tr>\n",
       "      <th>2024-12-01 10:01:56.426491</th>\n",
       "      <td>888</td>\n",
       "      <td>0.237398</td>\n",
       "      <td>0.016033</td>\n",
       "      <td>0.480659</td>\n",
       "      <td>0.874758</td>\n",
       "      <td>0.514036</td>\n",
       "      <td>0.107777</td>\n",
       "    </tr>\n",
       "  </tbody>\n",
       "</table>\n",
       "</div>"
      ],
      "text/plain": [
       "                              p         d         f         r         i  \\\n",
       "2024-11-27 10:01:56.426491  888  0.503948  0.378804  0.313966  0.499391   \n",
       "2024-11-28 10:01:56.426491  888  0.286696  0.289912  0.016489  0.475933   \n",
       "2024-11-29 10:01:56.426491  888  0.880460  0.355617  0.166764  0.964044   \n",
       "2024-11-30 10:01:56.426491  888  0.032641  0.648656  0.038813  0.804549   \n",
       "2024-12-01 10:01:56.426491  888  0.237398  0.016033  0.480659  0.874758   \n",
       "\n",
       "                                   g         h  \n",
       "2024-11-27 10:01:56.426491  0.717358  0.216579  \n",
       "2024-11-28 10:01:56.426491  0.932080  0.535783  \n",
       "2024-11-29 10:01:56.426491  0.315774  0.927434  \n",
       "2024-11-30 10:01:56.426491  0.437385  0.209462  \n",
       "2024-12-01 10:01:56.426491  0.514036  0.107777  "
      ]
     },
     "execution_count": 217,
     "metadata": {},
     "output_type": "execute_result"
    }
   ],
   "source": [
    "dframe.dropna(subset=['g' ,'h'])"
   ]
  },
  {
   "cell_type": "raw",
   "id": "af9c85ae-e92b-4bea-9fc6-26c046bbda50",
   "metadata": {},
   "source": [
    "##Descriptive statistics"
   ]
  },
  {
   "cell_type": "code",
   "execution_count": 219,
   "id": "ada7480e-4e7e-440d-b118-856efc95f44e",
   "metadata": {},
   "outputs": [
    {
     "data": {
      "text/html": [
       "<div>\n",
       "<style scoped>\n",
       "    .dataframe tbody tr th:only-of-type {\n",
       "        vertical-align: middle;\n",
       "    }\n",
       "\n",
       "    .dataframe tbody tr th {\n",
       "        vertical-align: top;\n",
       "    }\n",
       "\n",
       "    .dataframe thead th {\n",
       "        text-align: right;\n",
       "    }\n",
       "</style>\n",
       "<table border=\"1\" class=\"dataframe\">\n",
       "  <thead>\n",
       "    <tr style=\"text-align: right;\">\n",
       "      <th></th>\n",
       "      <th>p</th>\n",
       "      <th>d</th>\n",
       "      <th>f</th>\n",
       "      <th>r</th>\n",
       "      <th>i</th>\n",
       "      <th>g</th>\n",
       "      <th>h</th>\n",
       "    </tr>\n",
       "  </thead>\n",
       "  <tbody>\n",
       "    <tr>\n",
       "      <th>2024-11-27 10:01:56.426491</th>\n",
       "      <td>888</td>\n",
       "      <td>0.503948</td>\n",
       "      <td>0.378804</td>\n",
       "      <td>0.313966</td>\n",
       "      <td>0.499391</td>\n",
       "      <td>0.717358</td>\n",
       "      <td>0.216579</td>\n",
       "    </tr>\n",
       "    <tr>\n",
       "      <th>2024-11-28 10:01:56.426491</th>\n",
       "      <td>888</td>\n",
       "      <td>0.286696</td>\n",
       "      <td>0.289912</td>\n",
       "      <td>0.016489</td>\n",
       "      <td>0.475933</td>\n",
       "      <td>0.932080</td>\n",
       "      <td>0.535783</td>\n",
       "    </tr>\n",
       "    <tr>\n",
       "      <th>2024-11-29 10:01:56.426491</th>\n",
       "      <td>888</td>\n",
       "      <td>0.880460</td>\n",
       "      <td>0.355617</td>\n",
       "      <td>0.166764</td>\n",
       "      <td>0.964044</td>\n",
       "      <td>0.315774</td>\n",
       "      <td>0.927434</td>\n",
       "    </tr>\n",
       "    <tr>\n",
       "      <th>2024-11-30 10:01:56.426491</th>\n",
       "      <td>888</td>\n",
       "      <td>0.032641</td>\n",
       "      <td>0.648656</td>\n",
       "      <td>0.038813</td>\n",
       "      <td>0.804549</td>\n",
       "      <td>0.437385</td>\n",
       "      <td>0.209462</td>\n",
       "    </tr>\n",
       "    <tr>\n",
       "      <th>2024-12-01 10:01:56.426491</th>\n",
       "      <td>888</td>\n",
       "      <td>0.237398</td>\n",
       "      <td>0.016033</td>\n",
       "      <td>0.480659</td>\n",
       "      <td>0.874758</td>\n",
       "      <td>0.514036</td>\n",
       "      <td>0.107777</td>\n",
       "    </tr>\n",
       "  </tbody>\n",
       "</table>\n",
       "</div>"
      ],
      "text/plain": [
       "                              p         d         f         r         i  \\\n",
       "2024-11-27 10:01:56.426491  888  0.503948  0.378804  0.313966  0.499391   \n",
       "2024-11-28 10:01:56.426491  888  0.286696  0.289912  0.016489  0.475933   \n",
       "2024-11-29 10:01:56.426491  888  0.880460  0.355617  0.166764  0.964044   \n",
       "2024-11-30 10:01:56.426491  888  0.032641  0.648656  0.038813  0.804549   \n",
       "2024-12-01 10:01:56.426491  888  0.237398  0.016033  0.480659  0.874758   \n",
       "\n",
       "                                   g         h  \n",
       "2024-11-27 10:01:56.426491  0.717358  0.216579  \n",
       "2024-11-28 10:01:56.426491  0.932080  0.535783  \n",
       "2024-11-29 10:01:56.426491  0.315774  0.927434  \n",
       "2024-11-30 10:01:56.426491  0.437385  0.209462  \n",
       "2024-12-01 10:01:56.426491  0.514036  0.107777  "
      ]
     },
     "execution_count": 219,
     "metadata": {},
     "output_type": "execute_result"
    }
   ],
   "source": [
    " # Fill NULL values with 55\n",
    " dframe.fillna(55, inplace=True)\n",
    " dframe"
   ]
  },
  {
   "cell_type": "code",
   "execution_count": 221,
   "id": "c9add877-1a87-4e95-b461-d338d0ecae5f",
   "metadata": {},
   "outputs": [
    {
     "data": {
      "text/plain": [
       "p    888.000000\n",
       "d      0.388229\n",
       "f      0.337804\n",
       "r      0.203338\n",
       "i      0.723735\n",
       "g      0.583327\n",
       "h      0.399407\n",
       "dtype: float64"
      ]
     },
     "execution_count": 221,
     "metadata": {},
     "output_type": "execute_result"
    }
   ],
   "source": [
    "# Mean of all Columns\n",
    "dframe.mean()"
   ]
  },
  {
   "cell_type": "code",
   "execution_count": 223,
   "id": "94974133-d2ec-42e6-a063-980d083ec464",
   "metadata": {},
   "outputs": [
    {
     "data": {
      "text/plain": [
       "p    888.000000\n",
       "d      0.880460\n",
       "f      0.648656\n",
       "r      0.480659\n",
       "i      0.964044\n",
       "g      0.932080\n",
       "h      0.927434\n",
       "dtype: float64"
      ]
     },
     "execution_count": 223,
     "metadata": {},
     "output_type": "execute_result"
    }
   ],
   "source": [
    "# Max of all Columns\n",
    "dframe.max()"
   ]
  },
  {
   "cell_type": "code",
   "execution_count": 225,
   "id": "c6a1b144-feab-40ab-a67e-74b8d1b854e6",
   "metadata": {},
   "outputs": [
    {
     "data": {
      "text/plain": [
       "p    888.000000\n",
       "d      0.032641\n",
       "f      0.016033\n",
       "r      0.016489\n",
       "i      0.475933\n",
       "g      0.315774\n",
       "h      0.107777\n",
       "dtype: float64"
      ]
     },
     "execution_count": 225,
     "metadata": {},
     "output_type": "execute_result"
    }
   ],
   "source": [
    "# Min of all Columns\n",
    "dframe.min()"
   ]
  },
  {
   "cell_type": "code",
   "execution_count": 227,
   "id": "4370e279-e396-4256-802a-a1ebe0ae5c6c",
   "metadata": {},
   "outputs": [
    {
     "data": {
      "text/plain": [
       "p    888.000000\n",
       "d      0.286696\n",
       "f      0.355617\n",
       "r      0.166764\n",
       "i      0.804549\n",
       "g      0.514036\n",
       "h      0.216579\n",
       "dtype: float64"
      ]
     },
     "execution_count": 227,
     "metadata": {},
     "output_type": "execute_result"
    }
   ],
   "source": [
    "# Median of all Columns\n",
    "dframe.median()"
   ]
  },
  {
   "cell_type": "code",
   "execution_count": 229,
   "id": "5b469148-9a63-45e7-ad0b-77f2aae7f0f0",
   "metadata": {},
   "outputs": [
    {
     "data": {
      "text/plain": [
       "p    0.000000\n",
       "d    0.322174\n",
       "f    0.226085\n",
       "r    0.195233\n",
       "i    0.222948\n",
       "g    0.243556\n",
       "h    0.336141\n",
       "dtype: float64"
      ]
     },
     "execution_count": 229,
     "metadata": {},
     "output_type": "execute_result"
    }
   ],
   "source": [
    "dframe.std()"
   ]
  },
  {
   "cell_type": "code",
   "execution_count": 231,
   "id": "7ce9bd46-cb50-4444-8819-cf4c28340127",
   "metadata": {},
   "outputs": [
    {
     "data": {
      "text/plain": [
       "p    0.000000\n",
       "d    0.103796\n",
       "f    0.051114\n",
       "r    0.038116\n",
       "i    0.049706\n",
       "g    0.059319\n",
       "h    0.112991\n",
       "dtype: float64"
      ]
     },
     "execution_count": 231,
     "metadata": {},
     "output_type": "execute_result"
    }
   ],
   "source": [
    "dframe.var()"
   ]
  },
  {
   "cell_type": "code",
   "execution_count": 233,
   "id": "e0bb4792-7b47-4ce7-a017-d6f7e8af10d1",
   "metadata": {},
   "outputs": [
    {
     "data": {
      "text/plain": [
       "p    888.000000\n",
       "d      0.237398\n",
       "f      0.289912\n",
       "r      0.038813\n",
       "i      0.499391\n",
       "g      0.437385\n",
       "h      0.209462\n",
       "Name: 0.25, dtype: float64"
      ]
     },
     "execution_count": 233,
     "metadata": {},
     "output_type": "execute_result"
    }
   ],
   "source": [
    "dframe.quantile(0.25)"
   ]
  },
  {
   "cell_type": "code",
   "execution_count": 235,
   "id": "9dec573a-51d6-4f3a-8b49-73531aa66a2f",
   "metadata": {},
   "outputs": [
    {
     "data": {
      "text/plain": [
       "p    888.000000\n",
       "d      0.286696\n",
       "f      0.355617\n",
       "r      0.166764\n",
       "i      0.804549\n",
       "g      0.514036\n",
       "h      0.216579\n",
       "Name: 0.5, dtype: float64"
      ]
     },
     "execution_count": 235,
     "metadata": {},
     "output_type": "execute_result"
    }
   ],
   "source": [
    "dframe.quantile(0.5)"
   ]
  },
  {
   "cell_type": "code",
   "execution_count": 237,
   "id": "246854a9-d27a-4e3c-965a-99f5354b3539",
   "metadata": {},
   "outputs": [
    {
     "data": {
      "text/plain": [
       "p    0.000000\n",
       "d    0.266551\n",
       "f    0.088891\n",
       "r    0.275153\n",
       "i    0.375367\n",
       "g    0.279973\n",
       "h    0.326320\n",
       "dtype: float64"
      ]
     },
     "execution_count": 237,
     "metadata": {},
     "output_type": "execute_result"
    }
   ],
   "source": [
    "dframe.quantile(0.75)-dframe.quantile(0.25)"
   ]
  },
  {
   "cell_type": "code",
   "execution_count": 239,
   "id": "c5046440-d4c5-4a19-8571-65d2566e36f7",
   "metadata": {},
   "outputs": [
    {
     "data": {
      "text/plain": [
       "p    4440.000000\n",
       "d       1.941144\n",
       "f       1.689021\n",
       "r       1.016692\n",
       "i       3.618675\n",
       "g       2.916634\n",
       "h       1.997035\n",
       "dtype: float64"
      ]
     },
     "execution_count": 239,
     "metadata": {},
     "output_type": "execute_result"
    }
   ],
   "source": [
    "dframe.sum()"
   ]
  },
  {
   "cell_type": "code",
   "execution_count": 241,
   "id": "239a022b-1505-4509-b402-88ceb36d9924",
   "metadata": {},
   "outputs": [
    {
     "data": {
      "text/html": [
       "<div>\n",
       "<style scoped>\n",
       "    .dataframe tbody tr th:only-of-type {\n",
       "        vertical-align: middle;\n",
       "    }\n",
       "\n",
       "    .dataframe tbody tr th {\n",
       "        vertical-align: top;\n",
       "    }\n",
       "\n",
       "    .dataframe thead th {\n",
       "        text-align: right;\n",
       "    }\n",
       "</style>\n",
       "<table border=\"1\" class=\"dataframe\">\n",
       "  <thead>\n",
       "    <tr style=\"text-align: right;\">\n",
       "      <th></th>\n",
       "      <th>p</th>\n",
       "      <th>d</th>\n",
       "      <th>f</th>\n",
       "      <th>r</th>\n",
       "      <th>i</th>\n",
       "      <th>g</th>\n",
       "      <th>h</th>\n",
       "    </tr>\n",
       "  </thead>\n",
       "  <tbody>\n",
       "    <tr>\n",
       "      <th>count</th>\n",
       "      <td>5.0</td>\n",
       "      <td>5.000000</td>\n",
       "      <td>5.000000</td>\n",
       "      <td>5.000000</td>\n",
       "      <td>5.000000</td>\n",
       "      <td>5.000000</td>\n",
       "      <td>5.000000</td>\n",
       "    </tr>\n",
       "    <tr>\n",
       "      <th>mean</th>\n",
       "      <td>888.0</td>\n",
       "      <td>0.388229</td>\n",
       "      <td>0.337804</td>\n",
       "      <td>0.203338</td>\n",
       "      <td>0.723735</td>\n",
       "      <td>0.583327</td>\n",
       "      <td>0.399407</td>\n",
       "    </tr>\n",
       "    <tr>\n",
       "      <th>std</th>\n",
       "      <td>0.0</td>\n",
       "      <td>0.322174</td>\n",
       "      <td>0.226085</td>\n",
       "      <td>0.195233</td>\n",
       "      <td>0.222948</td>\n",
       "      <td>0.243556</td>\n",
       "      <td>0.336141</td>\n",
       "    </tr>\n",
       "    <tr>\n",
       "      <th>min</th>\n",
       "      <td>888.0</td>\n",
       "      <td>0.032641</td>\n",
       "      <td>0.016033</td>\n",
       "      <td>0.016489</td>\n",
       "      <td>0.475933</td>\n",
       "      <td>0.315774</td>\n",
       "      <td>0.107777</td>\n",
       "    </tr>\n",
       "    <tr>\n",
       "      <th>25%</th>\n",
       "      <td>888.0</td>\n",
       "      <td>0.237398</td>\n",
       "      <td>0.289912</td>\n",
       "      <td>0.038813</td>\n",
       "      <td>0.499391</td>\n",
       "      <td>0.437385</td>\n",
       "      <td>0.209462</td>\n",
       "    </tr>\n",
       "    <tr>\n",
       "      <th>50%</th>\n",
       "      <td>888.0</td>\n",
       "      <td>0.286696</td>\n",
       "      <td>0.355617</td>\n",
       "      <td>0.166764</td>\n",
       "      <td>0.804549</td>\n",
       "      <td>0.514036</td>\n",
       "      <td>0.216579</td>\n",
       "    </tr>\n",
       "    <tr>\n",
       "      <th>75%</th>\n",
       "      <td>888.0</td>\n",
       "      <td>0.503948</td>\n",
       "      <td>0.378804</td>\n",
       "      <td>0.313966</td>\n",
       "      <td>0.874758</td>\n",
       "      <td>0.717358</td>\n",
       "      <td>0.535783</td>\n",
       "    </tr>\n",
       "    <tr>\n",
       "      <th>max</th>\n",
       "      <td>888.0</td>\n",
       "      <td>0.880460</td>\n",
       "      <td>0.648656</td>\n",
       "      <td>0.480659</td>\n",
       "      <td>0.964044</td>\n",
       "      <td>0.932080</td>\n",
       "      <td>0.927434</td>\n",
       "    </tr>\n",
       "  </tbody>\n",
       "</table>\n",
       "</div>"
      ],
      "text/plain": [
       "           p         d         f         r         i         g         h\n",
       "count    5.0  5.000000  5.000000  5.000000  5.000000  5.000000  5.000000\n",
       "mean   888.0  0.388229  0.337804  0.203338  0.723735  0.583327  0.399407\n",
       "std      0.0  0.322174  0.226085  0.195233  0.222948  0.243556  0.336141\n",
       "min    888.0  0.032641  0.016033  0.016489  0.475933  0.315774  0.107777\n",
       "25%    888.0  0.237398  0.289912  0.038813  0.499391  0.437385  0.209462\n",
       "50%    888.0  0.286696  0.355617  0.166764  0.804549  0.514036  0.216579\n",
       "75%    888.0  0.503948  0.378804  0.313966  0.874758  0.717358  0.535783\n",
       "max    888.0  0.880460  0.648656  0.480659  0.964044  0.932080  0.927434"
      ]
     },
     "execution_count": 241,
     "metadata": {},
     "output_type": "execute_result"
    }
   ],
   "source": [
    "dframe.describe()"
   ]
  },
  {
   "cell_type": "code",
   "execution_count": 243,
   "id": "6aaf2efe-3c77-4b2a-bf9d-3521854adb35",
   "metadata": {},
   "outputs": [
    {
     "data": {
      "text/plain": [
       "p    0.000000\n",
       "d    0.889315\n",
       "f   -0.119459\n",
       "r    0.652645\n",
       "i   -0.325533\n",
       "g    0.641187\n",
       "h    1.228579\n",
       "dtype: float64"
      ]
     },
     "execution_count": 243,
     "metadata": {},
     "output_type": "execute_result"
    }
   ],
   "source": [
    "dframe.skew()"
   ]
  },
  {
   "cell_type": "code",
   "execution_count": 245,
   "id": "9cac3a36-3267-4022-aea4-75afad87db14",
   "metadata": {},
   "outputs": [
    {
     "data": {
      "text/plain": [
       "p    0.000000\n",
       "d    0.759378\n",
       "f    1.599909\n",
       "r   -1.101556\n",
       "i   -2.838674\n",
       "g   -0.640481\n",
       "h    0.589994\n",
       "dtype: float64"
      ]
     },
     "execution_count": 245,
     "metadata": {},
     "output_type": "execute_result"
    }
   ],
   "source": [
    "dframe.kurt()"
   ]
  },
  {
   "cell_type": "code",
   "execution_count": 247,
   "id": "199592dc-4f94-4e24-91ec-1d081d313fea",
   "metadata": {},
   "outputs": [
    {
     "data": {
      "text/html": [
       "<div>\n",
       "<style scoped>\n",
       "    .dataframe tbody tr th:only-of-type {\n",
       "        vertical-align: middle;\n",
       "    }\n",
       "\n",
       "    .dataframe tbody tr th {\n",
       "        vertical-align: top;\n",
       "    }\n",
       "\n",
       "    .dataframe thead th {\n",
       "        text-align: right;\n",
       "    }\n",
       "</style>\n",
       "<table border=\"1\" class=\"dataframe\">\n",
       "  <thead>\n",
       "    <tr style=\"text-align: right;\">\n",
       "      <th></th>\n",
       "      <th>p</th>\n",
       "      <th>d</th>\n",
       "      <th>f</th>\n",
       "      <th>r</th>\n",
       "      <th>i</th>\n",
       "      <th>g</th>\n",
       "      <th>h</th>\n",
       "    </tr>\n",
       "  </thead>\n",
       "  <tbody>\n",
       "    <tr>\n",
       "      <th>p</th>\n",
       "      <td>NaN</td>\n",
       "      <td>NaN</td>\n",
       "      <td>NaN</td>\n",
       "      <td>NaN</td>\n",
       "      <td>NaN</td>\n",
       "      <td>NaN</td>\n",
       "      <td>NaN</td>\n",
       "    </tr>\n",
       "    <tr>\n",
       "      <th>d</th>\n",
       "      <td>NaN</td>\n",
       "      <td>1.000000</td>\n",
       "      <td>-0.149740</td>\n",
       "      <td>0.121006</td>\n",
       "      <td>0.229615</td>\n",
       "      <td>-0.284357</td>\n",
       "      <td>0.776660</td>\n",
       "    </tr>\n",
       "    <tr>\n",
       "      <th>f</th>\n",
       "      <td>NaN</td>\n",
       "      <td>-0.149740</td>\n",
       "      <td>1.000000</td>\n",
       "      <td>-0.722395</td>\n",
       "      <td>-0.081953</td>\n",
       "      <td>-0.177264</td>\n",
       "      <td>0.099254</td>\n",
       "    </tr>\n",
       "    <tr>\n",
       "      <th>r</th>\n",
       "      <td>NaN</td>\n",
       "      <td>0.121006</td>\n",
       "      <td>-0.722395</td>\n",
       "      <td>1.000000</td>\n",
       "      <td>0.237093</td>\n",
       "      <td>-0.187989</td>\n",
       "      <td>-0.436733</td>\n",
       "    </tr>\n",
       "    <tr>\n",
       "      <th>i</th>\n",
       "      <td>NaN</td>\n",
       "      <td>0.229615</td>\n",
       "      <td>-0.081953</td>\n",
       "      <td>0.237093</td>\n",
       "      <td>1.000000</td>\n",
       "      <td>-0.934823</td>\n",
       "      <td>0.249256</td>\n",
       "    </tr>\n",
       "    <tr>\n",
       "      <th>g</th>\n",
       "      <td>NaN</td>\n",
       "      <td>-0.284357</td>\n",
       "      <td>-0.177264</td>\n",
       "      <td>-0.187989</td>\n",
       "      <td>-0.934823</td>\n",
       "      <td>1.000000</td>\n",
       "      <td>-0.214641</td>\n",
       "    </tr>\n",
       "    <tr>\n",
       "      <th>h</th>\n",
       "      <td>NaN</td>\n",
       "      <td>0.776660</td>\n",
       "      <td>0.099254</td>\n",
       "      <td>-0.436733</td>\n",
       "      <td>0.249256</td>\n",
       "      <td>-0.214641</td>\n",
       "      <td>1.000000</td>\n",
       "    </tr>\n",
       "  </tbody>\n",
       "</table>\n",
       "</div>"
      ],
      "text/plain": [
       "    p         d         f         r         i         g         h\n",
       "p NaN       NaN       NaN       NaN       NaN       NaN       NaN\n",
       "d NaN  1.000000 -0.149740  0.121006  0.229615 -0.284357  0.776660\n",
       "f NaN -0.149740  1.000000 -0.722395 -0.081953 -0.177264  0.099254\n",
       "r NaN  0.121006 -0.722395  1.000000  0.237093 -0.187989 -0.436733\n",
       "i NaN  0.229615 -0.081953  0.237093  1.000000 -0.934823  0.249256\n",
       "g NaN -0.284357 -0.177264 -0.187989 -0.934823  1.000000 -0.214641\n",
       "h NaN  0.776660  0.099254 -0.436733  0.249256 -0.214641  1.000000"
      ]
     },
     "execution_count": 247,
     "metadata": {},
     "output_type": "execute_result"
    }
   ],
   "source": [
    "dframe.corr()"
   ]
  },
  {
   "cell_type": "code",
   "execution_count": 249,
   "id": "a02b1dc3-8872-4a0d-9942-082ce1745cb9",
   "metadata": {},
   "outputs": [
    {
     "data": {
      "text/html": [
       "<div>\n",
       "<style scoped>\n",
       "    .dataframe tbody tr th:only-of-type {\n",
       "        vertical-align: middle;\n",
       "    }\n",
       "\n",
       "    .dataframe tbody tr th {\n",
       "        vertical-align: top;\n",
       "    }\n",
       "\n",
       "    .dataframe thead th {\n",
       "        text-align: right;\n",
       "    }\n",
       "</style>\n",
       "<table border=\"1\" class=\"dataframe\">\n",
       "  <thead>\n",
       "    <tr style=\"text-align: right;\">\n",
       "      <th></th>\n",
       "      <th>p</th>\n",
       "      <th>d</th>\n",
       "      <th>f</th>\n",
       "      <th>r</th>\n",
       "      <th>i</th>\n",
       "      <th>g</th>\n",
       "      <th>h</th>\n",
       "    </tr>\n",
       "  </thead>\n",
       "  <tbody>\n",
       "    <tr>\n",
       "      <th>p</th>\n",
       "      <td>0.0</td>\n",
       "      <td>0.000000</td>\n",
       "      <td>0.000000</td>\n",
       "      <td>0.000000</td>\n",
       "      <td>0.000000</td>\n",
       "      <td>0.000000</td>\n",
       "      <td>0.000000</td>\n",
       "    </tr>\n",
       "    <tr>\n",
       "      <th>d</th>\n",
       "      <td>0.0</td>\n",
       "      <td>0.103796</td>\n",
       "      <td>-0.010907</td>\n",
       "      <td>0.007611</td>\n",
       "      <td>0.016493</td>\n",
       "      <td>-0.022313</td>\n",
       "      <td>0.084109</td>\n",
       "    </tr>\n",
       "    <tr>\n",
       "      <th>f</th>\n",
       "      <td>0.0</td>\n",
       "      <td>-0.010907</td>\n",
       "      <td>0.051114</td>\n",
       "      <td>-0.031886</td>\n",
       "      <td>-0.004131</td>\n",
       "      <td>-0.009761</td>\n",
       "      <td>0.007543</td>\n",
       "    </tr>\n",
       "    <tr>\n",
       "      <th>r</th>\n",
       "      <td>0.0</td>\n",
       "      <td>0.007611</td>\n",
       "      <td>-0.031886</td>\n",
       "      <td>0.038116</td>\n",
       "      <td>0.010320</td>\n",
       "      <td>-0.008939</td>\n",
       "      <td>-0.028661</td>\n",
       "    </tr>\n",
       "    <tr>\n",
       "      <th>i</th>\n",
       "      <td>0.0</td>\n",
       "      <td>0.016493</td>\n",
       "      <td>-0.004131</td>\n",
       "      <td>0.010320</td>\n",
       "      <td>0.049706</td>\n",
       "      <td>-0.050761</td>\n",
       "      <td>0.018680</td>\n",
       "    </tr>\n",
       "    <tr>\n",
       "      <th>g</th>\n",
       "      <td>0.0</td>\n",
       "      <td>-0.022313</td>\n",
       "      <td>-0.009761</td>\n",
       "      <td>-0.008939</td>\n",
       "      <td>-0.050761</td>\n",
       "      <td>0.059319</td>\n",
       "      <td>-0.017573</td>\n",
       "    </tr>\n",
       "    <tr>\n",
       "      <th>h</th>\n",
       "      <td>0.0</td>\n",
       "      <td>0.084109</td>\n",
       "      <td>0.007543</td>\n",
       "      <td>-0.028661</td>\n",
       "      <td>0.018680</td>\n",
       "      <td>-0.017573</td>\n",
       "      <td>0.112991</td>\n",
       "    </tr>\n",
       "  </tbody>\n",
       "</table>\n",
       "</div>"
      ],
      "text/plain": [
       "     p         d         f         r         i         g         h\n",
       "p  0.0  0.000000  0.000000  0.000000  0.000000  0.000000  0.000000\n",
       "d  0.0  0.103796 -0.010907  0.007611  0.016493 -0.022313  0.084109\n",
       "f  0.0 -0.010907  0.051114 -0.031886 -0.004131 -0.009761  0.007543\n",
       "r  0.0  0.007611 -0.031886  0.038116  0.010320 -0.008939 -0.028661\n",
       "i  0.0  0.016493 -0.004131  0.010320  0.049706 -0.050761  0.018680\n",
       "g  0.0 -0.022313 -0.009761 -0.008939 -0.050761  0.059319 -0.017573\n",
       "h  0.0  0.084109  0.007543 -0.028661  0.018680 -0.017573  0.112991"
      ]
     },
     "execution_count": 249,
     "metadata": {},
     "output_type": "execute_result"
    }
   ],
   "source": [
    "dframe.cov()"
   ]
  },
  {
   "cell_type": "code",
   "execution_count": 251,
   "id": "2d78bab3-aefb-4d2e-be07-30fbecbe2a85",
   "metadata": {
    "scrolled": true
   },
   "outputs": [
    {
     "ename": "InvalidIndexError",
     "evalue": "You can only assign a scalar value not a <class 'int'>",
     "output_type": "error",
     "traceback": [
      "\u001b[1;31m---------------------------------------------------------------------------\u001b[0m",
      "\u001b[1;31mInvalidIndexError\u001b[0m                         Traceback (most recent call last)",
      "File \u001b[1;32m~\\anaconda3\\Lib\\site-packages\\pandas\\core\\frame.py:4562\u001b[0m, in \u001b[0;36mDataFrame._set_value\u001b[1;34m(self, index, col, value, takeable)\u001b[0m\n\u001b[0;32m   4561\u001b[0m     icol \u001b[38;5;241m=\u001b[39m \u001b[38;5;28mself\u001b[39m\u001b[38;5;241m.\u001b[39mcolumns\u001b[38;5;241m.\u001b[39mget_loc(col)\n\u001b[1;32m-> 4562\u001b[0m     iindex \u001b[38;5;241m=\u001b[39m \u001b[38;5;28mself\u001b[39m\u001b[38;5;241m.\u001b[39mindex\u001b[38;5;241m.\u001b[39mget_loc(index)\n\u001b[0;32m   4563\u001b[0m \u001b[38;5;28mself\u001b[39m\u001b[38;5;241m.\u001b[39m_mgr\u001b[38;5;241m.\u001b[39mcolumn_setitem(icol, iindex, value, inplace_only\u001b[38;5;241m=\u001b[39m\u001b[38;5;28;01mTrue\u001b[39;00m)\n",
      "File \u001b[1;32m~\\anaconda3\\Lib\\site-packages\\pandas\\core\\indexes\\datetimes.py:590\u001b[0m, in \u001b[0;36mDatetimeIndex.get_loc\u001b[1;34m(self, key)\u001b[0m\n\u001b[0;32m    583\u001b[0m \u001b[38;5;250m\u001b[39m\u001b[38;5;124;03m\"\"\"\u001b[39;00m\n\u001b[0;32m    584\u001b[0m \u001b[38;5;124;03mGet integer location for requested label\u001b[39;00m\n\u001b[0;32m    585\u001b[0m \n\u001b[1;32m   (...)\u001b[0m\n\u001b[0;32m    588\u001b[0m \u001b[38;5;124;03mloc : int\u001b[39;00m\n\u001b[0;32m    589\u001b[0m \u001b[38;5;124;03m\"\"\"\u001b[39;00m\n\u001b[1;32m--> 590\u001b[0m \u001b[38;5;28mself\u001b[39m\u001b[38;5;241m.\u001b[39m_check_indexing_error(key)\n\u001b[0;32m    592\u001b[0m orig_key \u001b[38;5;241m=\u001b[39m key\n",
      "File \u001b[1;32m~\\anaconda3\\Lib\\site-packages\\pandas\\core\\indexes\\base.py:6059\u001b[0m, in \u001b[0;36mIndex._check_indexing_error\u001b[1;34m(self, key)\u001b[0m\n\u001b[0;32m   6056\u001b[0m \u001b[38;5;28;01mif\u001b[39;00m \u001b[38;5;129;01mnot\u001b[39;00m is_scalar(key):\n\u001b[0;32m   6057\u001b[0m     \u001b[38;5;66;03m# if key is not a scalar, directly raise an error (the code below\u001b[39;00m\n\u001b[0;32m   6058\u001b[0m     \u001b[38;5;66;03m# would convert to numpy arrays and raise later any way) - GH29926\u001b[39;00m\n\u001b[1;32m-> 6059\u001b[0m     \u001b[38;5;28;01mraise\u001b[39;00m InvalidIndexError(key)\n",
      "\u001b[1;31mInvalidIndexError\u001b[0m: slice(3, 6, None)",
      "\nThe above exception was the direct cause of the following exception:\n",
      "\u001b[1;31mInvalidIndexError\u001b[0m                         Traceback (most recent call last)",
      "\u001b[1;32m~\\AppData\\Local\\Temp\\ipykernel_10732\\326463926.py\u001b[0m in \u001b[0;36m?\u001b[1;34m()\u001b[0m\n\u001b[0;32m      1\u001b[0m \u001b[1;32mimport\u001b[0m \u001b[0mstatistics\u001b[0m \u001b[1;32mas\u001b[0m \u001b[0mst\u001b[0m\u001b[1;33m\u001b[0m\u001b[1;33m\u001b[0m\u001b[0m\n\u001b[1;32m----> 2\u001b[1;33m \u001b[0mdframe\u001b[0m\u001b[1;33m.\u001b[0m\u001b[0mat\u001b[0m\u001b[1;33m[\u001b[0m\u001b[1;36m3\u001b[0m\u001b[1;33m:\u001b[0m\u001b[1;36m6\u001b[0m\u001b[1;33m,\u001b[0m\u001b[1;34m'p'\u001b[0m\u001b[1;33m]\u001b[0m \u001b[1;33m=\u001b[0m \u001b[1;36m22\u001b[0m\u001b[1;33m\u001b[0m\u001b[1;33m\u001b[0m\u001b[0m\n\u001b[0m\u001b[0;32m      3\u001b[0m \u001b[0mdframe\u001b[0m\u001b[1;33m\u001b[0m\u001b[1;33m\u001b[0m\u001b[0m\n",
      "\u001b[1;32m~\\anaconda3\\Lib\\site-packages\\pandas\\core\\indexing.py\u001b[0m in \u001b[0;36m?\u001b[1;34m(self, key, value)\u001b[0m\n\u001b[0;32m   2582\u001b[0m \u001b[1;33m\u001b[0m\u001b[0m\n\u001b[0;32m   2583\u001b[0m             \u001b[0mself\u001b[0m\u001b[1;33m.\u001b[0m\u001b[0mobj\u001b[0m\u001b[1;33m.\u001b[0m\u001b[0mloc\u001b[0m\u001b[1;33m[\u001b[0m\u001b[0mkey\u001b[0m\u001b[1;33m]\u001b[0m \u001b[1;33m=\u001b[0m \u001b[0mvalue\u001b[0m\u001b[1;33m\u001b[0m\u001b[1;33m\u001b[0m\u001b[0m\n\u001b[0;32m   2584\u001b[0m             \u001b[1;32mreturn\u001b[0m\u001b[1;33m\u001b[0m\u001b[1;33m\u001b[0m\u001b[0m\n\u001b[0;32m   2585\u001b[0m \u001b[1;33m\u001b[0m\u001b[0m\n\u001b[1;32m-> 2586\u001b[1;33m         \u001b[1;32mreturn\u001b[0m \u001b[0msuper\u001b[0m\u001b[1;33m(\u001b[0m\u001b[1;33m)\u001b[0m\u001b[1;33m.\u001b[0m\u001b[0m__setitem__\u001b[0m\u001b[1;33m(\u001b[0m\u001b[0mkey\u001b[0m\u001b[1;33m,\u001b[0m \u001b[0mvalue\u001b[0m\u001b[1;33m)\u001b[0m\u001b[1;33m\u001b[0m\u001b[1;33m\u001b[0m\u001b[0m\n\u001b[0m",
      "\u001b[1;32m~\\anaconda3\\Lib\\site-packages\\pandas\\core\\indexing.py\u001b[0m in \u001b[0;36m?\u001b[1;34m(self, key, value)\u001b[0m\n\u001b[0;32m   2538\u001b[0m         \u001b[0mkey\u001b[0m \u001b[1;33m=\u001b[0m \u001b[0mlist\u001b[0m\u001b[1;33m(\u001b[0m\u001b[0mself\u001b[0m\u001b[1;33m.\u001b[0m\u001b[0m_convert_key\u001b[0m\u001b[1;33m(\u001b[0m\u001b[0mkey\u001b[0m\u001b[1;33m)\u001b[0m\u001b[1;33m)\u001b[0m\u001b[1;33m\u001b[0m\u001b[1;33m\u001b[0m\u001b[0m\n\u001b[0;32m   2539\u001b[0m         \u001b[1;32mif\u001b[0m \u001b[0mlen\u001b[0m\u001b[1;33m(\u001b[0m\u001b[0mkey\u001b[0m\u001b[1;33m)\u001b[0m \u001b[1;33m!=\u001b[0m \u001b[0mself\u001b[0m\u001b[1;33m.\u001b[0m\u001b[0mndim\u001b[0m\u001b[1;33m:\u001b[0m\u001b[1;33m\u001b[0m\u001b[1;33m\u001b[0m\u001b[0m\n\u001b[0;32m   2540\u001b[0m             \u001b[1;32mraise\u001b[0m \u001b[0mValueError\u001b[0m\u001b[1;33m(\u001b[0m\u001b[1;34m\"Not enough indexers for scalar access (setting)!\"\u001b[0m\u001b[1;33m)\u001b[0m\u001b[1;33m\u001b[0m\u001b[1;33m\u001b[0m\u001b[0m\n\u001b[0;32m   2541\u001b[0m \u001b[1;33m\u001b[0m\u001b[0m\n\u001b[1;32m-> 2542\u001b[1;33m         \u001b[0mself\u001b[0m\u001b[1;33m.\u001b[0m\u001b[0mobj\u001b[0m\u001b[1;33m.\u001b[0m\u001b[0m_set_value\u001b[0m\u001b[1;33m(\u001b[0m\u001b[1;33m*\u001b[0m\u001b[0mkey\u001b[0m\u001b[1;33m,\u001b[0m \u001b[0mvalue\u001b[0m\u001b[1;33m=\u001b[0m\u001b[0mvalue\u001b[0m\u001b[1;33m,\u001b[0m \u001b[0mtakeable\u001b[0m\u001b[1;33m=\u001b[0m\u001b[0mself\u001b[0m\u001b[1;33m.\u001b[0m\u001b[0m_takeable\u001b[0m\u001b[1;33m)\u001b[0m\u001b[1;33m\u001b[0m\u001b[1;33m\u001b[0m\u001b[0m\n\u001b[0m",
      "\u001b[1;32m~\\anaconda3\\Lib\\site-packages\\pandas\\core\\frame.py\u001b[0m in \u001b[0;36m?\u001b[1;34m(self, index, col, value, takeable)\u001b[0m\n\u001b[0;32m   4577\u001b[0m \u001b[1;33m\u001b[0m\u001b[0m\n\u001b[0;32m   4578\u001b[0m         \u001b[1;32mexcept\u001b[0m \u001b[0mInvalidIndexError\u001b[0m \u001b[1;32mas\u001b[0m \u001b[0mii_err\u001b[0m\u001b[1;33m:\u001b[0m\u001b[1;33m\u001b[0m\u001b[1;33m\u001b[0m\u001b[0m\n\u001b[0;32m   4579\u001b[0m             \u001b[1;31m# GH48729: Seems like you are trying to assign a value to a\u001b[0m\u001b[1;33m\u001b[0m\u001b[1;33m\u001b[0m\u001b[0m\n\u001b[0;32m   4580\u001b[0m             \u001b[1;31m# row when only scalar options are permitted\u001b[0m\u001b[1;33m\u001b[0m\u001b[1;33m\u001b[0m\u001b[0m\n\u001b[1;32m-> 4581\u001b[1;33m             raise InvalidIndexError(\n\u001b[0m\u001b[0;32m   4582\u001b[0m                 \u001b[1;33mf\"\u001b[0m\u001b[1;33mYou can only assign a scalar value not a \u001b[0m\u001b[1;33m{\u001b[0m\u001b[0mtype\u001b[0m\u001b[1;33m(\u001b[0m\u001b[0mvalue\u001b[0m\u001b[1;33m)\u001b[0m\u001b[1;33m}\u001b[0m\u001b[1;33m\"\u001b[0m\u001b[1;33m\u001b[0m\u001b[1;33m\u001b[0m\u001b[0m\n\u001b[0;32m   4583\u001b[0m             \u001b[1;33m)\u001b[0m \u001b[1;32mfrom\u001b[0m \u001b[0mii_err\u001b[0m\u001b[1;33m\u001b[0m\u001b[1;33m\u001b[0m\u001b[0m\n",
      "\u001b[1;31mInvalidIndexError\u001b[0m: You can only assign a scalar value not a <class 'int'>"
     ]
    }
   ],
   "source": [
    " import statistics as st\n",
    " dframe.at[3:6,'p'] = 22\n",
    " dframe"
   ]
  },
  {
   "cell_type": "code",
   "execution_count": 253,
   "id": "6833bf47-2e48-4984-b573-ee2b50bb1491",
   "metadata": {},
   "outputs": [
    {
     "data": {
      "text/plain": [
       "0.5833267073020422"
      ]
     },
     "execution_count": 253,
     "metadata": {},
     "output_type": "execute_result"
    }
   ],
   "source": [
    "#Average\n",
    "st.mean(dframe['g'])\n",
    "# dframe['C1'].mean()"
   ]
  },
  {
   "cell_type": "code",
   "execution_count": 255,
   "id": "ff08f139-37b8-444c-b803-a3f4834c86a4",
   "metadata": {},
   "outputs": [
    {
     "data": {
      "text/plain": [
       "0.50682206837566"
      ]
     },
     "execution_count": 255,
     "metadata": {},
     "output_type": "execute_result"
    }
   ],
   "source": [
    "st.harmonic_mean(dframe['g'])"
   ]
  },
  {
   "cell_type": "code",
   "execution_count": 257,
   "id": "10a96d15-899c-4386-8abd-5b7e51aafd5c",
   "metadata": {},
   "outputs": [
    {
     "data": {
      "text/plain": [
       "4.5"
      ]
     },
     "execution_count": 257,
     "metadata": {},
     "output_type": "execute_result"
    }
   ],
   "source": [
    "arr = np.array([1,2,3,4,5,6,7,8])\n",
    "st.median(arr)"
   ]
  },
  {
   "cell_type": "code",
   "execution_count": 259,
   "id": "372a8c1d-d6c6-4968-88af-ad2794ae164d",
   "metadata": {},
   "outputs": [
    {
     "data": {
      "text/plain": [
       "4"
      ]
     },
     "execution_count": 259,
     "metadata": {},
     "output_type": "execute_result"
    }
   ],
   "source": [
    "st.median_low(arr)"
   ]
  },
  {
   "cell_type": "code",
   "execution_count": 261,
   "id": "c7d79c1f-e1cc-4c94-b707-998163608d4c",
   "metadata": {},
   "outputs": [
    {
     "data": {
      "text/plain": [
       "5"
      ]
     },
     "execution_count": 261,
     "metadata": {},
     "output_type": "execute_result"
    }
   ],
   "source": [
    "st.median_high(arr)"
   ]
  },
  {
   "cell_type": "code",
   "execution_count": 263,
   "id": "2066d9f3-bbf7-4162-8a9f-39bc97bea2f0",
   "metadata": {},
   "outputs": [
    {
     "data": {
      "text/plain": [
       "0.49939101909417516"
      ]
     },
     "execution_count": 263,
     "metadata": {},
     "output_type": "execute_result"
    }
   ],
   "source": [
    "st.mode(dframe['i'])"
   ]
  },
  {
   "cell_type": "code",
   "execution_count": 265,
   "id": "48246adb-9619-4487-8a2c-8abaaba25027",
   "metadata": {},
   "outputs": [
    {
     "data": {
      "text/plain": [
       "0.03811596618247293"
      ]
     },
     "execution_count": 265,
     "metadata": {},
     "output_type": "execute_result"
    }
   ],
   "source": [
    "st.variance(dframe['r']) #sample varience"
   ]
  },
  {
   "cell_type": "code",
   "execution_count": 267,
   "id": "44e6e418-87e5-4c02-a9b2-b1aaf2e4106e",
   "metadata": {},
   "outputs": [
    {
     "data": {
      "text/plain": [
       "0.030492772945978346"
      ]
     },
     "execution_count": 267,
     "metadata": {},
     "output_type": "execute_result"
    }
   ],
   "source": [
    "st.pvariance(dframe['r']) ##population varience"
   ]
  },
  {
   "cell_type": "code",
   "execution_count": 269,
   "id": "13988b15-1bcb-4a4f-8445-7699912af706",
   "metadata": {},
   "outputs": [
    {
     "data": {
      "text/plain": [
       "0.19523310729093293"
      ]
     },
     "execution_count": 269,
     "metadata": {},
     "output_type": "execute_result"
    }
   ],
   "source": [
    "st.stdev(dframe['r']) ##sample standard Deviation"
   ]
  },
  {
   "cell_type": "code",
   "execution_count": 271,
   "id": "7a48dbc1-b22d-45fc-87a5-09e13edfa5c9",
   "metadata": {},
   "outputs": [
    {
     "data": {
      "text/plain": [
       "0.17462179974441433"
      ]
     },
     "execution_count": 271,
     "metadata": {},
     "output_type": "execute_result"
    }
   ],
   "source": [
    "st.pstdev(dframe['r']) ##population standard Deviation"
   ]
  },
  {
   "cell_type": "code",
   "execution_count": 273,
   "id": "4b1a7d96-a328-4b37-8545-022e3de62682",
   "metadata": {},
   "outputs": [],
   "source": [
    "###Apply function on Dataframe"
   ]
  },
  {
   "cell_type": "code",
   "execution_count": 275,
   "id": "adee1aef-3735-4d92-8e3a-5050faeb3173",
   "metadata": {},
   "outputs": [
    {
     "data": {
      "text/html": [
       "<div>\n",
       "<style scoped>\n",
       "    .dataframe tbody tr th:only-of-type {\n",
       "        vertical-align: middle;\n",
       "    }\n",
       "\n",
       "    .dataframe tbody tr th {\n",
       "        vertical-align: top;\n",
       "    }\n",
       "\n",
       "    .dataframe thead th {\n",
       "        text-align: right;\n",
       "    }\n",
       "</style>\n",
       "<table border=\"1\" class=\"dataframe\">\n",
       "  <thead>\n",
       "    <tr style=\"text-align: right;\">\n",
       "      <th></th>\n",
       "      <th>p</th>\n",
       "      <th>d</th>\n",
       "      <th>f</th>\n",
       "      <th>r</th>\n",
       "      <th>i</th>\n",
       "      <th>g</th>\n",
       "      <th>h</th>\n",
       "    </tr>\n",
       "  </thead>\n",
       "  <tbody>\n",
       "    <tr>\n",
       "      <th>2024-11-27 10:01:56.426491</th>\n",
       "      <td>888</td>\n",
       "      <td>0.503948</td>\n",
       "      <td>0.378804</td>\n",
       "      <td>0.313966</td>\n",
       "      <td>0.499391</td>\n",
       "      <td>0.717358</td>\n",
       "      <td>0.216579</td>\n",
       "    </tr>\n",
       "    <tr>\n",
       "      <th>2024-11-28 10:01:56.426491</th>\n",
       "      <td>888</td>\n",
       "      <td>0.286696</td>\n",
       "      <td>0.289912</td>\n",
       "      <td>0.016489</td>\n",
       "      <td>0.475933</td>\n",
       "      <td>0.932080</td>\n",
       "      <td>0.535783</td>\n",
       "    </tr>\n",
       "    <tr>\n",
       "      <th>2024-11-29 10:01:56.426491</th>\n",
       "      <td>888</td>\n",
       "      <td>0.880460</td>\n",
       "      <td>0.355617</td>\n",
       "      <td>0.166764</td>\n",
       "      <td>0.964044</td>\n",
       "      <td>0.315774</td>\n",
       "      <td>0.927434</td>\n",
       "    </tr>\n",
       "    <tr>\n",
       "      <th>2024-11-30 10:01:56.426491</th>\n",
       "      <td>888</td>\n",
       "      <td>0.032641</td>\n",
       "      <td>0.648656</td>\n",
       "      <td>0.038813</td>\n",
       "      <td>0.804549</td>\n",
       "      <td>0.437385</td>\n",
       "      <td>0.209462</td>\n",
       "    </tr>\n",
       "    <tr>\n",
       "      <th>2024-12-01 10:01:56.426491</th>\n",
       "      <td>888</td>\n",
       "      <td>0.237398</td>\n",
       "      <td>0.016033</td>\n",
       "      <td>0.480659</td>\n",
       "      <td>0.874758</td>\n",
       "      <td>0.514036</td>\n",
       "      <td>0.107777</td>\n",
       "    </tr>\n",
       "  </tbody>\n",
       "</table>\n",
       "</div>"
      ],
      "text/plain": [
       "                              p         d         f         r         i  \\\n",
       "2024-11-27 10:01:56.426491  888  0.503948  0.378804  0.313966  0.499391   \n",
       "2024-11-28 10:01:56.426491  888  0.286696  0.289912  0.016489  0.475933   \n",
       "2024-11-29 10:01:56.426491  888  0.880460  0.355617  0.166764  0.964044   \n",
       "2024-11-30 10:01:56.426491  888  0.032641  0.648656  0.038813  0.804549   \n",
       "2024-12-01 10:01:56.426491  888  0.237398  0.016033  0.480659  0.874758   \n",
       "\n",
       "                                   g         h  \n",
       "2024-11-27 10:01:56.426491  0.717358  0.216579  \n",
       "2024-11-28 10:01:56.426491  0.932080  0.535783  \n",
       "2024-11-29 10:01:56.426491  0.315774  0.927434  \n",
       "2024-11-30 10:01:56.426491  0.437385  0.209462  \n",
       "2024-12-01 10:01:56.426491  0.514036  0.107777  "
      ]
     },
     "execution_count": 275,
     "metadata": {},
     "output_type": "execute_result"
    }
   ],
   "source": [
    "dframe"
   ]
  },
  {
   "cell_type": "code",
   "execution_count": 277,
   "id": "dc041413-eb65-471c-9b74-eb6a286c81ce",
   "metadata": {},
   "outputs": [
    {
     "data": {
      "text/plain": [
       "p    888.000000\n",
       "d      0.880460\n",
       "f      0.648656\n",
       "r      0.480659\n",
       "i      0.964044\n",
       "g      0.932080\n",
       "h      0.927434\n",
       "dtype: float64"
      ]
     },
     "execution_count": 277,
     "metadata": {},
     "output_type": "execute_result"
    }
   ],
   "source": [
    "# Finding MAX value in Columns\n",
    "dframe.apply(max)"
   ]
  },
  {
   "cell_type": "code",
   "execution_count": 279,
   "id": "4bd79311-f475-465e-aae9-ee2cc49e9a4b",
   "metadata": {},
   "outputs": [
    {
     "data": {
      "text/plain": [
       "p    888.000000\n",
       "d      0.032641\n",
       "f      0.016033\n",
       "r      0.016489\n",
       "i      0.475933\n",
       "g      0.315774\n",
       "h      0.107777\n",
       "dtype: float64"
      ]
     },
     "execution_count": 279,
     "metadata": {},
     "output_type": "execute_result"
    }
   ],
   "source": [
    "# Finding Min value in Columns\n",
    "dframe.apply(min)"
   ]
  },
  {
   "cell_type": "code",
   "execution_count": 281,
   "id": "f88f3040-bd55-47d3-a6f9-dcadc2beb9cc",
   "metadata": {},
   "outputs": [
    {
     "data": {
      "text/plain": [
       "p    4440.000000\n",
       "d       1.941144\n",
       "f       1.689021\n",
       "r       1.016692\n",
       "i       3.618675\n",
       "g       2.916634\n",
       "h       1.997035\n",
       "dtype: float64"
      ]
     },
     "execution_count": 281,
     "metadata": {},
     "output_type": "execute_result"
    }
   ],
   "source": [
    "# Finding sum value in Columns\n",
    "dframe.apply(sum)"
   ]
  },
  {
   "cell_type": "code",
   "execution_count": 283,
   "id": "40c08345-2443-4c22-a040-777b3d731df4",
   "metadata": {},
   "outputs": [
    {
     "data": {
      "text/plain": [
       "p    4440.000000\n",
       "d       1.941144\n",
       "f       1.689021\n",
       "r       1.016692\n",
       "i       3.618675\n",
       "g       2.916634\n",
       "h       1.997035\n",
       "dtype: float64"
      ]
     },
     "execution_count": 283,
     "metadata": {},
     "output_type": "execute_result"
    }
   ],
   "source": [
    "# Finding sum value in Columns\n",
    "dframe.apply(np.sum)"
   ]
  },
  {
   "cell_type": "code",
   "execution_count": 285,
   "id": "f15f44c5-9d5f-4184-9ffe-f25c38b10171",
   "metadata": {},
   "outputs": [
    {
     "data": {
      "text/plain": [
       "2024-11-27 10:01:56.426491    890.630046\n",
       "2024-11-28 10:01:56.426491    890.536893\n",
       "2024-11-29 10:01:56.426491    891.610094\n",
       "2024-11-30 10:01:56.426491    890.171506\n",
       "2024-12-01 10:01:56.426491    890.230662\n",
       "Freq: D, dtype: float64"
      ]
     },
     "execution_count": 285,
     "metadata": {},
     "output_type": "execute_result"
    }
   ],
   "source": [
    "# Finding sum value in Columns\n",
    "dframe.apply(np.sum, axis=1)"
   ]
  },
  {
   "cell_type": "code",
   "execution_count": 287,
   "id": "3bdc99d7-d3cf-4bfd-82e5-9a39759ab522",
   "metadata": {},
   "outputs": [
    {
     "name": "stderr",
     "output_type": "stream",
     "text": [
      "C:\\Users\\YESHWANTH\\AppData\\Local\\Temp\\ipykernel_10732\\831095605.py:2: FutureWarning: DataFrame.applymap has been deprecated. Use DataFrame.map instead.\n",
      "  dframe.applymap(np.sqrt)\n"
     ]
    },
    {
     "data": {
      "text/html": [
       "<div>\n",
       "<style scoped>\n",
       "    .dataframe tbody tr th:only-of-type {\n",
       "        vertical-align: middle;\n",
       "    }\n",
       "\n",
       "    .dataframe tbody tr th {\n",
       "        vertical-align: top;\n",
       "    }\n",
       "\n",
       "    .dataframe thead th {\n",
       "        text-align: right;\n",
       "    }\n",
       "</style>\n",
       "<table border=\"1\" class=\"dataframe\">\n",
       "  <thead>\n",
       "    <tr style=\"text-align: right;\">\n",
       "      <th></th>\n",
       "      <th>p</th>\n",
       "      <th>d</th>\n",
       "      <th>f</th>\n",
       "      <th>r</th>\n",
       "      <th>i</th>\n",
       "      <th>g</th>\n",
       "      <th>h</th>\n",
       "    </tr>\n",
       "  </thead>\n",
       "  <tbody>\n",
       "    <tr>\n",
       "      <th>2024-11-27 10:01:56.426491</th>\n",
       "      <td>29.799329</td>\n",
       "      <td>0.709893</td>\n",
       "      <td>0.615470</td>\n",
       "      <td>0.560327</td>\n",
       "      <td>0.706676</td>\n",
       "      <td>0.846970</td>\n",
       "      <td>0.465380</td>\n",
       "    </tr>\n",
       "    <tr>\n",
       "      <th>2024-11-28 10:01:56.426491</th>\n",
       "      <td>29.799329</td>\n",
       "      <td>0.535440</td>\n",
       "      <td>0.538435</td>\n",
       "      <td>0.128411</td>\n",
       "      <td>0.689879</td>\n",
       "      <td>0.965443</td>\n",
       "      <td>0.731972</td>\n",
       "    </tr>\n",
       "    <tr>\n",
       "      <th>2024-11-29 10:01:56.426491</th>\n",
       "      <td>29.799329</td>\n",
       "      <td>0.938328</td>\n",
       "      <td>0.596336</td>\n",
       "      <td>0.408368</td>\n",
       "      <td>0.981857</td>\n",
       "      <td>0.561938</td>\n",
       "      <td>0.963034</td>\n",
       "    </tr>\n",
       "    <tr>\n",
       "      <th>2024-11-30 10:01:56.426491</th>\n",
       "      <td>29.799329</td>\n",
       "      <td>0.180668</td>\n",
       "      <td>0.805392</td>\n",
       "      <td>0.197011</td>\n",
       "      <td>0.896967</td>\n",
       "      <td>0.661351</td>\n",
       "      <td>0.457671</td>\n",
       "    </tr>\n",
       "    <tr>\n",
       "      <th>2024-12-01 10:01:56.426491</th>\n",
       "      <td>29.799329</td>\n",
       "      <td>0.487235</td>\n",
       "      <td>0.126623</td>\n",
       "      <td>0.693296</td>\n",
       "      <td>0.935285</td>\n",
       "      <td>0.716963</td>\n",
       "      <td>0.328294</td>\n",
       "    </tr>\n",
       "  </tbody>\n",
       "</table>\n",
       "</div>"
      ],
      "text/plain": [
       "                                    p         d         f         r         i  \\\n",
       "2024-11-27 10:01:56.426491  29.799329  0.709893  0.615470  0.560327  0.706676   \n",
       "2024-11-28 10:01:56.426491  29.799329  0.535440  0.538435  0.128411  0.689879   \n",
       "2024-11-29 10:01:56.426491  29.799329  0.938328  0.596336  0.408368  0.981857   \n",
       "2024-11-30 10:01:56.426491  29.799329  0.180668  0.805392  0.197011  0.896967   \n",
       "2024-12-01 10:01:56.426491  29.799329  0.487235  0.126623  0.693296  0.935285   \n",
       "\n",
       "                                   g         h  \n",
       "2024-11-27 10:01:56.426491  0.846970  0.465380  \n",
       "2024-11-28 10:01:56.426491  0.965443  0.731972  \n",
       "2024-11-29 10:01:56.426491  0.561938  0.963034  \n",
       "2024-11-30 10:01:56.426491  0.661351  0.457671  \n",
       "2024-12-01 10:01:56.426491  0.716963  0.328294  "
      ]
     },
     "execution_count": 287,
     "metadata": {},
     "output_type": "execute_result"
    }
   ],
   "source": [
    "## Square root of all values in dataframe\n",
    "dframe.applymap(np.sqrt)"
   ]
  },
  {
   "cell_type": "code",
   "execution_count": 289,
   "id": "b686136c-4ada-405a-9d56-bb7ab7bf63c2",
   "metadata": {},
   "outputs": [
    {
     "name": "stderr",
     "output_type": "stream",
     "text": [
      "C:\\Users\\YESHWANTH\\AppData\\Local\\Temp\\ipykernel_10732\\2116344197.py:2: FutureWarning: DataFrame.applymap has been deprecated. Use DataFrame.map instead.\n",
      "  dframe.applymap(math.sqrt)\n"
     ]
    },
    {
     "data": {
      "text/html": [
       "<div>\n",
       "<style scoped>\n",
       "    .dataframe tbody tr th:only-of-type {\n",
       "        vertical-align: middle;\n",
       "    }\n",
       "\n",
       "    .dataframe tbody tr th {\n",
       "        vertical-align: top;\n",
       "    }\n",
       "\n",
       "    .dataframe thead th {\n",
       "        text-align: right;\n",
       "    }\n",
       "</style>\n",
       "<table border=\"1\" class=\"dataframe\">\n",
       "  <thead>\n",
       "    <tr style=\"text-align: right;\">\n",
       "      <th></th>\n",
       "      <th>p</th>\n",
       "      <th>d</th>\n",
       "      <th>f</th>\n",
       "      <th>r</th>\n",
       "      <th>i</th>\n",
       "      <th>g</th>\n",
       "      <th>h</th>\n",
       "    </tr>\n",
       "  </thead>\n",
       "  <tbody>\n",
       "    <tr>\n",
       "      <th>2024-11-27 10:01:56.426491</th>\n",
       "      <td>29.799329</td>\n",
       "      <td>0.709893</td>\n",
       "      <td>0.615470</td>\n",
       "      <td>0.560327</td>\n",
       "      <td>0.706676</td>\n",
       "      <td>0.846970</td>\n",
       "      <td>0.465380</td>\n",
       "    </tr>\n",
       "    <tr>\n",
       "      <th>2024-11-28 10:01:56.426491</th>\n",
       "      <td>29.799329</td>\n",
       "      <td>0.535440</td>\n",
       "      <td>0.538435</td>\n",
       "      <td>0.128411</td>\n",
       "      <td>0.689879</td>\n",
       "      <td>0.965443</td>\n",
       "      <td>0.731972</td>\n",
       "    </tr>\n",
       "    <tr>\n",
       "      <th>2024-11-29 10:01:56.426491</th>\n",
       "      <td>29.799329</td>\n",
       "      <td>0.938328</td>\n",
       "      <td>0.596336</td>\n",
       "      <td>0.408368</td>\n",
       "      <td>0.981857</td>\n",
       "      <td>0.561938</td>\n",
       "      <td>0.963034</td>\n",
       "    </tr>\n",
       "    <tr>\n",
       "      <th>2024-11-30 10:01:56.426491</th>\n",
       "      <td>29.799329</td>\n",
       "      <td>0.180668</td>\n",
       "      <td>0.805392</td>\n",
       "      <td>0.197011</td>\n",
       "      <td>0.896967</td>\n",
       "      <td>0.661351</td>\n",
       "      <td>0.457671</td>\n",
       "    </tr>\n",
       "    <tr>\n",
       "      <th>2024-12-01 10:01:56.426491</th>\n",
       "      <td>29.799329</td>\n",
       "      <td>0.487235</td>\n",
       "      <td>0.126623</td>\n",
       "      <td>0.693296</td>\n",
       "      <td>0.935285</td>\n",
       "      <td>0.716963</td>\n",
       "      <td>0.328294</td>\n",
       "    </tr>\n",
       "  </tbody>\n",
       "</table>\n",
       "</div>"
      ],
      "text/plain": [
       "                                    p         d         f         r         i  \\\n",
       "2024-11-27 10:01:56.426491  29.799329  0.709893  0.615470  0.560327  0.706676   \n",
       "2024-11-28 10:01:56.426491  29.799329  0.535440  0.538435  0.128411  0.689879   \n",
       "2024-11-29 10:01:56.426491  29.799329  0.938328  0.596336  0.408368  0.981857   \n",
       "2024-11-30 10:01:56.426491  29.799329  0.180668  0.805392  0.197011  0.896967   \n",
       "2024-12-01 10:01:56.426491  29.799329  0.487235  0.126623  0.693296  0.935285   \n",
       "\n",
       "                                   g         h  \n",
       "2024-11-27 10:01:56.426491  0.846970  0.465380  \n",
       "2024-11-28 10:01:56.426491  0.965443  0.731972  \n",
       "2024-11-29 10:01:56.426491  0.561938  0.963034  \n",
       "2024-11-30 10:01:56.426491  0.661351  0.457671  \n",
       "2024-12-01 10:01:56.426491  0.716963  0.328294  "
      ]
     },
     "execution_count": 289,
     "metadata": {},
     "output_type": "execute_result"
    }
   ],
   "source": [
    "## Square root of all values in dataframe\n",
    "dframe.applymap(math.sqrt)"
   ]
  },
  {
   "cell_type": "code",
   "execution_count": 291,
   "id": "1557cb08-2dc3-4e55-86f4-ab278948feaa",
   "metadata": {},
   "outputs": [
    {
     "name": "stderr",
     "output_type": "stream",
     "text": [
      "C:\\Users\\YESHWANTH\\AppData\\Local\\Temp\\ipykernel_10732\\4228414899.py:1: FutureWarning: DataFrame.applymap has been deprecated. Use DataFrame.map instead.\n",
      "  dframe.applymap(float)\n"
     ]
    },
    {
     "data": {
      "text/html": [
       "<div>\n",
       "<style scoped>\n",
       "    .dataframe tbody tr th:only-of-type {\n",
       "        vertical-align: middle;\n",
       "    }\n",
       "\n",
       "    .dataframe tbody tr th {\n",
       "        vertical-align: top;\n",
       "    }\n",
       "\n",
       "    .dataframe thead th {\n",
       "        text-align: right;\n",
       "    }\n",
       "</style>\n",
       "<table border=\"1\" class=\"dataframe\">\n",
       "  <thead>\n",
       "    <tr style=\"text-align: right;\">\n",
       "      <th></th>\n",
       "      <th>p</th>\n",
       "      <th>d</th>\n",
       "      <th>f</th>\n",
       "      <th>r</th>\n",
       "      <th>i</th>\n",
       "      <th>g</th>\n",
       "      <th>h</th>\n",
       "    </tr>\n",
       "  </thead>\n",
       "  <tbody>\n",
       "    <tr>\n",
       "      <th>2024-11-27 10:01:56.426491</th>\n",
       "      <td>888.0</td>\n",
       "      <td>0.503948</td>\n",
       "      <td>0.378804</td>\n",
       "      <td>0.313966</td>\n",
       "      <td>0.499391</td>\n",
       "      <td>0.717358</td>\n",
       "      <td>0.216579</td>\n",
       "    </tr>\n",
       "    <tr>\n",
       "      <th>2024-11-28 10:01:56.426491</th>\n",
       "      <td>888.0</td>\n",
       "      <td>0.286696</td>\n",
       "      <td>0.289912</td>\n",
       "      <td>0.016489</td>\n",
       "      <td>0.475933</td>\n",
       "      <td>0.932080</td>\n",
       "      <td>0.535783</td>\n",
       "    </tr>\n",
       "    <tr>\n",
       "      <th>2024-11-29 10:01:56.426491</th>\n",
       "      <td>888.0</td>\n",
       "      <td>0.880460</td>\n",
       "      <td>0.355617</td>\n",
       "      <td>0.166764</td>\n",
       "      <td>0.964044</td>\n",
       "      <td>0.315774</td>\n",
       "      <td>0.927434</td>\n",
       "    </tr>\n",
       "    <tr>\n",
       "      <th>2024-11-30 10:01:56.426491</th>\n",
       "      <td>888.0</td>\n",
       "      <td>0.032641</td>\n",
       "      <td>0.648656</td>\n",
       "      <td>0.038813</td>\n",
       "      <td>0.804549</td>\n",
       "      <td>0.437385</td>\n",
       "      <td>0.209462</td>\n",
       "    </tr>\n",
       "    <tr>\n",
       "      <th>2024-12-01 10:01:56.426491</th>\n",
       "      <td>888.0</td>\n",
       "      <td>0.237398</td>\n",
       "      <td>0.016033</td>\n",
       "      <td>0.480659</td>\n",
       "      <td>0.874758</td>\n",
       "      <td>0.514036</td>\n",
       "      <td>0.107777</td>\n",
       "    </tr>\n",
       "  </tbody>\n",
       "</table>\n",
       "</div>"
      ],
      "text/plain": [
       "                                p         d         f         r         i  \\\n",
       "2024-11-27 10:01:56.426491  888.0  0.503948  0.378804  0.313966  0.499391   \n",
       "2024-11-28 10:01:56.426491  888.0  0.286696  0.289912  0.016489  0.475933   \n",
       "2024-11-29 10:01:56.426491  888.0  0.880460  0.355617  0.166764  0.964044   \n",
       "2024-11-30 10:01:56.426491  888.0  0.032641  0.648656  0.038813  0.804549   \n",
       "2024-12-01 10:01:56.426491  888.0  0.237398  0.016033  0.480659  0.874758   \n",
       "\n",
       "                                   g         h  \n",
       "2024-11-27 10:01:56.426491  0.717358  0.216579  \n",
       "2024-11-28 10:01:56.426491  0.932080  0.535783  \n",
       "2024-11-29 10:01:56.426491  0.315774  0.927434  \n",
       "2024-11-30 10:01:56.426491  0.437385  0.209462  \n",
       "2024-12-01 10:01:56.426491  0.514036  0.107777  "
      ]
     },
     "execution_count": 291,
     "metadata": {},
     "output_type": "execute_result"
    }
   ],
   "source": [
    "dframe.applymap(float)"
   ]
  },
  {
   "cell_type": "code",
   "execution_count": 293,
   "id": "ff0baf68-4c63-4de7-8abe-049e8f6f9146",
   "metadata": {},
   "outputs": [
    {
     "data": {
      "text/plain": [
       "p    888.000000\n",
       "d      0.032641\n",
       "f      0.016033\n",
       "r      0.016489\n",
       "i      0.475933\n",
       "g      0.315774\n",
       "h      0.107777\n",
       "dtype: float64"
      ]
     },
     "execution_count": 293,
     "metadata": {},
     "output_type": "execute_result"
    }
   ],
   "source": [
    "# Using Lambda function in Dataframes for find min value\n",
    "dframe.apply(lambda x: min(x))"
   ]
  },
  {
   "cell_type": "code",
   "execution_count": 295,
   "id": "43c17d44-1b49-426f-a2a5-3105df2f1871",
   "metadata": {},
   "outputs": [
    {
     "data": {
      "text/html": [
       "<div>\n",
       "<style scoped>\n",
       "    .dataframe tbody tr th:only-of-type {\n",
       "        vertical-align: middle;\n",
       "    }\n",
       "\n",
       "    .dataframe tbody tr th {\n",
       "        vertical-align: top;\n",
       "    }\n",
       "\n",
       "    .dataframe thead th {\n",
       "        text-align: right;\n",
       "    }\n",
       "</style>\n",
       "<table border=\"1\" class=\"dataframe\">\n",
       "  <thead>\n",
       "    <tr style=\"text-align: right;\">\n",
       "      <th></th>\n",
       "      <th>p</th>\n",
       "      <th>d</th>\n",
       "      <th>f</th>\n",
       "      <th>r</th>\n",
       "      <th>i</th>\n",
       "      <th>g</th>\n",
       "      <th>h</th>\n",
       "    </tr>\n",
       "  </thead>\n",
       "  <tbody>\n",
       "    <tr>\n",
       "      <th>2024-11-27 10:01:56.426491</th>\n",
       "      <td>788544</td>\n",
       "      <td>0.253964</td>\n",
       "      <td>0.143492</td>\n",
       "      <td>0.098575</td>\n",
       "      <td>0.249391</td>\n",
       "      <td>0.514602</td>\n",
       "      <td>0.046906</td>\n",
       "    </tr>\n",
       "    <tr>\n",
       "      <th>2024-11-28 10:01:56.426491</th>\n",
       "      <td>788544</td>\n",
       "      <td>0.082195</td>\n",
       "      <td>0.084049</td>\n",
       "      <td>0.000272</td>\n",
       "      <td>0.226512</td>\n",
       "      <td>0.868773</td>\n",
       "      <td>0.287063</td>\n",
       "    </tr>\n",
       "    <tr>\n",
       "      <th>2024-11-29 10:01:56.426491</th>\n",
       "      <td>788544</td>\n",
       "      <td>0.775210</td>\n",
       "      <td>0.126463</td>\n",
       "      <td>0.027810</td>\n",
       "      <td>0.929381</td>\n",
       "      <td>0.099714</td>\n",
       "      <td>0.860134</td>\n",
       "    </tr>\n",
       "    <tr>\n",
       "      <th>2024-11-30 10:01:56.426491</th>\n",
       "      <td>788544</td>\n",
       "      <td>0.001065</td>\n",
       "      <td>0.420754</td>\n",
       "      <td>0.001506</td>\n",
       "      <td>0.647299</td>\n",
       "      <td>0.191305</td>\n",
       "      <td>0.043874</td>\n",
       "    </tr>\n",
       "    <tr>\n",
       "      <th>2024-12-01 10:01:56.426491</th>\n",
       "      <td>788544</td>\n",
       "      <td>0.056358</td>\n",
       "      <td>0.000257</td>\n",
       "      <td>0.231033</td>\n",
       "      <td>0.765201</td>\n",
       "      <td>0.264233</td>\n",
       "      <td>0.011616</td>\n",
       "    </tr>\n",
       "  </tbody>\n",
       "</table>\n",
       "</div>"
      ],
      "text/plain": [
       "                                 p         d         f         r         i  \\\n",
       "2024-11-27 10:01:56.426491  788544  0.253964  0.143492  0.098575  0.249391   \n",
       "2024-11-28 10:01:56.426491  788544  0.082195  0.084049  0.000272  0.226512   \n",
       "2024-11-29 10:01:56.426491  788544  0.775210  0.126463  0.027810  0.929381   \n",
       "2024-11-30 10:01:56.426491  788544  0.001065  0.420754  0.001506  0.647299   \n",
       "2024-12-01 10:01:56.426491  788544  0.056358  0.000257  0.231033  0.765201   \n",
       "\n",
       "                                   g         h  \n",
       "2024-11-27 10:01:56.426491  0.514602  0.046906  \n",
       "2024-11-28 10:01:56.426491  0.868773  0.287063  \n",
       "2024-11-29 10:01:56.426491  0.099714  0.860134  \n",
       "2024-11-30 10:01:56.426491  0.191305  0.043874  \n",
       "2024-12-01 10:01:56.426491  0.264233  0.011616  "
      ]
     },
     "execution_count": 295,
     "metadata": {},
     "output_type": "execute_result"
    }
   ],
   "source": [
    "# Using Lambda function in Dataframes for find min value\n",
    "dframe.apply(lambda x: x*x)"
   ]
  },
  {
   "cell_type": "code",
   "execution_count": 297,
   "id": "669a49c7-b5db-4ec2-b134-74c2eee25a0f",
   "metadata": {},
   "outputs": [],
   "source": [
    "##merge Dataframes"
   ]
  },
  {
   "cell_type": "code",
   "execution_count": 299,
   "id": "4cc1b1d1-8468-4ad8-8238-767baebe0958",
   "metadata": {},
   "outputs": [
    {
     "data": {
      "text/html": [
       "<div>\n",
       "<style scoped>\n",
       "    .dataframe tbody tr th:only-of-type {\n",
       "        vertical-align: middle;\n",
       "    }\n",
       "\n",
       "    .dataframe tbody tr th {\n",
       "        vertical-align: top;\n",
       "    }\n",
       "\n",
       "    .dataframe thead th {\n",
       "        text-align: right;\n",
       "    }\n",
       "</style>\n",
       "<table border=\"1\" class=\"dataframe\">\n",
       "  <thead>\n",
       "    <tr style=\"text-align: right;\">\n",
       "      <th></th>\n",
       "      <th>Id</th>\n",
       "      <th>Name</th>\n",
       "    </tr>\n",
       "  </thead>\n",
       "  <tbody>\n",
       "    <tr>\n",
       "      <th>0</th>\n",
       "      <td>1</td>\n",
       "      <td>Daksha</td>\n",
       "    </tr>\n",
       "    <tr>\n",
       "      <th>1</th>\n",
       "      <td>2</td>\n",
       "      <td>Bunny</td>\n",
       "    </tr>\n",
       "    <tr>\n",
       "      <th>2</th>\n",
       "      <td>3</td>\n",
       "      <td>sunny</td>\n",
       "    </tr>\n",
       "    <tr>\n",
       "      <th>3</th>\n",
       "      <td>4</td>\n",
       "      <td>Abhi</td>\n",
       "    </tr>\n",
       "  </tbody>\n",
       "</table>\n",
       "</div>"
      ],
      "text/plain": [
       "  Id    Name\n",
       "0  1  Daksha\n",
       "1  2   Bunny\n",
       "2  3   sunny\n",
       "3  4    Abhi"
      ]
     },
     "execution_count": 299,
     "metadata": {},
     "output_type": "execute_result"
    }
   ],
   "source": [
    "daf1= pd.DataFrame({'Id':['1','2','3','4'], 'Name':['Daksha','Bunny','sunny','Abhi']})\n",
    "daf1"
   ]
  },
  {
   "cell_type": "code",
   "execution_count": 301,
   "id": "cd4bf4e3-c65e-4380-af82-9c6d2e140b13",
   "metadata": {},
   "outputs": [
    {
     "data": {
      "text/html": [
       "<div>\n",
       "<style scoped>\n",
       "    .dataframe tbody tr th:only-of-type {\n",
       "        vertical-align: middle;\n",
       "    }\n",
       "\n",
       "    .dataframe tbody tr th {\n",
       "        vertical-align: top;\n",
       "    }\n",
       "\n",
       "    .dataframe thead th {\n",
       "        text-align: right;\n",
       "    }\n",
       "</style>\n",
       "<table border=\"1\" class=\"dataframe\">\n",
       "  <thead>\n",
       "    <tr style=\"text-align: right;\">\n",
       "      <th></th>\n",
       "      <th>Id</th>\n",
       "      <th>Score</th>\n",
       "    </tr>\n",
       "  </thead>\n",
       "  <tbody>\n",
       "    <tr>\n",
       "      <th>0</th>\n",
       "      <td>1</td>\n",
       "      <td>40</td>\n",
       "    </tr>\n",
       "    <tr>\n",
       "      <th>1</th>\n",
       "      <td>2</td>\n",
       "      <td>60</td>\n",
       "    </tr>\n",
       "    <tr>\n",
       "      <th>2</th>\n",
       "      <td>6</td>\n",
       "      <td>80</td>\n",
       "    </tr>\n",
       "    <tr>\n",
       "      <th>3</th>\n",
       "      <td>7</td>\n",
       "      <td>90</td>\n",
       "    </tr>\n",
       "    <tr>\n",
       "      <th>4</th>\n",
       "      <td>8</td>\n",
       "      <td>70</td>\n",
       "    </tr>\n",
       "  </tbody>\n",
       "</table>\n",
       "</div>"
      ],
      "text/plain": [
       "  Id  Score\n",
       "0  1     40\n",
       "1  2     60\n",
       "2  6     80\n",
       "3  7     90\n",
       "4  8     70"
      ]
     },
     "execution_count": 301,
     "metadata": {},
     "output_type": "execute_result"
    }
   ],
   "source": [
    "daf2 = pd.DataFrame({'Id':['1','2','6','7','8'], 'Score':[40, 60, 80, 90, 70]})\n",
    "daf2"
   ]
  },
  {
   "cell_type": "code",
   "execution_count": 303,
   "id": "1b7cf89d-3cc6-4fb3-a286-63b85691d2fd",
   "metadata": {},
   "outputs": [
    {
     "data": {
      "text/html": [
       "<div>\n",
       "<style scoped>\n",
       "    .dataframe tbody tr th:only-of-type {\n",
       "        vertical-align: middle;\n",
       "    }\n",
       "\n",
       "    .dataframe tbody tr th {\n",
       "        vertical-align: top;\n",
       "    }\n",
       "\n",
       "    .dataframe thead th {\n",
       "        text-align: right;\n",
       "    }\n",
       "</style>\n",
       "<table border=\"1\" class=\"dataframe\">\n",
       "  <thead>\n",
       "    <tr style=\"text-align: right;\">\n",
       "      <th></th>\n",
       "      <th>Id</th>\n",
       "      <th>Name</th>\n",
       "      <th>Score</th>\n",
       "    </tr>\n",
       "  </thead>\n",
       "  <tbody>\n",
       "    <tr>\n",
       "      <th>0</th>\n",
       "      <td>1</td>\n",
       "      <td>Daksha</td>\n",
       "      <td>40</td>\n",
       "    </tr>\n",
       "    <tr>\n",
       "      <th>1</th>\n",
       "      <td>2</td>\n",
       "      <td>Bunny</td>\n",
       "      <td>60</td>\n",
       "    </tr>\n",
       "  </tbody>\n",
       "</table>\n",
       "</div>"
      ],
      "text/plain": [
       "  Id    Name  Score\n",
       "0  1  Daksha     40\n",
       "1  2   Bunny     60"
      ]
     },
     "execution_count": 303,
     "metadata": {},
     "output_type": "execute_result"
    }
   ],
   "source": [
    "# Inner Join\n",
    "pd.merge(daf1,daf2, on = 'Id',how ='inner')"
   ]
  },
  {
   "cell_type": "code",
   "execution_count": 305,
   "id": "94a4d7aa-45c0-4074-b673-2da551b78188",
   "metadata": {},
   "outputs": [
    {
     "data": {
      "text/html": [
       "<div>\n",
       "<style scoped>\n",
       "    .dataframe tbody tr th:only-of-type {\n",
       "        vertical-align: middle;\n",
       "    }\n",
       "\n",
       "    .dataframe tbody tr th {\n",
       "        vertical-align: top;\n",
       "    }\n",
       "\n",
       "    .dataframe thead th {\n",
       "        text-align: right;\n",
       "    }\n",
       "</style>\n",
       "<table border=\"1\" class=\"dataframe\">\n",
       "  <thead>\n",
       "    <tr style=\"text-align: right;\">\n",
       "      <th></th>\n",
       "      <th>Id</th>\n",
       "      <th>Name</th>\n",
       "      <th>Score</th>\n",
       "    </tr>\n",
       "  </thead>\n",
       "  <tbody>\n",
       "    <tr>\n",
       "      <th>0</th>\n",
       "      <td>1</td>\n",
       "      <td>Daksha</td>\n",
       "      <td>40.0</td>\n",
       "    </tr>\n",
       "    <tr>\n",
       "      <th>1</th>\n",
       "      <td>2</td>\n",
       "      <td>Bunny</td>\n",
       "      <td>60.0</td>\n",
       "    </tr>\n",
       "    <tr>\n",
       "      <th>2</th>\n",
       "      <td>3</td>\n",
       "      <td>sunny</td>\n",
       "      <td>NaN</td>\n",
       "    </tr>\n",
       "    <tr>\n",
       "      <th>3</th>\n",
       "      <td>4</td>\n",
       "      <td>Abhi</td>\n",
       "      <td>NaN</td>\n",
       "    </tr>\n",
       "    <tr>\n",
       "      <th>4</th>\n",
       "      <td>6</td>\n",
       "      <td>NaN</td>\n",
       "      <td>80.0</td>\n",
       "    </tr>\n",
       "    <tr>\n",
       "      <th>5</th>\n",
       "      <td>7</td>\n",
       "      <td>NaN</td>\n",
       "      <td>90.0</td>\n",
       "    </tr>\n",
       "    <tr>\n",
       "      <th>6</th>\n",
       "      <td>8</td>\n",
       "      <td>NaN</td>\n",
       "      <td>70.0</td>\n",
       "    </tr>\n",
       "  </tbody>\n",
       "</table>\n",
       "</div>"
      ],
      "text/plain": [
       "  Id    Name  Score\n",
       "0  1  Daksha   40.0\n",
       "1  2   Bunny   60.0\n",
       "2  3   sunny    NaN\n",
       "3  4    Abhi    NaN\n",
       "4  6     NaN   80.0\n",
       "5  7     NaN   90.0\n",
       "6  8     NaN   70.0"
      ]
     },
     "execution_count": 305,
     "metadata": {},
     "output_type": "execute_result"
    }
   ],
   "source": [
    "# Full Outer Join\n",
    "pd.merge(daf1,daf2, on= 'Id', how = 'outer')"
   ]
  },
  {
   "cell_type": "code",
   "execution_count": 307,
   "id": "8db5ff4c-f512-4b81-be82-6e95fb938dab",
   "metadata": {},
   "outputs": [
    {
     "data": {
      "text/html": [
       "<div>\n",
       "<style scoped>\n",
       "    .dataframe tbody tr th:only-of-type {\n",
       "        vertical-align: middle;\n",
       "    }\n",
       "\n",
       "    .dataframe tbody tr th {\n",
       "        vertical-align: top;\n",
       "    }\n",
       "\n",
       "    .dataframe thead th {\n",
       "        text-align: right;\n",
       "    }\n",
       "</style>\n",
       "<table border=\"1\" class=\"dataframe\">\n",
       "  <thead>\n",
       "    <tr style=\"text-align: right;\">\n",
       "      <th></th>\n",
       "      <th>Id</th>\n",
       "      <th>Name</th>\n",
       "      <th>Score</th>\n",
       "    </tr>\n",
       "  </thead>\n",
       "  <tbody>\n",
       "    <tr>\n",
       "      <th>0</th>\n",
       "      <td>1</td>\n",
       "      <td>Daksha</td>\n",
       "      <td>40.0</td>\n",
       "    </tr>\n",
       "    <tr>\n",
       "      <th>1</th>\n",
       "      <td>2</td>\n",
       "      <td>Bunny</td>\n",
       "      <td>60.0</td>\n",
       "    </tr>\n",
       "    <tr>\n",
       "      <th>2</th>\n",
       "      <td>3</td>\n",
       "      <td>sunny</td>\n",
       "      <td>NaN</td>\n",
       "    </tr>\n",
       "    <tr>\n",
       "      <th>3</th>\n",
       "      <td>4</td>\n",
       "      <td>Abhi</td>\n",
       "      <td>NaN</td>\n",
       "    </tr>\n",
       "  </tbody>\n",
       "</table>\n",
       "</div>"
      ],
      "text/plain": [
       "  Id    Name  Score\n",
       "0  1  Daksha   40.0\n",
       "1  2   Bunny   60.0\n",
       "2  3   sunny    NaN\n",
       "3  4    Abhi    NaN"
      ]
     },
     "execution_count": 307,
     "metadata": {},
     "output_type": "execute_result"
    }
   ],
   "source": [
    "# left Outer Join\n",
    "pd.merge(daf1,daf2, on= 'Id', how = 'left')"
   ]
  },
  {
   "cell_type": "code",
   "execution_count": 309,
   "id": "65d680e5-8663-4411-a069-8dedbaf29a17",
   "metadata": {},
   "outputs": [
    {
     "data": {
      "text/html": [
       "<div>\n",
       "<style scoped>\n",
       "    .dataframe tbody tr th:only-of-type {\n",
       "        vertical-align: middle;\n",
       "    }\n",
       "\n",
       "    .dataframe tbody tr th {\n",
       "        vertical-align: top;\n",
       "    }\n",
       "\n",
       "    .dataframe thead th {\n",
       "        text-align: right;\n",
       "    }\n",
       "</style>\n",
       "<table border=\"1\" class=\"dataframe\">\n",
       "  <thead>\n",
       "    <tr style=\"text-align: right;\">\n",
       "      <th></th>\n",
       "      <th>Id</th>\n",
       "      <th>Name</th>\n",
       "      <th>Score</th>\n",
       "    </tr>\n",
       "  </thead>\n",
       "  <tbody>\n",
       "    <tr>\n",
       "      <th>0</th>\n",
       "      <td>1</td>\n",
       "      <td>Daksha</td>\n",
       "      <td>40</td>\n",
       "    </tr>\n",
       "    <tr>\n",
       "      <th>1</th>\n",
       "      <td>2</td>\n",
       "      <td>Bunny</td>\n",
       "      <td>60</td>\n",
       "    </tr>\n",
       "    <tr>\n",
       "      <th>2</th>\n",
       "      <td>6</td>\n",
       "      <td>NaN</td>\n",
       "      <td>80</td>\n",
       "    </tr>\n",
       "    <tr>\n",
       "      <th>3</th>\n",
       "      <td>7</td>\n",
       "      <td>NaN</td>\n",
       "      <td>90</td>\n",
       "    </tr>\n",
       "    <tr>\n",
       "      <th>4</th>\n",
       "      <td>8</td>\n",
       "      <td>NaN</td>\n",
       "      <td>70</td>\n",
       "    </tr>\n",
       "  </tbody>\n",
       "</table>\n",
       "</div>"
      ],
      "text/plain": [
       "  Id    Name  Score\n",
       "0  1  Daksha     40\n",
       "1  2   Bunny     60\n",
       "2  6     NaN     80\n",
       "3  7     NaN     90\n",
       "4  8     NaN     70"
      ]
     },
     "execution_count": 309,
     "metadata": {},
     "output_type": "execute_result"
    }
   ],
   "source": [
    "# right Outer Join\n",
    "pd.merge(daf1,daf2, on= 'Id', how = 'right')"
   ]
  },
  {
   "cell_type": "code",
   "execution_count": 311,
   "id": "d0c6e5a1-574f-4045-bea2-3add689d6c5a",
   "metadata": {},
   "outputs": [],
   "source": [
    "### Importing multiple CSV files in DataFrame"
   ]
  },
  {
   "cell_type": "code",
   "execution_count": null,
   "id": "697e8fdd-81f6-4c52-8530-ea4122b70292",
   "metadata": {},
   "outputs": [],
   "source": []
  },
  {
   "cell_type": "code",
   "execution_count": null,
   "id": "8ad1fd78-0db0-4ed8-965f-508754823d5c",
   "metadata": {},
   "outputs": [],
   "source": []
  },
  {
   "cell_type": "code",
   "execution_count": null,
   "id": "93f38d7d-4285-45e9-bf36-92143eb36547",
   "metadata": {},
   "outputs": [],
   "source": []
  },
  {
   "cell_type": "code",
   "execution_count": null,
   "id": "f5955e58-a1e5-4311-8603-497550b8fe81",
   "metadata": {},
   "outputs": [],
   "source": []
  },
  {
   "cell_type": "code",
   "execution_count": null,
   "id": "d279c4b4-8e2a-422a-a812-53dd1289d84c",
   "metadata": {},
   "outputs": [],
   "source": []
  },
  {
   "cell_type": "code",
   "execution_count": null,
   "id": "b68f55ee-d590-40e0-bd9c-164ed834c026",
   "metadata": {},
   "outputs": [],
   "source": []
  },
  {
   "cell_type": "code",
   "execution_count": null,
   "id": "f6c2bee0-3487-499c-89d0-d54e612ae2fc",
   "metadata": {},
   "outputs": [],
   "source": []
  },
  {
   "cell_type": "code",
   "execution_count": null,
   "id": "7ceb28da-7c53-4169-b6e1-78e65013a896",
   "metadata": {},
   "outputs": [],
   "source": []
  },
  {
   "cell_type": "code",
   "execution_count": null,
   "id": "18412103-f2fe-4509-b6db-bdde15c3da0d",
   "metadata": {},
   "outputs": [],
   "source": []
  },
  {
   "cell_type": "code",
   "execution_count": null,
   "id": "62dd2119-c3af-409b-895a-f7996340eca1",
   "metadata": {},
   "outputs": [],
   "source": []
  },
  {
   "cell_type": "code",
   "execution_count": null,
   "id": "db2a98c4-b8ad-4d70-b47f-818797c96f9e",
   "metadata": {},
   "outputs": [],
   "source": []
  },
  {
   "cell_type": "code",
   "execution_count": null,
   "id": "4002a9d2-70a0-443c-8a0e-12e78d92c401",
   "metadata": {},
   "outputs": [],
   "source": []
  },
  {
   "cell_type": "code",
   "execution_count": null,
   "id": "749570e1-5ba3-4848-8112-0dd0765bdcb8",
   "metadata": {},
   "outputs": [],
   "source": []
  },
  {
   "cell_type": "code",
   "execution_count": null,
   "id": "d5e4dc69-3ec7-491e-a51b-2a8f11e5d925",
   "metadata": {},
   "outputs": [],
   "source": []
  }
 ],
 "metadata": {
  "kernelspec": {
   "display_name": "Python 3 (ipykernel)",
   "language": "python",
   "name": "python3"
  },
  "language_info": {
   "codemirror_mode": {
    "name": "ipython",
    "version": 3
   },
   "file_extension": ".py",
   "mimetype": "text/x-python",
   "name": "python",
   "nbconvert_exporter": "python",
   "pygments_lexer": "ipython3",
   "version": "3.12.7"
  }
 },
 "nbformat": 4,
 "nbformat_minor": 5
}
