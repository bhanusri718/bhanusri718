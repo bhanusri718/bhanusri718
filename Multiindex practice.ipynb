{
 "cells": [
  {
   "cell_type": "code",
   "execution_count": 68,
   "id": "e0ef97ab-25a5-49d7-9141-ce9cd1834eda",
   "metadata": {},
   "outputs": [],
   "source": [
    "import pandas as pd\n",
    "import numpy as np\n",
    "arrays =[[\"bar\",\"bar\",\"baz\",\"foo\",\"qux\",\"qux\"],\n",
    "        [\"one\",\"two\",\"one\",\"two\",\"one\",\"two\"]]"
   ]
  },
  {
   "cell_type": "code",
   "execution_count": 70,
   "id": "f74476de-deca-41f9-b880-41fe6ba9e0d7",
   "metadata": {},
   "outputs": [],
   "source": [
    "tuples =list(zip(*arrays))"
   ]
  },
  {
   "cell_type": "code",
   "execution_count": 72,
   "id": "8e66374e-9d52-4f2f-b0c8-c19aca37cff0",
   "metadata": {},
   "outputs": [
    {
     "data": {
      "text/plain": [
       "[('bar', 'one'),\n",
       " ('bar', 'two'),\n",
       " ('baz', 'one'),\n",
       " ('foo', 'two'),\n",
       " ('qux', 'one'),\n",
       " ('qux', 'two')]"
      ]
     },
     "execution_count": 72,
     "metadata": {},
     "output_type": "execute_result"
    }
   ],
   "source": [
    "tuples"
   ]
  },
  {
   "cell_type": "code",
   "execution_count": 74,
   "id": "68e566e1-8492-446b-902d-1507ba2cac7a",
   "metadata": {},
   "outputs": [],
   "source": [
    "index = pd.MultiIndex.from_tuples(tuples,names =[\"first\",\"second\"])"
   ]
  },
  {
   "cell_type": "code",
   "execution_count": 76,
   "id": "a593caa1-e406-4b58-86bd-4b3ff676b9c9",
   "metadata": {},
   "outputs": [
    {
     "data": {
      "text/plain": [
       "MultiIndex([('bar', 'one'),\n",
       "            ('bar', 'two'),\n",
       "            ('baz', 'one'),\n",
       "            ('foo', 'two'),\n",
       "            ('qux', 'one'),\n",
       "            ('qux', 'two')],\n",
       "           names=['first', 'second'])"
      ]
     },
     "execution_count": 76,
     "metadata": {},
     "output_type": "execute_result"
    }
   ],
   "source": [
    "index"
   ]
  },
  {
   "cell_type": "code",
   "execution_count": 86,
   "id": "e52fbedb-951a-4f43-b041-e0eae5a38043",
   "metadata": {},
   "outputs": [],
   "source": [
    "s = pd.Series(np.random.randn(6), index=index)"
   ]
  },
  {
   "cell_type": "code",
   "execution_count": 88,
   "id": "9d6083a0-6013-42d0-b5c3-3677baacc66d",
   "metadata": {},
   "outputs": [
    {
     "data": {
      "text/plain": [
       "first  second\n",
       "bar    one      -1.118711\n",
       "       two      -0.666143\n",
       "baz    one       0.852830\n",
       "foo    two      -0.057932\n",
       "qux    one      -0.728781\n",
       "       two       2.410736\n",
       "dtype: float64"
      ]
     },
     "execution_count": 88,
     "metadata": {},
     "output_type": "execute_result"
    }
   ],
   "source": [
    "s"
   ]
  },
  {
   "cell_type": "code",
   "execution_count": 92,
   "id": "f2693603-aab5-47cd-b9ba-7f75655fe1bb",
   "metadata": {},
   "outputs": [
    {
     "data": {
      "text/plain": [
       "MultiIndex([('bar', 'one'),\n",
       "            ('bar', 'two'),\n",
       "            ('baz', 'one'),\n",
       "            ('baz', 'two'),\n",
       "            ('foo', 'one'),\n",
       "            ('foo', 'two'),\n",
       "            ('qux', 'one'),\n",
       "            ('qux', 'two')],\n",
       "           names=['first', 'second'])"
      ]
     },
     "execution_count": 92,
     "metadata": {},
     "output_type": "execute_result"
    }
   ],
   "source": [
    "iterables =[[\"bar\", \"baz\", \"foo\", \"qux\"], [\"one\", \"two\"]] \n",
    "pd.MultiIndex.from_product(iterables, names=[\"first\",\"second\"])"
   ]
  },
  {
   "cell_type": "code",
   "execution_count": 106,
   "id": "99649035-025f-4fc3-b0eb-89e300c8cbef",
   "metadata": {},
   "outputs": [],
   "source": [
    "df = pd.DataFrame( \n",
    "    [[\"bar\", \"one\"], [\"bar\", \"two\"], [\"foo\", \"one\"], [\"foo\", \"two\"]],\n",
    "    columns=[\"first\", \"second\"],\n",
    ")"
   ]
  },
  {
   "cell_type": "code",
   "execution_count": 108,
   "id": "61668e6b-7767-438b-a906-decc80c399ba",
   "metadata": {},
   "outputs": [
    {
     "data": {
      "text/html": [
       "<div>\n",
       "<style scoped>\n",
       "    .dataframe tbody tr th:only-of-type {\n",
       "        vertical-align: middle;\n",
       "    }\n",
       "\n",
       "    .dataframe tbody tr th {\n",
       "        vertical-align: top;\n",
       "    }\n",
       "\n",
       "    .dataframe thead th {\n",
       "        text-align: right;\n",
       "    }\n",
       "</style>\n",
       "<table border=\"1\" class=\"dataframe\">\n",
       "  <thead>\n",
       "    <tr style=\"text-align: right;\">\n",
       "      <th></th>\n",
       "      <th>first</th>\n",
       "      <th>second</th>\n",
       "    </tr>\n",
       "  </thead>\n",
       "  <tbody>\n",
       "    <tr>\n",
       "      <th>0</th>\n",
       "      <td>bar</td>\n",
       "      <td>one</td>\n",
       "    </tr>\n",
       "    <tr>\n",
       "      <th>1</th>\n",
       "      <td>bar</td>\n",
       "      <td>two</td>\n",
       "    </tr>\n",
       "    <tr>\n",
       "      <th>2</th>\n",
       "      <td>foo</td>\n",
       "      <td>one</td>\n",
       "    </tr>\n",
       "    <tr>\n",
       "      <th>3</th>\n",
       "      <td>foo</td>\n",
       "      <td>two</td>\n",
       "    </tr>\n",
       "  </tbody>\n",
       "</table>\n",
       "</div>"
      ],
      "text/plain": [
       "  first second\n",
       "0   bar    one\n",
       "1   bar    two\n",
       "2   foo    one\n",
       "3   foo    two"
      ]
     },
     "execution_count": 108,
     "metadata": {},
     "output_type": "execute_result"
    }
   ],
   "source": [
    "df"
   ]
  },
  {
   "cell_type": "code",
   "execution_count": 110,
   "id": "087679e5-0229-48a2-a590-bcf006c8c06b",
   "metadata": {},
   "outputs": [
    {
     "data": {
      "text/plain": [
       "MultiIndex([('bar', 'one'),\n",
       "            ('bar', 'two'),\n",
       "            ('foo', 'one'),\n",
       "            ('foo', 'two')],\n",
       "           names=['first', 'second'])"
      ]
     },
     "execution_count": 110,
     "metadata": {},
     "output_type": "execute_result"
    }
   ],
   "source": [
    "pd.MultiIndex.from_frame(df)"
   ]
  },
  {
   "cell_type": "code",
   "execution_count": 112,
   "id": "2d08d28e-96b1-4450-881c-5428cafc1866",
   "metadata": {},
   "outputs": [],
   "source": [
    "arrays =[[\"bar\",\"bar\",\"baz\",\"foo\",\"qux\",\"qux\"],\n",
    "        [\"one\",\"two\",\"one\",\"two\",\"one\",\"two\"]]"
   ]
  },
  {
   "cell_type": "code",
   "execution_count": 116,
   "id": "8ba850cc-2daa-48ea-83e1-6e32d2d311b0",
   "metadata": {},
   "outputs": [
    {
     "data": {
      "text/plain": [
       "bar  one    0.594299\n",
       "     two   -1.333943\n",
       "baz  one   -1.271325\n",
       "foo  two   -0.647886\n",
       "qux  one   -0.367417\n",
       "     two    0.581803\n",
       "dtype: float64"
      ]
     },
     "execution_count": 116,
     "metadata": {},
     "output_type": "execute_result"
    }
   ],
   "source": [
    "s = pd.Series(np.random.randn(6), index=arrays)\n",
    "s"
   ]
  },
  {
   "cell_type": "code",
   "execution_count": 136,
   "id": "2dbd2d6b-3e8d-47ca-a28c-3c96683e1007",
   "metadata": {},
   "outputs": [
    {
     "data": {
      "text/html": [
       "<div>\n",
       "<style scoped>\n",
       "    .dataframe tbody tr th:only-of-type {\n",
       "        vertical-align: middle;\n",
       "    }\n",
       "\n",
       "    .dataframe tbody tr th {\n",
       "        vertical-align: top;\n",
       "    }\n",
       "\n",
       "    .dataframe thead th {\n",
       "        text-align: right;\n",
       "    }\n",
       "</style>\n",
       "<table border=\"1\" class=\"dataframe\">\n",
       "  <thead>\n",
       "    <tr style=\"text-align: right;\">\n",
       "      <th></th>\n",
       "      <th></th>\n",
       "      <th>0</th>\n",
       "      <th>1</th>\n",
       "      <th>2</th>\n",
       "      <th>3</th>\n",
       "    </tr>\n",
       "  </thead>\n",
       "  <tbody>\n",
       "    <tr>\n",
       "      <th rowspan=\"2\" valign=\"top\">bar</th>\n",
       "      <th>one</th>\n",
       "      <td>1.010583</td>\n",
       "      <td>2.938888</td>\n",
       "      <td>-1.466167</td>\n",
       "      <td>-1.337950</td>\n",
       "    </tr>\n",
       "    <tr>\n",
       "      <th>two</th>\n",
       "      <td>-0.196990</td>\n",
       "      <td>2.393486</td>\n",
       "      <td>-0.815312</td>\n",
       "      <td>-0.070196</td>\n",
       "    </tr>\n",
       "    <tr>\n",
       "      <th>baz</th>\n",
       "      <th>one</th>\n",
       "      <td>0.096884</td>\n",
       "      <td>-1.656897</td>\n",
       "      <td>0.713351</td>\n",
       "      <td>1.366790</td>\n",
       "    </tr>\n",
       "    <tr>\n",
       "      <th>foo</th>\n",
       "      <th>two</th>\n",
       "      <td>-1.320101</td>\n",
       "      <td>0.820690</td>\n",
       "      <td>-0.774220</td>\n",
       "      <td>-1.384163</td>\n",
       "    </tr>\n",
       "    <tr>\n",
       "      <th rowspan=\"2\" valign=\"top\">qux</th>\n",
       "      <th>one</th>\n",
       "      <td>-0.975495</td>\n",
       "      <td>0.776955</td>\n",
       "      <td>0.953288</td>\n",
       "      <td>-1.150571</td>\n",
       "    </tr>\n",
       "    <tr>\n",
       "      <th>two</th>\n",
       "      <td>1.734974</td>\n",
       "      <td>0.963609</td>\n",
       "      <td>0.487100</td>\n",
       "      <td>-0.355615</td>\n",
       "    </tr>\n",
       "  </tbody>\n",
       "</table>\n",
       "</div>"
      ],
      "text/plain": [
       "                0         1         2         3\n",
       "bar one  1.010583  2.938888 -1.466167 -1.337950\n",
       "    two -0.196990  2.393486 -0.815312 -0.070196\n",
       "baz one  0.096884 -1.656897  0.713351  1.366790\n",
       "foo two -1.320101  0.820690 -0.774220 -1.384163\n",
       "qux one -0.975495  0.776955  0.953288 -1.150571\n",
       "    two  1.734974  0.963609  0.487100 -0.355615"
      ]
     },
     "execution_count": 136,
     "metadata": {},
     "output_type": "execute_result"
    }
   ],
   "source": [
    "s = pd.DataFrame(np.random.randn(6,4), index=arrays)\n",
    "s"
   ]
  },
  {
   "cell_type": "code",
   "execution_count": 146,
   "id": "94a57f53-4b9e-422d-bd9a-819e500a7d72",
   "metadata": {},
   "outputs": [
    {
     "data": {
      "text/plain": [
       "FrozenList([None])"
      ]
     },
     "execution_count": 146,
     "metadata": {},
     "output_type": "execute_result"
    }
   ],
   "source": [
    "df.index.names"
   ]
  },
  {
   "cell_type": "code",
   "execution_count": 154,
   "id": "0031637e-d25a-4859-a1d9-ca4524e3afb4",
   "metadata": {},
   "outputs": [
    {
     "data": {
      "text/html": [
       "<div>\n",
       "<style scoped>\n",
       "    .dataframe tbody tr th:only-of-type {\n",
       "        vertical-align: middle;\n",
       "    }\n",
       "\n",
       "    .dataframe tbody tr th {\n",
       "        vertical-align: top;\n",
       "    }\n",
       "\n",
       "    .dataframe thead tr th {\n",
       "        text-align: left;\n",
       "    }\n",
       "</style>\n",
       "<table border=\"1\" class=\"dataframe\">\n",
       "  <thead>\n",
       "    <tr>\n",
       "      <th>first</th>\n",
       "      <th colspan=\"2\" halign=\"left\">bar</th>\n",
       "      <th>baz</th>\n",
       "      <th>foo</th>\n",
       "      <th colspan=\"2\" halign=\"left\">qux</th>\n",
       "    </tr>\n",
       "    <tr>\n",
       "      <th>second</th>\n",
       "      <th>one</th>\n",
       "      <th>two</th>\n",
       "      <th>one</th>\n",
       "      <th>two</th>\n",
       "      <th>one</th>\n",
       "      <th>two</th>\n",
       "    </tr>\n",
       "  </thead>\n",
       "  <tbody>\n",
       "    <tr>\n",
       "      <th>a</th>\n",
       "      <td>-0.328627</td>\n",
       "      <td>-0.761288</td>\n",
       "      <td>0.229731</td>\n",
       "      <td>-0.581383</td>\n",
       "      <td>0.973593</td>\n",
       "      <td>0.777456</td>\n",
       "    </tr>\n",
       "    <tr>\n",
       "      <th>b</th>\n",
       "      <td>0.392006</td>\n",
       "      <td>0.919139</td>\n",
       "      <td>-1.290225</td>\n",
       "      <td>0.134953</td>\n",
       "      <td>-1.563179</td>\n",
       "      <td>-0.775245</td>\n",
       "    </tr>\n",
       "    <tr>\n",
       "      <th>c</th>\n",
       "      <td>-2.576202</td>\n",
       "      <td>-0.726268</td>\n",
       "      <td>-0.815130</td>\n",
       "      <td>0.341706</td>\n",
       "      <td>0.167011</td>\n",
       "      <td>1.616810</td>\n",
       "    </tr>\n",
       "  </tbody>\n",
       "</table>\n",
       "</div>"
      ],
      "text/plain": [
       "first        bar                 baz       foo       qux          \n",
       "second       one       two       one       two       one       two\n",
       "a      -0.328627 -0.761288  0.229731 -0.581383  0.973593  0.777456\n",
       "b       0.392006  0.919139 -1.290225  0.134953 -1.563179 -0.775245\n",
       "c      -2.576202 -0.726268 -0.815130  0.341706  0.167011  1.616810"
      ]
     },
     "execution_count": 154,
     "metadata": {},
     "output_type": "execute_result"
    }
   ],
   "source": [
    "df = pd.DataFrame(np.random.randn(3,6), index=[\"a\",\"b\",\"c\"],columns= index)\n",
    "df"
   ]
  },
  {
   "cell_type": "code",
   "execution_count": 156,
   "id": "989cef54-5614-4ff2-8f66-f3c96d6521bc",
   "metadata": {},
   "outputs": [
    {
     "data": {
      "text/html": [
       "<div>\n",
       "<style scoped>\n",
       "    .dataframe tbody tr th:only-of-type {\n",
       "        vertical-align: middle;\n",
       "    }\n",
       "\n",
       "    .dataframe tbody tr th {\n",
       "        vertical-align: top;\n",
       "    }\n",
       "\n",
       "    .dataframe thead tr th {\n",
       "        text-align: left;\n",
       "    }\n",
       "</style>\n",
       "<table border=\"1\" class=\"dataframe\">\n",
       "  <thead>\n",
       "    <tr>\n",
       "      <th>first</th>\n",
       "      <th colspan=\"2\" halign=\"left\">bar</th>\n",
       "      <th>baz</th>\n",
       "      <th>foo</th>\n",
       "      <th colspan=\"2\" halign=\"left\">qux</th>\n",
       "    </tr>\n",
       "    <tr>\n",
       "      <th>second</th>\n",
       "      <th>one</th>\n",
       "      <th>two</th>\n",
       "      <th>one</th>\n",
       "      <th>two</th>\n",
       "      <th>one</th>\n",
       "      <th>two</th>\n",
       "    </tr>\n",
       "  </thead>\n",
       "  <tbody>\n",
       "    <tr>\n",
       "      <th>a</th>\n",
       "      <td>-1.368688</td>\n",
       "      <td>1.250968</td>\n",
       "      <td>-0.292692</td>\n",
       "      <td>-0.849619</td>\n",
       "      <td>-1.096006</td>\n",
       "      <td>-0.474545</td>\n",
       "    </tr>\n",
       "    <tr>\n",
       "      <th>b</th>\n",
       "      <td>0.159997</td>\n",
       "      <td>-0.089504</td>\n",
       "      <td>0.188166</td>\n",
       "      <td>-0.833463</td>\n",
       "      <td>-0.305982</td>\n",
       "      <td>0.361461</td>\n",
       "    </tr>\n",
       "    <tr>\n",
       "      <th>c</th>\n",
       "      <td>-1.466863</td>\n",
       "      <td>-1.352481</td>\n",
       "      <td>-0.548490</td>\n",
       "      <td>0.422366</td>\n",
       "      <td>-1.568742</td>\n",
       "      <td>-0.849018</td>\n",
       "    </tr>\n",
       "  </tbody>\n",
       "</table>\n",
       "</div>"
      ],
      "text/plain": [
       "first        bar                 baz       foo       qux          \n",
       "second       one       two       one       two       one       two\n",
       "a      -1.368688  1.250968 -0.292692 -0.849619 -1.096006 -0.474545\n",
       "b       0.159997 -0.089504  0.188166 -0.833463 -0.305982  0.361461\n",
       "c      -1.466863 -1.352481 -0.548490  0.422366 -1.568742 -0.849018"
      ]
     },
     "execution_count": 156,
     "metadata": {},
     "output_type": "execute_result"
    }
   ],
   "source": [
    "pd.DataFrame(np.random.randn(3,6), index=[\"a\",\"b\",\"c\"],columns= index[:6])"
   ]
  },
  {
   "cell_type": "code",
   "execution_count": 158,
   "id": "ac7b23c5-36ab-47ec-ae07-2f66cad02f11",
   "metadata": {},
   "outputs": [],
   "source": [
    "with pd.option_context(\"display.multi_sparse\", False):\n",
    "    df"
   ]
  },
  {
   "cell_type": "code",
   "execution_count": 162,
   "id": "0f4ae4f7-82ab-4f73-a373-b800c22507d3",
   "metadata": {},
   "outputs": [
    {
     "data": {
      "text/plain": [
       "(bar, one)    1.065696\n",
       "(bar, two)   -0.278590\n",
       "(baz, one)    1.761682\n",
       "(foo, two)    0.571765\n",
       "(qux, one)    1.531877\n",
       "(qux, two)   -1.815821\n",
       "dtype: float64"
      ]
     },
     "execution_count": 162,
     "metadata": {},
     "output_type": "execute_result"
    }
   ],
   "source": [
    "pd.Series(np.random.randn(6), index=tuples)"
   ]
  },
  {
   "cell_type": "code",
   "execution_count": 166,
   "id": "c9af6181-933e-41c2-afaa-06bcaa4e49be",
   "metadata": {},
   "outputs": [
    {
     "data": {
      "text/plain": [
       "Index(['bar', 'bar', 'baz', 'foo', 'qux', 'qux'], dtype='object', name='first')"
      ]
     },
     "execution_count": 166,
     "metadata": {},
     "output_type": "execute_result"
    }
   ],
   "source": [
    "index.get_level_values(0)"
   ]
  },
  {
   "cell_type": "code",
   "execution_count": 168,
   "id": "974b6a7d-4a60-404a-b0f9-369d67febcae",
   "metadata": {},
   "outputs": [
    {
     "data": {
      "text/plain": [
       "Index(['one', 'two', 'one', 'two', 'one', 'two'], dtype='object', name='second')"
      ]
     },
     "execution_count": 168,
     "metadata": {},
     "output_type": "execute_result"
    }
   ],
   "source": [
    "index.get_level_values(\"second\")"
   ]
  },
  {
   "cell_type": "code",
   "execution_count": 170,
   "id": "723c47bd-8043-4e49-a2d5-eaf19483d48c",
   "metadata": {},
   "outputs": [
    {
     "data": {
      "text/html": [
       "<div>\n",
       "<style scoped>\n",
       "    .dataframe tbody tr th:only-of-type {\n",
       "        vertical-align: middle;\n",
       "    }\n",
       "\n",
       "    .dataframe tbody tr th {\n",
       "        vertical-align: top;\n",
       "    }\n",
       "\n",
       "    .dataframe thead th {\n",
       "        text-align: right;\n",
       "    }\n",
       "</style>\n",
       "<table border=\"1\" class=\"dataframe\">\n",
       "  <thead>\n",
       "    <tr style=\"text-align: right;\">\n",
       "      <th>second</th>\n",
       "      <th>one</th>\n",
       "      <th>two</th>\n",
       "    </tr>\n",
       "  </thead>\n",
       "  <tbody>\n",
       "    <tr>\n",
       "      <th>a</th>\n",
       "      <td>-0.328627</td>\n",
       "      <td>-0.761288</td>\n",
       "    </tr>\n",
       "    <tr>\n",
       "      <th>b</th>\n",
       "      <td>0.392006</td>\n",
       "      <td>0.919139</td>\n",
       "    </tr>\n",
       "    <tr>\n",
       "      <th>c</th>\n",
       "      <td>-2.576202</td>\n",
       "      <td>-0.726268</td>\n",
       "    </tr>\n",
       "  </tbody>\n",
       "</table>\n",
       "</div>"
      ],
      "text/plain": [
       "second       one       two\n",
       "a      -0.328627 -0.761288\n",
       "b       0.392006  0.919139\n",
       "c      -2.576202 -0.726268"
      ]
     },
     "execution_count": 170,
     "metadata": {},
     "output_type": "execute_result"
    }
   ],
   "source": [
    "df[\"bar\"]"
   ]
  },
  {
   "cell_type": "code",
   "execution_count": 172,
   "id": "b914b2d6-9815-40fe-be47-eb07ae82057a",
   "metadata": {},
   "outputs": [
    {
     "data": {
      "text/plain": [
       "a   -0.328627\n",
       "b    0.392006\n",
       "c   -2.576202\n",
       "Name: (bar, one), dtype: float64"
      ]
     },
     "execution_count": 172,
     "metadata": {},
     "output_type": "execute_result"
    }
   ],
   "source": [
    "df[\"bar\",\"one\"]"
   ]
  },
  {
   "cell_type": "code",
   "execution_count": 174,
   "id": "3ad7932c-89e7-4b7a-a9a9-d3f5a38b24b2",
   "metadata": {},
   "outputs": [
    {
     "data": {
      "text/plain": [
       "(second       one       two\n",
       " a      -0.328627 -0.761288\n",
       " b       0.392006  0.919139\n",
       " c      -2.576202 -0.726268,\n",
       " ['one'])"
      ]
     },
     "execution_count": 174,
     "metadata": {},
     "output_type": "execute_result"
    }
   ],
   "source": [
    "df[\"bar\"],[\"one\"]"
   ]
  },
  {
   "cell_type": "code",
   "execution_count": 176,
   "id": "e3a23f96-7b63-47f6-ac35-f4e40957f620",
   "metadata": {},
   "outputs": [
    {
     "data": {
      "text/html": [
       "<div>\n",
       "<style scoped>\n",
       "    .dataframe tbody tr th:only-of-type {\n",
       "        vertical-align: middle;\n",
       "    }\n",
       "\n",
       "    .dataframe tbody tr th {\n",
       "        vertical-align: top;\n",
       "    }\n",
       "\n",
       "    .dataframe thead th {\n",
       "        text-align: right;\n",
       "    }\n",
       "</style>\n",
       "<table border=\"1\" class=\"dataframe\">\n",
       "  <thead>\n",
       "    <tr style=\"text-align: right;\">\n",
       "      <th>second</th>\n",
       "      <th>one</th>\n",
       "      <th>two</th>\n",
       "    </tr>\n",
       "  </thead>\n",
       "  <tbody>\n",
       "    <tr>\n",
       "      <th>a</th>\n",
       "      <td>1.288255</td>\n",
       "      <td>-0.254211</td>\n",
       "    </tr>\n",
       "    <tr>\n",
       "      <th>b</th>\n",
       "      <td>0.712662</td>\n",
       "      <td>-0.644130</td>\n",
       "    </tr>\n",
       "    <tr>\n",
       "      <th>c</th>\n",
       "      <td>-1.768986</td>\n",
       "      <td>-0.705173</td>\n",
       "    </tr>\n",
       "  </tbody>\n",
       "</table>\n",
       "</div>"
      ],
      "text/plain": [
       "second       one       two\n",
       "a       1.288255 -0.254211\n",
       "b       0.712662 -0.644130\n",
       "c      -1.768986 -0.705173"
      ]
     },
     "execution_count": 176,
     "metadata": {},
     "output_type": "execute_result"
    }
   ],
   "source": [
    "s[\"qux\"]"
   ]
  },
  {
   "cell_type": "code",
   "execution_count": 178,
   "id": "338f026a-4b81-40f3-9f9e-e45b122fb31c",
   "metadata": {},
   "outputs": [
    {
     "data": {
      "text/plain": [
       "FrozenList([['bar', 'baz', 'foo', 'qux'], ['one', 'two']])"
      ]
     },
     "execution_count": 178,
     "metadata": {},
     "output_type": "execute_result"
    }
   ],
   "source": [
    "df.columns.levels"
   ]
  },
  {
   "cell_type": "code",
   "execution_count": 180,
   "id": "b09d291d-8b74-4564-825d-89f2864b27da",
   "metadata": {},
   "outputs": [
    {
     "data": {
      "text/plain": [
       "FrozenList([['bar', 'baz', 'foo', 'qux'], ['one', 'two']])"
      ]
     },
     "execution_count": 180,
     "metadata": {},
     "output_type": "execute_result"
    }
   ],
   "source": [
    "df[[\"foo\",\"qux\"]].columns.levels"
   ]
  },
  {
   "cell_type": "code",
   "execution_count": 182,
   "id": "285924be-c7cf-4429-93c2-125b1d250420",
   "metadata": {},
   "outputs": [
    {
     "data": {
      "text/plain": [
       "array([('foo', 'two'), ('qux', 'one'), ('qux', 'two')], dtype=object)"
      ]
     },
     "execution_count": 182,
     "metadata": {},
     "output_type": "execute_result"
    }
   ],
   "source": [
    "df[[\"foo\",\"qux\"]].columns.to_numpy()"
   ]
  },
  {
   "cell_type": "code",
   "execution_count": 190,
   "id": "f3967f38-4919-482d-8060-1a89e6e5249d",
   "metadata": {},
   "outputs": [
    {
     "data": {
      "text/plain": [
       "Index(['two', 'one', 'two'], dtype='object', name='second')"
      ]
     },
     "execution_count": 190,
     "metadata": {},
     "output_type": "execute_result"
    }
   ],
   "source": [
    "df[[\"foo\",\"qux\"]].columns.get_level_values(1)"
   ]
  },
  {
   "cell_type": "code",
   "execution_count": 194,
   "id": "44d54cdb-36ff-45e4-97f4-3a5f313af9d1",
   "metadata": {},
   "outputs": [
    {
     "data": {
      "text/plain": [
       "FrozenList([['foo', 'qux'], ['one', 'two']])"
      ]
     },
     "execution_count": 194,
     "metadata": {},
     "output_type": "execute_result"
    }
   ],
   "source": [
    "new_mi = df[[\"foo\", \"qux\"]].columns.remove_unused_levels()\n",
    "new_mi.levels"
   ]
  },
  {
   "cell_type": "code",
   "execution_count": 196,
   "id": "1ccb160c-4b39-4b84-be21-f62fca720f31",
   "metadata": {},
   "outputs": [],
   "source": [
    "#reindex"
   ]
  },
  {
   "cell_type": "code",
   "execution_count": 215,
   "id": "29c05136-8068-4235-97bc-1cd29aa07ae2",
   "metadata": {},
   "outputs": [
    {
     "data": {
      "text/html": [
       "<div>\n",
       "<style scoped>\n",
       "    .dataframe tbody tr th:only-of-type {\n",
       "        vertical-align: middle;\n",
       "    }\n",
       "\n",
       "    .dataframe tbody tr th {\n",
       "        vertical-align: top;\n",
       "    }\n",
       "\n",
       "    .dataframe thead tr th {\n",
       "        text-align: left;\n",
       "    }\n",
       "</style>\n",
       "<table border=\"1\" class=\"dataframe\">\n",
       "  <thead>\n",
       "    <tr>\n",
       "      <th>first</th>\n",
       "      <th colspan=\"2\" halign=\"left\">bar</th>\n",
       "      <th>baz</th>\n",
       "      <th>foo</th>\n",
       "      <th colspan=\"2\" halign=\"left\">qux</th>\n",
       "    </tr>\n",
       "    <tr>\n",
       "      <th>second</th>\n",
       "      <th>one</th>\n",
       "      <th>two</th>\n",
       "      <th>one</th>\n",
       "      <th>two</th>\n",
       "      <th>one</th>\n",
       "      <th>two</th>\n",
       "    </tr>\n",
       "  </thead>\n",
       "  <tbody>\n",
       "    <tr>\n",
       "      <th>a</th>\n",
       "      <td>0.912249</td>\n",
       "      <td>-1.736018</td>\n",
       "      <td>-1.855484</td>\n",
       "      <td>-2.713176</td>\n",
       "      <td>2.576511</td>\n",
       "      <td>-0.508423</td>\n",
       "    </tr>\n",
       "    <tr>\n",
       "      <th>b</th>\n",
       "      <td>NaN</td>\n",
       "      <td>NaN</td>\n",
       "      <td>NaN</td>\n",
       "      <td>NaN</td>\n",
       "      <td>NaN</td>\n",
       "      <td>NaN</td>\n",
       "    </tr>\n",
       "    <tr>\n",
       "      <th>c</th>\n",
       "      <td>NaN</td>\n",
       "      <td>NaN</td>\n",
       "      <td>NaN</td>\n",
       "      <td>NaN</td>\n",
       "      <td>NaN</td>\n",
       "      <td>NaN</td>\n",
       "    </tr>\n",
       "  </tbody>\n",
       "</table>\n",
       "</div>"
      ],
      "text/plain": [
       "first        bar                 baz       foo       qux          \n",
       "second       one       two       one       two       one       two\n",
       "a       0.912249 -1.736018 -1.855484 -2.713176  2.576511 -0.508423\n",
       "b            NaN       NaN       NaN       NaN       NaN       NaN\n",
       "c            NaN       NaN       NaN       NaN       NaN       NaN"
      ]
     },
     "execution_count": 215,
     "metadata": {},
     "output_type": "execute_result"
    }
   ],
   "source": [
    "s +s[:-2]"
   ]
  },
  {
   "cell_type": "code",
   "execution_count": 250,
   "id": "9395c6a9-8fa8-4f04-bd7b-bb4528616617",
   "metadata": {},
   "outputs": [
    {
     "data": {
      "text/html": [
       "<div>\n",
       "<style scoped>\n",
       "    .dataframe tbody tr th:only-of-type {\n",
       "        vertical-align: middle;\n",
       "    }\n",
       "\n",
       "    .dataframe tbody tr th {\n",
       "        vertical-align: top;\n",
       "    }\n",
       "\n",
       "    .dataframe thead tr th {\n",
       "        text-align: left;\n",
       "    }\n",
       "</style>\n",
       "<table border=\"1\" class=\"dataframe\">\n",
       "  <thead>\n",
       "    <tr>\n",
       "      <th>first</th>\n",
       "      <th colspan=\"2\" halign=\"left\">bar</th>\n",
       "      <th>baz</th>\n",
       "      <th>foo</th>\n",
       "      <th colspan=\"2\" halign=\"left\">qux</th>\n",
       "    </tr>\n",
       "    <tr>\n",
       "      <th>second</th>\n",
       "      <th>one</th>\n",
       "      <th>two</th>\n",
       "      <th>one</th>\n",
       "      <th>two</th>\n",
       "      <th>one</th>\n",
       "      <th>two</th>\n",
       "    </tr>\n",
       "  </thead>\n",
       "  <tbody>\n",
       "    <tr>\n",
       "      <th>a</th>\n",
       "      <td>0.912249</td>\n",
       "      <td>-1.736018</td>\n",
       "      <td>-1.855484</td>\n",
       "      <td>-2.713176</td>\n",
       "      <td>2.576511</td>\n",
       "      <td>-0.508423</td>\n",
       "    </tr>\n",
       "    <tr>\n",
       "      <th>b</th>\n",
       "      <td>-3.865914</td>\n",
       "      <td>0.877869</td>\n",
       "      <td>-0.987231</td>\n",
       "      <td>0.723646</td>\n",
       "      <td>1.425325</td>\n",
       "      <td>-1.288260</td>\n",
       "    </tr>\n",
       "    <tr>\n",
       "      <th>c</th>\n",
       "      <td>NaN</td>\n",
       "      <td>NaN</td>\n",
       "      <td>NaN</td>\n",
       "      <td>NaN</td>\n",
       "      <td>NaN</td>\n",
       "      <td>NaN</td>\n",
       "    </tr>\n",
       "  </tbody>\n",
       "</table>\n",
       "</div>"
      ],
      "text/plain": [
       "first        bar                 baz       foo       qux          \n",
       "second       one       two       one       two       one       two\n",
       "a       0.912249 -1.736018 -1.855484 -2.713176  2.576511 -0.508423\n",
       "b      -3.865914  0.877869 -0.987231  0.723646  1.425325 -1.288260\n",
       "c            NaN       NaN       NaN       NaN       NaN       NaN"
      ]
     },
     "execution_count": 250,
     "metadata": {},
     "output_type": "execute_result"
    }
   ],
   "source": [
    "s + s[:2]"
   ]
  },
  {
   "cell_type": "code",
   "execution_count": 252,
   "id": "efcf6b08-7eb0-4623-8050-fb44e921a088",
   "metadata": {},
   "outputs": [
    {
     "data": {
      "text/html": [
       "<div>\n",
       "<style scoped>\n",
       "    .dataframe tbody tr th:only-of-type {\n",
       "        vertical-align: middle;\n",
       "    }\n",
       "\n",
       "    .dataframe tbody tr th {\n",
       "        vertical-align: top;\n",
       "    }\n",
       "\n",
       "    .dataframe thead tr th {\n",
       "        text-align: left;\n",
       "    }\n",
       "\n",
       "    .dataframe thead tr:last-of-type th {\n",
       "        text-align: right;\n",
       "    }\n",
       "</style>\n",
       "<table border=\"1\" class=\"dataframe\">\n",
       "  <thead>\n",
       "    <tr>\n",
       "      <th></th>\n",
       "      <th>first</th>\n",
       "      <th colspan=\"2\" halign=\"left\">bar</th>\n",
       "      <th>baz</th>\n",
       "      <th>foo</th>\n",
       "      <th colspan=\"2\" halign=\"left\">qux</th>\n",
       "    </tr>\n",
       "    <tr>\n",
       "      <th></th>\n",
       "      <th>second</th>\n",
       "      <th>one</th>\n",
       "      <th>two</th>\n",
       "      <th>one</th>\n",
       "      <th>two</th>\n",
       "      <th>one</th>\n",
       "      <th>two</th>\n",
       "    </tr>\n",
       "    <tr>\n",
       "      <th>first</th>\n",
       "      <th>second</th>\n",
       "      <th></th>\n",
       "      <th></th>\n",
       "      <th></th>\n",
       "      <th></th>\n",
       "      <th></th>\n",
       "      <th></th>\n",
       "    </tr>\n",
       "  </thead>\n",
       "  <tbody>\n",
       "    <tr>\n",
       "      <th rowspan=\"2\" valign=\"top\">bar</th>\n",
       "      <th>one</th>\n",
       "      <td>NaN</td>\n",
       "      <td>NaN</td>\n",
       "      <td>NaN</td>\n",
       "      <td>NaN</td>\n",
       "      <td>NaN</td>\n",
       "      <td>NaN</td>\n",
       "    </tr>\n",
       "    <tr>\n",
       "      <th>two</th>\n",
       "      <td>NaN</td>\n",
       "      <td>NaN</td>\n",
       "      <td>NaN</td>\n",
       "      <td>NaN</td>\n",
       "      <td>NaN</td>\n",
       "      <td>NaN</td>\n",
       "    </tr>\n",
       "    <tr>\n",
       "      <th>baz</th>\n",
       "      <th>one</th>\n",
       "      <td>NaN</td>\n",
       "      <td>NaN</td>\n",
       "      <td>NaN</td>\n",
       "      <td>NaN</td>\n",
       "      <td>NaN</td>\n",
       "      <td>NaN</td>\n",
       "    </tr>\n",
       "  </tbody>\n",
       "</table>\n",
       "</div>"
      ],
      "text/plain": [
       "first        bar     baz foo qux    \n",
       "second       one two one two one two\n",
       "first second                        \n",
       "bar   one    NaN NaN NaN NaN NaN NaN\n",
       "      two    NaN NaN NaN NaN NaN NaN\n",
       "baz   one    NaN NaN NaN NaN NaN NaN"
      ]
     },
     "execution_count": 252,
     "metadata": {},
     "output_type": "execute_result"
    }
   ],
   "source": [
    "s.reindex(index[:3])"
   ]
  },
  {
   "cell_type": "code",
   "execution_count": null,
   "id": "a8546957-e974-426c-9fa7-7cb61edf0006",
   "metadata": {},
   "outputs": [],
   "source": [
    "s.reindex([(\"foo\",\"two\"])"
   ]
  },
  {
   "cell_type": "code",
   "execution_count": null,
   "id": "2807f4e2-693a-49f3-aa07-53ab59ace8f9",
   "metadata": {},
   "outputs": [],
   "source": []
  },
  {
   "cell_type": "code",
   "execution_count": null,
   "id": "e4ba80a6-39a4-48b4-9e42-4c112bf0446a",
   "metadata": {},
   "outputs": [],
   "source": []
  },
  {
   "cell_type": "code",
   "execution_count": null,
   "id": "2cde6595-27aa-40e0-ae57-e3b7729416c5",
   "metadata": {},
   "outputs": [],
   "source": []
  },
  {
   "cell_type": "code",
   "execution_count": null,
   "id": "3dbeb44c-7fdf-4ad5-9bad-f2af782c4bcb",
   "metadata": {},
   "outputs": [],
   "source": []
  },
  {
   "cell_type": "code",
   "execution_count": null,
   "id": "efe5e693-0e3e-4a66-9d7f-2b920d326482",
   "metadata": {},
   "outputs": [],
   "source": []
  },
  {
   "cell_type": "code",
   "execution_count": null,
   "id": "6e40e6db-229a-484a-a439-a9d5b8a8e23c",
   "metadata": {},
   "outputs": [],
   "source": []
  },
  {
   "cell_type": "code",
   "execution_count": null,
   "id": "08600060-777e-443c-b0b0-021ee0be40c5",
   "metadata": {},
   "outputs": [],
   "source": []
  },
  {
   "cell_type": "code",
   "execution_count": null,
   "id": "91bd0aa1-7c22-4c61-9336-ec79544e210a",
   "metadata": {},
   "outputs": [],
   "source": []
  },
  {
   "cell_type": "code",
   "execution_count": null,
   "id": "ffeed708-498e-45ea-b604-8e4b31de50ac",
   "metadata": {},
   "outputs": [],
   "source": []
  },
  {
   "cell_type": "code",
   "execution_count": null,
   "id": "8d7eb7c2-8874-4bd4-be97-ba73ececed7e",
   "metadata": {},
   "outputs": [],
   "source": []
  },
  {
   "cell_type": "code",
   "execution_count": null,
   "id": "76306b07-8e05-4904-b298-3b19a637b8a8",
   "metadata": {},
   "outputs": [],
   "source": []
  },
  {
   "cell_type": "code",
   "execution_count": null,
   "id": "e7d8382a-b7a3-441d-9ac3-7a8e0ebc780e",
   "metadata": {},
   "outputs": [],
   "source": []
  },
  {
   "cell_type": "code",
   "execution_count": null,
   "id": "62ba7d90-ca38-4a37-a44d-92bed6e17cc2",
   "metadata": {},
   "outputs": [],
   "source": []
  }
 ],
 "metadata": {
  "kernelspec": {
   "display_name": "Python 3 (ipykernel)",
   "language": "python",
   "name": "python3"
  },
  "language_info": {
   "codemirror_mode": {
    "name": "ipython",
    "version": 3
   },
   "file_extension": ".py",
   "mimetype": "text/x-python",
   "name": "python",
   "nbconvert_exporter": "python",
   "pygments_lexer": "ipython3",
   "version": "3.12.7"
  }
 },
 "nbformat": 4,
 "nbformat_minor": 5
}
