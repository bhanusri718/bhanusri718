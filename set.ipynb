{
 "cells": [
  {
   "cell_type": "code",
   "execution_count": null,
   "id": "e3c2ee4c-4f80-4232-9d07-7e1dd55fb5a5",
   "metadata": {},
   "outputs": [],
   "source": [
    " sets in python"
   ]
  },
  {
   "cell_type": "code",
   "execution_count": 1,
   "id": "3d6f090e-db01-4d99-8259-0a12c1c582b7",
   "metadata": {},
   "outputs": [
    {
     "name": "stdout",
     "output_type": "stream",
     "text": [
      "<class 'dict'>\n"
     ]
    }
   ],
   "source": [
    "thisset ={}\n",
    "print(type(thisset))"
   ]
  },
  {
   "cell_type": "code",
   "execution_count": 3,
   "id": "76ccd7a8-1002-4e77-bd38-4a23c450b59c",
   "metadata": {},
   "outputs": [
    {
     "name": "stdout",
     "output_type": "stream",
     "text": [
      "<class 'set'>\n"
     ]
    }
   ],
   "source": [
    "thisset = set({})\n",
    "print(type(thisset))"
   ]
  },
  {
   "cell_type": "code",
   "execution_count": 7,
   "id": "9df03ed2-07dd-4cba-9647-4e5c254f87f4",
   "metadata": {},
   "outputs": [
    {
     "name": "stdout",
     "output_type": "stream",
     "text": [
      "{'grapes', 'banana', 'guava', 'apple'}\n"
     ]
    }
   ],
   "source": [
    "thisset = { \"apple\",\"banana\",\"grapes\",\"guava\"}\n",
    "print(thisset)"
   ]
  },
  {
   "cell_type": "code",
   "execution_count": 9,
   "id": "5646c208-3a90-4108-8857-3c60f1bca3d7",
   "metadata": {},
   "outputs": [
    {
     "data": {
      "text/plain": [
       "{'apple', 'banana', 'guava'}"
      ]
     },
     "execution_count": 9,
     "metadata": {},
     "output_type": "execute_result"
    }
   ],
   "source": [
    "thisset ={\"apple\",\"banana\",\"guava\"}\n",
    "thisset"
   ]
  },
  {
   "cell_type": "code",
   "execution_count": null,
   "id": "0a06907e-4c54-4376-b1af-1605d8437ce8",
   "metadata": {},
   "outputs": [],
   "source": [
    "DUPLICATES NOT ALLOWED"
   ]
  },
  {
   "cell_type": "code",
   "execution_count": 19,
   "id": "0cb29ac6-9e05-4a24-bc9a-b74364d9573a",
   "metadata": {},
   "outputs": [
    {
     "data": {
      "text/plain": [
       "{1, 2, 3, 4, 5}"
      ]
     },
     "execution_count": 19,
     "metadata": {},
     "output_type": "execute_result"
    }
   ],
   "source": [
    "thisset = {1,2,3,4,5,3,2,1}\n",
    "thisset"
   ]
  },
  {
   "cell_type": "code",
   "execution_count": 21,
   "id": "20185443-6d6e-4aeb-8488-0c7475e9b809",
   "metadata": {},
   "outputs": [
    {
     "data": {
      "text/plain": [
       "{'apple', 'banana', 'guava'}"
      ]
     },
     "execution_count": 21,
     "metadata": {},
     "output_type": "execute_result"
    }
   ],
   "source": [
    "thisset = {\"apple\",\"banana\",\"guava\",\"apple\"}\n",
    "thisset"
   ]
  },
  {
   "cell_type": "code",
   "execution_count": null,
   "id": "dafe061d-9eb5-45af-8bdc-1475e678a964",
   "metadata": {},
   "outputs": [],
   "source": [
    "THE Values True and 1 are considered the same and treated as duplicates"
   ]
  },
  {
   "cell_type": "code",
   "execution_count": 33,
   "id": "11014217-f2cd-4ebe-ace4-2d559fbb463d",
   "metadata": {},
   "outputs": [
    {
     "name": "stdout",
     "output_type": "stream",
     "text": [
      "{1, 2, 'True', 'banana', 'apples'}\n"
     ]
    }
   ],
   "source": [
    "thisset = {\"apples\",\"banana\",\"True\",1,2}\n",
    "print(thisset)"
   ]
  },
  {
   "cell_type": "code",
   "execution_count": 29,
   "id": "afcb4e3a-0859-4510-b323-516d2d3b7bf3",
   "metadata": {},
   "outputs": [
    {
     "name": "stdout",
     "output_type": "stream",
     "text": [
      "{True, 2, 'banana', 'apples'}\n"
     ]
    }
   ],
   "source": [
    "thisset = {\"apples\",\"banana\",True,1,2} \n",
    "print(thisset)"
   ]
  },
  {
   "cell_type": "code",
   "execution_count": 37,
   "id": "e4f863ab-c14c-4016-a527-bdcca176897c",
   "metadata": {},
   "outputs": [
    {
     "data": {
      "text/plain": [
       "{0, 'A', 'FALSE', 'b', 'c'}"
      ]
     },
     "execution_count": 37,
     "metadata": {},
     "output_type": "execute_result"
    }
   ],
   "source": [
    "thisset ={\"A\",\"b\",\"c\",0,\"FALSE\"}\n",
    "thisset"
   ]
  },
  {
   "cell_type": "code",
   "execution_count": 41,
   "id": "59e19997-ac5d-4773-82ac-825c20966f30",
   "metadata": {},
   "outputs": [
    {
     "name": "stdout",
     "output_type": "stream",
     "text": [
      "{0, 'B', 'C', 'A'}\n"
     ]
    }
   ],
   "source": [
    "thisset ={\"A\",\"B\",\"C\",0,False}\n",
    "print(thisset)"
   ]
  },
  {
   "cell_type": "code",
   "execution_count": null,
   "id": "b09b0191-ab25-48f6-b6af-4a8e6926f751",
   "metadata": {},
   "outputs": [],
   "source": [
    "ACCESS set items"
   ]
  },
  {
   "cell_type": "code",
   "execution_count": 45,
   "id": "4f0e6682-25af-433c-8748-c81b50c7c0ea",
   "metadata": {},
   "outputs": [
    {
     "name": "stdout",
     "output_type": "stream",
     "text": [
      "{'green', 'banana', 'apple'}\n"
     ]
    }
   ],
   "source": [
    "thisset ={\"apple\",\"banana\",\"green\"}\n",
    "print(thisset)"
   ]
  },
  {
   "cell_type": "code",
   "execution_count": 55,
   "id": "74faba8c-e4cb-43f3-8aeb-2005631b744e",
   "metadata": {},
   "outputs": [
    {
     "name": "stdout",
     "output_type": "stream",
     "text": [
      "green\n",
      "banana\n",
      "apple\n",
      "False\n"
     ]
    }
   ],
   "source": [
    "for i in thisset:\n",
    "    print(i)\n",
    "print(\"blue\" in thisset)"
   ]
  },
  {
   "cell_type": "code",
   "execution_count": 51,
   "id": "5a6e2c87-ccbc-4132-80e8-a2d244418d36",
   "metadata": {},
   "outputs": [
    {
     "name": "stdout",
     "output_type": "stream",
     "text": [
      "green\n",
      "True\n",
      "banana\n",
      "True\n",
      "apple\n",
      "True\n"
     ]
    }
   ],
   "source": [
    "for i in thisset:\n",
    "    print(i)\n",
    "    print(\"apple\" in thisset)"
   ]
  },
  {
   "cell_type": "code",
   "execution_count": null,
   "id": "a6164a0a-2986-4338-ac6e-f9f3ff34c732",
   "metadata": {},
   "outputs": [],
   "source": [
    "ADD set items"
   ]
  },
  {
   "cell_type": "code",
   "execution_count": 59,
   "id": "f14ae8da-9aed-405e-8a65-020a50870b92",
   "metadata": {},
   "outputs": [
    {
     "name": "stdout",
     "output_type": "stream",
     "text": [
      "{'grapes', 'banana', 'apples'}\n"
     ]
    }
   ],
   "source": [
    "thisset ={\"apples\",\"banana\"}\n",
    "thisset .add (\"grapes\")\n",
    "print (thisset)"
   ]
  },
  {
   "cell_type": "code",
   "execution_count": 63,
   "id": "ac19fa3e-7143-440c-9548-769aae7208b2",
   "metadata": {},
   "outputs": [
    {
     "name": "stdout",
     "output_type": "stream",
     "text": [
      "{'c', 'd', 'f', 'e', 'b', 'a'}\n"
     ]
    }
   ],
   "source": [
    "thisset ={\"a\",\"b\",\"c\"}\n",
    "set2 ={\"d\",\"e\",\"f\"}\n",
    "thisset.update(set2)\n",
    "print(thisset)"
   ]
  },
  {
   "cell_type": "code",
   "execution_count": null,
   "id": "0592fb62-453a-400d-8adb-02faaed69537",
   "metadata": {},
   "outputs": [],
   "source": [
    "Remove set items by using () method:"
   ]
  },
  {
   "cell_type": "code",
   "execution_count": 1,
   "id": "3b2c192c-97eb-4993-9f68-497631cefebc",
   "metadata": {},
   "outputs": [
    {
     "name": "stdout",
     "output_type": "stream",
     "text": [
      "{'green', 'apples'}\n"
     ]
    }
   ],
   "source": [
    "thisset ={\"apples\",\"banana\",\"green\"}\n",
    "thisset.remove(\"banana\")\n",
    "print(thisset)"
   ]
  },
  {
   "cell_type": "code",
   "execution_count": null,
   "id": "9b5e7b70-b165-4b5b-abf1-0d96659254ed",
   "metadata": {},
   "outputs": [],
   "source": [
    "by using the discard()method:"
   ]
  },
  {
   "cell_type": "code",
   "execution_count": 5,
   "id": "4cc88aa9-03ec-4b38-9424-9f3164c325fe",
   "metadata": {},
   "outputs": [
    {
     "name": "stdout",
     "output_type": "stream",
     "text": [
      "{'banana', 'apple'}\n"
     ]
    }
   ],
   "source": [
    "thisset ={\"apple\",\"banana\",\"grapes\"}\n",
    "thisset.discard(\"grapes\")\n",
    "print(thisset)"
   ]
  },
  {
   "cell_type": "code",
   "execution_count": null,
   "id": "991a1a1d-9aff-4fb9-bc8f-cf21e08ad27d",
   "metadata": {},
   "outputs": [],
   "source": [
    "POP method()"
   ]
  },
  {
   "cell_type": "code",
   "execution_count": 11,
   "id": "d9a1df88-18ec-4654-9ed9-6f606fac3555",
   "metadata": {},
   "outputs": [
    {
     "name": "stdout",
     "output_type": "stream",
     "text": [
      "{'d', 'k', 'g', 'c', 'a'}\n"
     ]
    }
   ],
   "source": [
    "thisset ={\"a\",\"b\",\"c\",\"d\",\"g\",\"k\"}\n",
    "thisset.pop()\n",
    "print(thisset)"
   ]
  },
  {
   "cell_type": "code",
   "execution_count": 20,
   "id": "22477c55-0a18-4f02-8720-82694170b117",
   "metadata": {},
   "outputs": [
    {
     "ename": "TypeError",
     "evalue": "set.pop() takes no arguments (1 given)",
     "output_type": "error",
     "traceback": [
      "\u001b[1;31m---------------------------------------------------------------------------\u001b[0m",
      "\u001b[1;31mTypeError\u001b[0m                                 Traceback (most recent call last)",
      "Cell \u001b[1;32mIn[20], line 2\u001b[0m\n\u001b[0;32m      1\u001b[0m thisset \u001b[38;5;241m=\u001b[39m{\u001b[38;5;124m\"\u001b[39m\u001b[38;5;124ma\u001b[39m\u001b[38;5;124m\"\u001b[39m,\u001b[38;5;124m\"\u001b[39m\u001b[38;5;124mb\u001b[39m\u001b[38;5;124m\"\u001b[39m,\u001b[38;5;124m\"\u001b[39m\u001b[38;5;124mc\u001b[39m\u001b[38;5;124m\"\u001b[39m,\u001b[38;5;124m\"\u001b[39m\u001b[38;5;124md\u001b[39m\u001b[38;5;124m\"\u001b[39m,\u001b[38;5;124m\"\u001b[39m\u001b[38;5;124mg\u001b[39m\u001b[38;5;124m\"\u001b[39m}\n\u001b[1;32m----> 2\u001b[0m thisset\u001b[38;5;241m.\u001b[39mpop(\u001b[38;5;241m1\u001b[39m)\n",
      "\u001b[1;31mTypeError\u001b[0m: set.pop() takes no arguments (1 given)"
     ]
    }
   ],
   "source": [
    "thisset ={\"a\",\"b\",\"c\",\"d\",\"g\"}\n",
    "thisset.pop(1)"
   ]
  },
  {
   "cell_type": "code",
   "execution_count": null,
   "id": "76ee8738-e6cb-457e-837e-b8a939d9992e",
   "metadata": {},
   "outputs": [],
   "source": [
    "clear () method e"
   ]
  },
  {
   "cell_type": "code",
   "execution_count": 23,
   "id": "02a76657-d27f-4de4-abf0-982b72e9cf48",
   "metadata": {},
   "outputs": [
    {
     "name": "stdout",
     "output_type": "stream",
     "text": [
      "set()\n"
     ]
    }
   ],
   "source": [
    "thisset ={\"a\",\"b\"}\n",
    "thisset.clear()\n",
    "print(thisset)"
   ]
  },
  {
   "cell_type": "code",
   "execution_count": null,
   "id": "bc5f369b-9308-4d0c-8468-3c44e313748a",
   "metadata": {},
   "outputs": [],
   "source": [
    "del keyword"
   ]
  },
  {
   "cell_type": "code",
   "execution_count": 41,
   "id": "8e81d516-9157-475a-bd6d-25173d5a06c7",
   "metadata": {},
   "outputs": [
    {
     "ename": "SyntaxError",
     "evalue": "invalid syntax (3562151277.py, line 2)",
     "output_type": "error",
     "traceback": [
      "\u001b[1;36m  Cell \u001b[1;32mIn[41], line 2\u001b[1;36m\u001b[0m\n\u001b[1;33m    thisset.del()\u001b[0m\n\u001b[1;37m            ^\u001b[0m\n\u001b[1;31mSyntaxError\u001b[0m\u001b[1;31m:\u001b[0m invalid syntax\n"
     ]
    }
   ],
   "source": [
    "thisset ={\"a\",\"b\"}\n",
    "thisset.del()\n",
    "print(thisset)"
   ]
  },
  {
   "cell_type": "code",
   "execution_count": null,
   "id": "430bdb37-1c7a-4b8f-b325-239a91cd1b2a",
   "metadata": {},
   "outputs": [],
   "source": [
    "join sets"
   ]
  },
  {
   "cell_type": "code",
   "execution_count": null,
   "id": "1b4ce939-a1f6-4307-bb69-5ce32b7cc0d3",
   "metadata": {},
   "outputs": [],
   "source": [
    "union () method"
   ]
  },
  {
   "cell_type": "code",
   "execution_count": 51,
   "id": "d618b160-fa50-4a5a-aaa8-97da6dadad5c",
   "metadata": {},
   "outputs": [
    {
     "data": {
      "text/plain": [
       "{'a', 'b', 'c', 'd', 'e', 'f', 'g'}"
      ]
     },
     "execution_count": 51,
     "metadata": {},
     "output_type": "execute_result"
    }
   ],
   "source": [
    "thisset ={\"a\",\"b\",\"c\",\"d\"}\n",
    "set2 ={\"e\",\"f\",\"g\"}\n",
    "thisset.union(set2)"
   ]
  },
  {
   "cell_type": "code",
   "execution_count": null,
   "id": "c2fddbaa-f0bd-4100-9e8d-9f989fc9b7b8",
   "metadata": {},
   "outputs": [],
   "source": [
    "UPdate method"
   ]
  },
  {
   "cell_type": "code",
   "execution_count": 61,
   "id": "9814a924-e73b-40b2-8056-cc2ad838b852",
   "metadata": {},
   "outputs": [
    {
     "name": "stdout",
     "output_type": "stream",
     "text": [
      "{'e', 'b', 'd', 'g', 'c', 'f', 'a'}\n"
     ]
    }
   ],
   "source": [
    "thisset ={\"a\",\"b\",\"c\",\"d\"}\n",
    "set2 ={\"e\",\"f\",\"g\"}\n",
    "thisset.update(set2)\n",
    "print(thisset)"
   ]
  },
  {
   "cell_type": "code",
   "execution_count": 65,
   "id": "5a864829-0f53-43af-8c69-77a3c33b9d5e",
   "metadata": {},
   "outputs": [
    {
     "data": {
      "text/plain": [
       "{1, 2, 3, 'b', 'l', 's'}"
      ]
     },
     "execution_count": 65,
     "metadata": {},
     "output_type": "execute_result"
    }
   ],
   "source": [
    "set2 ={\"s\",\"l\",\"b\"}\n",
    "set3 ={1,2,3}\n",
    "set3 | set2"
   ]
  },
  {
   "cell_type": "code",
   "execution_count": null,
   "id": "6c838e39-e262-4400-a6e4-d722ce4762ad",
   "metadata": {},
   "outputs": [],
   "source": [
    "join multiple sets"
   ]
  },
  {
   "cell_type": "code",
   "execution_count": 69,
   "id": "537e5e2e-fdfc-4931-b314-b80248f3f4fd",
   "metadata": {},
   "outputs": [
    {
     "data": {
      "text/plain": [
       "{'a', 'b', 'c', 'd', 'e', 'f'}"
      ]
     },
     "execution_count": 69,
     "metadata": {},
     "output_type": "execute_result"
    }
   ],
   "source": [
    "set1 ={\"a\",\"b\"}\n",
    "set2 ={\"c\",\"d\"}\n",
    "set3 ={\"e\",\"f\"}\n",
    "set1.union(set3,set2)"
   ]
  },
  {
   "cell_type": "code",
   "execution_count": 71,
   "id": "d71be465-55c0-4023-bb98-b37088854b07",
   "metadata": {},
   "outputs": [
    {
     "data": {
      "text/plain": [
       "{'a', 'b', 'c', 'd', 'e', 'g'}"
      ]
     },
     "execution_count": 71,
     "metadata": {},
     "output_type": "execute_result"
    }
   ],
   "source": [
    "set1 ={\"a\",\"b\"}\n",
    "set2 ={\"c\",\"d\"}\n",
    "set3 ={\"e\",\"g\"}\n",
    "set3 | set2 | set1"
   ]
  },
  {
   "cell_type": "code",
   "execution_count": null,
   "id": "ba1503a6-0534-45a1-b9c4-151912c9bf6f",
   "metadata": {},
   "outputs": [],
   "source": [
    "set and tuple"
   ]
  },
  {
   "cell_type": "code",
   "execution_count": 75,
   "id": "0b3a5e0d-f329-4886-acc9-b639833b0ba4",
   "metadata": {},
   "outputs": [
    {
     "data": {
      "text/plain": [
       "{1, 2, 3, 'a', 'b', 'c', 'e', 'f', 'g'}"
      ]
     },
     "execution_count": 75,
     "metadata": {},
     "output_type": "execute_result"
    }
   ],
   "source": [
    "set1 ={1,2,3}\n",
    "tuple1 =(\"a\",\"b\",\"c\")\n",
    "lit = [\"e\",\"f\",\"g\"]\n",
    "set1.union(tuple1, lit)"
   ]
  },
  {
   "cell_type": "code",
   "execution_count": null,
   "id": "df692be9-871d-44dd-9b0c-8caec94ba29b",
   "metadata": {},
   "outputs": [],
   "source": [
    "intersection () method"
   ]
  },
  {
   "cell_type": "code",
   "execution_count": 83,
   "id": "46e264be-615e-43d9-87ab-b4f75aa56c4e",
   "metadata": {},
   "outputs": [
    {
     "name": "stdout",
     "output_type": "stream",
     "text": [
      "{'b', 'c', 'k', 'a'}\n"
     ]
    }
   ],
   "source": [
    "set1 = {\"a\",\"b\",\"c\",\"k\"}\n",
    "set2 = {\"a\",\"b\",\"d\",\"c\",\"h\"}\n",
    "set1.intersection(set2)\n",
    "print(set1)"
   ]
  },
  {
   "cell_type": "code",
   "execution_count": 85,
   "id": "8c5861f8-3adb-4548-b234-9565abb8cef8",
   "metadata": {},
   "outputs": [
    {
     "data": {
      "text/plain": [
       "{1, 2, 3}"
      ]
     },
     "execution_count": 85,
     "metadata": {},
     "output_type": "execute_result"
    }
   ],
   "source": [
    "# by using & operator performing intersection\n",
    "set1 ={1,2,3,8}\n",
    "set2 ={1,2,6,3}\n",
    "set1 & set2"
   ]
  },
  {
   "cell_type": "code",
   "execution_count": 91,
   "id": "82c14e75-cbb8-4a96-965e-bb8181c25dae",
   "metadata": {},
   "outputs": [
    {
     "name": "stdout",
     "output_type": "stream",
     "text": [
      "{1, 9}\n"
     ]
    }
   ],
   "source": [
    "set1 ={1,2,3,9}\n",
    "set2 ={1,6,8,9}\n",
    "set1.intersection_update(set2) \n",
    "print(set1)"
   ]
  },
  {
   "cell_type": "code",
   "execution_count": 127,
   "id": "83a78596-8090-4b36-b1ec-c30827591fe8",
   "metadata": {
    "scrolled": true
   },
   "outputs": [
    {
     "data": {
      "text/plain": [
       "{7, 9}"
      ]
     },
     "execution_count": 127,
     "metadata": {},
     "output_type": "execute_result"
    }
   ],
   "source": [
    "set1 = {1,2,3,4}\n",
    "set2 = {1,2,3,9,7}\n",
    "set2.difference(set1)\n"
   ]
  },
  {
   "cell_type": "code",
   "execution_count": 131,
   "id": "a15cb38d-6eb3-429d-83e0-d31f3bf60e9d",
   "metadata": {},
   "outputs": [
    {
     "data": {
      "text/plain": [
       "{6, 8}"
      ]
     },
     "execution_count": 131,
     "metadata": {},
     "output_type": "execute_result"
    }
   ],
   "source": [
    "set1 ={1,2,3,9}\n",
    "set2 ={1,8,2,6}\n",
    "set2 - set1"
   ]
  },
  {
   "cell_type": "code",
   "execution_count": 137,
   "id": "de34455b-7a7d-4af1-8bd7-b924014aaf8a",
   "metadata": {},
   "outputs": [
    {
     "name": "stdout",
     "output_type": "stream",
     "text": [
      "{5, 8}\n"
     ]
    }
   ],
   "source": [
    "set1 ={1,2,3,5,8}\n",
    "set2 ={1,2,3,4}\n",
    "set1.difference_update(set2)\n",
    "print(set1)"
   ]
  },
  {
   "cell_type": "markdown",
   "id": "ff4c0cf4-c7e2-4bbc-876d-e1c338de8de5",
   "metadata": {},
   "source": [
    "#symmetric difference()"
   ]
  },
  {
   "cell_type": "code",
   "execution_count": 139,
   "id": "eabc7c31-2806-497d-b1ad-dc90d612673c",
   "metadata": {},
   "outputs": [
    {
     "data": {
      "text/plain": [
       "{1, 6, 7}"
      ]
     },
     "execution_count": 139,
     "metadata": {},
     "output_type": "execute_result"
    }
   ],
   "source": [
    "set1 ={1,2,6,9}\n",
    "set2 ={2,9,7}\n",
    "set1.symmetric_difference(set2)"
   ]
  },
  {
   "cell_type": "code",
   "execution_count": 141,
   "id": "4722cd45-8033-4c73-81d4-e7e1d4666dec",
   "metadata": {},
   "outputs": [
    {
     "data": {
      "text/plain": [
       "{7}"
      ]
     },
     "execution_count": 141,
     "metadata": {},
     "output_type": "execute_result"
    }
   ],
   "source": [
    "set1 ={8,7,9,5}\n",
    "set2 ={8,5,9}\n",
    "set1 ^ set2"
   ]
  },
  {
   "cell_type": "code",
   "execution_count": null,
   "id": "191f0021-982f-43a4-aa43-c13173d20520",
   "metadata": {},
   "outputs": [],
   "source": [
    "#sdisjoint() method"
   ]
  },
  {
   "cell_type": "code",
   "execution_count": 143,
   "id": "4cf79466-4004-4e35-bdca-2427af106cc9",
   "metadata": {},
   "outputs": [
    {
     "data": {
      "text/plain": [
       "True"
      ]
     },
     "execution_count": 143,
     "metadata": {},
     "output_type": "execute_result"
    }
   ],
   "source": [
    "set1 ={\"apple\",\"banana\",\"grapes\"}\n",
    "set2 ={\"suuny\",\"bunny\"}\n",
    "set1.isdisjoint(set2)"
   ]
  },
  {
   "cell_type": "code",
   "execution_count": 145,
   "id": "8d1cf172-67b7-44f0-9b25-e7fd11a053d6",
   "metadata": {},
   "outputs": [
    {
     "data": {
      "text/plain": [
       "False"
      ]
     },
     "execution_count": 145,
     "metadata": {},
     "output_type": "execute_result"
    }
   ],
   "source": [
    "set1 ={1,8,2,5}\n",
    "set2 ={1,6,2,4}\n",
    "set1.issubset(set2)"
   ]
  },
  {
   "cell_type": "code",
   "execution_count": 147,
   "id": "e7fac4b1-49bb-4634-869f-00785859d46c",
   "metadata": {},
   "outputs": [
    {
     "data": {
      "text/plain": [
       "True"
      ]
     },
     "execution_count": 147,
     "metadata": {},
     "output_type": "execute_result"
    }
   ],
   "source": [
    "set1 ={2,5,8}\n",
    "set2 ={2,5,9,8}\n",
    "set1.issubset(set2)"
   ]
  },
  {
   "cell_type": "code",
   "execution_count": null,
   "id": "bdcbf0e8-b7a7-478a-bf6a-b32b8536bd37",
   "metadata": {},
   "outputs": [],
   "source": [
    "issuperset() method"
   ]
  },
  {
   "cell_type": "code",
   "execution_count": 151,
   "id": "e3ac75ec-84b0-47a5-ac8f-8f088102ca05",
   "metadata": {},
   "outputs": [
    {
     "data": {
      "text/plain": [
       "True"
      ]
     },
     "execution_count": 151,
     "metadata": {},
     "output_type": "execute_result"
    }
   ],
   "source": [
    "set1 ={\"a\",\"b\",\"c\",}\n",
    "set2 ={\"a\",\"g\",\"b\",\"k\",\"c\"}\n",
    "set2.issuperset(set1)"
   ]
  },
  {
   "cell_type": "code",
   "execution_count": null,
   "id": "5a407718-98b2-40f2-a5cf-a2af134a0f10",
   "metadata": {},
   "outputs": [],
   "source": []
  }
 ],
 "metadata": {
  "kernelspec": {
   "display_name": "Python 3 (ipykernel)",
   "language": "python",
   "name": "python3"
  },
  "language_info": {
   "codemirror_mode": {
    "name": "ipython",
    "version": 3
   },
   "file_extension": ".py",
   "mimetype": "text/x-python",
   "name": "python",
   "nbconvert_exporter": "python",
   "pygments_lexer": "ipython3",
   "version": "3.12.7"
  }
 },
 "nbformat": 4,
 "nbformat_minor": 5
}
