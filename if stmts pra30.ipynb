{
 "cells": [
  {
   "cell_type": "code",
   "execution_count": 125,
   "id": "affdfde8-63f4-4283-9f02-e8635df4f9a7",
   "metadata": {},
   "outputs": [
    {
     "name": "stdout",
     "output_type": "stream",
     "text": [
      "Tiger\n"
     ]
    }
   ],
   "source": [
    "if True:\n",
    "   print('Tiger')"
   ]
  },
  {
   "cell_type": "code",
   "execution_count": 127,
   "id": "ffcdbe84-4fe4-429b-9c79-e1c7ab4b433c",
   "metadata": {},
   "outputs": [
    {
     "name": "stdout",
     "output_type": "stream",
     "text": [
      "Even numbers\n"
     ]
    }
   ],
   "source": [
    "x = 6\n",
    "r = x%2\n",
    "\n",
    "if r == 0:\n",
    "    print('Even numbers')\n",
    "else:\n",
    "    print('odd numbers')"
   ]
  },
  {
   "cell_type": "code",
   "execution_count": 129,
   "id": "280f706f-6ff7-4317-b516-84bb0aec44fa",
   "metadata": {},
   "outputs": [
    {
     "name": "stdout",
     "output_type": "stream",
     "text": [
      "odd numbers\n"
     ]
    }
   ],
   "source": [
    "x = 11\n",
    "r = 5/2\n",
    "\n",
    "if r == 0:\n",
    "    print('Even numbers')\n",
    "else:\n",
    "    print('odd numbers')"
   ]
  },
  {
   "cell_type": "code",
   "execution_count": 131,
   "id": "55f02228-1279-4be2-9c73-08bc3ed0fa97",
   "metadata": {},
   "outputs": [
    {
     "name": "stdout",
     "output_type": "stream",
     "text": [
      "odd numbers\n"
     ]
    }
   ],
   "source": [
    "x = 10\n",
    "r = 555+2\n",
    "\n",
    "if r == 0:\n",
    "    print('Even numbers')\n",
    "if r !=0:\n",
    "    print('odd numbers')"
   ]
  },
  {
   "cell_type": "code",
   "execution_count": 133,
   "id": "9ff1752e-bb42-49bf-90ae-9a776973dc2e",
   "metadata": {},
   "outputs": [
    {
     "name": "stdout",
     "output_type": "stream",
     "text": [
      "Even number\n"
     ]
    }
   ],
   "source": [
    "x= 4\n",
    "r = x%2\n",
    "\n",
    "if r == 0:\n",
    "    print('Even number')\n",
    "    if x>5 :\n",
    "          print('greater no')"
   ]
  },
  {
   "cell_type": "code",
   "execution_count": 135,
   "id": "664dcf24-c008-464e-9964-3393516584d2",
   "metadata": {},
   "outputs": [
    {
     "name": "stdout",
     "output_type": "stream",
     "text": [
      "b is greater\n",
      "c is greater\n",
      "c is greater\n"
     ]
    }
   ],
   "source": [
    "a= 4\n",
    "b= 6\n",
    "c= 9\n",
    "if a > b:\n",
    "    print('a is greater ')\n",
    "if a < b:\n",
    "    print('b is greater')\n",
    "if b > c:\n",
    "    print('b is greater')\n",
    "if b < c:\n",
    "    print('c is greater')\n",
    "if c > a:\n",
    "    print('c is greater')\n",
    "if c < a:\n",
    "    print('c is greater')"
   ]
  },
  {
   "cell_type": "code",
   "execution_count": 137,
   "id": "44a3a0c1-af94-45d3-80fe-e0fae87ed435",
   "metadata": {},
   "outputs": [
    {
     "name": "stdout",
     "output_type": "stream",
     "text": [
      "value of p positive\n"
     ]
    }
   ],
   "source": [
    "p =4\n",
    "if p < 2:\n",
    "    print('value of p negative')\n",
    "if p > 2:    \n",
    "    print('value of p positive')\n"
   ]
  },
  {
   "cell_type": "code",
   "execution_count": 139,
   "id": "7b9537f0-ec23-47f7-bef4-ed584d41c6d5",
   "metadata": {},
   "outputs": [
    {
     "name": "stdout",
     "output_type": "stream",
     "text": [
      "x is greater\n"
     ]
    }
   ],
   "source": [
    "p = 88\n",
    "x = p+55\n",
    "if x < p:\n",
    "  print('p is greater')\n",
    "if x > p:\n",
    "  print('x is greater')"
   ]
  },
  {
   "cell_type": "code",
   "execution_count": 143,
   "id": "8aed29a6-4745-42d7-b522-08783278a453",
   "metadata": {},
   "outputs": [
    {
     "name": "stdin",
     "output_type": "stream",
     "text": [
      "enter a value 55\n"
     ]
    },
    {
     "name": "stdout",
     "output_type": "stream",
     "text": [
      "gradeC\n"
     ]
    }
   ],
   "source": [
    "gradeA = 100  ### values are higher to lower\n",
    "gradeB = 80\n",
    "gradec = 50\n",
    "gradeD = 30   \n",
    " ## enter student marks\n",
    "marks = int(input('enter a value'))\n",
    "if marks  >= 100 :\n",
    "  print('gradeA')\n",
    "elif marks  >= 80 :\n",
    "  print('gradeB') \n",
    "elif marks  >= 50 :\n",
    "   print('gradeC')\n",
    "elif marks  >= 30 :\n",
    "   print('gradeD')\n",
    "else :\n",
    "  print('failed')"
   ]
  },
  {
   "cell_type": "code",
   "execution_count": 36,
   "id": "864ea808-ba86-41b2-a669-0a7d03965741",
   "metadata": {},
   "outputs": [
    {
     "name": "stdin",
     "output_type": "stream",
     "text": [
      "enter a value 33\n"
     ]
    },
    {
     "name": "stdout",
     "output_type": "stream",
     "text": [
      "gradeD\n"
     ]
    }
   ],
   "source": [
    "gradeD = 30\n",
    "gradeC = 50\n",
    "gradeB = 80\n",
    "gradeA = 100   \n",
    " ## enter student marks\n",
    "marks = int(input('enter a value'))\n",
    "if marks  >= 30 :\n",
    "  print('gradeD')\n",
    "elif marks  >= 50 :\n",
    "  print('gradeC') \n",
    "elif marks  >= 80 :\n",
    "   print('gradeB')\n",
    "elif marks  >= 100 :\n",
    "   print('gradeA')\n",
    "else :\n",
    "  print('failed')"
   ]
  },
  {
   "cell_type": "code",
   "execution_count": 169,
   "id": "12a13c63-6660-4e8f-a2bc-575dbce01c8e",
   "metadata": {},
   "outputs": [
    {
     "name": "stdin",
     "output_type": "stream",
     "text": [
      "enter the year 2000\n"
     ]
    },
    {
     "name": "stdout",
     "output_type": "stream",
     "text": [
      "2000 it's not a leap year\n"
     ]
    }
   ],
   "source": [
    "year = int(input('enter the year'))\n",
    "if(year / 4 == 0):\n",
    " print(year ,\"it's a leap year\")\n",
    "elif(year / 100 == 0 ):\n",
    "   print(year ,\"it's a leap year\")\n",
    "elif( year / 400 == 0):\n",
    "   print(year ,\"it's a leap year\")\n",
    "else:\n",
    "    print(year ,\"it's not a leap year\")"
   ]
  },
  {
   "cell_type": "code",
   "execution_count": 175,
   "id": "694a55df-b98f-480a-97af-19972bbb2a74",
   "metadata": {},
   "outputs": [
    {
     "name": "stdin",
     "output_type": "stream",
     "text": [
      "enter the year 2004\n"
     ]
    },
    {
     "name": "stdout",
     "output_type": "stream",
     "text": [
      "2004 it's not a leap year\n"
     ]
    }
   ],
   "source": [
    "year = int(input('enter the year'))\n",
    "if(year / 4 == 0):\n",
    " print(year ,\"it's a leap year\")\n",
    "if(year / 100 == 0 ):\n",
    "   print(year ,\"it's a leap year\")\n",
    "if( year / 400 == 0):\n",
    "   print(year ,\"it's a leap year\")\n",
    "else:\n",
    "    print(year ,\"it's not a leap year\")"
   ]
  },
  {
   "cell_type": "code",
   "execution_count": null,
   "id": "027b31c5-81d3-431a-8243-8336dfba1249",
   "metadata": {},
   "outputs": [],
   "source": []
  },
  {
   "cell_type": "code",
   "execution_count": null,
   "id": "8c48b2ac-168d-4178-9bfb-373bd3548c14",
   "metadata": {},
   "outputs": [],
   "source": []
  },
  {
   "cell_type": "code",
   "execution_count": null,
   "id": "6ee2d25a-217e-4769-8b7e-0838bea38090",
   "metadata": {},
   "outputs": [],
   "source": []
  },
  {
   "cell_type": "code",
   "execution_count": null,
   "id": "a25579c6-c8b6-46f1-9c22-dd006811c9a4",
   "metadata": {},
   "outputs": [],
   "source": []
  },
  {
   "cell_type": "code",
   "execution_count": null,
   "id": "e5d77555-9c01-48f3-bd12-1e99a2616b53",
   "metadata": {},
   "outputs": [],
   "source": []
  },
  {
   "cell_type": "code",
   "execution_count": null,
   "id": "61158edf-3417-44f0-b953-86168f455df8",
   "metadata": {},
   "outputs": [],
   "source": []
  }
 ],
 "metadata": {
  "kernelspec": {
   "display_name": "Python 3 (ipykernel)",
   "language": "python",
   "name": "python3"
  },
  "language_info": {
   "codemirror_mode": {
    "name": "ipython",
    "version": 3
   },
   "file_extension": ".py",
   "mimetype": "text/x-python",
   "name": "python",
   "nbconvert_exporter": "python",
   "pygments_lexer": "ipython3",
   "version": "3.12.7"
  }
 },
 "nbformat": 4,
 "nbformat_minor": 5
}
